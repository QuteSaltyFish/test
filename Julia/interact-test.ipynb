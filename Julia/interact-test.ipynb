{
 "cells": [
  {
   "cell_type": "code",
   "execution_count": 6,
   "source": [
    "# illustrate Interact package, based on tutorials\n",
    "using WebIO\n",
    "WebIO.install_jupyter_labextension(condajl=true)\n",
    "using Interact, Plots"
   ],
   "outputs": [
    {
     "output_type": "stream",
     "name": "stderr",
     "text": [
      "┌ Info: Installing Jupyter WebIO extension...\n",
      "│   cmd = `\u001b[4m/Users/qutesaltyfish/anaconda3/bin/jupyter\u001b[24m \u001b[4mnbextension\u001b[24m \u001b[4minstall\u001b[24m \u001b[4m--user\u001b[24m \u001b[4m/Users/qutesaltyfish/.julia/packages/WebIO/Fy9h1/deps/bundles/webio-jupyter-notebook.js\u001b[24m`\n",
      "└ @ WebIO /Users/qutesaltyfish/.julia/packages/WebIO/Fy9h1/deps/jupyter.jl:237\n",
      "Up to date: /Users/qutesaltyfish/Library/Jupyter/nbextensions/webio-jupyter-notebook.js\n",
      "\n",
      "    To initialize this nbextension in the browser every time the notebook (or other app) loads:\n",
      "    \n",
      "          jupyter nbextension enable <the entry point> --user\n",
      "    \n",
      "┌ Info: Enabling Jupyter WebIO extension...\n",
      "│   cmd = `\u001b[4m/Users/qutesaltyfish/anaconda3/bin/jupyter\u001b[24m \u001b[4mnbextension\u001b[24m \u001b[4menable\u001b[24m \u001b[4m--user\u001b[24m \u001b[4mwebio-jupyter-notebook\u001b[24m`\n",
      "└ @ WebIO /Users/qutesaltyfish/.julia/packages/WebIO/Fy9h1/deps/jupyter.jl:241\n",
      "Enabling notebook extension webio-jupyter-notebook...\n",
      "      - Validating: \u001b[32mOK\u001b[0m\n",
      "┌ Info: Using default Jupyter executable at `/Users/qutesaltyfish/anaconda3/bin/jupyter`; to use a different executable, see the documentation by running `?WebIO.install_jupyter_labextension`.\n",
      "└ @ WebIO /Users/qutesaltyfish/.julia/packages/WebIO/Fy9h1/deps/jupyter.jl:198\n"
     ]
    },
    {
     "output_type": "stream",
     "name": "stdout",
     "text": [
      "An error occured.\n",
      "ValueError: No linked package for @webio/webio\n",
      "See the log file for details:  /var/folders/kk/cs4vnvs13vl9pmrnyg1cz4c80000gn/T/jupyterlab-debug-0r5zp6bh.log\n"
     ]
    },
    {
     "output_type": "stream",
     "name": "stderr",
     "text": [
      "Uninstalling @webio/jupyter-lab-provider from /Users/qutesaltyfish/anaconda3/share/jupyter/lab/extensions\n"
     ]
    },
    {
     "output_type": "stream",
     "name": "stdout",
     "text": []
    },
    {
     "output_type": "stream",
     "name": "stderr",
     "text": [
      "[LabBuildApp] JupyterLab 2.2.6\n",
      "[LabBuildApp] Building in /Users/qutesaltyfish/anaconda3/share/jupyter/lab\n"
     ]
    },
    {
     "output_type": "stream",
     "name": "stdout",
     "text": []
    },
    {
     "output_type": "stream",
     "name": "stderr",
     "text": [
      "[LabBuildApp] Building jupyterlab assets (build:prod:minimize)\n"
     ]
    },
    {
     "output_type": "stream",
     "name": "stdout",
     "text": []
    },
    {
     "output_type": "stream",
     "name": "stderr",
     "text": [
      "┌ Info: Running `conda install -y nodejs` in root environment\n",
      "└ @ Conda /Users/qutesaltyfish/.julia/packages/Conda/sNGum/src/Conda.jl:128\n"
     ]
    },
    {
     "output_type": "stream",
     "name": "stdout",
     "text": [
      "Collecting package metadata (current_repodata.json): ...working... done\n",
      "Solving environment: ...working... done\n",
      "\n",
      "## Package Plan ##\n",
      "\n",
      "  environment location: /Users/qutesaltyfish/.julia/conda/3\n",
      "\n",
      "  added / updated specs:\n",
      "    - nodejs\n",
      "\n",
      "\n",
      "The following packages will be downloaded:\n",
      "\n",
      "    package                    |            build\n",
      "    ---------------------------|-----------------\n",
      "    nodejs-10.13.0             |       h0a44026_0        11.7 MB  defaults\n",
      "    ------------------------------------------------------------\n",
      "                                           Total:        11.7 MB\n",
      "\n",
      "The following NEW packages will be INSTALLED:\n",
      "\n",
      "  nodejs             anaconda/pkgs/main/osx-64::nodejs-10.13.0-h0a44026_0\n",
      "\n",
      "\n",
      "\n",
      "Downloading and Extracting Packages\n",
      "nodejs-10.13.0       | 11.7 MB   | #################################### | 100% \n",
      "Preparing transaction: ...working... done\n",
      "Verifying transaction: ...working... done\n",
      "Executing transaction: ...working... done\n"
     ]
    },
    {
     "output_type": "stream",
     "name": "stderr",
     "text": [
      "┌ Info: Using default Jupyter executable at setenv(`/Users/qutesaltyfish/.julia/conda/3/bin/jupyter`,[\"_CE_M=\", \"LSCOLORS=Gxfxcxdxbxegedabagacad\", \"PATH=/Users/qutesaltyfish/.julia/conda/3/bin:/Applications/Julia-1.6.app/Contents/Resources/julia/bin:/Users/qutesaltyfish/.cargo/bin:/Users/qutesaltyfish/anaconda3/bin:/Users/qutesaltyfish/anaconda3/condabin:/usr/local/bin:/usr/local/sbin:/usr/local/bin:/usr/bin:/bin:/usr/sbin:/sbin:/Applications/VMware Fusion.app/Contents/Public:/Library/TeX/texbin:/opt/X11/bin:/Library/Apple/usr/bin:/Users/qutesaltyfish/.cargo/bin\", \"VSCODE_NLS_CONFIG={\\\"locale\\\":\\\"en-us\\\",\\\"availableLanguages\\\":{},\\\"_languagePackSupport\\\":true}\", \"MANPATH=/usr/local/share/man::\", \"VSCODE_IPC_HOOK_EXTHOST=/var/folders/kk/cs4vnvs13vl9pmrnyg1cz4c80000gn/T/vscode-ipc-f1306838-1ed8-46fd-9640-6df1b4443e3d.sock\", \"ITERM_PROFILE=Default\", \"USER=qutesaltyfish\", \"ELECTRON_NO_ATTACH_CONSOLE=1\", \"LESS=-R\", \"CONDA_PROMPT_MODIFIER=(base) \", \"COLUMNS=80\", \"PLATFORMIO_PATH=/Users/qutesaltyfish/.platformio/penv/bin:/Users/qutesaltyfish/.platformio/penv:/Users/qutesaltyfish/.platformio/python3/bin:/Users/qutesaltyfish/.cargo/bin:/Users/qutesaltyfish/anaconda3/bin:/Users/qutesaltyfish/anaconda3/condabin:/usr/local/bin:/usr/local/sbin:/usr/local/bin:/usr/bin:/bin:/usr/sbin:/sbin:/Applications/VMware Fusion.app/Contents/Public:/Library/TeX/texbin:/opt/X11/bin:/Library/Apple/usr/bin:/Users/qutesaltyfish/.cargo/bin\", \"SHELL=/bin/zsh\", \"COLORFGBG=7;0\", \"LC_TERMINAL_VERSION=3.4.8\", \"HOMEBREW_BOTTLE_DOMAIN=https://mirrors.tuna.tsinghua.edu.cn/homebrew-bottles/bottles\", \"TMPDIR=/var/folders/kk/cs4vnvs13vl9pmrnyg1cz4c80000gn/T/\", \"HOMEBREW_CELLAR=/usr/local/Cellar\", \"LC_TERMINAL=iTerm2\", \"VSCODE_CLI=1\", \"_CE_CONDA=\", \"LINES=30\", \"CONDA_SHLVL=1\", \"MPLBACKEND=Agg\", \"ITERM_SESSION_ID=w0t0p0:EFAC5476-BEA3-45AD-A25D-5369EF2E508C\", \"CONDA_EXE=/Users/qutesaltyfish/anaconda3/bin/conda\", \"HOME=/Users/qutesaltyfish\", \"TERM=xterm-256color\", \"COLORTERM=truecolor\", \"PLATFORMIO_CALLER=vscode\", \"PYTHONIOENCODING=utf-8\", \"XPC_FLAGS=0x0\", \"ELECTRON_RUN_AS_NODE=1\", \"VSCODE_CODE_CACHE_PATH=/Users/qutesaltyfish/Library/Application Support/Code/CachedData/379476f0e13988d90fab105c5c19e7abc8b1dea8\", \"NO_PROXY=127.0.0.1\", \"XPC_SERVICE_NAME=0\", \"HOMEBREW_PREFIX=/usr/local\", \"CONDA_PYTHON_EXE=/Users/qutesaltyfish/anaconda3/bin/python\", \"__CF_USER_TEXT_ENCODING=0x1F5:0x0:0x0\", \"LC_ALL=en_US.UTF-8\", \"VSCODE_PID=30650\", \"__CFBundleIdentifier=com.googlecode.iterm2\", \"APPLICATION_INSIGHTS_NO_DIAGNOSTIC_CHANNEL=true\", \"VSCODE_IPC_HOOK=/Users/qutesaltyfish/Library/Application Support/Code/1.59.0-main.sock\", \"VSCODE_LOG_NATIVE=false\", \"LANG=en_US.UTF-8\", \"LOGNAME=qutesaltyfish\", \"SHLVL=2\", \"SSH_AUTH_SOCK=/private/tmp/com.apple.launchd.37l2R5hNIv/Listeners\", \"OLDPWD=/Users/qutesaltyfish/Desktop\", \"PLATFORMIO_IDE=2.3.3\", \"INFOPATH=/usr/local/share/info:\", \"_=/Applications/Visual Studio Code.app/Contents/MacOS/Electron\", \"PAGER=less\", \"HOMEBREW_REPOSITORY=/usr/local/Homebrew\", \"CONDA_DEFAULT_ENV=base\", \"VSCODE_PIPE_LOGGING=true\", \"TERM_PROGRAM_VERSION=3.4.8\", \"VSCODE_LOG_STACK=false\", \"PYTHONUNBUFFERED=1\", \"ZSH=/Users/qutesaltyfish/.oh-my-zsh\", \"VSCODE_CWD=/Users/qutesaltyfish/Desktop/magx\", \"COMMAND_MODE=unix2003\", \"VSCODE_HANDLES_UNCAUGHT_ERRORS=true\", \"PWD=/Users/qutesaltyfish/Desktop/magx\", \"DISPLAY=/private/tmp/com.apple.launchd.Q9EL7ZMlzj/org.xquartz:0\", \"TERM_PROGRAM=iTerm.app\", \"VSCODE_AMD_ENTRYPOINT=vs/workbench/services/extensions/node/extensionHostProcess\", \"VSCODE_VERBOSE_LOGGING=true\", \"OPENBLAS_NUM_THREADS=8\", \"ORIGINAL_XDG_CURRENT_DESKTOP=undefined\", \"CONDA_PREFIX=/Users/qutesaltyfish/anaconda3\", \"TERM_SESSION_ID=w0t0p0:EFAC5476-BEA3-45AD-A25D-5369EF2E508C\", \"VSCODE_BROWSER_CODE_LOADING=bypassHeatCheck\", \"OPENBLAS_MAIN_FREE=1\"]); to use a different executable, see the documentation by running `?WebIO.install_jupyter_labextension`.\n",
      "└ @ WebIO /Users/qutesaltyfish/.julia/packages/WebIO/Fy9h1/deps/jupyter.jl:198\n"
     ]
    },
    {
     "output_type": "stream",
     "name": "stdout",
     "text": [
      "An error occured.\n",
      "ValueError: No linked package for @webio/webio\n",
      "See the log file for details:  /var/folders/kk/cs4vnvs13vl9pmrnyg1cz4c80000gn/T/jupyterlab-debug-14_9t3sy.log\n"
     ]
    },
    {
     "output_type": "stream",
     "name": "stderr",
     "text": [
      "Uninstalling @webio/jupyter-lab-provider from /Users/qutesaltyfish/anaconda3/share/jupyter/lab/extensions\n"
     ]
    },
    {
     "output_type": "stream",
     "name": "stdout",
     "text": []
    },
    {
     "output_type": "stream",
     "name": "stderr",
     "text": [
      "[LabBuildApp] JupyterLab 2.2.6\n",
      "[LabBuildApp] Building in /Users/qutesaltyfish/anaconda3/share/jupyter/lab\n"
     ]
    },
    {
     "output_type": "stream",
     "name": "stdout",
     "text": []
    },
    {
     "output_type": "stream",
     "name": "stderr",
     "text": [
      "[LabBuildApp] Building jupyterlab assets (build:prod:minimize)\n"
     ]
    },
    {
     "output_type": "stream",
     "name": "stdout",
     "text": []
    }
   ],
   "metadata": {}
  },
  {
   "cell_type": "code",
   "execution_count": 8,
   "source": [
    "using Colors\n",
    "\n",
    "timer = Observable(time())\n",
    "@async while true\n",
    "    sleep(0.1)\n",
    "    timer[] = time()\n",
    "end\n",
    "    \n",
    "\n",
    "@manipulate for color=[\"yellow\", \"cyan\", \"tomato\"], n=3:20, t=timer\n",
    "    h, w = 100, 100\n",
    "    attributes = Dict(\n",
    "        \"fill\" => color,\n",
    "        \"points\" => join([\"$(w/2*(1+sin(θ+t))),$(h/2*(1+cos(θ+t)))\" for θ in 0:2π/n:2π], ' ')\n",
    "    )\n",
    "    dom\"svg:svg[width=$w, height=$h]\"(dom\"svg:polygon\"(attributes=attributes))\n",
    "end"
   ],
   "outputs": [
    {
     "output_type": "execute_result",
     "data": {
      "text/plain": [
       "Node{WebIO.DOM}(WebIO.DOM(:html, :div), Any[Node{WebIO.DOM}(WebIO.DOM(:html, :div), Any[Scope(Node{WebIO.DOM}(WebIO.DOM(:html, :div), Any[Node{WebIO.DOM}(WebIO.DOM(:html, :div), Any[Node{WebIO.DOM}(WebIO.DOM(:html, :label), Any[\"color\"], Dict{Symbol, Any}(:className => \"interact \", :style => Dict{Any, Any}(:padding => \"5px 10px 0px 10px\")))], Dict{Symbol, Any}(:className => \"interact-flex-row-left\")), Node{WebIO.DOM}(WebIO.DOM(:html, :div), Any[Node{WebIO.DOM}(WebIO.DOM(:html, :div), Any[Node{WebIO.DOM}(WebIO.DOM(:html, :span), Any[Node{WebIO.DOM}(WebIO.DOM(:html, :label), Any[], Dict{Symbol, Any}(:attributes => Dict(\"data-bind\" => \"text : key\")))], Dict{Symbol, Any}(:attributes => Dict(\"data-bind\" => \"click: function (){\\$root.update(val)}, css: {'is-primary is-selected' : \\$root.index() == val, 'interact-widget is-medium button ' : true}\")))], Dict{Symbol, Any}(:attributes => (\"data-bind\" => \"foreach : options_js\"), :className => \"buttons has-addons is-centered\"))], Dict{Symbol, Any}(:className => \"interact-flex-row-center\")), Node{WebIO.DOM}(WebIO.DOM(:html, :div), Any[Node{WebIO.DOM}(WebIO.DOM(:html, :div), Any[], Dict{Symbol, Any}())], Dict{Symbol, Any}(:className => \"interact-flex-row-right\"))], Dict{Symbol, Any}(:className => \"interact-flex-row interact-widget\")), Dict{String, Tuple{Observables.AbstractObservable, Union{Nothing, Bool}}}(\"options_js\" => (Observable{Any} with 1 listeners. Value:\n",
       "OrderedDict[OrderedDict{String, Any}(\"key\" => \"yellow\", \"val\" => 1, \"id\" => \"id8n6crUIV\"), OrderedDict{String, Any}(\"key\" => \"cyan\", \"val\" => 2, \"id\" => \"idFivQGJbi\"), OrderedDict{String, Any}(\"key\" => \"tomato\", \"val\" => 3, \"id\" => \"idnmupLZxM\")], nothing), \"index\" => (Observable{Any} with 2 listeners. Value:\n",
       "1, nothing)), Set{String}(), nothing, Asset[Asset(\"js\", \"knockout\", \"/Users/qutesaltyfish/.julia/packages/Knockout/IP1uR/src/../assets/knockout.js\"), Asset(\"js\", \"knockout_punches\", \"/Users/qutesaltyfish/.julia/packages/Knockout/IP1uR/src/../assets/knockout_punches.js\"), Asset(\"js\", nothing, \"/Users/qutesaltyfish/.julia/packages/InteractBase/Zfu5P/src/../assets/all.js\"), Asset(\"css\", nothing, \"/Users/qutesaltyfish/.julia/packages/InteractBase/Zfu5P/src/../assets/style.css\"), Asset(\"css\", nothing, \"/Users/qutesaltyfish/.julia/packages/Interact/SbgIk/src/../assets/bulma_confined.min.css\")], Dict{Any, Any}(\"options_js\" => Any[WebIO.JSString(\"(function (val){return (val!=this.model[\\\"options_js\\\"]()) ? (this.valueFromJulia[\\\"options_js\\\"]=true, this.model[\\\"options_js\\\"](val)) : undefined})\")], \"index\" => Any[WebIO.JSString(\"(function (val){return (val!=this.model[\\\"index\\\"]()) ? (this.valueFromJulia[\\\"index\\\"]=true, this.model[\\\"index\\\"](val)) : undefined})\")]), WebIO.ConnectionPool(Channel{Any}(32), Set{AbstractConnection}(), Condition(Base.InvasiveLinkedList{Task}(Task (runnable) @0x0000000110863420, Task (runnable) @0x0000000110863420), Base.AlwaysLockedST(1))), WebIO.JSString[WebIO.JSString(\"function () {\\n    var handler = (function (ko, koPunches) {\\n    ko.punches.enableAll();\\n    ko.bindingHandlers.numericValue = {\\n        init: function(element, valueAccessor, allBindings, data, context) {\\n            var stringified = ko.observable(ko.unwrap(valueAccessor()));\\n            stringified.subscribe(function(value) {\\n                var val = parseFloat(value);\\n                if (!isNaN(val)) {\\n                    valueAccessor()(val);\\n                }\\n            });\\n            valueAccessor().subscribe(function(value) {\\n                var str = JSON.stringify(value);\\n                if ((str == \\\"0\\\") && ([\\\"-0\\\", \\\"-0.\\\"].indexOf(stringified()) >= 0))\\n                     return;\\n                 if ([\\\"null\\\", \\\"\\\"].indexOf(str) >= 0)\\n                     return;\\n                stringified(str);\\n            });\\n            ko.applyBindingsToNode(\\n                element,\\n                {\\n                    value: stringified,\\n                    valueUpdate: allBindings.get('valueUpdate'),\\n                },\\n                context,\\n            );\\n        }\\n    };\\n    var json_data = {\\\"options_js\\\":WebIO.getval({\\\"name\\\":\\\"options_js\\\",\\\"scope\\\":\\\"11644764033927653786\\\",\\\"id\\\":\\\"15221625236756307123\\\",\\\"type\\\":\\\"observable\\\"}),\\\"index\\\":WebIO.getval({\\\"name\\\":\\\"index\\\",\\\"scope\\\":\\\"11644764033927653786\\\",\\\"id\\\":\\\"9013351473952190452\\\",\\\"type\\\":\\\"observable\\\"})};\\n    var self = this;\\n    function AppViewModel() {\\n        for (var key in json_data) {\\n            var el = json_data[key];\\n            this[key] = Array.isArray(el) ? ko.observableArray(el) : ko.observable(el);\\n        }\\n        [this[\\\"update\\\"]=function (val) {this.index(val)}]\\n        \\n        [this[\\\"options_js\\\"].subscribe((function (val){!(this.valueFromJulia[\\\"options_js\\\"]) ? (WebIO.setval({\\\"name\\\":\\\"options_js\\\",\\\"scope\\\":\\\"11644764033927653786\\\",\\\"id\\\":\\\"15221625236756307123\\\",\\\"type\\\":\\\"observable\\\"},val)) : undefined; return this.valueFromJulia[\\\"options_js\\\"]=false}),self),this[\\\"index\\\"].subscribe((function (val){!(this.valueFromJulia[\\\"index\\\"]) ? (WebIO.setval({\\\"name\\\":\\\"index\\\",\\\"scope\\\":\\\"11644764033927653786\\\",\\\"id\\\":\\\"9013351473952190452\\\",\\\"type\\\":\\\"observable\\\"},val)) : undefined; return this.valueFromJulia[\\\"index\\\"]=false}),self)]\\n        \\n    }\\n    self.model = new AppViewModel();\\n    self.valueFromJulia = {};\\n    for (var key in json_data) {\\n        self.valueFromJulia[key] = false;\\n    }\\n    ko.applyBindings(self.model, self.dom);\\n}\\n);\\n    (WebIO.importBlock({\\\"data\\\":[{\\\"name\\\":\\\"knockout\\\",\\\"type\\\":\\\"js\\\",\\\"url\\\":\\\"/assetserver/a971a2341514bd80fe0615cc391a655a32fe3a5d-knockout.js\\\"},{\\\"name\\\":\\\"knockout_punches\\\",\\\"type\\\":\\\"js\\\",\\\"url\\\":\\\"/assetserver/24d8358b86ffdeb1fc1367523e76c20d57f7bee6-knockout_punches.js\\\"}],\\\"type\\\":\\\"async_block\\\"})).then((imports) => handler.apply(this, imports));\\n}\\n\")])], Dict{Symbol, Any}(:className => \"interact-widget\")), Node{WebIO.DOM}(WebIO.DOM(:html, :div), Any[Scope(Node{WebIO.DOM}(WebIO.DOM(:html, :div), Any[Node{WebIO.DOM}(WebIO.DOM(:html, :div), Any[Node{WebIO.DOM}(WebIO.DOM(:html, :label), Any[\"n\"], Dict{Symbol, Any}(:className => \"interact \", :style => Dict{Any, Any}(:padding => \"5px 10px 0px 10px\")))], Dict{Symbol, Any}(:className => \"interact-flex-row-left\")), Node{WebIO.DOM}(WebIO.DOM(:html, :div), Any[Node{WebIO.DOM}(WebIO.DOM(:html, :input), Any[], Dict{Symbol, Any}(:max => 20, :min => 3, :attributes => Dict{Any, Any}(:type => \"range\", Symbol(\"data-bind\") => \"numericValue: index, valueUpdate: 'input', event: {change: function (){this.changes(this.changes()+1)}}\", \"orient\" => \"horizontal\"), :step => 1, :className => \"slider slider is-fullwidth\", :style => Dict{Any, Any}()))], Dict{Symbol, Any}(:className => \"interact-flex-row-center\")), Node{WebIO.DOM}(WebIO.DOM(:html, :div), Any[Node{WebIO.DOM}(WebIO.DOM(:html, :p), Any[], Dict{Symbol, Any}(:attributes => Dict(\"data-bind\" => \"text: formatted_val\")))], Dict{Symbol, Any}(:className => \"interact-flex-row-right\"))], Dict{Symbol, Any}(:className => \"interact-flex-row interact-widget\")), Dict{String, Tuple{Observables.AbstractObservable, Union{Nothing, Bool}}}(\"changes\" => (Observable{Int64} with 1 listeners. Value:\n",
       "0, nothing), \"index\" => (Observable{Int64} with 2 listeners. Value:\n",
       "11, nothing)), Set{String}(), nothing, Asset[Asset(\"js\", \"knockout\", \"/Users/qutesaltyfish/.julia/packages/Knockout/IP1uR/src/../assets/knockout.js\"), Asset(\"js\", \"knockout_punches\", \"/Users/qutesaltyfish/.julia/packages/Knockout/IP1uR/src/../assets/knockout_punches.js\"), Asset(\"js\", nothing, \"/Users/qutesaltyfish/.julia/packages/InteractBase/Zfu5P/src/../assets/all.js\"), Asset(\"css\", nothing, \"/Users/qutesaltyfish/.julia/packages/InteractBase/Zfu5P/src/../assets/style.css\"), Asset(\"css\", nothing, \"/Users/qutesaltyfish/.julia/packages/Interact/SbgIk/src/../assets/bulma_confined.min.css\")], Dict{Any, Any}(\"changes\" => Any[WebIO.JSString(\"(function (val){return (val!=this.model[\\\"changes\\\"]()) ? (this.valueFromJulia[\\\"changes\\\"]=true, this.model[\\\"changes\\\"](val)) : undefined})\")], \"index\" => Any[WebIO.JSString(\"(function (val){return (val!=this.model[\\\"index\\\"]()) ? (this.valueFromJulia[\\\"index\\\"]=true, this.model[\\\"index\\\"](val)) : undefined})\")]), WebIO.ConnectionPool(Channel{Any}(32), Set{AbstractConnection}(), Condition(Base.InvasiveLinkedList{Task}(Task (runnable) @0x0000000110bbc780, Task (runnable) @0x0000000110bbc780), Base.AlwaysLockedST(1))), WebIO.JSString[WebIO.JSString(\"function () {\\n    var handler = (function (ko, koPunches) {\\n    ko.punches.enableAll();\\n    ko.bindingHandlers.numericValue = {\\n        init: function(element, valueAccessor, allBindings, data, context) {\\n            var stringified = ko.observable(ko.unwrap(valueAccessor()));\\n            stringified.subscribe(function(value) {\\n                var val = parseFloat(value);\\n                if (!isNaN(val)) {\\n                    valueAccessor()(val);\\n                }\\n            });\\n            valueAccessor().subscribe(function(value) {\\n                var str = JSON.stringify(value);\\n                if ((str == \\\"0\\\") && ([\\\"-0\\\", \\\"-0.\\\"].indexOf(stringified()) >= 0))\\n                     return;\\n                 if ([\\\"null\\\", \\\"\\\"].indexOf(str) >= 0)\\n                     return;\\n                stringified(str);\\n            });\\n            ko.applyBindingsToNode(\\n                element,\\n                {\\n                    value: stringified,\\n                    valueUpdate: allBindings.get('valueUpdate'),\\n                },\\n                context,\\n            );\\n        }\\n    };\\n    var json_data = {\\\"formatted_vals\\\":[\\\"3\\\",\\\"4\\\",\\\"5\\\",\\\"6\\\",\\\"7\\\",\\\"8\\\",\\\"9\\\",\\\"10\\\",\\\"11\\\",\\\"12\\\",\\\"13\\\",\\\"14\\\",\\\"15\\\",\\\"16\\\",\\\"17\\\",\\\"18\\\",\\\"19\\\",\\\"20\\\"],\\\"changes\\\":WebIO.getval({\\\"name\\\":\\\"changes\\\",\\\"scope\\\":\\\"6463491001606301069\\\",\\\"id\\\":\\\"7571169201952085999\\\",\\\"type\\\":\\\"observable\\\"}),\\\"index\\\":WebIO.getval({\\\"name\\\":\\\"index\\\",\\\"scope\\\":\\\"6463491001606301069\\\",\\\"id\\\":\\\"8246185716560144938\\\",\\\"type\\\":\\\"observable\\\"})};\\n    var self = this;\\n    function AppViewModel() {\\n        for (var key in json_data) {\\n            var el = json_data[key];\\n            this[key] = Array.isArray(el) ? ko.observableArray(el) : ko.observable(el);\\n        }\\n        \\n        [this[\\\"formatted_val\\\"]=ko.computed(    function(){\\n        return this.formatted_vals()[parseInt(this.index())-(3)];\\n    }\\n,this)]\\n        [this[\\\"changes\\\"].subscribe((function (val){!(this.valueFromJulia[\\\"changes\\\"]) ? (WebIO.setval({\\\"name\\\":\\\"changes\\\",\\\"scope\\\":\\\"6463491001606301069\\\",\\\"id\\\":\\\"7571169201952085999\\\",\\\"type\\\":\\\"observable\\\"},val)) : undefined; return this.valueFromJulia[\\\"changes\\\"]=false}),self),this[\\\"index\\\"].subscribe((function (val){!(this.valueFromJulia[\\\"index\\\"]) ? (WebIO.setval({\\\"name\\\":\\\"index\\\",\\\"scope\\\":\\\"6463491001606301069\\\",\\\"id\\\":\\\"8246185716560144938\\\",\\\"type\\\":\\\"observable\\\"},val)) : undefined; return this.valueFromJulia[\\\"index\\\"]=false}),self)]\\n        \\n    }\\n    self.model = new AppViewModel();\\n    self.valueFromJulia = {};\\n    for (var key in json_data) {\\n        self.valueFromJulia[key] = false;\\n    }\\n    ko.applyBindings(self.model, self.dom);\\n}\\n);\\n    (WebIO.importBlock({\\\"data\\\":[{\\\"name\\\":\\\"knockout\\\",\\\"type\\\":\\\"js\\\",\\\"url\\\":\\\"/assetserver/a971a2341514bd80fe0615cc391a655a32fe3a5d-knockout.js\\\"},{\\\"name\\\":\\\"knockout_punches\\\",\\\"type\\\":\\\"js\\\",\\\"url\\\":\\\"/assetserver/24d8358b86ffdeb1fc1367523e76c20d57f7bee6-knockout_punches.js\\\"}],\\\"type\\\":\\\"async_block\\\"})).then((imports) => handler.apply(this, imports));\\n}\\n\")])], Dict{Symbol, Any}(:className => \"field interact-widget\")), Node{WebIO.DOM}(WebIO.DOM(:html, :div), Any[Node{WebIO.DOM}(WebIO.DOM(:html, :div), Any[\"t\"], Dict{Symbol, Any}(:className => \"interact-flex-row-left\")), Node{WebIO.DOM}(WebIO.DOM(:html, :div), Any[Observable{Float64} with 1 listeners. Value:\n",
       "1.629447632851146e9], Dict{Symbol, Any}(:className => \"interact-flex-row-center\")), Node{WebIO.DOM}(WebIO.DOM(:html, :div), Any[Node{WebIO.DOM}(WebIO.DOM(:html, :div), Any[], Dict{Symbol, Any}())], Dict{Symbol, Any}(:className => \"interact-flex-row-right\"))], Dict{Symbol, Any}(:className => \"interact-flex-row interact-widget\")), Observable{Any} with 0 listeners. Value:\n",
       "Node{WebIO.DOM}(WebIO.DOM(:html, :div), Any[Node{WebIO.DOM}(WebIO.DOM(:svg, :svg), Any[Node{WebIO.DOM}(WebIO.DOM(:svg, :polygon), Any[], Dict{Symbol, Any}(:attributes => Dict(\"points\" => \"99.9389005777346,47.528925519710235 90.67531171726904,20.922190304237205 68.49759713222927,3.547455394416299 40.44702540405143,0.9210770659220657 15.429464612482674,13.87690374538179 1.3877942457575398,38.30156199712131 2.780157703354036,66.44039213278944 19.164489368893122,89.35951326069588 45.33887903913813,99.78226543045439 72.99314186989938,94.39949804840906 93.34723774324986,74.92021227899504 99.93890073482817,47.52892869447692\", \"fill\" => \"yellow\")))], Dict{Symbol, Any}(:attributes => Dict{SubString{String}, SubString{String}}(\"height\" => \"100\", \"width\" => \"100\")))], Dict{Symbol, Any}(:className => \"interact-flex-row interact-widget\"))], Dict{Symbol, Any}())"
      ],
      "text/html": [
       "<div\n",
       "    class=\"webio-mountpoint\"\n",
       "    data-webio-mountpoint=\"17815148643254098143\"\n",
       ">\n",
       "    <script>\n",
       "    if (window.require && require.defined && require.defined(\"nbextensions/webio-jupyter-notebook\")) {\n",
       "        console.log(\"Jupyter WebIO extension detected, not mounting.\");\n",
       "    } else if (window.WebIO) {\n",
       "        WebIO.mount(\n",
       "            document.querySelector('[data-webio-mountpoint=\"17815148643254098143\"]'),\n",
       "            {\"props\":{},\"nodeType\":\"DOM\",\"type\":\"node\",\"instanceArgs\":{\"namespace\":\"html\",\"tag\":\"div\"},\"children\":[{\"props\":{\"className\":\"interact-widget\"},\"nodeType\":\"DOM\",\"type\":\"node\",\"instanceArgs\":{\"namespace\":\"html\",\"tag\":\"div\"},\"children\":[{\"props\":{},\"nodeType\":\"Scope\",\"type\":\"node\",\"instanceArgs\":{\"imports\":{\"data\":[{\"name\":\"knockout\",\"type\":\"js\",\"url\":\"\\/assetserver\\/a971a2341514bd80fe0615cc391a655a32fe3a5d-knockout.js\"},{\"name\":\"knockout_punches\",\"type\":\"js\",\"url\":\"\\/assetserver\\/24d8358b86ffdeb1fc1367523e76c20d57f7bee6-knockout_punches.js\"},{\"name\":null,\"type\":\"js\",\"url\":\"\\/assetserver\\/521bd29b39bbe42a32da7fa7906a2e64b03bfa08-all.js\"},{\"name\":null,\"type\":\"css\",\"url\":\"\\/assetserver\\/0628ccc6275582e4b8b780c2ab67ee394817147e-style.css\"},{\"name\":null,\"type\":\"css\",\"url\":\"\\/assetserver\\/c7c5318ae4ba6408e954dd8de450b611c4232f37-bulma_confined.min.css\"}],\"type\":\"async_block\"},\"id\":\"11644764033927653786\",\"handlers\":{\"options_js\":[\"(function (val){return (val!=this.model[\\\"options_js\\\"]()) ? (this.valueFromJulia[\\\"options_js\\\"]=true, this.model[\\\"options_js\\\"](val)) : undefined})\"],\"index\":[\"(function (val){return (val!=this.model[\\\"index\\\"]()) ? (this.valueFromJulia[\\\"index\\\"]=true, this.model[\\\"index\\\"](val)) : undefined})\"]},\"systemjs_options\":null,\"mount_callbacks\":[\"function () {\\n    var handler = (function (ko, koPunches) {\\n    ko.punches.enableAll();\\n    ko.bindingHandlers.numericValue = {\\n        init: function(element, valueAccessor, allBindings, data, context) {\\n            var stringified = ko.observable(ko.unwrap(valueAccessor()));\\n            stringified.subscribe(function(value) {\\n                var val = parseFloat(value);\\n                if (!isNaN(val)) {\\n                    valueAccessor()(val);\\n                }\\n            });\\n            valueAccessor().subscribe(function(value) {\\n                var str = JSON.stringify(value);\\n                if ((str == \\\"0\\\") && ([\\\"-0\\\", \\\"-0.\\\"].indexOf(stringified()) >= 0))\\n                     return;\\n                 if ([\\\"null\\\", \\\"\\\"].indexOf(str) >= 0)\\n                     return;\\n                stringified(str);\\n            });\\n            ko.applyBindingsToNode(\\n                element,\\n                {\\n                    value: stringified,\\n                    valueUpdate: allBindings.get('valueUpdate'),\\n                },\\n                context,\\n            );\\n        }\\n    };\\n    var json_data = {\\\"options_js\\\":WebIO.getval({\\\"name\\\":\\\"options_js\\\",\\\"scope\\\":\\\"11644764033927653786\\\",\\\"id\\\":\\\"15221625236756307123\\\",\\\"type\\\":\\\"observable\\\"}),\\\"index\\\":WebIO.getval({\\\"name\\\":\\\"index\\\",\\\"scope\\\":\\\"11644764033927653786\\\",\\\"id\\\":\\\"9013351473952190452\\\",\\\"type\\\":\\\"observable\\\"})};\\n    var self = this;\\n    function AppViewModel() {\\n        for (var key in json_data) {\\n            var el = json_data[key];\\n            this[key] = Array.isArray(el) ? ko.observableArray(el) : ko.observable(el);\\n        }\\n        [this[\\\"update\\\"]=function (val) {this.index(val)}]\\n        \\n        [this[\\\"options_js\\\"].subscribe((function (val){!(this.valueFromJulia[\\\"options_js\\\"]) ? (WebIO.setval({\\\"name\\\":\\\"options_js\\\",\\\"scope\\\":\\\"11644764033927653786\\\",\\\"id\\\":\\\"15221625236756307123\\\",\\\"type\\\":\\\"observable\\\"},val)) : undefined; return this.valueFromJulia[\\\"options_js\\\"]=false}),self),this[\\\"index\\\"].subscribe((function (val){!(this.valueFromJulia[\\\"index\\\"]) ? (WebIO.setval({\\\"name\\\":\\\"index\\\",\\\"scope\\\":\\\"11644764033927653786\\\",\\\"id\\\":\\\"9013351473952190452\\\",\\\"type\\\":\\\"observable\\\"},val)) : undefined; return this.valueFromJulia[\\\"index\\\"]=false}),self)]\\n        \\n    }\\n    self.model = new AppViewModel();\\n    self.valueFromJulia = {};\\n    for (var key in json_data) {\\n        self.valueFromJulia[key] = false;\\n    }\\n    ko.applyBindings(self.model, self.dom);\\n}\\n);\\n    (WebIO.importBlock({\\\"data\\\":[{\\\"name\\\":\\\"knockout\\\",\\\"type\\\":\\\"js\\\",\\\"url\\\":\\\"\\/assetserver\\/a971a2341514bd80fe0615cc391a655a32fe3a5d-knockout.js\\\"},{\\\"name\\\":\\\"knockout_punches\\\",\\\"type\\\":\\\"js\\\",\\\"url\\\":\\\"\\/assetserver\\/24d8358b86ffdeb1fc1367523e76c20d57f7bee6-knockout_punches.js\\\"}],\\\"type\\\":\\\"async_block\\\"})).then((imports) => handler.apply(this, imports));\\n}\\n\"],\"observables\":{\"options_js\":{\"sync\":false,\"id\":\"15221625236756307123\",\"value\":[{\"key\":\"yellow\",\"val\":1,\"id\":\"id8n6crUIV\"},{\"key\":\"cyan\",\"val\":2,\"id\":\"idFivQGJbi\"},{\"key\":\"tomato\",\"val\":3,\"id\":\"idnmupLZxM\"}]},\"index\":{\"sync\":true,\"id\":\"9013351473952190452\",\"value\":1}}},\"children\":[{\"props\":{\"className\":\"interact-flex-row interact-widget\"},\"nodeType\":\"DOM\",\"type\":\"node\",\"instanceArgs\":{\"namespace\":\"html\",\"tag\":\"div\"},\"children\":[{\"props\":{\"className\":\"interact-flex-row-left\"},\"nodeType\":\"DOM\",\"type\":\"node\",\"instanceArgs\":{\"namespace\":\"html\",\"tag\":\"div\"},\"children\":[{\"props\":{\"className\":\"interact \",\"style\":{\"padding\":\"5px 10px 0px 10px\"}},\"nodeType\":\"DOM\",\"type\":\"node\",\"instanceArgs\":{\"namespace\":\"html\",\"tag\":\"label\"},\"children\":[\"color\"]}]},{\"props\":{\"className\":\"interact-flex-row-center\"},\"nodeType\":\"DOM\",\"type\":\"node\",\"instanceArgs\":{\"namespace\":\"html\",\"tag\":\"div\"},\"children\":[{\"props\":{\"attributes\":{\"data-bind\":\"foreach : options_js\"},\"className\":\"buttons has-addons is-centered\"},\"nodeType\":\"DOM\",\"type\":\"node\",\"instanceArgs\":{\"namespace\":\"html\",\"tag\":\"div\"},\"children\":[{\"props\":{\"attributes\":{\"data-bind\":\"click: function (){$root.update(val)}, css: {'is-primary is-selected' : $root.index() == val, 'interact-widget is-medium button ' : true}\"}},\"nodeType\":\"DOM\",\"type\":\"node\",\"instanceArgs\":{\"namespace\":\"html\",\"tag\":\"span\"},\"children\":[{\"props\":{\"attributes\":{\"data-bind\":\"text : key\"}},\"nodeType\":\"DOM\",\"type\":\"node\",\"instanceArgs\":{\"namespace\":\"html\",\"tag\":\"label\"},\"children\":[]}]}]}]},{\"props\":{\"className\":\"interact-flex-row-right\"},\"nodeType\":\"DOM\",\"type\":\"node\",\"instanceArgs\":{\"namespace\":\"html\",\"tag\":\"div\"},\"children\":[{\"props\":{},\"nodeType\":\"DOM\",\"type\":\"node\",\"instanceArgs\":{\"namespace\":\"html\",\"tag\":\"div\"},\"children\":[]}]}]}]}]},{\"props\":{\"className\":\"field interact-widget\"},\"nodeType\":\"DOM\",\"type\":\"node\",\"instanceArgs\":{\"namespace\":\"html\",\"tag\":\"div\"},\"children\":[{\"props\":{},\"nodeType\":\"Scope\",\"type\":\"node\",\"instanceArgs\":{\"imports\":{\"data\":[{\"name\":\"knockout\",\"type\":\"js\",\"url\":\"\\/assetserver\\/a971a2341514bd80fe0615cc391a655a32fe3a5d-knockout.js\"},{\"name\":\"knockout_punches\",\"type\":\"js\",\"url\":\"\\/assetserver\\/24d8358b86ffdeb1fc1367523e76c20d57f7bee6-knockout_punches.js\"},{\"name\":null,\"type\":\"js\",\"url\":\"\\/assetserver\\/521bd29b39bbe42a32da7fa7906a2e64b03bfa08-all.js\"},{\"name\":null,\"type\":\"css\",\"url\":\"\\/assetserver\\/0628ccc6275582e4b8b780c2ab67ee394817147e-style.css\"},{\"name\":null,\"type\":\"css\",\"url\":\"\\/assetserver\\/c7c5318ae4ba6408e954dd8de450b611c4232f37-bulma_confined.min.css\"}],\"type\":\"async_block\"},\"id\":\"6463491001606301069\",\"handlers\":{\"changes\":[\"(function (val){return (val!=this.model[\\\"changes\\\"]()) ? (this.valueFromJulia[\\\"changes\\\"]=true, this.model[\\\"changes\\\"](val)) : undefined})\"],\"index\":[\"(function (val){return (val!=this.model[\\\"index\\\"]()) ? (this.valueFromJulia[\\\"index\\\"]=true, this.model[\\\"index\\\"](val)) : undefined})\"]},\"systemjs_options\":null,\"mount_callbacks\":[\"function () {\\n    var handler = (function (ko, koPunches) {\\n    ko.punches.enableAll();\\n    ko.bindingHandlers.numericValue = {\\n        init: function(element, valueAccessor, allBindings, data, context) {\\n            var stringified = ko.observable(ko.unwrap(valueAccessor()));\\n            stringified.subscribe(function(value) {\\n                var val = parseFloat(value);\\n                if (!isNaN(val)) {\\n                    valueAccessor()(val);\\n                }\\n            });\\n            valueAccessor().subscribe(function(value) {\\n                var str = JSON.stringify(value);\\n                if ((str == \\\"0\\\") && ([\\\"-0\\\", \\\"-0.\\\"].indexOf(stringified()) >= 0))\\n                     return;\\n                 if ([\\\"null\\\", \\\"\\\"].indexOf(str) >= 0)\\n                     return;\\n                stringified(str);\\n            });\\n            ko.applyBindingsToNode(\\n                element,\\n                {\\n                    value: stringified,\\n                    valueUpdate: allBindings.get('valueUpdate'),\\n                },\\n                context,\\n            );\\n        }\\n    };\\n    var json_data = {\\\"formatted_vals\\\":[\\\"3\\\",\\\"4\\\",\\\"5\\\",\\\"6\\\",\\\"7\\\",\\\"8\\\",\\\"9\\\",\\\"10\\\",\\\"11\\\",\\\"12\\\",\\\"13\\\",\\\"14\\\",\\\"15\\\",\\\"16\\\",\\\"17\\\",\\\"18\\\",\\\"19\\\",\\\"20\\\"],\\\"changes\\\":WebIO.getval({\\\"name\\\":\\\"changes\\\",\\\"scope\\\":\\\"6463491001606301069\\\",\\\"id\\\":\\\"7571169201952085999\\\",\\\"type\\\":\\\"observable\\\"}),\\\"index\\\":WebIO.getval({\\\"name\\\":\\\"index\\\",\\\"scope\\\":\\\"6463491001606301069\\\",\\\"id\\\":\\\"8246185716560144938\\\",\\\"type\\\":\\\"observable\\\"})};\\n    var self = this;\\n    function AppViewModel() {\\n        for (var key in json_data) {\\n            var el = json_data[key];\\n            this[key] = Array.isArray(el) ? ko.observableArray(el) : ko.observable(el);\\n        }\\n        \\n        [this[\\\"formatted_val\\\"]=ko.computed(    function(){\\n        return this.formatted_vals()[parseInt(this.index())-(3)];\\n    }\\n,this)]\\n        [this[\\\"changes\\\"].subscribe((function (val){!(this.valueFromJulia[\\\"changes\\\"]) ? (WebIO.setval({\\\"name\\\":\\\"changes\\\",\\\"scope\\\":\\\"6463491001606301069\\\",\\\"id\\\":\\\"7571169201952085999\\\",\\\"type\\\":\\\"observable\\\"},val)) : undefined; return this.valueFromJulia[\\\"changes\\\"]=false}),self),this[\\\"index\\\"].subscribe((function (val){!(this.valueFromJulia[\\\"index\\\"]) ? (WebIO.setval({\\\"name\\\":\\\"index\\\",\\\"scope\\\":\\\"6463491001606301069\\\",\\\"id\\\":\\\"8246185716560144938\\\",\\\"type\\\":\\\"observable\\\"},val)) : undefined; return this.valueFromJulia[\\\"index\\\"]=false}),self)]\\n        \\n    }\\n    self.model = new AppViewModel();\\n    self.valueFromJulia = {};\\n    for (var key in json_data) {\\n        self.valueFromJulia[key] = false;\\n    }\\n    ko.applyBindings(self.model, self.dom);\\n}\\n);\\n    (WebIO.importBlock({\\\"data\\\":[{\\\"name\\\":\\\"knockout\\\",\\\"type\\\":\\\"js\\\",\\\"url\\\":\\\"\\/assetserver\\/a971a2341514bd80fe0615cc391a655a32fe3a5d-knockout.js\\\"},{\\\"name\\\":\\\"knockout_punches\\\",\\\"type\\\":\\\"js\\\",\\\"url\\\":\\\"\\/assetserver\\/24d8358b86ffdeb1fc1367523e76c20d57f7bee6-knockout_punches.js\\\"}],\\\"type\\\":\\\"async_block\\\"})).then((imports) => handler.apply(this, imports));\\n}\\n\"],\"observables\":{\"changes\":{\"sync\":false,\"id\":\"7571169201952085999\",\"value\":0},\"index\":{\"sync\":true,\"id\":\"8246185716560144938\",\"value\":11}}},\"children\":[{\"props\":{\"className\":\"interact-flex-row interact-widget\"},\"nodeType\":\"DOM\",\"type\":\"node\",\"instanceArgs\":{\"namespace\":\"html\",\"tag\":\"div\"},\"children\":[{\"props\":{\"className\":\"interact-flex-row-left\"},\"nodeType\":\"DOM\",\"type\":\"node\",\"instanceArgs\":{\"namespace\":\"html\",\"tag\":\"div\"},\"children\":[{\"props\":{\"className\":\"interact \",\"style\":{\"padding\":\"5px 10px 0px 10px\"}},\"nodeType\":\"DOM\",\"type\":\"node\",\"instanceArgs\":{\"namespace\":\"html\",\"tag\":\"label\"},\"children\":[\"n\"]}]},{\"props\":{\"className\":\"interact-flex-row-center\"},\"nodeType\":\"DOM\",\"type\":\"node\",\"instanceArgs\":{\"namespace\":\"html\",\"tag\":\"div\"},\"children\":[{\"props\":{\"max\":20,\"min\":3,\"attributes\":{\"type\":\"range\",\"data-bind\":\"numericValue: index, valueUpdate: 'input', event: {change: function (){this.changes(this.changes()+1)}}\",\"orient\":\"horizontal\"},\"step\":1,\"className\":\"slider slider is-fullwidth\",\"style\":{}},\"nodeType\":\"DOM\",\"type\":\"node\",\"instanceArgs\":{\"namespace\":\"html\",\"tag\":\"input\"},\"children\":[]}]},{\"props\":{\"className\":\"interact-flex-row-right\"},\"nodeType\":\"DOM\",\"type\":\"node\",\"instanceArgs\":{\"namespace\":\"html\",\"tag\":\"div\"},\"children\":[{\"props\":{\"attributes\":{\"data-bind\":\"text: formatted_val\"}},\"nodeType\":\"DOM\",\"type\":\"node\",\"instanceArgs\":{\"namespace\":\"html\",\"tag\":\"p\"},\"children\":[]}]}]}]}]},{\"props\":{\"className\":\"interact-flex-row interact-widget\"},\"nodeType\":\"DOM\",\"type\":\"node\",\"instanceArgs\":{\"namespace\":\"html\",\"tag\":\"div\"},\"children\":[{\"props\":{\"className\":\"interact-flex-row-left\"},\"nodeType\":\"DOM\",\"type\":\"node\",\"instanceArgs\":{\"namespace\":\"html\",\"tag\":\"div\"},\"children\":[\"t\"]},{\"props\":{\"className\":\"interact-flex-row-center\"},\"nodeType\":\"DOM\",\"type\":\"node\",\"instanceArgs\":{\"namespace\":\"html\",\"tag\":\"div\"},\"children\":[{\"props\":{},\"nodeType\":\"Scope\",\"type\":\"node\",\"instanceArgs\":{\"imports\":{\"data\":[],\"type\":\"async_block\"},\"id\":\"4897365044101128696\",\"handlers\":{\"obs-output\":[\"function (value, scope) {\\n    scope.setInnerHTML(value);\\n}\\n\"]},\"systemjs_options\":null,\"mount_callbacks\":[],\"observables\":{\"obs-output\":{\"sync\":false,\"id\":\"15303131297110528212\",\"value\":\"<pre>1.629447632851146e9<\\/pre>\"}}},\"children\":[{\"props\":{\"className\":\"webio-observable\",\"setInnerHtml\":\"<pre>1.629447632851146e9<\\/pre>\"},\"nodeType\":\"DOM\",\"type\":\"node\",\"instanceArgs\":{\"namespace\":\"html\",\"tag\":\"div\"},\"children\":[]}]}]},{\"props\":{\"className\":\"interact-flex-row-right\"},\"nodeType\":\"DOM\",\"type\":\"node\",\"instanceArgs\":{\"namespace\":\"html\",\"tag\":\"div\"},\"children\":[{\"props\":{},\"nodeType\":\"DOM\",\"type\":\"node\",\"instanceArgs\":{\"namespace\":\"html\",\"tag\":\"div\"},\"children\":[]}]}]},{\"props\":{},\"nodeType\":\"Scope\",\"type\":\"node\",\"instanceArgs\":{\"imports\":{\"data\":[],\"type\":\"async_block\"},\"id\":\"9731560970210639841\",\"handlers\":{},\"systemjs_options\":null,\"mount_callbacks\":[],\"observables\":{\"obs-node\":{\"sync\":false,\"id\":\"16718043585585417740\",\"value\":{\"props\":{\"className\":\"interact-flex-row interact-widget\"},\"nodeType\":\"DOM\",\"type\":\"node\",\"instanceArgs\":{\"namespace\":\"html\",\"tag\":\"div\"},\"children\":[{\"props\":{\"attributes\":{\"height\":\"100\",\"width\":\"100\"}},\"nodeType\":\"DOM\",\"type\":\"node\",\"instanceArgs\":{\"namespace\":\"svg\",\"tag\":\"svg\"},\"children\":[{\"props\":{\"attributes\":{\"points\":\"99.9389005777346,47.528925519710235 90.67531171726904,20.922190304237205 68.49759713222927,3.547455394416299 40.44702540405143,0.9210770659220657 15.429464612482674,13.87690374538179 1.3877942457575398,38.30156199712131 2.780157703354036,66.44039213278944 19.164489368893122,89.35951326069588 45.33887903913813,99.78226543045439 72.99314186989938,94.39949804840906 93.34723774324986,74.92021227899504 99.93890073482817,47.52892869447692\",\"fill\":\"yellow\"}},\"nodeType\":\"DOM\",\"type\":\"node\",\"instanceArgs\":{\"namespace\":\"svg\",\"tag\":\"polygon\"},\"children\":[]}]}]}}}},\"children\":[{\"props\":{},\"nodeType\":\"ObservableNode\",\"type\":\"node\",\"instanceArgs\":{\"id\":\"16718043585585417740\",\"name\":\"obs-node\"},\"children\":[]}]}]},\n",
       "            window,\n",
       "        );\n",
       "    } else {\n",
       "        document\n",
       "            .querySelector('[data-webio-mountpoint=\"17815148643254098143\"]')\n",
       "            .innerHTML = (\n",
       "                '<div style=\"padding: 1em; background-color: #f8d6da; border: 1px solid #f5c6cb\">' +\n",
       "                '<p><strong>WebIO not detected.</strong></p>' +\n",
       "                '<p>Please read ' +\n",
       "                '<a href=\"https://juliagizmos.github.io/WebIO.jl/latest/troubleshooting/not-detected/\" target=\"_blank\">the troubleshooting guide</a> ' +\n",
       "                'for more information on how to resolve this issue.</p>' +\n",
       "                '<p><a href=\"https://juliagizmos.github.io/WebIO.jl/latest/troubleshooting/not-detected/\" target=\"_blank\">https://juliagizmos.github.io/WebIO.jl/latest/troubleshooting/not-detected/</a></p>' +\n",
       "                '</div>'\n",
       "            );\n",
       "    }\n",
       "    </script>\n",
       "</div>\n"
      ],
      "application/vnd.webio.node+json": {
       "props": {},
       "nodeType": "DOM",
       "type": "node",
       "instanceArgs": {
        "namespace": "html",
        "tag": "div"
       },
       "children": [
        {
         "props": {
          "className": "interact-widget"
         },
         "nodeType": "DOM",
         "type": "node",
         "instanceArgs": {
          "namespace": "html",
          "tag": "div"
         },
         "children": [
          {
           "props": {},
           "nodeType": "Scope",
           "type": "node",
           "instanceArgs": {
            "imports": {
             "data": [
              {
               "name": "knockout",
               "type": "js",
               "url": "/assetserver/a971a2341514bd80fe0615cc391a655a32fe3a5d-knockout.js"
              },
              {
               "name": "knockout_punches",
               "type": "js",
               "url": "/assetserver/24d8358b86ffdeb1fc1367523e76c20d57f7bee6-knockout_punches.js"
              },
              {
               "name": null,
               "type": "js",
               "url": "/assetserver/521bd29b39bbe42a32da7fa7906a2e64b03bfa08-all.js"
              },
              {
               "name": null,
               "type": "css",
               "url": "/assetserver/0628ccc6275582e4b8b780c2ab67ee394817147e-style.css"
              },
              {
               "name": null,
               "type": "css",
               "url": "/assetserver/c7c5318ae4ba6408e954dd8de450b611c4232f37-bulma_confined.min.css"
              }
             ],
             "type": "async_block"
            },
            "id": "11644764033927653786",
            "handlers": {
             "options_js": [
              "(function (val){return (val!=this.model[\"options_js\"]()) ? (this.valueFromJulia[\"options_js\"]=true, this.model[\"options_js\"](val)) : undefined})"
             ],
             "index": [
              "(function (val){return (val!=this.model[\"index\"]()) ? (this.valueFromJulia[\"index\"]=true, this.model[\"index\"](val)) : undefined})"
             ]
            },
            "systemjs_options": null,
            "mount_callbacks": [
             "function () {\n    var handler = (function (ko, koPunches) {\n    ko.punches.enableAll();\n    ko.bindingHandlers.numericValue = {\n        init: function(element, valueAccessor, allBindings, data, context) {\n            var stringified = ko.observable(ko.unwrap(valueAccessor()));\n            stringified.subscribe(function(value) {\n                var val = parseFloat(value);\n                if (!isNaN(val)) {\n                    valueAccessor()(val);\n                }\n            });\n            valueAccessor().subscribe(function(value) {\n                var str = JSON.stringify(value);\n                if ((str == \"0\") && ([\"-0\", \"-0.\"].indexOf(stringified()) >= 0))\n                     return;\n                 if ([\"null\", \"\"].indexOf(str) >= 0)\n                     return;\n                stringified(str);\n            });\n            ko.applyBindingsToNode(\n                element,\n                {\n                    value: stringified,\n                    valueUpdate: allBindings.get('valueUpdate'),\n                },\n                context,\n            );\n        }\n    };\n    var json_data = {\"options_js\":WebIO.getval({\"name\":\"options_js\",\"scope\":\"11644764033927653786\",\"id\":\"15221625236756307123\",\"type\":\"observable\"}),\"index\":WebIO.getval({\"name\":\"index\",\"scope\":\"11644764033927653786\",\"id\":\"9013351473952190452\",\"type\":\"observable\"})};\n    var self = this;\n    function AppViewModel() {\n        for (var key in json_data) {\n            var el = json_data[key];\n            this[key] = Array.isArray(el) ? ko.observableArray(el) : ko.observable(el);\n        }\n        [this[\"update\"]=function (val) {this.index(val)}]\n        \n        [this[\"options_js\"].subscribe((function (val){!(this.valueFromJulia[\"options_js\"]) ? (WebIO.setval({\"name\":\"options_js\",\"scope\":\"11644764033927653786\",\"id\":\"15221625236756307123\",\"type\":\"observable\"},val)) : undefined; return this.valueFromJulia[\"options_js\"]=false}),self),this[\"index\"].subscribe((function (val){!(this.valueFromJulia[\"index\"]) ? (WebIO.setval({\"name\":\"index\",\"scope\":\"11644764033927653786\",\"id\":\"9013351473952190452\",\"type\":\"observable\"},val)) : undefined; return this.valueFromJulia[\"index\"]=false}),self)]\n        \n    }\n    self.model = new AppViewModel();\n    self.valueFromJulia = {};\n    for (var key in json_data) {\n        self.valueFromJulia[key] = false;\n    }\n    ko.applyBindings(self.model, self.dom);\n}\n);\n    (WebIO.importBlock({\"data\":[{\"name\":\"knockout\",\"type\":\"js\",\"url\":\"/assetserver/a971a2341514bd80fe0615cc391a655a32fe3a5d-knockout.js\"},{\"name\":\"knockout_punches\",\"type\":\"js\",\"url\":\"/assetserver/24d8358b86ffdeb1fc1367523e76c20d57f7bee6-knockout_punches.js\"}],\"type\":\"async_block\"})).then((imports) => handler.apply(this, imports));\n}\n"
            ],
            "observables": {
             "options_js": {
              "sync": false,
              "id": "15221625236756307123",
              "value": [
               {
                "key": "yellow",
                "val": 1,
                "id": "id8n6crUIV"
               },
               {
                "key": "cyan",
                "val": 2,
                "id": "idFivQGJbi"
               },
               {
                "key": "tomato",
                "val": 3,
                "id": "idnmupLZxM"
               }
              ]
             },
             "index": {
              "sync": true,
              "id": "9013351473952190452",
              "value": 1
             }
            }
           },
           "children": [
            {
             "props": {
              "className": "interact-flex-row interact-widget"
             },
             "nodeType": "DOM",
             "type": "node",
             "instanceArgs": {
              "namespace": "html",
              "tag": "div"
             },
             "children": [
              {
               "props": {
                "className": "interact-flex-row-left"
               },
               "nodeType": "DOM",
               "type": "node",
               "instanceArgs": {
                "namespace": "html",
                "tag": "div"
               },
               "children": [
                {
                 "props": {
                  "className": "interact ",
                  "style": {
                   "padding": "5px 10px 0px 10px"
                  }
                 },
                 "nodeType": "DOM",
                 "type": "node",
                 "instanceArgs": {
                  "namespace": "html",
                  "tag": "label"
                 },
                 "children": [
                  "color"
                 ]
                }
               ]
              },
              {
               "props": {
                "className": "interact-flex-row-center"
               },
               "nodeType": "DOM",
               "type": "node",
               "instanceArgs": {
                "namespace": "html",
                "tag": "div"
               },
               "children": [
                {
                 "props": {
                  "attributes": {
                   "data-bind": "foreach : options_js"
                  },
                  "className": "buttons has-addons is-centered"
                 },
                 "nodeType": "DOM",
                 "type": "node",
                 "instanceArgs": {
                  "namespace": "html",
                  "tag": "div"
                 },
                 "children": [
                  {
                   "props": {
                    "attributes": {
                     "data-bind": "click: function (){$root.update(val)}, css: {'is-primary is-selected' : $root.index() == val, 'interact-widget is-medium button ' : true}"
                    }
                   },
                   "nodeType": "DOM",
                   "type": "node",
                   "instanceArgs": {
                    "namespace": "html",
                    "tag": "span"
                   },
                   "children": [
                    {
                     "props": {
                      "attributes": {
                       "data-bind": "text : key"
                      }
                     },
                     "nodeType": "DOM",
                     "type": "node",
                     "instanceArgs": {
                      "namespace": "html",
                      "tag": "label"
                     },
                     "children": []
                    }
                   ]
                  }
                 ]
                }
               ]
              },
              {
               "props": {
                "className": "interact-flex-row-right"
               },
               "nodeType": "DOM",
               "type": "node",
               "instanceArgs": {
                "namespace": "html",
                "tag": "div"
               },
               "children": [
                {
                 "props": {},
                 "nodeType": "DOM",
                 "type": "node",
                 "instanceArgs": {
                  "namespace": "html",
                  "tag": "div"
                 },
                 "children": []
                }
               ]
              }
             ]
            }
           ]
          }
         ]
        },
        {
         "props": {
          "className": "field interact-widget"
         },
         "nodeType": "DOM",
         "type": "node",
         "instanceArgs": {
          "namespace": "html",
          "tag": "div"
         },
         "children": [
          {
           "props": {},
           "nodeType": "Scope",
           "type": "node",
           "instanceArgs": {
            "imports": {
             "data": [
              {
               "name": "knockout",
               "type": "js",
               "url": "/assetserver/a971a2341514bd80fe0615cc391a655a32fe3a5d-knockout.js"
              },
              {
               "name": "knockout_punches",
               "type": "js",
               "url": "/assetserver/24d8358b86ffdeb1fc1367523e76c20d57f7bee6-knockout_punches.js"
              },
              {
               "name": null,
               "type": "js",
               "url": "/assetserver/521bd29b39bbe42a32da7fa7906a2e64b03bfa08-all.js"
              },
              {
               "name": null,
               "type": "css",
               "url": "/assetserver/0628ccc6275582e4b8b780c2ab67ee394817147e-style.css"
              },
              {
               "name": null,
               "type": "css",
               "url": "/assetserver/c7c5318ae4ba6408e954dd8de450b611c4232f37-bulma_confined.min.css"
              }
             ],
             "type": "async_block"
            },
            "id": "6463491001606301069",
            "handlers": {
             "changes": [
              "(function (val){return (val!=this.model[\"changes\"]()) ? (this.valueFromJulia[\"changes\"]=true, this.model[\"changes\"](val)) : undefined})"
             ],
             "index": [
              "(function (val){return (val!=this.model[\"index\"]()) ? (this.valueFromJulia[\"index\"]=true, this.model[\"index\"](val)) : undefined})"
             ]
            },
            "systemjs_options": null,
            "mount_callbacks": [
             "function () {\n    var handler = (function (ko, koPunches) {\n    ko.punches.enableAll();\n    ko.bindingHandlers.numericValue = {\n        init: function(element, valueAccessor, allBindings, data, context) {\n            var stringified = ko.observable(ko.unwrap(valueAccessor()));\n            stringified.subscribe(function(value) {\n                var val = parseFloat(value);\n                if (!isNaN(val)) {\n                    valueAccessor()(val);\n                }\n            });\n            valueAccessor().subscribe(function(value) {\n                var str = JSON.stringify(value);\n                if ((str == \"0\") && ([\"-0\", \"-0.\"].indexOf(stringified()) >= 0))\n                     return;\n                 if ([\"null\", \"\"].indexOf(str) >= 0)\n                     return;\n                stringified(str);\n            });\n            ko.applyBindingsToNode(\n                element,\n                {\n                    value: stringified,\n                    valueUpdate: allBindings.get('valueUpdate'),\n                },\n                context,\n            );\n        }\n    };\n    var json_data = {\"formatted_vals\":[\"3\",\"4\",\"5\",\"6\",\"7\",\"8\",\"9\",\"10\",\"11\",\"12\",\"13\",\"14\",\"15\",\"16\",\"17\",\"18\",\"19\",\"20\"],\"changes\":WebIO.getval({\"name\":\"changes\",\"scope\":\"6463491001606301069\",\"id\":\"7571169201952085999\",\"type\":\"observable\"}),\"index\":WebIO.getval({\"name\":\"index\",\"scope\":\"6463491001606301069\",\"id\":\"8246185716560144938\",\"type\":\"observable\"})};\n    var self = this;\n    function AppViewModel() {\n        for (var key in json_data) {\n            var el = json_data[key];\n            this[key] = Array.isArray(el) ? ko.observableArray(el) : ko.observable(el);\n        }\n        \n        [this[\"formatted_val\"]=ko.computed(    function(){\n        return this.formatted_vals()[parseInt(this.index())-(3)];\n    }\n,this)]\n        [this[\"changes\"].subscribe((function (val){!(this.valueFromJulia[\"changes\"]) ? (WebIO.setval({\"name\":\"changes\",\"scope\":\"6463491001606301069\",\"id\":\"7571169201952085999\",\"type\":\"observable\"},val)) : undefined; return this.valueFromJulia[\"changes\"]=false}),self),this[\"index\"].subscribe((function (val){!(this.valueFromJulia[\"index\"]) ? (WebIO.setval({\"name\":\"index\",\"scope\":\"6463491001606301069\",\"id\":\"8246185716560144938\",\"type\":\"observable\"},val)) : undefined; return this.valueFromJulia[\"index\"]=false}),self)]\n        \n    }\n    self.model = new AppViewModel();\n    self.valueFromJulia = {};\n    for (var key in json_data) {\n        self.valueFromJulia[key] = false;\n    }\n    ko.applyBindings(self.model, self.dom);\n}\n);\n    (WebIO.importBlock({\"data\":[{\"name\":\"knockout\",\"type\":\"js\",\"url\":\"/assetserver/a971a2341514bd80fe0615cc391a655a32fe3a5d-knockout.js\"},{\"name\":\"knockout_punches\",\"type\":\"js\",\"url\":\"/assetserver/24d8358b86ffdeb1fc1367523e76c20d57f7bee6-knockout_punches.js\"}],\"type\":\"async_block\"})).then((imports) => handler.apply(this, imports));\n}\n"
            ],
            "observables": {
             "changes": {
              "sync": false,
              "id": "7571169201952085999",
              "value": 0
             },
             "index": {
              "sync": true,
              "id": "8246185716560144938",
              "value": 11
             }
            }
           },
           "children": [
            {
             "props": {
              "className": "interact-flex-row interact-widget"
             },
             "nodeType": "DOM",
             "type": "node",
             "instanceArgs": {
              "namespace": "html",
              "tag": "div"
             },
             "children": [
              {
               "props": {
                "className": "interact-flex-row-left"
               },
               "nodeType": "DOM",
               "type": "node",
               "instanceArgs": {
                "namespace": "html",
                "tag": "div"
               },
               "children": [
                {
                 "props": {
                  "className": "interact ",
                  "style": {
                   "padding": "5px 10px 0px 10px"
                  }
                 },
                 "nodeType": "DOM",
                 "type": "node",
                 "instanceArgs": {
                  "namespace": "html",
                  "tag": "label"
                 },
                 "children": [
                  "n"
                 ]
                }
               ]
              },
              {
               "props": {
                "className": "interact-flex-row-center"
               },
               "nodeType": "DOM",
               "type": "node",
               "instanceArgs": {
                "namespace": "html",
                "tag": "div"
               },
               "children": [
                {
                 "props": {
                  "max": 20,
                  "min": 3,
                  "attributes": {
                   "type": "range",
                   "data-bind": "numericValue: index, valueUpdate: 'input', event: {change: function (){this.changes(this.changes()+1)}}",
                   "orient": "horizontal"
                  },
                  "step": 1,
                  "className": "slider slider is-fullwidth",
                  "style": {}
                 },
                 "nodeType": "DOM",
                 "type": "node",
                 "instanceArgs": {
                  "namespace": "html",
                  "tag": "input"
                 },
                 "children": []
                }
               ]
              },
              {
               "props": {
                "className": "interact-flex-row-right"
               },
               "nodeType": "DOM",
               "type": "node",
               "instanceArgs": {
                "namespace": "html",
                "tag": "div"
               },
               "children": [
                {
                 "props": {
                  "attributes": {
                   "data-bind": "text: formatted_val"
                  }
                 },
                 "nodeType": "DOM",
                 "type": "node",
                 "instanceArgs": {
                  "namespace": "html",
                  "tag": "p"
                 },
                 "children": []
                }
               ]
              }
             ]
            }
           ]
          }
         ]
        },
        {
         "props": {
          "className": "interact-flex-row interact-widget"
         },
         "nodeType": "DOM",
         "type": "node",
         "instanceArgs": {
          "namespace": "html",
          "tag": "div"
         },
         "children": [
          {
           "props": {
            "className": "interact-flex-row-left"
           },
           "nodeType": "DOM",
           "type": "node",
           "instanceArgs": {
            "namespace": "html",
            "tag": "div"
           },
           "children": [
            "t"
           ]
          },
          {
           "props": {
            "className": "interact-flex-row-center"
           },
           "nodeType": "DOM",
           "type": "node",
           "instanceArgs": {
            "namespace": "html",
            "tag": "div"
           },
           "children": [
            {
             "props": {},
             "nodeType": "Scope",
             "type": "node",
             "instanceArgs": {
              "imports": {
               "data": [],
               "type": "async_block"
              },
              "id": "2064515246246358473",
              "handlers": {
               "obs-output": [
                "function (value, scope) {\n    scope.setInnerHTML(value);\n}\n"
               ]
              },
              "systemjs_options": null,
              "mount_callbacks": [],
              "observables": {
               "obs-output": {
                "sync": false,
                "id": "6950393054031219043",
                "value": "<pre>1.629447632851146e9</pre>"
               }
              }
             },
             "children": [
              {
               "props": {
                "className": "webio-observable",
                "setInnerHtml": "<pre>1.629447632851146e9</pre>"
               },
               "nodeType": "DOM",
               "type": "node",
               "instanceArgs": {
                "namespace": "html",
                "tag": "div"
               },
               "children": []
              }
             ]
            }
           ]
          },
          {
           "props": {
            "className": "interact-flex-row-right"
           },
           "nodeType": "DOM",
           "type": "node",
           "instanceArgs": {
            "namespace": "html",
            "tag": "div"
           },
           "children": [
            {
             "props": {},
             "nodeType": "DOM",
             "type": "node",
             "instanceArgs": {
              "namespace": "html",
              "tag": "div"
             },
             "children": []
            }
           ]
          }
         ]
        },
        {
         "props": {},
         "nodeType": "Scope",
         "type": "node",
         "instanceArgs": {
          "imports": {
           "data": [],
           "type": "async_block"
          },
          "id": "3202083995648445977",
          "handlers": {},
          "systemjs_options": null,
          "mount_callbacks": [],
          "observables": {
           "obs-node": {
            "sync": false,
            "id": "5465521657575092996",
            "value": {
             "props": {
              "className": "interact-flex-row interact-widget"
             },
             "nodeType": "DOM",
             "type": "node",
             "instanceArgs": {
              "namespace": "html",
              "tag": "div"
             },
             "children": [
              {
               "props": {
                "attributes": {
                 "height": "100",
                 "width": "100"
                }
               },
               "nodeType": "DOM",
               "type": "node",
               "instanceArgs": {
                "namespace": "svg",
                "tag": "svg"
               },
               "children": [
                {
                 "props": {
                  "attributes": {
                   "points": "99.9389005777346,47.528925519710235 90.67531171726904,20.922190304237205 68.49759713222927,3.547455394416299 40.44702540405143,0.9210770659220657 15.429464612482674,13.87690374538179 1.3877942457575398,38.30156199712131 2.780157703354036,66.44039213278944 19.164489368893122,89.35951326069588 45.33887903913813,99.78226543045439 72.99314186989938,94.39949804840906 93.34723774324986,74.92021227899504 99.93890073482817,47.52892869447692",
                   "fill": "yellow"
                  }
                 },
                 "nodeType": "DOM",
                 "type": "node",
                 "instanceArgs": {
                  "namespace": "svg",
                  "tag": "polygon"
                 },
                 "children": []
                }
               ]
              }
             ]
            }
           }
          }
         },
         "children": [
          {
           "props": {},
           "nodeType": "ObservableNode",
           "type": "node",
           "instanceArgs": {
            "id": "5465521657575092996",
            "name": "obs-node"
           },
           "children": []
          }
         ]
        }
       ]
      }
     },
     "metadata": {},
     "execution_count": 8
    }
   ],
   "metadata": {}
  },
  {
   "cell_type": "code",
   "execution_count": 5,
   "source": [
    "timer = Observable(0.0)\n",
    "@async while true\n",
    "    sleep(0.1)\n",
    "    timer[] = timer[]+0.1\n",
    "end\n",
    "\n",
    "@manipulate for col1 = colorant\"red\", col2 = colorant\"blue\", lw=1:0.1:10, t=timer\n",
    "    x = -π:0.1:π\n",
    "    plot(x, [sin.(x.+t) cos.(x.+2t)], color = [col1 col2], linewidth = lw)\n",
    "end"
   ],
   "outputs": [
    {
     "output_type": "execute_result",
     "data": {
      "text/plain": [
       "Node{WebIO.DOM}(WebIO.DOM(:html, :div), Any[Node{WebIO.DOM}(WebIO.DOM(:html, :div), Any[Scope(Node{WebIO.DOM}(WebIO.DOM(:html, :div), Any[Node{WebIO.DOM}(WebIO.DOM(:html, :div), Any[Node{WebIO.DOM}(WebIO.DOM(:html, :label), Any[\"col1\"], Dict{Symbol, Any}(:className => \"interact \", :style => Dict{Any, Any}(:padding => \"5px 10px 0px 10px\")))], Dict{Symbol, Any}(:className => \"interact-flex-row-left\")), Node{WebIO.DOM}(WebIO.DOM(:html, :div), Any[Node{WebIO.DOM}(WebIO.DOM(:html, :input), Any[], Dict{Symbol, Any}(:attributes => Dict{Any, Any}(:type => \"color\", Symbol(\"data-bind\") => \"value: value, valueUpdate: 'input', event: {change: function (){this.changes(this.changes()+1)}}\"), :className => \"input \", :style => Dict{Any, Any}()))], Dict{Symbol, Any}(:className => \"interact-flex-row-center\")), Node{WebIO.DOM}(WebIO.DOM(:html, :div), Any[Node{WebIO.DOM}(WebIO.DOM(:html, :div), Any[], Dict{Symbol, Any}())], Dict{Symbol, Any}(:className => \"interact-flex-row-right\"))], Dict{Symbol, Any}(:className => \"interact-flex-row interact-widget\")), Dict{String, Tuple{Observables.AbstractObservable, Union{Nothing, Bool}}}(\"changes\" => (Observable{Int64} with 1 listeners. Value:\n",
       "0, nothing), \"value\" => (Observable{Any} with 2 listeners. Value:\n",
       "\"#FF0000\", nothing)), Set{String}(), nothing, Asset[Asset(\"js\", \"knockout\", \"/Users/qutesaltyfish/.julia/packages/Knockout/IP1uR/src/../assets/knockout.js\"), Asset(\"js\", \"knockout_punches\", \"/Users/qutesaltyfish/.julia/packages/Knockout/IP1uR/src/../assets/knockout_punches.js\"), Asset(\"js\", nothing, \"/Users/qutesaltyfish/.julia/packages/InteractBase/Zfu5P/src/../assets/all.js\"), Asset(\"css\", nothing, \"/Users/qutesaltyfish/.julia/packages/InteractBase/Zfu5P/src/../assets/style.css\"), Asset(\"css\", nothing, \"/Users/qutesaltyfish/.julia/packages/Interact/SbgIk/src/../assets/bulma_confined.min.css\")], Dict{Any, Any}(\"changes\" => Any[WebIO.JSString(\"(function (val){return (val!=this.model[\\\"changes\\\"]()) ? (this.valueFromJulia[\\\"changes\\\"]=true, this.model[\\\"changes\\\"](val)) : undefined})\")], \"value\" => Any[WebIO.JSString(\"(function (val){return (val!=this.model[\\\"value\\\"]()) ? (this.valueFromJulia[\\\"value\\\"]=true, this.model[\\\"value\\\"](val)) : undefined})\")]), WebIO.ConnectionPool(Channel{Any}(32), Set{AbstractConnection}(), Condition(Base.InvasiveLinkedList{Task}(Task (runnable) @0x00000001201049a0, Task (runnable) @0x00000001201049a0), Base.AlwaysLockedST(1))), WebIO.JSString[WebIO.JSString(\"function () {\\n    var handler = (function (ko, koPunches) {\\n    ko.punches.enableAll();\\n    ko.bindingHandlers.numericValue = {\\n        init: function(element, valueAccessor, allBindings, data, context) {\\n            var stringified = ko.observable(ko.unwrap(valueAccessor()));\\n            stringified.subscribe(function(value) {\\n                var val = parseFloat(value);\\n                if (!isNaN(val)) {\\n                    valueAccessor()(val);\\n                }\\n            });\\n            valueAccessor().subscribe(function(value) {\\n                var str = JSON.stringify(value);\\n                if ((str == \\\"0\\\") && ([\\\"-0\\\", \\\"-0.\\\"].indexOf(stringified()) >= 0))\\n                     return;\\n                 if ([\\\"null\\\", \\\"\\\"].indexOf(str) >= 0)\\n                     return;\\n                stringified(str);\\n            });\\n            ko.applyBindingsToNode(\\n                element,\\n                {\\n                    value: stringified,\\n                    valueUpdate: allBindings.get('valueUpdate'),\\n                },\\n                context,\\n            );\\n        }\\n    };\\n    var json_data = {\\\"changes\\\":WebIO.getval({\\\"name\\\":\\\"changes\\\",\\\"scope\\\":\\\"1433358933207504830\\\",\\\"id\\\":\\\"6479387860679986387\\\",\\\"type\\\":\\\"observable\\\"}),\\\"value\\\":WebIO.getval({\\\"name\\\":\\\"value\\\",\\\"scope\\\":\\\"1433358933207504830\\\",\\\"id\\\":\\\"3253926104152774018\\\",\\\"type\\\":\\\"observable\\\"})};\\n    var self = this;\\n    function AppViewModel() {\\n        for (var key in json_data) {\\n            var el = json_data[key];\\n            this[key] = Array.isArray(el) ? ko.observableArray(el) : ko.observable(el);\\n        }\\n        \\n        \\n        [this[\\\"changes\\\"].subscribe((function (val){!(this.valueFromJulia[\\\"changes\\\"]) ? (WebIO.setval({\\\"name\\\":\\\"changes\\\",\\\"scope\\\":\\\"1433358933207504830\\\",\\\"id\\\":\\\"6479387860679986387\\\",\\\"type\\\":\\\"observable\\\"},val)) : undefined; return this.valueFromJulia[\\\"changes\\\"]=false}),self),this[\\\"value\\\"].subscribe((function (val){!(this.valueFromJulia[\\\"value\\\"]) ? (WebIO.setval({\\\"name\\\":\\\"value\\\",\\\"scope\\\":\\\"1433358933207504830\\\",\\\"id\\\":\\\"3253926104152774018\\\",\\\"type\\\":\\\"observable\\\"},val)) : undefined; return this.valueFromJulia[\\\"value\\\"]=false}),self)]\\n        \\n    }\\n    self.model = new AppViewModel();\\n    self.valueFromJulia = {};\\n    for (var key in json_data) {\\n        self.valueFromJulia[key] = false;\\n    }\\n    ko.applyBindings(self.model, self.dom);\\n}\\n);\\n    (WebIO.importBlock({\\\"data\\\":[{\\\"name\\\":\\\"knockout\\\",\\\"type\\\":\\\"js\\\",\\\"url\\\":\\\"/assetserver/a971a2341514bd80fe0615cc391a655a32fe3a5d-knockout.js\\\"},{\\\"name\\\":\\\"knockout_punches\\\",\\\"type\\\":\\\"js\\\",\\\"url\\\":\\\"/assetserver/24d8358b86ffdeb1fc1367523e76c20d57f7bee6-knockout_punches.js\\\"}],\\\"type\\\":\\\"async_block\\\"})).then((imports) => handler.apply(this, imports));\\n}\\n\")])], Dict{Symbol, Any}(:className => \"field interact-widget\")), Node{WebIO.DOM}(WebIO.DOM(:html, :div), Any[Scope(Node{WebIO.DOM}(WebIO.DOM(:html, :div), Any[Node{WebIO.DOM}(WebIO.DOM(:html, :div), Any[Node{WebIO.DOM}(WebIO.DOM(:html, :label), Any[\"col2\"], Dict{Symbol, Any}(:className => \"interact \", :style => Dict{Any, Any}(:padding => \"5px 10px 0px 10px\")))], Dict{Symbol, Any}(:className => \"interact-flex-row-left\")), Node{WebIO.DOM}(WebIO.DOM(:html, :div), Any[Node{WebIO.DOM}(WebIO.DOM(:html, :input), Any[], Dict{Symbol, Any}(:attributes => Dict{Any, Any}(:type => \"color\", Symbol(\"data-bind\") => \"value: value, valueUpdate: 'input', event: {change: function (){this.changes(this.changes()+1)}}\"), :className => \"input \", :style => Dict{Any, Any}()))], Dict{Symbol, Any}(:className => \"interact-flex-row-center\")), Node{WebIO.DOM}(WebIO.DOM(:html, :div), Any[Node{WebIO.DOM}(WebIO.DOM(:html, :div), Any[], Dict{Symbol, Any}())], Dict{Symbol, Any}(:className => \"interact-flex-row-right\"))], Dict{Symbol, Any}(:className => \"interact-flex-row interact-widget\")), Dict{String, Tuple{Observables.AbstractObservable, Union{Nothing, Bool}}}(\"changes\" => (Observable{Int64} with 1 listeners. Value:\n",
       "0, nothing), \"value\" => (Observable{Any} with 2 listeners. Value:\n",
       "\"#0000FF\", nothing)), Set{String}(), nothing, Asset[Asset(\"js\", \"knockout\", \"/Users/qutesaltyfish/.julia/packages/Knockout/IP1uR/src/../assets/knockout.js\"), Asset(\"js\", \"knockout_punches\", \"/Users/qutesaltyfish/.julia/packages/Knockout/IP1uR/src/../assets/knockout_punches.js\"), Asset(\"js\", nothing, \"/Users/qutesaltyfish/.julia/packages/InteractBase/Zfu5P/src/../assets/all.js\"), Asset(\"css\", nothing, \"/Users/qutesaltyfish/.julia/packages/InteractBase/Zfu5P/src/../assets/style.css\"), Asset(\"css\", nothing, \"/Users/qutesaltyfish/.julia/packages/Interact/SbgIk/src/../assets/bulma_confined.min.css\")], Dict{Any, Any}(\"changes\" => Any[WebIO.JSString(\"(function (val){return (val!=this.model[\\\"changes\\\"]()) ? (this.valueFromJulia[\\\"changes\\\"]=true, this.model[\\\"changes\\\"](val)) : undefined})\")], \"value\" => Any[WebIO.JSString(\"(function (val){return (val!=this.model[\\\"value\\\"]()) ? (this.valueFromJulia[\\\"value\\\"]=true, this.model[\\\"value\\\"](val)) : undefined})\")]), WebIO.ConnectionPool(Channel{Any}(32), Set{AbstractConnection}(), Condition(Base.InvasiveLinkedList{Task}(Task (runnable) @0x0000000122017750, Task (runnable) @0x0000000122017750), Base.AlwaysLockedST(1))), WebIO.JSString[WebIO.JSString(\"function () {\\n    var handler = (function (ko, koPunches) {\\n    ko.punches.enableAll();\\n    ko.bindingHandlers.numericValue = {\\n        init: function(element, valueAccessor, allBindings, data, context) {\\n            var stringified = ko.observable(ko.unwrap(valueAccessor()));\\n            stringified.subscribe(function(value) {\\n                var val = parseFloat(value);\\n                if (!isNaN(val)) {\\n                    valueAccessor()(val);\\n                }\\n            });\\n            valueAccessor().subscribe(function(value) {\\n                var str = JSON.stringify(value);\\n                if ((str == \\\"0\\\") && ([\\\"-0\\\", \\\"-0.\\\"].indexOf(stringified()) >= 0))\\n                     return;\\n                 if ([\\\"null\\\", \\\"\\\"].indexOf(str) >= 0)\\n                     return;\\n                stringified(str);\\n            });\\n            ko.applyBindingsToNode(\\n                element,\\n                {\\n                    value: stringified,\\n                    valueUpdate: allBindings.get('valueUpdate'),\\n                },\\n                context,\\n            );\\n        }\\n    };\\n    var json_data = {\\\"changes\\\":WebIO.getval({\\\"name\\\":\\\"changes\\\",\\\"scope\\\":\\\"6791664282653836230\\\",\\\"id\\\":\\\"7965540839585992748\\\",\\\"type\\\":\\\"observable\\\"}),\\\"value\\\":WebIO.getval({\\\"name\\\":\\\"value\\\",\\\"scope\\\":\\\"6791664282653836230\\\",\\\"id\\\":\\\"1452976615178335761\\\",\\\"type\\\":\\\"observable\\\"})};\\n    var self = this;\\n    function AppViewModel() {\\n        for (var key in json_data) {\\n            var el = json_data[key];\\n            this[key] = Array.isArray(el) ? ko.observableArray(el) : ko.observable(el);\\n        }\\n        \\n        \\n        [this[\\\"changes\\\"].subscribe((function (val){!(this.valueFromJulia[\\\"changes\\\"]) ? (WebIO.setval({\\\"name\\\":\\\"changes\\\",\\\"scope\\\":\\\"6791664282653836230\\\",\\\"id\\\":\\\"7965540839585992748\\\",\\\"type\\\":\\\"observable\\\"},val)) : undefined; return this.valueFromJulia[\\\"changes\\\"]=false}),self),this[\\\"value\\\"].subscribe((function (val){!(this.valueFromJulia[\\\"value\\\"]) ? (WebIO.setval({\\\"name\\\":\\\"value\\\",\\\"scope\\\":\\\"6791664282653836230\\\",\\\"id\\\":\\\"1452976615178335761\\\",\\\"type\\\":\\\"observable\\\"},val)) : undefined; return this.valueFromJulia[\\\"value\\\"]=false}),self)]\\n        \\n    }\\n    self.model = new AppViewModel();\\n    self.valueFromJulia = {};\\n    for (var key in json_data) {\\n        self.valueFromJulia[key] = false;\\n    }\\n    ko.applyBindings(self.model, self.dom);\\n}\\n);\\n    (WebIO.importBlock({\\\"data\\\":[{\\\"name\\\":\\\"knockout\\\",\\\"type\\\":\\\"js\\\",\\\"url\\\":\\\"/assetserver/a971a2341514bd80fe0615cc391a655a32fe3a5d-knockout.js\\\"},{\\\"name\\\":\\\"knockout_punches\\\",\\\"type\\\":\\\"js\\\",\\\"url\\\":\\\"/assetserver/24d8358b86ffdeb1fc1367523e76c20d57f7bee6-knockout_punches.js\\\"}],\\\"type\\\":\\\"async_block\\\"})).then((imports) => handler.apply(this, imports));\\n}\\n\")])], Dict{Symbol, Any}(:className => \"field interact-widget\")), Node{WebIO.DOM}(WebIO.DOM(:html, :div), Any[Scope(Node{WebIO.DOM}(WebIO.DOM(:html, :div), Any[Node{WebIO.DOM}(WebIO.DOM(:html, :div), Any[Node{WebIO.DOM}(WebIO.DOM(:html, :label), Any[\"lw\"], Dict{Symbol, Any}(:className => \"interact \", :style => Dict{Any, Any}(:padding => \"5px 10px 0px 10px\")))], Dict{Symbol, Any}(:className => \"interact-flex-row-left\")), Node{WebIO.DOM}(WebIO.DOM(:html, :div), Any[Node{WebIO.DOM}(WebIO.DOM(:html, :input), Any[], Dict{Symbol, Any}(:max => 91, :min => 1, :attributes => Dict{Any, Any}(:type => \"range\", Symbol(\"data-bind\") => \"numericValue: index, valueUpdate: 'input', event: {change: function (){this.changes(this.changes()+1)}}\", \"orient\" => \"horizontal\"), :step => 1, :className => \"slider slider is-fullwidth\", :style => Dict{Any, Any}()))], Dict{Symbol, Any}(:className => \"interact-flex-row-center\")), Node{WebIO.DOM}(WebIO.DOM(:html, :div), Any[Node{WebIO.DOM}(WebIO.DOM(:html, :p), Any[], Dict{Symbol, Any}(:attributes => Dict(\"data-bind\" => \"text: formatted_val\")))], Dict{Symbol, Any}(:className => \"interact-flex-row-right\"))], Dict{Symbol, Any}(:className => \"interact-flex-row interact-widget\")), Dict{String, Tuple{Observables.AbstractObservable, Union{Nothing, Bool}}}(\"changes\" => (Observable{Int64} with 1 listeners. Value:\n",
       "0, nothing), \"index\" => (Observable{Any} with 2 listeners. Value:\n",
       "46, nothing)), Set{String}(), nothing, Asset[Asset(\"js\", \"knockout\", \"/Users/qutesaltyfish/.julia/packages/Knockout/IP1uR/src/../assets/knockout.js\"), Asset(\"js\", \"knockout_punches\", \"/Users/qutesaltyfish/.julia/packages/Knockout/IP1uR/src/../assets/knockout_punches.js\"), Asset(\"js\", nothing, \"/Users/qutesaltyfish/.julia/packages/InteractBase/Zfu5P/src/../assets/all.js\"), Asset(\"css\", nothing, \"/Users/qutesaltyfish/.julia/packages/InteractBase/Zfu5P/src/../assets/style.css\"), Asset(\"css\", nothing, \"/Users/qutesaltyfish/.julia/packages/Interact/SbgIk/src/../assets/bulma_confined.min.css\")], Dict{Any, Any}(\"changes\" => Any[WebIO.JSString(\"(function (val){return (val!=this.model[\\\"changes\\\"]()) ? (this.valueFromJulia[\\\"changes\\\"]=true, this.model[\\\"changes\\\"](val)) : undefined})\")], \"index\" => Any[WebIO.JSString(\"(function (val){return (val!=this.model[\\\"index\\\"]()) ? (this.valueFromJulia[\\\"index\\\"]=true, this.model[\\\"index\\\"](val)) : undefined})\")]), WebIO.ConnectionPool(Channel{Any}(32), Set{AbstractConnection}(), Condition(Base.InvasiveLinkedList{Task}(Task (runnable) @0x0000000122158cd0, Task (runnable) @0x0000000122158cd0), Base.AlwaysLockedST(1))), WebIO.JSString[WebIO.JSString(\"function () {\\n    var handler = (function (ko, koPunches) {\\n    ko.punches.enableAll();\\n    ko.bindingHandlers.numericValue = {\\n        init: function(element, valueAccessor, allBindings, data, context) {\\n            var stringified = ko.observable(ko.unwrap(valueAccessor()));\\n            stringified.subscribe(function(value) {\\n                var val = parseFloat(value);\\n                if (!isNaN(val)) {\\n                    valueAccessor()(val);\\n                }\\n            });\\n            valueAccessor().subscribe(function(value) {\\n                var str = JSON.stringify(value);\\n                if ((str == \\\"0\\\") && ([\\\"-0\\\", \\\"-0.\\\"].indexOf(stringified()) >= 0))\\n                     return;\\n                 if ([\\\"null\\\", \\\"\\\"].indexOf(str) >= 0)\\n                     return;\\n                stringified(str);\\n            });\\n            ko.applyBindingsToNode(\\n                element,\\n                {\\n                    value: stringified,\\n                    valueUpdate: allBindings.get('valueUpdate'),\\n                },\\n                context,\\n            );\\n        }\\n    };\\n    var json_data = {\\\"formatted_vals\\\":[\\\"1.0\\\",\\\"1.1\\\",\\\"1.2\\\",\\\"1.3\\\",\\\"1.4\\\",\\\"1.5\\\",\\\"1.6\\\",\\\"1.7\\\",\\\"1.8\\\",\\\"1.9\\\",\\\"2.0\\\",\\\"2.1\\\",\\\"2.2\\\",\\\"2.3\\\",\\\"2.4\\\",\\\"2.5\\\",\\\"2.6\\\",\\\"2.7\\\",\\\"2.8\\\",\\\"2.9\\\",\\\"3.0\\\",\\\"3.1\\\",\\\"3.2\\\",\\\"3.3\\\",\\\"3.4\\\",\\\"3.5\\\",\\\"3.6\\\",\\\"3.7\\\",\\\"3.8\\\",\\\"3.9\\\",\\\"4.0\\\",\\\"4.1\\\",\\\"4.2\\\",\\\"4.3\\\",\\\"4.4\\\",\\\"4.5\\\",\\\"4.6\\\",\\\"4.7\\\",\\\"4.8\\\",\\\"4.9\\\",\\\"5.0\\\",\\\"5.1\\\",\\\"5.2\\\",\\\"5.3\\\",\\\"5.4\\\",\\\"5.5\\\",\\\"5.6\\\",\\\"5.7\\\",\\\"5.8\\\",\\\"5.9\\\",\\\"6.0\\\",\\\"6.1\\\",\\\"6.2\\\",\\\"6.3\\\",\\\"6.4\\\",\\\"6.5\\\",\\\"6.6\\\",\\\"6.7\\\",\\\"6.8\\\",\\\"6.9\\\",\\\"7.0\\\",\\\"7.1\\\",\\\"7.2\\\",\\\"7.3\\\",\\\"7.4\\\",\\\"7.5\\\",\\\"7.6\\\",\\\"7.7\\\",\\\"7.8\\\",\\\"7.9\\\",\\\"8.0\\\",\\\"8.1\\\",\\\"8.2\\\",\\\"8.3\\\",\\\"8.4\\\",\\\"8.5\\\",\\\"8.6\\\",\\\"8.7\\\",\\\"8.8\\\",\\\"8.9\\\",\\\"9.0\\\",\\\"9.1\\\",\\\"9.2\\\",\\\"9.3\\\",\\\"9.4\\\",\\\"9.5\\\",\\\"9.6\\\",\\\"9.7\\\",\\\"9.8\\\",\\\"9.9\\\",\\\"10.0\\\"],\\\"changes\\\":WebIO.getval({\\\"name\\\":\\\"changes\\\",\\\"scope\\\":\\\"18362325100363864123\\\",\\\"id\\\":\\\"3234660781283123323\\\",\\\"type\\\":\\\"observable\\\"}),\\\"index\\\":WebIO.getval({\\\"name\\\":\\\"index\\\",\\\"scope\\\":\\\"18362325100363864123\\\",\\\"id\\\":\\\"4490356350674162538\\\",\\\"type\\\":\\\"observable\\\"})};\\n    var self = this;\\n    function AppViewModel() {\\n        for (var key in json_data) {\\n            var el = json_data[key];\\n            this[key] = Array.isArray(el) ? ko.observableArray(el) : ko.observable(el);\\n        }\\n        \\n        [this[\\\"formatted_val\\\"]=ko.computed(    function(){\\n        return this.formatted_vals()[parseInt(this.index())-(1)];\\n    }\\n,this)]\\n        [this[\\\"changes\\\"].subscribe((function (val){!(this.valueFromJulia[\\\"changes\\\"]) ? (WebIO.setval({\\\"name\\\":\\\"changes\\\",\\\"scope\\\":\\\"18362325100363864123\\\",\\\"id\\\":\\\"3234660781283123323\\\",\\\"type\\\":\\\"observable\\\"},val)) : undefined; return this.valueFromJulia[\\\"changes\\\"]=false}),self),this[\\\"index\\\"].subscribe((function (val){!(this.valueFromJulia[\\\"index\\\"]) ? (WebIO.setval({\\\"name\\\":\\\"index\\\",\\\"scope\\\":\\\"18362325100363864123\\\",\\\"id\\\":\\\"4490356350674162538\\\",\\\"type\\\":\\\"observable\\\"},val)) : undefined; return this.valueFromJulia[\\\"index\\\"]=false}),self)]\\n        \\n    }\\n    self.model = new AppViewModel();\\n    self.valueFromJulia = {};\\n    for (var key in json_data) {\\n        self.valueFromJulia[key] = false;\\n    }\\n    ko.applyBindings(self.model, self.dom);\\n}\\n);\\n    (WebIO.importBlock({\\\"data\\\":[{\\\"name\\\":\\\"knockout\\\",\\\"type\\\":\\\"js\\\",\\\"url\\\":\\\"/assetserver/a971a2341514bd80fe0615cc391a655a32fe3a5d-knockout.js\\\"},{\\\"name\\\":\\\"knockout_punches\\\",\\\"type\\\":\\\"js\\\",\\\"url\\\":\\\"/assetserver/24d8358b86ffdeb1fc1367523e76c20d57f7bee6-knockout_punches.js\\\"}],\\\"type\\\":\\\"async_block\\\"})).then((imports) => handler.apply(this, imports));\\n}\\n\")])], Dict{Symbol, Any}(:className => \"field interact-widget\")), Node{WebIO.DOM}(WebIO.DOM(:html, :div), Any[Node{WebIO.DOM}(WebIO.DOM(:html, :div), Any[\"t\"], Dict{Symbol, Any}(:className => \"interact-flex-row-left\")), Node{WebIO.DOM}(WebIO.DOM(:html, :div), Any[Observable{Float64} with 1 listeners. Value:\n",
       "1.629446840576342e9], Dict{Symbol, Any}(:className => \"interact-flex-row-center\")), Node{WebIO.DOM}(WebIO.DOM(:html, :div), Any[Node{WebIO.DOM}(WebIO.DOM(:html, :div), Any[], Dict{Symbol, Any}())], Dict{Symbol, Any}(:className => \"interact-flex-row-right\"))], Dict{Symbol, Any}(:className => \"interact-flex-row interact-widget\")), Observable{Any} with 0 listeners. Value:\n",
       "Node{WebIO.DOM}(WebIO.DOM(:html, :div), Any[Plot{Plots.GRBackend() n=2}], Dict{Symbol, Any}(:className => \"interact-flex-row interact-widget\"))], Dict{Symbol, Any}())"
      ],
      "text/html": [
       "<div\n",
       "    class=\"webio-mountpoint\"\n",
       "    data-webio-mountpoint=\"8482605900899777304\"\n",
       ">\n",
       "    <script>\n",
       "    if (window.require && require.defined && require.defined(\"nbextensions/webio-jupyter-notebook\")) {\n",
       "        console.log(\"Jupyter WebIO extension detected, not mounting.\");\n",
       "    } else if (window.WebIO) {\n",
       "        WebIO.mount(\n",
       "            document.querySelector('[data-webio-mountpoint=\"8482605900899777304\"]'),\n",
       "            {\"props\":{},\"nodeType\":\"DOM\",\"type\":\"node\",\"instanceArgs\":{\"namespace\":\"html\",\"tag\":\"div\"},\"children\":[{\"props\":{\"className\":\"field interact-widget\"},\"nodeType\":\"DOM\",\"type\":\"node\",\"instanceArgs\":{\"namespace\":\"html\",\"tag\":\"div\"},\"children\":[{\"props\":{},\"nodeType\":\"Scope\",\"type\":\"node\",\"instanceArgs\":{\"imports\":{\"data\":[{\"name\":\"knockout\",\"type\":\"js\",\"url\":\"\\/assetserver\\/a971a2341514bd80fe0615cc391a655a32fe3a5d-knockout.js\"},{\"name\":\"knockout_punches\",\"type\":\"js\",\"url\":\"\\/assetserver\\/24d8358b86ffdeb1fc1367523e76c20d57f7bee6-knockout_punches.js\"},{\"name\":null,\"type\":\"js\",\"url\":\"\\/assetserver\\/521bd29b39bbe42a32da7fa7906a2e64b03bfa08-all.js\"},{\"name\":null,\"type\":\"css\",\"url\":\"\\/assetserver\\/0628ccc6275582e4b8b780c2ab67ee394817147e-style.css\"},{\"name\":null,\"type\":\"css\",\"url\":\"\\/assetserver\\/c7c5318ae4ba6408e954dd8de450b611c4232f37-bulma_confined.min.css\"}],\"type\":\"async_block\"},\"id\":\"1433358933207504830\",\"handlers\":{\"changes\":[\"(function (val){return (val!=this.model[\\\"changes\\\"]()) ? (this.valueFromJulia[\\\"changes\\\"]=true, this.model[\\\"changes\\\"](val)) : undefined})\"],\"value\":[\"(function (val){return (val!=this.model[\\\"value\\\"]()) ? (this.valueFromJulia[\\\"value\\\"]=true, this.model[\\\"value\\\"](val)) : undefined})\"]},\"systemjs_options\":null,\"mount_callbacks\":[\"function () {\\n    var handler = (function (ko, koPunches) {\\n    ko.punches.enableAll();\\n    ko.bindingHandlers.numericValue = {\\n        init: function(element, valueAccessor, allBindings, data, context) {\\n            var stringified = ko.observable(ko.unwrap(valueAccessor()));\\n            stringified.subscribe(function(value) {\\n                var val = parseFloat(value);\\n                if (!isNaN(val)) {\\n                    valueAccessor()(val);\\n                }\\n            });\\n            valueAccessor().subscribe(function(value) {\\n                var str = JSON.stringify(value);\\n                if ((str == \\\"0\\\") && ([\\\"-0\\\", \\\"-0.\\\"].indexOf(stringified()) >= 0))\\n                     return;\\n                 if ([\\\"null\\\", \\\"\\\"].indexOf(str) >= 0)\\n                     return;\\n                stringified(str);\\n            });\\n            ko.applyBindingsToNode(\\n                element,\\n                {\\n                    value: stringified,\\n                    valueUpdate: allBindings.get('valueUpdate'),\\n                },\\n                context,\\n            );\\n        }\\n    };\\n    var json_data = {\\\"changes\\\":WebIO.getval({\\\"name\\\":\\\"changes\\\",\\\"scope\\\":\\\"1433358933207504830\\\",\\\"id\\\":\\\"6479387860679986387\\\",\\\"type\\\":\\\"observable\\\"}),\\\"value\\\":WebIO.getval({\\\"name\\\":\\\"value\\\",\\\"scope\\\":\\\"1433358933207504830\\\",\\\"id\\\":\\\"3253926104152774018\\\",\\\"type\\\":\\\"observable\\\"})};\\n    var self = this;\\n    function AppViewModel() {\\n        for (var key in json_data) {\\n            var el = json_data[key];\\n            this[key] = Array.isArray(el) ? ko.observableArray(el) : ko.observable(el);\\n        }\\n        \\n        \\n        [this[\\\"changes\\\"].subscribe((function (val){!(this.valueFromJulia[\\\"changes\\\"]) ? (WebIO.setval({\\\"name\\\":\\\"changes\\\",\\\"scope\\\":\\\"1433358933207504830\\\",\\\"id\\\":\\\"6479387860679986387\\\",\\\"type\\\":\\\"observable\\\"},val)) : undefined; return this.valueFromJulia[\\\"changes\\\"]=false}),self),this[\\\"value\\\"].subscribe((function (val){!(this.valueFromJulia[\\\"value\\\"]) ? (WebIO.setval({\\\"name\\\":\\\"value\\\",\\\"scope\\\":\\\"1433358933207504830\\\",\\\"id\\\":\\\"3253926104152774018\\\",\\\"type\\\":\\\"observable\\\"},val)) : undefined; return this.valueFromJulia[\\\"value\\\"]=false}),self)]\\n        \\n    }\\n    self.model = new AppViewModel();\\n    self.valueFromJulia = {};\\n    for (var key in json_data) {\\n        self.valueFromJulia[key] = false;\\n    }\\n    ko.applyBindings(self.model, self.dom);\\n}\\n);\\n    (WebIO.importBlock({\\\"data\\\":[{\\\"name\\\":\\\"knockout\\\",\\\"type\\\":\\\"js\\\",\\\"url\\\":\\\"\\/assetserver\\/a971a2341514bd80fe0615cc391a655a32fe3a5d-knockout.js\\\"},{\\\"name\\\":\\\"knockout_punches\\\",\\\"type\\\":\\\"js\\\",\\\"url\\\":\\\"\\/assetserver\\/24d8358b86ffdeb1fc1367523e76c20d57f7bee6-knockout_punches.js\\\"}],\\\"type\\\":\\\"async_block\\\"})).then((imports) => handler.apply(this, imports));\\n}\\n\"],\"observables\":{\"changes\":{\"sync\":false,\"id\":\"6479387860679986387\",\"value\":0},\"value\":{\"sync\":true,\"id\":\"3253926104152774018\",\"value\":\"#FF0000\"}}},\"children\":[{\"props\":{\"className\":\"interact-flex-row interact-widget\"},\"nodeType\":\"DOM\",\"type\":\"node\",\"instanceArgs\":{\"namespace\":\"html\",\"tag\":\"div\"},\"children\":[{\"props\":{\"className\":\"interact-flex-row-left\"},\"nodeType\":\"DOM\",\"type\":\"node\",\"instanceArgs\":{\"namespace\":\"html\",\"tag\":\"div\"},\"children\":[{\"props\":{\"className\":\"interact \",\"style\":{\"padding\":\"5px 10px 0px 10px\"}},\"nodeType\":\"DOM\",\"type\":\"node\",\"instanceArgs\":{\"namespace\":\"html\",\"tag\":\"label\"},\"children\":[\"col1\"]}]},{\"props\":{\"className\":\"interact-flex-row-center\"},\"nodeType\":\"DOM\",\"type\":\"node\",\"instanceArgs\":{\"namespace\":\"html\",\"tag\":\"div\"},\"children\":[{\"props\":{\"attributes\":{\"type\":\"color\",\"data-bind\":\"value: value, valueUpdate: 'input', event: {change: function (){this.changes(this.changes()+1)}}\"},\"className\":\"input \",\"style\":{}},\"nodeType\":\"DOM\",\"type\":\"node\",\"instanceArgs\":{\"namespace\":\"html\",\"tag\":\"input\"},\"children\":[]}]},{\"props\":{\"className\":\"interact-flex-row-right\"},\"nodeType\":\"DOM\",\"type\":\"node\",\"instanceArgs\":{\"namespace\":\"html\",\"tag\":\"div\"},\"children\":[{\"props\":{},\"nodeType\":\"DOM\",\"type\":\"node\",\"instanceArgs\":{\"namespace\":\"html\",\"tag\":\"div\"},\"children\":[]}]}]}]}]},{\"props\":{\"className\":\"field interact-widget\"},\"nodeType\":\"DOM\",\"type\":\"node\",\"instanceArgs\":{\"namespace\":\"html\",\"tag\":\"div\"},\"children\":[{\"props\":{},\"nodeType\":\"Scope\",\"type\":\"node\",\"instanceArgs\":{\"imports\":{\"data\":[{\"name\":\"knockout\",\"type\":\"js\",\"url\":\"\\/assetserver\\/a971a2341514bd80fe0615cc391a655a32fe3a5d-knockout.js\"},{\"name\":\"knockout_punches\",\"type\":\"js\",\"url\":\"\\/assetserver\\/24d8358b86ffdeb1fc1367523e76c20d57f7bee6-knockout_punches.js\"},{\"name\":null,\"type\":\"js\",\"url\":\"\\/assetserver\\/521bd29b39bbe42a32da7fa7906a2e64b03bfa08-all.js\"},{\"name\":null,\"type\":\"css\",\"url\":\"\\/assetserver\\/0628ccc6275582e4b8b780c2ab67ee394817147e-style.css\"},{\"name\":null,\"type\":\"css\",\"url\":\"\\/assetserver\\/c7c5318ae4ba6408e954dd8de450b611c4232f37-bulma_confined.min.css\"}],\"type\":\"async_block\"},\"id\":\"6791664282653836230\",\"handlers\":{\"changes\":[\"(function (val){return (val!=this.model[\\\"changes\\\"]()) ? (this.valueFromJulia[\\\"changes\\\"]=true, this.model[\\\"changes\\\"](val)) : undefined})\"],\"value\":[\"(function (val){return (val!=this.model[\\\"value\\\"]()) ? (this.valueFromJulia[\\\"value\\\"]=true, this.model[\\\"value\\\"](val)) : undefined})\"]},\"systemjs_options\":null,\"mount_callbacks\":[\"function () {\\n    var handler = (function (ko, koPunches) {\\n    ko.punches.enableAll();\\n    ko.bindingHandlers.numericValue = {\\n        init: function(element, valueAccessor, allBindings, data, context) {\\n            var stringified = ko.observable(ko.unwrap(valueAccessor()));\\n            stringified.subscribe(function(value) {\\n                var val = parseFloat(value);\\n                if (!isNaN(val)) {\\n                    valueAccessor()(val);\\n                }\\n            });\\n            valueAccessor().subscribe(function(value) {\\n                var str = JSON.stringify(value);\\n                if ((str == \\\"0\\\") && ([\\\"-0\\\", \\\"-0.\\\"].indexOf(stringified()) >= 0))\\n                     return;\\n                 if ([\\\"null\\\", \\\"\\\"].indexOf(str) >= 0)\\n                     return;\\n                stringified(str);\\n            });\\n            ko.applyBindingsToNode(\\n                element,\\n                {\\n                    value: stringified,\\n                    valueUpdate: allBindings.get('valueUpdate'),\\n                },\\n                context,\\n            );\\n        }\\n    };\\n    var json_data = {\\\"changes\\\":WebIO.getval({\\\"name\\\":\\\"changes\\\",\\\"scope\\\":\\\"6791664282653836230\\\",\\\"id\\\":\\\"7965540839585992748\\\",\\\"type\\\":\\\"observable\\\"}),\\\"value\\\":WebIO.getval({\\\"name\\\":\\\"value\\\",\\\"scope\\\":\\\"6791664282653836230\\\",\\\"id\\\":\\\"1452976615178335761\\\",\\\"type\\\":\\\"observable\\\"})};\\n    var self = this;\\n    function AppViewModel() {\\n        for (var key in json_data) {\\n            var el = json_data[key];\\n            this[key] = Array.isArray(el) ? ko.observableArray(el) : ko.observable(el);\\n        }\\n        \\n        \\n        [this[\\\"changes\\\"].subscribe((function (val){!(this.valueFromJulia[\\\"changes\\\"]) ? (WebIO.setval({\\\"name\\\":\\\"changes\\\",\\\"scope\\\":\\\"6791664282653836230\\\",\\\"id\\\":\\\"7965540839585992748\\\",\\\"type\\\":\\\"observable\\\"},val)) : undefined; return this.valueFromJulia[\\\"changes\\\"]=false}),self),this[\\\"value\\\"].subscribe((function (val){!(this.valueFromJulia[\\\"value\\\"]) ? (WebIO.setval({\\\"name\\\":\\\"value\\\",\\\"scope\\\":\\\"6791664282653836230\\\",\\\"id\\\":\\\"1452976615178335761\\\",\\\"type\\\":\\\"observable\\\"},val)) : undefined; return this.valueFromJulia[\\\"value\\\"]=false}),self)]\\n        \\n    }\\n    self.model = new AppViewModel();\\n    self.valueFromJulia = {};\\n    for (var key in json_data) {\\n        self.valueFromJulia[key] = false;\\n    }\\n    ko.applyBindings(self.model, self.dom);\\n}\\n);\\n    (WebIO.importBlock({\\\"data\\\":[{\\\"name\\\":\\\"knockout\\\",\\\"type\\\":\\\"js\\\",\\\"url\\\":\\\"\\/assetserver\\/a971a2341514bd80fe0615cc391a655a32fe3a5d-knockout.js\\\"},{\\\"name\\\":\\\"knockout_punches\\\",\\\"type\\\":\\\"js\\\",\\\"url\\\":\\\"\\/assetserver\\/24d8358b86ffdeb1fc1367523e76c20d57f7bee6-knockout_punches.js\\\"}],\\\"type\\\":\\\"async_block\\\"})).then((imports) => handler.apply(this, imports));\\n}\\n\"],\"observables\":{\"changes\":{\"sync\":false,\"id\":\"7965540839585992748\",\"value\":0},\"value\":{\"sync\":true,\"id\":\"1452976615178335761\",\"value\":\"#0000FF\"}}},\"children\":[{\"props\":{\"className\":\"interact-flex-row interact-widget\"},\"nodeType\":\"DOM\",\"type\":\"node\",\"instanceArgs\":{\"namespace\":\"html\",\"tag\":\"div\"},\"children\":[{\"props\":{\"className\":\"interact-flex-row-left\"},\"nodeType\":\"DOM\",\"type\":\"node\",\"instanceArgs\":{\"namespace\":\"html\",\"tag\":\"div\"},\"children\":[{\"props\":{\"className\":\"interact \",\"style\":{\"padding\":\"5px 10px 0px 10px\"}},\"nodeType\":\"DOM\",\"type\":\"node\",\"instanceArgs\":{\"namespace\":\"html\",\"tag\":\"label\"},\"children\":[\"col2\"]}]},{\"props\":{\"className\":\"interact-flex-row-center\"},\"nodeType\":\"DOM\",\"type\":\"node\",\"instanceArgs\":{\"namespace\":\"html\",\"tag\":\"div\"},\"children\":[{\"props\":{\"attributes\":{\"type\":\"color\",\"data-bind\":\"value: value, valueUpdate: 'input', event: {change: function (){this.changes(this.changes()+1)}}\"},\"className\":\"input \",\"style\":{}},\"nodeType\":\"DOM\",\"type\":\"node\",\"instanceArgs\":{\"namespace\":\"html\",\"tag\":\"input\"},\"children\":[]}]},{\"props\":{\"className\":\"interact-flex-row-right\"},\"nodeType\":\"DOM\",\"type\":\"node\",\"instanceArgs\":{\"namespace\":\"html\",\"tag\":\"div\"},\"children\":[{\"props\":{},\"nodeType\":\"DOM\",\"type\":\"node\",\"instanceArgs\":{\"namespace\":\"html\",\"tag\":\"div\"},\"children\":[]}]}]}]}]},{\"props\":{\"className\":\"field interact-widget\"},\"nodeType\":\"DOM\",\"type\":\"node\",\"instanceArgs\":{\"namespace\":\"html\",\"tag\":\"div\"},\"children\":[{\"props\":{},\"nodeType\":\"Scope\",\"type\":\"node\",\"instanceArgs\":{\"imports\":{\"data\":[{\"name\":\"knockout\",\"type\":\"js\",\"url\":\"\\/assetserver\\/a971a2341514bd80fe0615cc391a655a32fe3a5d-knockout.js\"},{\"name\":\"knockout_punches\",\"type\":\"js\",\"url\":\"\\/assetserver\\/24d8358b86ffdeb1fc1367523e76c20d57f7bee6-knockout_punches.js\"},{\"name\":null,\"type\":\"js\",\"url\":\"\\/assetserver\\/521bd29b39bbe42a32da7fa7906a2e64b03bfa08-all.js\"},{\"name\":null,\"type\":\"css\",\"url\":\"\\/assetserver\\/0628ccc6275582e4b8b780c2ab67ee394817147e-style.css\"},{\"name\":null,\"type\":\"css\",\"url\":\"\\/assetserver\\/c7c5318ae4ba6408e954dd8de450b611c4232f37-bulma_confined.min.css\"}],\"type\":\"async_block\"},\"id\":\"18362325100363864123\",\"handlers\":{\"changes\":[\"(function (val){return (val!=this.model[\\\"changes\\\"]()) ? (this.valueFromJulia[\\\"changes\\\"]=true, this.model[\\\"changes\\\"](val)) : undefined})\"],\"index\":[\"(function (val){return (val!=this.model[\\\"index\\\"]()) ? (this.valueFromJulia[\\\"index\\\"]=true, this.model[\\\"index\\\"](val)) : undefined})\"]},\"systemjs_options\":null,\"mount_callbacks\":[\"function () {\\n    var handler = (function (ko, koPunches) {\\n    ko.punches.enableAll();\\n    ko.bindingHandlers.numericValue = {\\n        init: function(element, valueAccessor, allBindings, data, context) {\\n            var stringified = ko.observable(ko.unwrap(valueAccessor()));\\n            stringified.subscribe(function(value) {\\n                var val = parseFloat(value);\\n                if (!isNaN(val)) {\\n                    valueAccessor()(val);\\n                }\\n            });\\n            valueAccessor().subscribe(function(value) {\\n                var str = JSON.stringify(value);\\n                if ((str == \\\"0\\\") && ([\\\"-0\\\", \\\"-0.\\\"].indexOf(stringified()) >= 0))\\n                     return;\\n                 if ([\\\"null\\\", \\\"\\\"].indexOf(str) >= 0)\\n                     return;\\n                stringified(str);\\n            });\\n            ko.applyBindingsToNode(\\n                element,\\n                {\\n                    value: stringified,\\n                    valueUpdate: allBindings.get('valueUpdate'),\\n                },\\n                context,\\n            );\\n        }\\n    };\\n    var json_data = {\\\"formatted_vals\\\":[\\\"1.0\\\",\\\"1.1\\\",\\\"1.2\\\",\\\"1.3\\\",\\\"1.4\\\",\\\"1.5\\\",\\\"1.6\\\",\\\"1.7\\\",\\\"1.8\\\",\\\"1.9\\\",\\\"2.0\\\",\\\"2.1\\\",\\\"2.2\\\",\\\"2.3\\\",\\\"2.4\\\",\\\"2.5\\\",\\\"2.6\\\",\\\"2.7\\\",\\\"2.8\\\",\\\"2.9\\\",\\\"3.0\\\",\\\"3.1\\\",\\\"3.2\\\",\\\"3.3\\\",\\\"3.4\\\",\\\"3.5\\\",\\\"3.6\\\",\\\"3.7\\\",\\\"3.8\\\",\\\"3.9\\\",\\\"4.0\\\",\\\"4.1\\\",\\\"4.2\\\",\\\"4.3\\\",\\\"4.4\\\",\\\"4.5\\\",\\\"4.6\\\",\\\"4.7\\\",\\\"4.8\\\",\\\"4.9\\\",\\\"5.0\\\",\\\"5.1\\\",\\\"5.2\\\",\\\"5.3\\\",\\\"5.4\\\",\\\"5.5\\\",\\\"5.6\\\",\\\"5.7\\\",\\\"5.8\\\",\\\"5.9\\\",\\\"6.0\\\",\\\"6.1\\\",\\\"6.2\\\",\\\"6.3\\\",\\\"6.4\\\",\\\"6.5\\\",\\\"6.6\\\",\\\"6.7\\\",\\\"6.8\\\",\\\"6.9\\\",\\\"7.0\\\",\\\"7.1\\\",\\\"7.2\\\",\\\"7.3\\\",\\\"7.4\\\",\\\"7.5\\\",\\\"7.6\\\",\\\"7.7\\\",\\\"7.8\\\",\\\"7.9\\\",\\\"8.0\\\",\\\"8.1\\\",\\\"8.2\\\",\\\"8.3\\\",\\\"8.4\\\",\\\"8.5\\\",\\\"8.6\\\",\\\"8.7\\\",\\\"8.8\\\",\\\"8.9\\\",\\\"9.0\\\",\\\"9.1\\\",\\\"9.2\\\",\\\"9.3\\\",\\\"9.4\\\",\\\"9.5\\\",\\\"9.6\\\",\\\"9.7\\\",\\\"9.8\\\",\\\"9.9\\\",\\\"10.0\\\"],\\\"changes\\\":WebIO.getval({\\\"name\\\":\\\"changes\\\",\\\"scope\\\":\\\"18362325100363864123\\\",\\\"id\\\":\\\"3234660781283123323\\\",\\\"type\\\":\\\"observable\\\"}),\\\"index\\\":WebIO.getval({\\\"name\\\":\\\"index\\\",\\\"scope\\\":\\\"18362325100363864123\\\",\\\"id\\\":\\\"4490356350674162538\\\",\\\"type\\\":\\\"observable\\\"})};\\n    var self = this;\\n    function AppViewModel() {\\n        for (var key in json_data) {\\n            var el = json_data[key];\\n            this[key] = Array.isArray(el) ? ko.observableArray(el) : ko.observable(el);\\n        }\\n        \\n        [this[\\\"formatted_val\\\"]=ko.computed(    function(){\\n        return this.formatted_vals()[parseInt(this.index())-(1)];\\n    }\\n,this)]\\n        [this[\\\"changes\\\"].subscribe((function (val){!(this.valueFromJulia[\\\"changes\\\"]) ? (WebIO.setval({\\\"name\\\":\\\"changes\\\",\\\"scope\\\":\\\"18362325100363864123\\\",\\\"id\\\":\\\"3234660781283123323\\\",\\\"type\\\":\\\"observable\\\"},val)) : undefined; return this.valueFromJulia[\\\"changes\\\"]=false}),self),this[\\\"index\\\"].subscribe((function (val){!(this.valueFromJulia[\\\"index\\\"]) ? (WebIO.setval({\\\"name\\\":\\\"index\\\",\\\"scope\\\":\\\"18362325100363864123\\\",\\\"id\\\":\\\"4490356350674162538\\\",\\\"type\\\":\\\"observable\\\"},val)) : undefined; return this.valueFromJulia[\\\"index\\\"]=false}),self)]\\n        \\n    }\\n    self.model = new AppViewModel();\\n    self.valueFromJulia = {};\\n    for (var key in json_data) {\\n        self.valueFromJulia[key] = false;\\n    }\\n    ko.applyBindings(self.model, self.dom);\\n}\\n);\\n    (WebIO.importBlock({\\\"data\\\":[{\\\"name\\\":\\\"knockout\\\",\\\"type\\\":\\\"js\\\",\\\"url\\\":\\\"\\/assetserver\\/a971a2341514bd80fe0615cc391a655a32fe3a5d-knockout.js\\\"},{\\\"name\\\":\\\"knockout_punches\\\",\\\"type\\\":\\\"js\\\",\\\"url\\\":\\\"\\/assetserver\\/24d8358b86ffdeb1fc1367523e76c20d57f7bee6-knockout_punches.js\\\"}],\\\"type\\\":\\\"async_block\\\"})).then((imports) => handler.apply(this, imports));\\n}\\n\"],\"observables\":{\"changes\":{\"sync\":false,\"id\":\"3234660781283123323\",\"value\":0},\"index\":{\"sync\":true,\"id\":\"4490356350674162538\",\"value\":46}}},\"children\":[{\"props\":{\"className\":\"interact-flex-row interact-widget\"},\"nodeType\":\"DOM\",\"type\":\"node\",\"instanceArgs\":{\"namespace\":\"html\",\"tag\":\"div\"},\"children\":[{\"props\":{\"className\":\"interact-flex-row-left\"},\"nodeType\":\"DOM\",\"type\":\"node\",\"instanceArgs\":{\"namespace\":\"html\",\"tag\":\"div\"},\"children\":[{\"props\":{\"className\":\"interact \",\"style\":{\"padding\":\"5px 10px 0px 10px\"}},\"nodeType\":\"DOM\",\"type\":\"node\",\"instanceArgs\":{\"namespace\":\"html\",\"tag\":\"label\"},\"children\":[\"lw\"]}]},{\"props\":{\"className\":\"interact-flex-row-center\"},\"nodeType\":\"DOM\",\"type\":\"node\",\"instanceArgs\":{\"namespace\":\"html\",\"tag\":\"div\"},\"children\":[{\"props\":{\"max\":91,\"min\":1,\"attributes\":{\"type\":\"range\",\"data-bind\":\"numericValue: index, valueUpdate: 'input', event: {change: function (){this.changes(this.changes()+1)}}\",\"orient\":\"horizontal\"},\"step\":1,\"className\":\"slider slider is-fullwidth\",\"style\":{}},\"nodeType\":\"DOM\",\"type\":\"node\",\"instanceArgs\":{\"namespace\":\"html\",\"tag\":\"input\"},\"children\":[]}]},{\"props\":{\"className\":\"interact-flex-row-right\"},\"nodeType\":\"DOM\",\"type\":\"node\",\"instanceArgs\":{\"namespace\":\"html\",\"tag\":\"div\"},\"children\":[{\"props\":{\"attributes\":{\"data-bind\":\"text: formatted_val\"}},\"nodeType\":\"DOM\",\"type\":\"node\",\"instanceArgs\":{\"namespace\":\"html\",\"tag\":\"p\"},\"children\":[]}]}]}]}]},{\"props\":{\"className\":\"interact-flex-row interact-widget\"},\"nodeType\":\"DOM\",\"type\":\"node\",\"instanceArgs\":{\"namespace\":\"html\",\"tag\":\"div\"},\"children\":[{\"props\":{\"className\":\"interact-flex-row-left\"},\"nodeType\":\"DOM\",\"type\":\"node\",\"instanceArgs\":{\"namespace\":\"html\",\"tag\":\"div\"},\"children\":[\"t\"]},{\"props\":{\"className\":\"interact-flex-row-center\"},\"nodeType\":\"DOM\",\"type\":\"node\",\"instanceArgs\":{\"namespace\":\"html\",\"tag\":\"div\"},\"children\":[{\"props\":{},\"nodeType\":\"Scope\",\"type\":\"node\",\"instanceArgs\":{\"imports\":{\"data\":[],\"type\":\"async_block\"},\"id\":\"11135693608144567113\",\"handlers\":{\"obs-output\":[\"function (value, scope) {\\n    scope.setInnerHTML(value);\\n}\\n\"]},\"systemjs_options\":null,\"mount_callbacks\":[],\"observables\":{\"obs-output\":{\"sync\":false,\"id\":\"6938357804799664046\",\"value\":\"<pre>1.629446840576342e9<\\/pre>\"}}},\"children\":[{\"props\":{\"className\":\"webio-observable\",\"setInnerHtml\":\"<pre>1.629446840576342e9<\\/pre>\"},\"nodeType\":\"DOM\",\"type\":\"node\",\"instanceArgs\":{\"namespace\":\"html\",\"tag\":\"div\"},\"children\":[]}]}]},{\"props\":{\"className\":\"interact-flex-row-right\"},\"nodeType\":\"DOM\",\"type\":\"node\",\"instanceArgs\":{\"namespace\":\"html\",\"tag\":\"div\"},\"children\":[{\"props\":{},\"nodeType\":\"DOM\",\"type\":\"node\",\"instanceArgs\":{\"namespace\":\"html\",\"tag\":\"div\"},\"children\":[]}]}]},{\"props\":{},\"nodeType\":\"Scope\",\"type\":\"node\",\"instanceArgs\":{\"imports\":{\"data\":[],\"type\":\"async_block\"},\"id\":\"9573166412583495548\",\"handlers\":{},\"systemjs_options\":null,\"mount_callbacks\":[],\"observables\":{\"obs-node\":{\"sync\":false,\"id\":\"6532419079190066099\",\"value\":{\"props\":{\"className\":\"interact-flex-row interact-widget\"},\"nodeType\":\"DOM\",\"type\":\"node\",\"instanceArgs\":{\"namespace\":\"html\",\"tag\":\"div\"},\"children\":[{\"props\":{\"setInnerHtml\":\"<?xml version=\\\"1.0\\\" encoding=\\\"utf-8\\\"?>\\n<svg xmlns=\\\"http:\\/\\/www.w3.org\\/2000\\/svg\\\" xmlns:xlink=\\\"http:\\/\\/www.w3.org\\/1999\\/xlink\\\" width=\\\"600\\\" height=\\\"400\\\" viewBox=\\\"0 0 2400 1600\\\">\\n<defs>\\n  <clipPath id=\\\"clip730\\\">\\n    <rect x=\\\"0\\\" y=\\\"0\\\" width=\\\"2400\\\" height=\\\"1600\\\"\\/>\\n  <\\/clipPath>\\n<\\/defs>\\n<path clip-path=\\\"url(#clip730)\\\" d=\\\"\\nM0 1600 L2400 1600 L2400 0 L0 0  Z\\n  \\\" fill=\\\"#ffffff\\\" fill-rule=\\\"evenodd\\\" fill-opacity=\\\"1\\\"\\/>\\n<defs>\\n  <clipPath id=\\\"clip731\\\">\\n    <rect x=\\\"480\\\" y=\\\"0\\\" width=\\\"1681\\\" height=\\\"1600\\\"\\/>\\n  <\\/clipPath>\\n<\\/defs>\\n<path clip-path=\\\"url(#clip730)\\\" d=\\\"\\nM193.936 1486.45 L2352.76 1486.45 L2352.76 47.2441 L193.936 47.2441  Z\\n  \\\" fill=\\\"#ffffff\\\" fill-rule=\\\"evenodd\\\" fill-opacity=\\\"1\\\"\\/>\\n<defs>\\n  <clipPath id=\\\"clip732\\\">\\n    <rect x=\\\"193\\\" y=\\\"47\\\" width=\\\"2160\\\" height=\\\"1440\\\"\\/>\\n  <\\/clipPath>\\n<\\/defs>\\n<polyline clip-path=\\\"url(#clip732)\\\" style=\\\"stroke:#000000; stroke-linecap:butt; stroke-linejoin:round; stroke-width:2; stroke-opacity:0.1; fill:none\\\" points=\\\"\\n  301.546,1486.45 301.546,47.2441 \\n  \\\"\\/>\\n<polyline clip-path=\\\"url(#clip732)\\\" style=\\\"stroke:#000000; stroke-linecap:butt; stroke-linejoin:round; stroke-width:2; stroke-opacity:0.1; fill:none\\\" points=\\\"\\n  630.034,1486.45 630.034,47.2441 \\n  \\\"\\/>\\n<polyline clip-path=\\\"url(#clip732)\\\" style=\\\"stroke:#000000; stroke-linecap:butt; stroke-linejoin:round; stroke-width:2; stroke-opacity:0.1; fill:none\\\" points=\\\"\\n  958.521,1486.45 958.521,47.2441 \\n  \\\"\\/>\\n<polyline clip-path=\\\"url(#clip732)\\\" style=\\\"stroke:#000000; stroke-linecap:butt; stroke-linejoin:round; stroke-width:2; stroke-opacity:0.1; fill:none\\\" points=\\\"\\n  1287.01,1486.45 1287.01,47.2441 \\n  \\\"\\/>\\n<polyline clip-path=\\\"url(#clip732)\\\" style=\\\"stroke:#000000; stroke-linecap:butt; stroke-linejoin:round; stroke-width:2; stroke-opacity:0.1; fill:none\\\" points=\\\"\\n  1615.5,1486.45 1615.5,47.2441 \\n  \\\"\\/>\\n<polyline clip-path=\\\"url(#clip732)\\\" style=\\\"stroke:#000000; stroke-linecap:butt; stroke-linejoin:round; stroke-width:2; stroke-opacity:0.1; fill:none\\\" points=\\\"\\n  1943.98,1486.45 1943.98,47.2441 \\n  \\\"\\/>\\n<polyline clip-path=\\\"url(#clip732)\\\" style=\\\"stroke:#000000; stroke-linecap:butt; stroke-linejoin:round; stroke-width:2; stroke-opacity:0.1; fill:none\\\" points=\\\"\\n  2272.47,1486.45 2272.47,47.2441 \\n  \\\"\\/>\\n<polyline clip-path=\\\"url(#clip730)\\\" style=\\\"stroke:#000000; stroke-linecap:butt; stroke-linejoin:round; stroke-width:4; stroke-opacity:1; fill:none\\\" points=\\\"\\n  193.936,1486.45 2352.76,1486.45 \\n  \\\"\\/>\\n<polyline clip-path=\\\"url(#clip730)\\\" style=\\\"stroke:#000000; stroke-linecap:butt; stroke-linejoin:round; stroke-width:4; stroke-opacity:1; fill:none\\\" points=\\\"\\n  301.546,1486.45 301.546,1467.55 \\n  \\\"\\/>\\n<polyline clip-path=\\\"url(#clip730)\\\" style=\\\"stroke:#000000; stroke-linecap:butt; stroke-linejoin:round; stroke-width:4; stroke-opacity:1; fill:none\\\" points=\\\"\\n  630.034,1486.45 630.034,1467.55 \\n  \\\"\\/>\\n<polyline clip-path=\\\"url(#clip730)\\\" style=\\\"stroke:#000000; stroke-linecap:butt; stroke-linejoin:round; stroke-width:4; stroke-opacity:1; fill:none\\\" points=\\\"\\n  958.521,1486.45 958.521,1467.55 \\n  \\\"\\/>\\n<polyline clip-path=\\\"url(#clip730)\\\" style=\\\"stroke:#000000; stroke-linecap:butt; stroke-linejoin:round; stroke-width:4; stroke-opacity:1; fill:none\\\" points=\\\"\\n  1287.01,1486.45 1287.01,1467.55 \\n  \\\"\\/>\\n<polyline clip-path=\\\"url(#clip730)\\\" style=\\\"stroke:#000000; stroke-linecap:butt; stroke-linejoin:round; stroke-width:4; stroke-opacity:1; fill:none\\\" points=\\\"\\n  1615.5,1486.45 1615.5,1467.55 \\n  \\\"\\/>\\n<polyline clip-path=\\\"url(#clip730)\\\" style=\\\"stroke:#000000; stroke-linecap:butt; stroke-linejoin:round; stroke-width:4; stroke-opacity:1; fill:none\\\" points=\\\"\\n  1943.98,1486.45 1943.98,1467.55 \\n  \\\"\\/>\\n<polyline clip-path=\\\"url(#clip730)\\\" style=\\\"stroke:#000000; stroke-linecap:butt; stroke-linejoin:round; stroke-width:4; stroke-opacity:1; fill:none\\\" points=\\\"\\n  2272.47,1486.45 2272.47,1467.55 \\n  \\\"\\/>\\n<path clip-path=\\\"url(#clip730)\\\" d=\\\"M271.014 1530.29 L300.69 1530.29 L300.69 1534.23 L271.014 1534.23 L271.014 1530.29 Z\\\" fill=\\\"#000000\\\" fill-rule=\\\"evenodd\\\" fill-opacity=\\\"1\\\" \\/><path clip-path=\\\"url(#clip730)\\\" d=\\\"M324.949 1528.49 Q328.305 1529.2 330.18 1531.47 Q332.078 1533.74 332.078 1537.07 Q332.078 1542.19 328.56 1544.99 Q325.041 1547.79 318.56 1547.79 Q316.384 1547.79 314.069 1547.35 Q311.778 1546.93 309.324 1546.08 L309.324 1541.56 Q311.268 1542.7 313.583 1543.28 Q315.898 1543.86 318.421 1543.86 Q322.819 1543.86 325.111 1542.12 Q327.426 1540.38 327.426 1537.07 Q327.426 1534.02 325.273 1532.31 Q323.143 1530.57 319.324 1530.57 L315.296 1530.57 L315.296 1526.73 L319.509 1526.73 Q322.958 1526.73 324.787 1525.36 Q326.615 1523.97 326.615 1521.38 Q326.615 1518.72 324.717 1517.31 Q322.842 1515.87 319.324 1515.87 Q317.402 1515.87 315.203 1516.29 Q313.004 1516.7 310.365 1517.58 L310.365 1513.42 Q313.028 1512.68 315.342 1512.31 Q317.68 1511.93 319.74 1511.93 Q325.064 1511.93 328.166 1514.37 Q331.268 1516.77 331.268 1520.89 Q331.268 1523.76 329.625 1525.75 Q327.981 1527.72 324.949 1528.49 Z\\\" fill=\\\"#000000\\\" fill-rule=\\\"evenodd\\\" fill-opacity=\\\"1\\\" \\/><path clip-path=\\\"url(#clip730)\\\" d=\\\"M599.976 1530.29 L629.652 1530.29 L629.652 1534.23 L599.976 1534.23 L599.976 1530.29 Z\\\" fill=\\\"#000000\\\" fill-rule=\\\"evenodd\\\" fill-opacity=\\\"1\\\" \\/><path clip-path=\\\"url(#clip730)\\\" d=\\\"M643.772 1543.18 L660.091 1543.18 L660.091 1547.12 L638.147 1547.12 L638.147 1543.18 Q640.809 1540.43 645.392 1535.8 Q649.999 1531.15 651.179 1529.81 Q653.425 1527.28 654.304 1525.55 Q655.207 1523.79 655.207 1522.1 Q655.207 1519.34 653.263 1517.61 Q651.341 1515.87 648.24 1515.87 Q646.04 1515.87 643.587 1516.63 Q641.156 1517.4 638.378 1518.95 L638.378 1514.23 Q641.203 1513.09 643.656 1512.51 Q646.11 1511.93 648.147 1511.93 Q653.517 1511.93 656.712 1514.62 Q659.906 1517.31 659.906 1521.8 Q659.906 1523.93 659.096 1525.85 Q658.309 1527.74 656.202 1530.34 Q655.624 1531.01 652.522 1534.23 Q649.42 1537.42 643.772 1543.18 Z\\\" fill=\\\"#000000\\\" fill-rule=\\\"evenodd\\\" fill-opacity=\\\"1\\\" \\/><path clip-path=\\\"url(#clip730)\\\" d=\\\"M928.278 1530.29 L957.954 1530.29 L957.954 1534.23 L928.278 1534.23 L928.278 1530.29 Z\\\" fill=\\\"#000000\\\" fill-rule=\\\"evenodd\\\" fill-opacity=\\\"1\\\" \\/><path clip-path=\\\"url(#clip730)\\\" d=\\\"M968.857 1543.18 L976.496 1543.18 L976.496 1516.82 L968.185 1518.49 L968.185 1514.23 L976.449 1512.56 L981.125 1512.56 L981.125 1543.18 L988.764 1543.18 L988.764 1547.12 L968.857 1547.12 L968.857 1543.18 Z\\\" fill=\\\"#000000\\\" fill-rule=\\\"evenodd\\\" fill-opacity=\\\"1\\\" \\/><path clip-path=\\\"url(#clip730)\\\" d=\\\"M1287.01 1515.64 Q1283.4 1515.64 1281.57 1519.2 Q1279.76 1522.75 1279.76 1529.87 Q1279.76 1536.98 1281.57 1540.55 Q1283.4 1544.09 1287.01 1544.09 Q1290.64 1544.09 1292.45 1540.55 Q1294.28 1536.98 1294.28 1529.87 Q1294.28 1522.75 1292.45 1519.2 Q1290.64 1515.64 1287.01 1515.64 M1287.01 1511.93 Q1292.82 1511.93 1295.87 1516.54 Q1298.95 1521.12 1298.95 1529.87 Q1298.95 1538.6 1295.87 1543.21 Q1292.82 1547.79 1287.01 1547.79 Q1281.2 1547.79 1278.12 1543.21 Q1275.06 1538.6 1275.06 1529.87 Q1275.06 1521.12 1278.12 1516.54 Q1281.2 1511.93 1287.01 1511.93 Z\\\" fill=\\\"#000000\\\" fill-rule=\\\"evenodd\\\" fill-opacity=\\\"1\\\" \\/><path clip-path=\\\"url(#clip730)\\\" d=\\\"M1605.88 1543.18 L1613.52 1543.18 L1613.52 1516.82 L1605.21 1518.49 L1605.21 1514.23 L1613.47 1512.56 L1618.15 1512.56 L1618.15 1543.18 L1625.79 1543.18 L1625.79 1547.12 L1605.88 1547.12 L1605.88 1543.18 Z\\\" fill=\\\"#000000\\\" fill-rule=\\\"evenodd\\\" fill-opacity=\\\"1\\\" \\/><path clip-path=\\\"url(#clip730)\\\" d=\\\"M1938.64 1543.18 L1954.96 1543.18 L1954.96 1547.12 L1933.01 1547.12 L1933.01 1543.18 Q1935.67 1540.43 1940.26 1535.8 Q1944.86 1531.15 1946.04 1529.81 Q1948.29 1527.28 1949.17 1525.55 Q1950.07 1523.79 1950.07 1522.1 Q1950.07 1519.34 1948.13 1517.61 Q1946.21 1515.87 1943.1 1515.87 Q1940.9 1515.87 1938.45 1516.63 Q1936.02 1517.4 1933.24 1518.95 L1933.24 1514.23 Q1936.07 1513.09 1938.52 1512.51 Q1940.97 1511.93 1943.01 1511.93 Q1948.38 1511.93 1951.58 1514.62 Q1954.77 1517.31 1954.77 1521.8 Q1954.77 1523.93 1953.96 1525.85 Q1953.17 1527.74 1951.07 1530.34 Q1950.49 1531.01 1947.39 1534.23 Q1944.28 1537.42 1938.64 1543.18 Z\\\" fill=\\\"#000000\\\" fill-rule=\\\"evenodd\\\" fill-opacity=\\\"1\\\" \\/><path clip-path=\\\"url(#clip730)\\\" d=\\\"M2276.72 1528.49 Q2280.08 1529.2 2281.95 1531.47 Q2283.85 1533.74 2283.85 1537.07 Q2283.85 1542.19 2280.33 1544.99 Q2276.81 1547.79 2270.33 1547.79 Q2268.15 1547.79 2265.84 1547.35 Q2263.55 1546.93 2261.09 1546.08 L2261.09 1541.56 Q2263.04 1542.7 2265.35 1543.28 Q2267.67 1543.86 2270.19 1543.86 Q2274.59 1543.86 2276.88 1542.12 Q2279.2 1540.38 2279.2 1537.07 Q2279.2 1534.02 2277.04 1532.31 Q2274.91 1530.57 2271.09 1530.57 L2267.07 1530.57 L2267.07 1526.73 L2271.28 1526.73 Q2274.73 1526.73 2276.56 1525.36 Q2278.39 1523.97 2278.39 1521.38 Q2278.39 1518.72 2276.49 1517.31 Q2274.61 1515.87 2271.09 1515.87 Q2269.17 1515.87 2266.97 1516.29 Q2264.77 1516.7 2262.14 1517.58 L2262.14 1513.42 Q2264.8 1512.68 2267.11 1512.31 Q2269.45 1511.93 2271.51 1511.93 Q2276.83 1511.93 2279.94 1514.37 Q2283.04 1516.77 2283.04 1520.89 Q2283.04 1523.76 2281.39 1525.75 Q2279.75 1527.72 2276.72 1528.49 Z\\\" fill=\\\"#000000\\\" fill-rule=\\\"evenodd\\\" fill-opacity=\\\"1\\\" \\/><polyline clip-path=\\\"url(#clip732)\\\" style=\\\"stroke:#000000; stroke-linecap:butt; stroke-linejoin:round; stroke-width:2; stroke-opacity:0.1; fill:none\\\" points=\\\"\\n  193.936,1445.72 2352.76,1445.72 \\n  \\\"\\/>\\n<polyline clip-path=\\\"url(#clip732)\\\" style=\\\"stroke:#000000; stroke-linecap:butt; stroke-linejoin:round; stroke-width:2; stroke-opacity:0.1; fill:none\\\" points=\\\"\\n  193.936,1106.27 2352.76,1106.27 \\n  \\\"\\/>\\n<polyline clip-path=\\\"url(#clip732)\\\" style=\\\"stroke:#000000; stroke-linecap:butt; stroke-linejoin:round; stroke-width:2; stroke-opacity:0.1; fill:none\\\" points=\\\"\\n  193.936,766.82 2352.76,766.82 \\n  \\\"\\/>\\n<polyline clip-path=\\\"url(#clip732)\\\" style=\\\"stroke:#000000; stroke-linecap:butt; stroke-linejoin:round; stroke-width:2; stroke-opacity:0.1; fill:none\\\" points=\\\"\\n  193.936,427.372 2352.76,427.372 \\n  \\\"\\/>\\n<polyline clip-path=\\\"url(#clip732)\\\" style=\\\"stroke:#000000; stroke-linecap:butt; stroke-linejoin:round; stroke-width:2; stroke-opacity:0.1; fill:none\\\" points=\\\"\\n  193.936,87.9242 2352.76,87.9242 \\n  \\\"\\/>\\n<polyline clip-path=\\\"url(#clip730)\\\" style=\\\"stroke:#000000; stroke-linecap:butt; stroke-linejoin:round; stroke-width:4; stroke-opacity:1; fill:none\\\" points=\\\"\\n  193.936,1486.45 193.936,47.2441 \\n  \\\"\\/>\\n<polyline clip-path=\\\"url(#clip730)\\\" style=\\\"stroke:#000000; stroke-linecap:butt; stroke-linejoin:round; stroke-width:4; stroke-opacity:1; fill:none\\\" points=\\\"\\n  193.936,1445.72 212.834,1445.72 \\n  \\\"\\/>\\n<polyline clip-path=\\\"url(#clip730)\\\" style=\\\"stroke:#000000; stroke-linecap:butt; stroke-linejoin:round; stroke-width:4; stroke-opacity:1; fill:none\\\" points=\\\"\\n  193.936,1106.27 212.834,1106.27 \\n  \\\"\\/>\\n<polyline clip-path=\\\"url(#clip730)\\\" style=\\\"stroke:#000000; stroke-linecap:butt; stroke-linejoin:round; stroke-width:4; stroke-opacity:1; fill:none\\\" points=\\\"\\n  193.936,766.82 212.834,766.82 \\n  \\\"\\/>\\n<polyline clip-path=\\\"url(#clip730)\\\" style=\\\"stroke:#000000; stroke-linecap:butt; stroke-linejoin:round; stroke-width:4; stroke-opacity:1; fill:none\\\" points=\\\"\\n  193.936,427.372 212.834,427.372 \\n  \\\"\\/>\\n<polyline clip-path=\\\"url(#clip730)\\\" style=\\\"stroke:#000000; stroke-linecap:butt; stroke-linejoin:round; stroke-width:4; stroke-opacity:1; fill:none\\\" points=\\\"\\n  193.936,87.9242 212.834,87.9242 \\n  \\\"\\/>\\n<path clip-path=\\\"url(#clip730)\\\" d=\\\"M50.9921 1446.17 L80.6679 1446.17 L80.6679 1450.1 L50.9921 1450.1 L50.9921 1446.17 Z\\\" fill=\\\"#000000\\\" fill-rule=\\\"evenodd\\\" fill-opacity=\\\"1\\\" \\/><path clip-path=\\\"url(#clip730)\\\" d=\\\"M91.5706 1459.06 L99.2095 1459.06 L99.2095 1432.69 L90.8993 1434.36 L90.8993 1430.1 L99.1632 1428.44 L103.839 1428.44 L103.839 1459.06 L111.478 1459.06 L111.478 1463 L91.5706 1463 L91.5706 1459.06 Z\\\" fill=\\\"#000000\\\" fill-rule=\\\"evenodd\\\" fill-opacity=\\\"1\\\" \\/><path clip-path=\\\"url(#clip730)\\\" d=\\\"M120.922 1457.12 L125.807 1457.12 L125.807 1463 L120.922 1463 L120.922 1457.12 Z\\\" fill=\\\"#000000\\\" fill-rule=\\\"evenodd\\\" fill-opacity=\\\"1\\\" \\/><path clip-path=\\\"url(#clip730)\\\" d=\\\"M145.992 1431.51 Q142.381 1431.51 140.552 1435.08 Q138.746 1438.62 138.746 1445.75 Q138.746 1452.86 140.552 1456.42 Q142.381 1459.96 145.992 1459.96 Q149.626 1459.96 151.431 1456.42 Q153.26 1452.86 153.26 1445.75 Q153.26 1438.62 151.431 1435.08 Q149.626 1431.51 145.992 1431.51 M145.992 1427.81 Q151.802 1427.81 154.857 1432.42 Q157.936 1437 157.936 1445.75 Q157.936 1454.48 154.857 1459.08 Q151.802 1463.67 145.992 1463.67 Q140.181 1463.67 137.103 1459.08 Q134.047 1454.48 134.047 1445.75 Q134.047 1437 137.103 1432.42 Q140.181 1427.81 145.992 1427.81 Z\\\" fill=\\\"#000000\\\" fill-rule=\\\"evenodd\\\" fill-opacity=\\\"1\\\" \\/><path clip-path=\\\"url(#clip730)\\\" d=\\\"M51.9875 1106.72 L81.6633 1106.72 L81.6633 1110.65 L51.9875 1110.65 L51.9875 1106.72 Z\\\" fill=\\\"#000000\\\" fill-rule=\\\"evenodd\\\" fill-opacity=\\\"1\\\" \\/><path clip-path=\\\"url(#clip730)\\\" d=\\\"M101.756 1092.07 Q98.1447 1092.07 96.316 1095.63 Q94.5104 1099.17 94.5104 1106.3 Q94.5104 1113.41 96.316 1116.97 Q98.1447 1120.52 101.756 1120.52 Q105.39 1120.52 107.196 1116.97 Q109.024 1113.41 109.024 1106.3 Q109.024 1099.17 107.196 1095.63 Q105.39 1092.07 101.756 1092.07 M101.756 1088.36 Q107.566 1088.36 110.621 1092.97 Q113.7 1097.55 113.7 1106.3 Q113.7 1115.03 110.621 1119.64 Q107.566 1124.22 101.756 1124.22 Q95.9456 1124.22 92.8669 1119.64 Q89.8114 1115.03 89.8114 1106.3 Q89.8114 1097.55 92.8669 1092.97 Q95.9456 1088.36 101.756 1088.36 Z\\\" fill=\\\"#000000\\\" fill-rule=\\\"evenodd\\\" fill-opacity=\\\"1\\\" \\/><path clip-path=\\\"url(#clip730)\\\" d=\\\"M121.918 1117.67 L126.802 1117.67 L126.802 1123.55 L121.918 1123.55 L121.918 1117.67 Z\\\" fill=\\\"#000000\\\" fill-rule=\\\"evenodd\\\" fill-opacity=\\\"1\\\" \\/><path clip-path=\\\"url(#clip730)\\\" d=\\\"M137.033 1088.99 L155.39 1088.99 L155.39 1092.92 L141.316 1092.92 L141.316 1101.4 Q142.334 1101.05 143.353 1100.89 Q144.371 1100.7 145.39 1100.7 Q151.177 1100.7 154.556 1103.87 Q157.936 1107.04 157.936 1112.46 Q157.936 1118.04 154.464 1121.14 Q150.992 1124.22 144.672 1124.22 Q142.496 1124.22 140.228 1123.85 Q137.982 1123.48 135.575 1122.74 L135.575 1118.04 Q137.658 1119.17 139.881 1119.73 Q142.103 1120.28 144.58 1120.28 Q148.584 1120.28 150.922 1118.18 Q153.26 1116.07 153.26 1112.46 Q153.26 1108.85 150.922 1106.74 Q148.584 1104.64 144.58 1104.64 Q142.705 1104.64 140.83 1105.05 Q138.978 1105.47 137.033 1106.35 L137.033 1088.99 Z\\\" fill=\\\"#000000\\\" fill-rule=\\\"evenodd\\\" fill-opacity=\\\"1\\\" \\/><path clip-path=\\\"url(#clip730)\\\" d=\\\"M100.76 752.619 Q97.1493 752.619 95.3206 756.183 Q93.515 759.725 93.515 766.855 Q93.515 773.961 95.3206 777.526 Q97.1493 781.068 100.76 781.068 Q104.395 781.068 106.2 777.526 Q108.029 773.961 108.029 766.855 Q108.029 759.725 106.2 756.183 Q104.395 752.619 100.76 752.619 M100.76 748.915 Q106.571 748.915 109.626 753.521 Q112.705 758.105 112.705 766.855 Q112.705 775.581 109.626 780.188 Q106.571 784.771 100.76 784.771 Q94.9502 784.771 91.8715 780.188 Q88.816 775.581 88.816 766.855 Q88.816 758.105 91.8715 753.521 Q94.9502 748.915 100.76 748.915 Z\\\" fill=\\\"#000000\\\" fill-rule=\\\"evenodd\\\" fill-opacity=\\\"1\\\" \\/><path clip-path=\\\"url(#clip730)\\\" d=\\\"M120.922 778.22 L125.807 778.22 L125.807 784.1 L120.922 784.1 L120.922 778.22 Z\\\" fill=\\\"#000000\\\" fill-rule=\\\"evenodd\\\" fill-opacity=\\\"1\\\" \\/><path clip-path=\\\"url(#clip730)\\\" d=\\\"M145.992 752.619 Q142.381 752.619 140.552 756.183 Q138.746 759.725 138.746 766.855 Q138.746 773.961 140.552 777.526 Q142.381 781.068 145.992 781.068 Q149.626 781.068 151.431 777.526 Q153.26 773.961 153.26 766.855 Q153.26 759.725 151.431 756.183 Q149.626 752.619 145.992 752.619 M145.992 748.915 Q151.802 748.915 154.857 753.521 Q157.936 758.105 157.936 766.855 Q157.936 775.581 154.857 780.188 Q151.802 784.771 145.992 784.771 Q140.181 784.771 137.103 780.188 Q134.047 775.581 134.047 766.855 Q134.047 758.105 137.103 753.521 Q140.181 748.915 145.992 748.915 Z\\\" fill=\\\"#000000\\\" fill-rule=\\\"evenodd\\\" fill-opacity=\\\"1\\\" \\/><path clip-path=\\\"url(#clip730)\\\" d=\\\"M101.756 413.171 Q98.1447 413.171 96.316 416.736 Q94.5104 420.277 94.5104 427.407 Q94.5104 434.513 96.316 438.078 Q98.1447 441.62 101.756 441.62 Q105.39 441.62 107.196 438.078 Q109.024 434.513 109.024 427.407 Q109.024 420.277 107.196 416.736 Q105.39 413.171 101.756 413.171 M101.756 409.467 Q107.566 409.467 110.621 414.074 Q113.7 418.657 113.7 427.407 Q113.7 436.134 110.621 440.74 Q107.566 445.323 101.756 445.323 Q95.9456 445.323 92.8669 440.74 Q89.8114 436.134 89.8114 427.407 Q89.8114 418.657 92.8669 414.074 Q95.9456 409.467 101.756 409.467 Z\\\" fill=\\\"#000000\\\" fill-rule=\\\"evenodd\\\" fill-opacity=\\\"1\\\" \\/><path clip-path=\\\"url(#clip730)\\\" d=\\\"M121.918 438.772 L126.802 438.772 L126.802 444.652 L121.918 444.652 L121.918 438.772 Z\\\" fill=\\\"#000000\\\" fill-rule=\\\"evenodd\\\" fill-opacity=\\\"1\\\" \\/><path clip-path=\\\"url(#clip730)\\\" d=\\\"M137.033 410.092 L155.39 410.092 L155.39 414.027 L141.316 414.027 L141.316 422.499 Q142.334 422.152 143.353 421.99 Q144.371 421.805 145.39 421.805 Q151.177 421.805 154.556 424.976 Q157.936 428.148 157.936 433.564 Q157.936 439.143 154.464 442.245 Q150.992 445.323 144.672 445.323 Q142.496 445.323 140.228 444.953 Q137.982 444.583 135.575 443.842 L135.575 439.143 Q137.658 440.277 139.881 440.833 Q142.103 441.388 144.58 441.388 Q148.584 441.388 150.922 439.282 Q153.26 437.175 153.26 433.564 Q153.26 429.953 150.922 427.847 Q148.584 425.74 144.58 425.74 Q142.705 425.74 140.83 426.157 Q138.978 426.573 137.033 427.453 L137.033 410.092 Z\\\" fill=\\\"#000000\\\" fill-rule=\\\"evenodd\\\" fill-opacity=\\\"1\\\" \\/><path clip-path=\\\"url(#clip730)\\\" d=\\\"M91.5706 101.269 L99.2095 101.269 L99.2095 74.9034 L90.8993 76.5701 L90.8993 72.3108 L99.1632 70.6442 L103.839 70.6442 L103.839 101.269 L111.478 101.269 L111.478 105.204 L91.5706 105.204 L91.5706 101.269 Z\\\" fill=\\\"#000000\\\" fill-rule=\\\"evenodd\\\" fill-opacity=\\\"1\\\" \\/><path clip-path=\\\"url(#clip730)\\\" d=\\\"M120.922 99.3246 L125.807 99.3246 L125.807 105.204 L120.922 105.204 L120.922 99.3246 Z\\\" fill=\\\"#000000\\\" fill-rule=\\\"evenodd\\\" fill-opacity=\\\"1\\\" \\/><path clip-path=\\\"url(#clip730)\\\" d=\\\"M145.992 73.7229 Q142.381 73.7229 140.552 77.2877 Q138.746 80.8293 138.746 87.9589 Q138.746 95.0653 140.552 98.6301 Q142.381 102.172 145.992 102.172 Q149.626 102.172 151.431 98.6301 Q153.26 95.0653 153.26 87.9589 Q153.26 80.8293 151.431 77.2877 Q149.626 73.7229 145.992 73.7229 M145.992 70.0192 Q151.802 70.0192 154.857 74.6256 Q157.936 79.2089 157.936 87.9589 Q157.936 96.6857 154.857 101.292 Q151.802 105.875 145.992 105.875 Q140.181 105.875 137.103 101.292 Q134.047 96.6857 134.047 87.9589 Q134.047 79.2089 137.103 74.6256 Q140.181 70.0192 145.992 70.0192 Z\\\" fill=\\\"#000000\\\" fill-rule=\\\"evenodd\\\" fill-opacity=\\\"1\\\" \\/><polyline clip-path=\\\"url(#clip732)\\\" style=\\\"stroke:#ff0000; stroke-linecap:butt; stroke-linejoin:round; stroke-width:22; stroke-opacity:1; fill:none\\\" points=\\\"\\n  255.035,766.82 287.883,834.596 320.732,901.696 353.581,967.447 386.43,1031.19 419.278,1092.3 452.127,1150.15 484.976,1204.18 517.825,1253.83 550.673,1298.62 \\n  583.522,1338.09 616.371,1371.86 649.22,1399.58 682.068,1420.98 714.917,1435.84 747.766,1444.02 780.615,1445.43 813.463,1440.06 846.312,1427.96 879.161,1409.26 \\n  912.01,1384.14 944.858,1352.85 977.707,1315.7 1010.56,1273.08 1043.4,1225.39 1076.25,1173.12 1109.1,1116.79 1141.95,1056.97 1174.8,994.242 1207.65,929.245 \\n  1240.5,862.626 1273.35,795.049 1306.19,727.19 1339.04,659.727 1371.89,593.334 1404.74,528.675 1437.59,466.395 1470.44,407.116 1503.29,351.432 1536.14,299.898 \\n  1568.98,253.03 1601.83,211.295 1634.68,175.111 1667.53,144.839 1700.38,120.781 1733.23,103.179 1766.08,92.2073 1798.93,87.9763 1831.77,90.528 1864.62,99.837 \\n  1897.47,115.81 1930.32,138.288 1963.17,167.046 1996.02,201.797 2028.87,242.193 2061.72,287.832 2094.56,338.256 2127.41,392.962 2160.26,451.403 2193.11,512.997 \\n  2225.96,577.126 2258.81,643.151 2291.66,710.411 \\n  \\\"\\/>\\n<polyline clip-path=\\\"url(#clip732)\\\" style=\\\"stroke:#0000ff; stroke-linecap:butt; stroke-linejoin:round; stroke-width:22; stroke-opacity:1; fill:none\\\" points=\\\"\\n  255.035,1445.72 287.883,1442.32 320.732,1432.18 353.581,1415.39 386.43,1392.12 419.278,1362.61 452.127,1327.14 484.976,1286.07 517.825,1239.81 550.673,1188.83 \\n  583.522,1133.63 616.371,1074.76 649.22,1012.82 682.068,948.424 714.917,882.21 747.766,814.843 780.615,746.997 813.463,679.348 846.312,612.573 879.161,547.34 \\n  912.01,484.3 944.858,424.082 977.707,367.289 1010.56,314.488 1043.4,266.206 1076.25,222.927 1109.1,185.082 1141.95,153.049 1174.8,127.149 1207.65,107.641 \\n  1240.5,94.7182 1273.35,88.5113 1306.19,89.0818 1339.04,96.4241 1371.89,110.465 1404.74,131.063 1437.59,158.014 1470.44,191.048 1503.29,229.835 1536.14,273.988 \\n  1568.98,323.064 1601.83,376.574 1634.68,433.984 1667.53,494.719 1700.38,558.173 1733.23,623.712 1766.08,690.68 1798.93,758.409 1831.77,826.223 1864.62,893.442 \\n  1897.47,959.397 1930.32,1023.43 1963.17,1084.89 1996.02,1143.18 2028.87,1197.71 2061.72,1247.93 2094.56,1293.35 2127.41,1333.5 2160.26,1368 2193.11,1396.48 \\n  2225.96,1418.68 2258.81,1434.36 2291.66,1443.37 \\n  \\\"\\/>\\n<path clip-path=\\\"url(#clip730)\\\" d=\\\"\\nM1988.5 250.738 L2280.8 250.738 L2280.8 95.2176 L1988.5 95.2176  Z\\n  \\\" fill=\\\"#ffffff\\\" fill-rule=\\\"evenodd\\\" fill-opacity=\\\"1\\\"\\/>\\n<polyline clip-path=\\\"url(#clip730)\\\" style=\\\"stroke:#000000; stroke-linecap:butt; stroke-linejoin:round; stroke-width:4; stroke-opacity:1; fill:none\\\" points=\\\"\\n  1988.5,250.738 2280.8,250.738 2280.8,95.2176 1988.5,95.2176 1988.5,250.738 \\n  \\\"\\/>\\n<polyline clip-path=\\\"url(#clip730)\\\" style=\\\"stroke:#ff0000; stroke-linecap:butt; stroke-linejoin:round; stroke-width:4; stroke-opacity:1; fill:none\\\" points=\\\"\\n  2012.48,147.058 2156.4,147.058 \\n  \\\"\\/>\\n<path clip-path=\\\"url(#clip730)\\\" d=\\\"M2194.23 166.745 Q2192.43 171.375 2190.72 172.787 Q2189 174.199 2186.13 174.199 L2182.73 174.199 L2182.73 170.634 L2185.23 170.634 Q2186.99 170.634 2187.96 169.8 Q2188.93 168.967 2190.11 165.865 L2190.88 163.921 L2180.39 138.412 L2184.91 138.412 L2193.01 158.689 L2201.11 138.412 L2205.62 138.412 L2194.23 166.745 Z\\\" fill=\\\"#000000\\\" fill-rule=\\\"evenodd\\\" fill-opacity=\\\"1\\\" \\/><path clip-path=\\\"url(#clip730)\\\" d=\\\"M2212.91 160.402 L2220.55 160.402 L2220.55 134.037 L2212.24 135.703 L2212.24 131.444 L2220.51 129.778 L2225.18 129.778 L2225.18 160.402 L2232.82 160.402 L2232.82 164.338 L2212.91 164.338 L2212.91 160.402 Z\\\" fill=\\\"#000000\\\" fill-rule=\\\"evenodd\\\" fill-opacity=\\\"1\\\" \\/><polyline clip-path=\\\"url(#clip730)\\\" style=\\\"stroke:#0000ff; stroke-linecap:butt; stroke-linejoin:round; stroke-width:4; stroke-opacity:1; fill:none\\\" points=\\\"\\n  2012.48,198.898 2156.4,198.898 \\n  \\\"\\/>\\n<path clip-path=\\\"url(#clip730)\\\" d=\\\"M2194.23 218.585 Q2192.43 223.215 2190.72 224.627 Q2189 226.039 2186.13 226.039 L2182.73 226.039 L2182.73 222.474 L2185.23 222.474 Q2186.99 222.474 2187.96 221.64 Q2188.93 220.807 2190.11 217.705 L2190.88 215.761 L2180.39 190.252 L2184.91 190.252 L2193.01 210.529 L2201.11 190.252 L2205.62 190.252 L2194.23 218.585 Z\\\" fill=\\\"#000000\\\" fill-rule=\\\"evenodd\\\" fill-opacity=\\\"1\\\" \\/><path clip-path=\\\"url(#clip730)\\\" d=\\\"M2216.13 212.242 L2232.45 212.242 L2232.45 216.178 L2210.51 216.178 L2210.51 212.242 Q2213.17 209.488 2217.75 204.858 Q2222.36 200.205 2223.54 198.863 Q2225.78 196.34 2226.66 194.604 Q2227.57 192.844 2227.57 191.155 Q2227.57 188.4 2225.62 186.664 Q2223.7 184.928 2220.6 184.928 Q2218.4 184.928 2215.95 185.692 Q2213.52 186.455 2210.74 188.006 L2210.74 183.284 Q2213.56 182.15 2216.02 181.571 Q2218.47 180.993 2220.51 180.993 Q2225.88 180.993 2229.07 183.678 Q2232.27 186.363 2232.27 190.854 Q2232.27 192.983 2231.46 194.905 Q2230.67 196.803 2228.56 199.395 Q2227.98 200.067 2224.88 203.284 Q2221.78 206.479 2216.13 212.242 Z\\\" fill=\\\"#000000\\\" fill-rule=\\\"evenodd\\\" fill-opacity=\\\"1\\\" \\/><\\/svg>\\n\"},\"nodeType\":\"DOM\",\"type\":\"node\",\"instanceArgs\":{\"namespace\":\"html\",\"tag\":\"div\"},\"children\":[]}]}}}},\"children\":[{\"props\":{},\"nodeType\":\"ObservableNode\",\"type\":\"node\",\"instanceArgs\":{\"id\":\"6532419079190066099\",\"name\":\"obs-node\"},\"children\":[]}]}]},\n",
       "            window,\n",
       "        );\n",
       "    } else {\n",
       "        document\n",
       "            .querySelector('[data-webio-mountpoint=\"8482605900899777304\"]')\n",
       "            .innerHTML = (\n",
       "                '<div style=\"padding: 1em; background-color: #f8d6da; border: 1px solid #f5c6cb\">' +\n",
       "                '<p><strong>WebIO not detected.</strong></p>' +\n",
       "                '<p>Please read ' +\n",
       "                '<a href=\"https://juliagizmos.github.io/WebIO.jl/latest/troubleshooting/not-detected/\" target=\"_blank\">the troubleshooting guide</a> ' +\n",
       "                'for more information on how to resolve this issue.</p>' +\n",
       "                '<p><a href=\"https://juliagizmos.github.io/WebIO.jl/latest/troubleshooting/not-detected/\" target=\"_blank\">https://juliagizmos.github.io/WebIO.jl/latest/troubleshooting/not-detected/</a></p>' +\n",
       "                '</div>'\n",
       "            );\n",
       "    }\n",
       "    </script>\n",
       "</div>\n"
      ],
      "application/vnd.webio.node+json": {
       "children": [
        {
         "children": [
          {
           "children": [
            {
             "children": [
              {
               "children": [
                {
                 "children": [
                  "col1"
                 ],
                 "instanceArgs": {
                  "namespace": "html",
                  "tag": "label"
                 },
                 "nodeType": "DOM",
                 "props": {
                  "className": "interact ",
                  "style": {
                   "padding": "5px 10px 0px 10px"
                  }
                 },
                 "type": "node"
                }
               ],
               "instanceArgs": {
                "namespace": "html",
                "tag": "div"
               },
               "nodeType": "DOM",
               "props": {
                "className": "interact-flex-row-left"
               },
               "type": "node"
              },
              {
               "children": [
                {
                 "children": [],
                 "instanceArgs": {
                  "namespace": "html",
                  "tag": "input"
                 },
                 "nodeType": "DOM",
                 "props": {
                  "attributes": {
                   "data-bind": "value: value, valueUpdate: 'input', event: {change: function (){this.changes(this.changes()+1)}}",
                   "type": "color"
                  },
                  "className": "input ",
                  "style": {}
                 },
                 "type": "node"
                }
               ],
               "instanceArgs": {
                "namespace": "html",
                "tag": "div"
               },
               "nodeType": "DOM",
               "props": {
                "className": "interact-flex-row-center"
               },
               "type": "node"
              },
              {
               "children": [
                {
                 "children": [],
                 "instanceArgs": {
                  "namespace": "html",
                  "tag": "div"
                 },
                 "nodeType": "DOM",
                 "props": {},
                 "type": "node"
                }
               ],
               "instanceArgs": {
                "namespace": "html",
                "tag": "div"
               },
               "nodeType": "DOM",
               "props": {
                "className": "interact-flex-row-right"
               },
               "type": "node"
              }
             ],
             "instanceArgs": {
              "namespace": "html",
              "tag": "div"
             },
             "nodeType": "DOM",
             "props": {
              "className": "interact-flex-row interact-widget"
             },
             "type": "node"
            }
           ],
           "instanceArgs": {
            "handlers": {
             "changes": [
              "(function (val){return (val!=this.model[\"changes\"]()) ? (this.valueFromJulia[\"changes\"]=true, this.model[\"changes\"](val)) : undefined})"
             ],
             "value": [
              "(function (val){return (val!=this.model[\"value\"]()) ? (this.valueFromJulia[\"value\"]=true, this.model[\"value\"](val)) : undefined})"
             ]
            },
            "id": "1433358933207504830",
            "imports": {
             "data": [
              {
               "name": "knockout",
               "type": "js",
               "url": "/assetserver/a971a2341514bd80fe0615cc391a655a32fe3a5d-knockout.js"
              },
              {
               "name": "knockout_punches",
               "type": "js",
               "url": "/assetserver/24d8358b86ffdeb1fc1367523e76c20d57f7bee6-knockout_punches.js"
              },
              {
               "name": null,
               "type": "js",
               "url": "/assetserver/521bd29b39bbe42a32da7fa7906a2e64b03bfa08-all.js"
              },
              {
               "name": null,
               "type": "css",
               "url": "/assetserver/0628ccc6275582e4b8b780c2ab67ee394817147e-style.css"
              },
              {
               "name": null,
               "type": "css",
               "url": "/assetserver/c7c5318ae4ba6408e954dd8de450b611c4232f37-bulma_confined.min.css"
              }
             ],
             "type": "async_block"
            },
            "mount_callbacks": [
             "function () {\n    var handler = (function (ko, koPunches) {\n    ko.punches.enableAll();\n    ko.bindingHandlers.numericValue = {\n        init: function(element, valueAccessor, allBindings, data, context) {\n            var stringified = ko.observable(ko.unwrap(valueAccessor()));\n            stringified.subscribe(function(value) {\n                var val = parseFloat(value);\n                if (!isNaN(val)) {\n                    valueAccessor()(val);\n                }\n            });\n            valueAccessor().subscribe(function(value) {\n                var str = JSON.stringify(value);\n                if ((str == \"0\") && ([\"-0\", \"-0.\"].indexOf(stringified()) >= 0))\n                     return;\n                 if ([\"null\", \"\"].indexOf(str) >= 0)\n                     return;\n                stringified(str);\n            });\n            ko.applyBindingsToNode(\n                element,\n                {\n                    value: stringified,\n                    valueUpdate: allBindings.get('valueUpdate'),\n                },\n                context,\n            );\n        }\n    };\n    var json_data = {\"changes\":WebIO.getval({\"name\":\"changes\",\"scope\":\"1433358933207504830\",\"id\":\"6479387860679986387\",\"type\":\"observable\"}),\"value\":WebIO.getval({\"name\":\"value\",\"scope\":\"1433358933207504830\",\"id\":\"3253926104152774018\",\"type\":\"observable\"})};\n    var self = this;\n    function AppViewModel() {\n        for (var key in json_data) {\n            var el = json_data[key];\n            this[key] = Array.isArray(el) ? ko.observableArray(el) : ko.observable(el);\n        }\n        \n        \n        [this[\"changes\"].subscribe((function (val){!(this.valueFromJulia[\"changes\"]) ? (WebIO.setval({\"name\":\"changes\",\"scope\":\"1433358933207504830\",\"id\":\"6479387860679986387\",\"type\":\"observable\"},val)) : undefined; return this.valueFromJulia[\"changes\"]=false}),self),this[\"value\"].subscribe((function (val){!(this.valueFromJulia[\"value\"]) ? (WebIO.setval({\"name\":\"value\",\"scope\":\"1433358933207504830\",\"id\":\"3253926104152774018\",\"type\":\"observable\"},val)) : undefined; return this.valueFromJulia[\"value\"]=false}),self)]\n        \n    }\n    self.model = new AppViewModel();\n    self.valueFromJulia = {};\n    for (var key in json_data) {\n        self.valueFromJulia[key] = false;\n    }\n    ko.applyBindings(self.model, self.dom);\n}\n);\n    (WebIO.importBlock({\"data\":[{\"name\":\"knockout\",\"type\":\"js\",\"url\":\"/assetserver/a971a2341514bd80fe0615cc391a655a32fe3a5d-knockout.js\"},{\"name\":\"knockout_punches\",\"type\":\"js\",\"url\":\"/assetserver/24d8358b86ffdeb1fc1367523e76c20d57f7bee6-knockout_punches.js\"}],\"type\":\"async_block\"})).then((imports) => handler.apply(this, imports));\n}\n"
            ],
            "observables": {
             "changes": {
              "id": "6479387860679986387",
              "sync": false,
              "value": 0
             },
             "value": {
              "id": "3253926104152774018",
              "sync": true,
              "value": "#FF0000"
             }
            },
            "systemjs_options": null
           },
           "nodeType": "Scope",
           "props": {},
           "type": "node"
          }
         ],
         "instanceArgs": {
          "namespace": "html",
          "tag": "div"
         },
         "nodeType": "DOM",
         "props": {
          "className": "field interact-widget"
         },
         "type": "node"
        },
        {
         "children": [
          {
           "children": [
            {
             "children": [
              {
               "children": [
                {
                 "children": [
                  "col2"
                 ],
                 "instanceArgs": {
                  "namespace": "html",
                  "tag": "label"
                 },
                 "nodeType": "DOM",
                 "props": {
                  "className": "interact ",
                  "style": {
                   "padding": "5px 10px 0px 10px"
                  }
                 },
                 "type": "node"
                }
               ],
               "instanceArgs": {
                "namespace": "html",
                "tag": "div"
               },
               "nodeType": "DOM",
               "props": {
                "className": "interact-flex-row-left"
               },
               "type": "node"
              },
              {
               "children": [
                {
                 "children": [],
                 "instanceArgs": {
                  "namespace": "html",
                  "tag": "input"
                 },
                 "nodeType": "DOM",
                 "props": {
                  "attributes": {
                   "data-bind": "value: value, valueUpdate: 'input', event: {change: function (){this.changes(this.changes()+1)}}",
                   "type": "color"
                  },
                  "className": "input ",
                  "style": {}
                 },
                 "type": "node"
                }
               ],
               "instanceArgs": {
                "namespace": "html",
                "tag": "div"
               },
               "nodeType": "DOM",
               "props": {
                "className": "interact-flex-row-center"
               },
               "type": "node"
              },
              {
               "children": [
                {
                 "children": [],
                 "instanceArgs": {
                  "namespace": "html",
                  "tag": "div"
                 },
                 "nodeType": "DOM",
                 "props": {},
                 "type": "node"
                }
               ],
               "instanceArgs": {
                "namespace": "html",
                "tag": "div"
               },
               "nodeType": "DOM",
               "props": {
                "className": "interact-flex-row-right"
               },
               "type": "node"
              }
             ],
             "instanceArgs": {
              "namespace": "html",
              "tag": "div"
             },
             "nodeType": "DOM",
             "props": {
              "className": "interact-flex-row interact-widget"
             },
             "type": "node"
            }
           ],
           "instanceArgs": {
            "handlers": {
             "changes": [
              "(function (val){return (val!=this.model[\"changes\"]()) ? (this.valueFromJulia[\"changes\"]=true, this.model[\"changes\"](val)) : undefined})"
             ],
             "value": [
              "(function (val){return (val!=this.model[\"value\"]()) ? (this.valueFromJulia[\"value\"]=true, this.model[\"value\"](val)) : undefined})"
             ]
            },
            "id": "6791664282653836230",
            "imports": {
             "data": [
              {
               "name": "knockout",
               "type": "js",
               "url": "/assetserver/a971a2341514bd80fe0615cc391a655a32fe3a5d-knockout.js"
              },
              {
               "name": "knockout_punches",
               "type": "js",
               "url": "/assetserver/24d8358b86ffdeb1fc1367523e76c20d57f7bee6-knockout_punches.js"
              },
              {
               "name": null,
               "type": "js",
               "url": "/assetserver/521bd29b39bbe42a32da7fa7906a2e64b03bfa08-all.js"
              },
              {
               "name": null,
               "type": "css",
               "url": "/assetserver/0628ccc6275582e4b8b780c2ab67ee394817147e-style.css"
              },
              {
               "name": null,
               "type": "css",
               "url": "/assetserver/c7c5318ae4ba6408e954dd8de450b611c4232f37-bulma_confined.min.css"
              }
             ],
             "type": "async_block"
            },
            "mount_callbacks": [
             "function () {\n    var handler = (function (ko, koPunches) {\n    ko.punches.enableAll();\n    ko.bindingHandlers.numericValue = {\n        init: function(element, valueAccessor, allBindings, data, context) {\n            var stringified = ko.observable(ko.unwrap(valueAccessor()));\n            stringified.subscribe(function(value) {\n                var val = parseFloat(value);\n                if (!isNaN(val)) {\n                    valueAccessor()(val);\n                }\n            });\n            valueAccessor().subscribe(function(value) {\n                var str = JSON.stringify(value);\n                if ((str == \"0\") && ([\"-0\", \"-0.\"].indexOf(stringified()) >= 0))\n                     return;\n                 if ([\"null\", \"\"].indexOf(str) >= 0)\n                     return;\n                stringified(str);\n            });\n            ko.applyBindingsToNode(\n                element,\n                {\n                    value: stringified,\n                    valueUpdate: allBindings.get('valueUpdate'),\n                },\n                context,\n            );\n        }\n    };\n    var json_data = {\"changes\":WebIO.getval({\"name\":\"changes\",\"scope\":\"6791664282653836230\",\"id\":\"7965540839585992748\",\"type\":\"observable\"}),\"value\":WebIO.getval({\"name\":\"value\",\"scope\":\"6791664282653836230\",\"id\":\"1452976615178335761\",\"type\":\"observable\"})};\n    var self = this;\n    function AppViewModel() {\n        for (var key in json_data) {\n            var el = json_data[key];\n            this[key] = Array.isArray(el) ? ko.observableArray(el) : ko.observable(el);\n        }\n        \n        \n        [this[\"changes\"].subscribe((function (val){!(this.valueFromJulia[\"changes\"]) ? (WebIO.setval({\"name\":\"changes\",\"scope\":\"6791664282653836230\",\"id\":\"7965540839585992748\",\"type\":\"observable\"},val)) : undefined; return this.valueFromJulia[\"changes\"]=false}),self),this[\"value\"].subscribe((function (val){!(this.valueFromJulia[\"value\"]) ? (WebIO.setval({\"name\":\"value\",\"scope\":\"6791664282653836230\",\"id\":\"1452976615178335761\",\"type\":\"observable\"},val)) : undefined; return this.valueFromJulia[\"value\"]=false}),self)]\n        \n    }\n    self.model = new AppViewModel();\n    self.valueFromJulia = {};\n    for (var key in json_data) {\n        self.valueFromJulia[key] = false;\n    }\n    ko.applyBindings(self.model, self.dom);\n}\n);\n    (WebIO.importBlock({\"data\":[{\"name\":\"knockout\",\"type\":\"js\",\"url\":\"/assetserver/a971a2341514bd80fe0615cc391a655a32fe3a5d-knockout.js\"},{\"name\":\"knockout_punches\",\"type\":\"js\",\"url\":\"/assetserver/24d8358b86ffdeb1fc1367523e76c20d57f7bee6-knockout_punches.js\"}],\"type\":\"async_block\"})).then((imports) => handler.apply(this, imports));\n}\n"
            ],
            "observables": {
             "changes": {
              "id": "7965540839585992748",
              "sync": false,
              "value": 0
             },
             "value": {
              "id": "1452976615178335761",
              "sync": true,
              "value": "#0000FF"
             }
            },
            "systemjs_options": null
           },
           "nodeType": "Scope",
           "props": {},
           "type": "node"
          }
         ],
         "instanceArgs": {
          "namespace": "html",
          "tag": "div"
         },
         "nodeType": "DOM",
         "props": {
          "className": "field interact-widget"
         },
         "type": "node"
        },
        {
         "children": [
          {
           "children": [
            {
             "children": [
              {
               "children": [
                {
                 "children": [
                  "lw"
                 ],
                 "instanceArgs": {
                  "namespace": "html",
                  "tag": "label"
                 },
                 "nodeType": "DOM",
                 "props": {
                  "className": "interact ",
                  "style": {
                   "padding": "5px 10px 0px 10px"
                  }
                 },
                 "type": "node"
                }
               ],
               "instanceArgs": {
                "namespace": "html",
                "tag": "div"
               },
               "nodeType": "DOM",
               "props": {
                "className": "interact-flex-row-left"
               },
               "type": "node"
              },
              {
               "children": [
                {
                 "children": [],
                 "instanceArgs": {
                  "namespace": "html",
                  "tag": "input"
                 },
                 "nodeType": "DOM",
                 "props": {
                  "attributes": {
                   "data-bind": "numericValue: index, valueUpdate: 'input', event: {change: function (){this.changes(this.changes()+1)}}",
                   "orient": "horizontal",
                   "type": "range"
                  },
                  "className": "slider slider is-fullwidth",
                  "max": 91,
                  "min": 1,
                  "step": 1,
                  "style": {}
                 },
                 "type": "node"
                }
               ],
               "instanceArgs": {
                "namespace": "html",
                "tag": "div"
               },
               "nodeType": "DOM",
               "props": {
                "className": "interact-flex-row-center"
               },
               "type": "node"
              },
              {
               "children": [
                {
                 "children": [],
                 "instanceArgs": {
                  "namespace": "html",
                  "tag": "p"
                 },
                 "nodeType": "DOM",
                 "props": {
                  "attributes": {
                   "data-bind": "text: formatted_val"
                  }
                 },
                 "type": "node"
                }
               ],
               "instanceArgs": {
                "namespace": "html",
                "tag": "div"
               },
               "nodeType": "DOM",
               "props": {
                "className": "interact-flex-row-right"
               },
               "type": "node"
              }
             ],
             "instanceArgs": {
              "namespace": "html",
              "tag": "div"
             },
             "nodeType": "DOM",
             "props": {
              "className": "interact-flex-row interact-widget"
             },
             "type": "node"
            }
           ],
           "instanceArgs": {
            "handlers": {
             "changes": [
              "(function (val){return (val!=this.model[\"changes\"]()) ? (this.valueFromJulia[\"changes\"]=true, this.model[\"changes\"](val)) : undefined})"
             ],
             "index": [
              "(function (val){return (val!=this.model[\"index\"]()) ? (this.valueFromJulia[\"index\"]=true, this.model[\"index\"](val)) : undefined})"
             ]
            },
            "id": "18362325100363864123",
            "imports": {
             "data": [
              {
               "name": "knockout",
               "type": "js",
               "url": "/assetserver/a971a2341514bd80fe0615cc391a655a32fe3a5d-knockout.js"
              },
              {
               "name": "knockout_punches",
               "type": "js",
               "url": "/assetserver/24d8358b86ffdeb1fc1367523e76c20d57f7bee6-knockout_punches.js"
              },
              {
               "name": null,
               "type": "js",
               "url": "/assetserver/521bd29b39bbe42a32da7fa7906a2e64b03bfa08-all.js"
              },
              {
               "name": null,
               "type": "css",
               "url": "/assetserver/0628ccc6275582e4b8b780c2ab67ee394817147e-style.css"
              },
              {
               "name": null,
               "type": "css",
               "url": "/assetserver/c7c5318ae4ba6408e954dd8de450b611c4232f37-bulma_confined.min.css"
              }
             ],
             "type": "async_block"
            },
            "mount_callbacks": [
             "function () {\n    var handler = (function (ko, koPunches) {\n    ko.punches.enableAll();\n    ko.bindingHandlers.numericValue = {\n        init: function(element, valueAccessor, allBindings, data, context) {\n            var stringified = ko.observable(ko.unwrap(valueAccessor()));\n            stringified.subscribe(function(value) {\n                var val = parseFloat(value);\n                if (!isNaN(val)) {\n                    valueAccessor()(val);\n                }\n            });\n            valueAccessor().subscribe(function(value) {\n                var str = JSON.stringify(value);\n                if ((str == \"0\") && ([\"-0\", \"-0.\"].indexOf(stringified()) >= 0))\n                     return;\n                 if ([\"null\", \"\"].indexOf(str) >= 0)\n                     return;\n                stringified(str);\n            });\n            ko.applyBindingsToNode(\n                element,\n                {\n                    value: stringified,\n                    valueUpdate: allBindings.get('valueUpdate'),\n                },\n                context,\n            );\n        }\n    };\n    var json_data = {\"formatted_vals\":[\"1.0\",\"1.1\",\"1.2\",\"1.3\",\"1.4\",\"1.5\",\"1.6\",\"1.7\",\"1.8\",\"1.9\",\"2.0\",\"2.1\",\"2.2\",\"2.3\",\"2.4\",\"2.5\",\"2.6\",\"2.7\",\"2.8\",\"2.9\",\"3.0\",\"3.1\",\"3.2\",\"3.3\",\"3.4\",\"3.5\",\"3.6\",\"3.7\",\"3.8\",\"3.9\",\"4.0\",\"4.1\",\"4.2\",\"4.3\",\"4.4\",\"4.5\",\"4.6\",\"4.7\",\"4.8\",\"4.9\",\"5.0\",\"5.1\",\"5.2\",\"5.3\",\"5.4\",\"5.5\",\"5.6\",\"5.7\",\"5.8\",\"5.9\",\"6.0\",\"6.1\",\"6.2\",\"6.3\",\"6.4\",\"6.5\",\"6.6\",\"6.7\",\"6.8\",\"6.9\",\"7.0\",\"7.1\",\"7.2\",\"7.3\",\"7.4\",\"7.5\",\"7.6\",\"7.7\",\"7.8\",\"7.9\",\"8.0\",\"8.1\",\"8.2\",\"8.3\",\"8.4\",\"8.5\",\"8.6\",\"8.7\",\"8.8\",\"8.9\",\"9.0\",\"9.1\",\"9.2\",\"9.3\",\"9.4\",\"9.5\",\"9.6\",\"9.7\",\"9.8\",\"9.9\",\"10.0\"],\"changes\":WebIO.getval({\"name\":\"changes\",\"scope\":\"18362325100363864123\",\"id\":\"3234660781283123323\",\"type\":\"observable\"}),\"index\":WebIO.getval({\"name\":\"index\",\"scope\":\"18362325100363864123\",\"id\":\"4490356350674162538\",\"type\":\"observable\"})};\n    var self = this;\n    function AppViewModel() {\n        for (var key in json_data) {\n            var el = json_data[key];\n            this[key] = Array.isArray(el) ? ko.observableArray(el) : ko.observable(el);\n        }\n        \n        [this[\"formatted_val\"]=ko.computed(    function(){\n        return this.formatted_vals()[parseInt(this.index())-(1)];\n    }\n,this)]\n        [this[\"changes\"].subscribe((function (val){!(this.valueFromJulia[\"changes\"]) ? (WebIO.setval({\"name\":\"changes\",\"scope\":\"18362325100363864123\",\"id\":\"3234660781283123323\",\"type\":\"observable\"},val)) : undefined; return this.valueFromJulia[\"changes\"]=false}),self),this[\"index\"].subscribe((function (val){!(this.valueFromJulia[\"index\"]) ? (WebIO.setval({\"name\":\"index\",\"scope\":\"18362325100363864123\",\"id\":\"4490356350674162538\",\"type\":\"observable\"},val)) : undefined; return this.valueFromJulia[\"index\"]=false}),self)]\n        \n    }\n    self.model = new AppViewModel();\n    self.valueFromJulia = {};\n    for (var key in json_data) {\n        self.valueFromJulia[key] = false;\n    }\n    ko.applyBindings(self.model, self.dom);\n}\n);\n    (WebIO.importBlock({\"data\":[{\"name\":\"knockout\",\"type\":\"js\",\"url\":\"/assetserver/a971a2341514bd80fe0615cc391a655a32fe3a5d-knockout.js\"},{\"name\":\"knockout_punches\",\"type\":\"js\",\"url\":\"/assetserver/24d8358b86ffdeb1fc1367523e76c20d57f7bee6-knockout_punches.js\"}],\"type\":\"async_block\"})).then((imports) => handler.apply(this, imports));\n}\n"
            ],
            "observables": {
             "changes": {
              "id": "3234660781283123323",
              "sync": false,
              "value": 0
             },
             "index": {
              "id": "4490356350674162538",
              "sync": true,
              "value": 46
             }
            },
            "systemjs_options": null
           },
           "nodeType": "Scope",
           "props": {},
           "type": "node"
          }
         ],
         "instanceArgs": {
          "namespace": "html",
          "tag": "div"
         },
         "nodeType": "DOM",
         "props": {
          "className": "field interact-widget"
         },
         "type": "node"
        },
        {
         "children": [
          {
           "children": [
            "t"
           ],
           "instanceArgs": {
            "namespace": "html",
            "tag": "div"
           },
           "nodeType": "DOM",
           "props": {
            "className": "interact-flex-row-left"
           },
           "type": "node"
          },
          {
           "children": [
            {
             "children": [
              {
               "children": [],
               "instanceArgs": {
                "namespace": "html",
                "tag": "div"
               },
               "nodeType": "DOM",
               "props": {
                "className": "webio-observable",
                "setInnerHtml": "<pre>1.629446840576342e9</pre>"
               },
               "type": "node"
              }
             ],
             "instanceArgs": {
              "handlers": {
               "obs-output": [
                "function (value, scope) {\n    scope.setInnerHTML(value);\n}\n"
               ]
              },
              "id": "2452421136313416551",
              "imports": {
               "data": [],
               "type": "async_block"
              },
              "mount_callbacks": [],
              "observables": {
               "obs-output": {
                "id": "3962838550221256852",
                "sync": false,
                "value": "<pre>1.629446840576342e9</pre>"
               }
              },
              "systemjs_options": null
             },
             "nodeType": "Scope",
             "props": {},
             "type": "node"
            }
           ],
           "instanceArgs": {
            "namespace": "html",
            "tag": "div"
           },
           "nodeType": "DOM",
           "props": {
            "className": "interact-flex-row-center"
           },
           "type": "node"
          },
          {
           "children": [
            {
             "children": [],
             "instanceArgs": {
              "namespace": "html",
              "tag": "div"
             },
             "nodeType": "DOM",
             "props": {},
             "type": "node"
            }
           ],
           "instanceArgs": {
            "namespace": "html",
            "tag": "div"
           },
           "nodeType": "DOM",
           "props": {
            "className": "interact-flex-row-right"
           },
           "type": "node"
          }
         ],
         "instanceArgs": {
          "namespace": "html",
          "tag": "div"
         },
         "nodeType": "DOM",
         "props": {
          "className": "interact-flex-row interact-widget"
         },
         "type": "node"
        },
        {
         "children": [
          {
           "children": [],
           "instanceArgs": {
            "id": "10610094367698380142",
            "name": "obs-node"
           },
           "nodeType": "ObservableNode",
           "props": {},
           "type": "node"
          }
         ],
         "instanceArgs": {
          "handlers": {},
          "id": "6512150325317819977",
          "imports": {
           "data": [],
           "type": "async_block"
          },
          "mount_callbacks": [],
          "observables": {
           "obs-node": {
            "id": "10610094367698380142",
            "sync": false,
            "value": {
             "children": [
              {
               "children": [],
               "instanceArgs": {
                "namespace": "html",
                "tag": "div"
               },
               "nodeType": "DOM",
               "props": {
                "setInnerHtml": "<?xml version=\"1.0\" encoding=\"utf-8\"?>\n<svg xmlns=\"http://www.w3.org/2000/svg\" xmlns:xlink=\"http://www.w3.org/1999/xlink\" width=\"600\" height=\"400\" viewBox=\"0 0 2400 1600\">\n<defs>\n  <clipPath id=\"clip770\">\n    <rect x=\"0\" y=\"0\" width=\"2400\" height=\"1600\"/>\n  </clipPath>\n</defs>\n<path clip-path=\"url(#clip770)\" d=\"\nM0 1600 L2400 1600 L2400 0 L0 0  Z\n  \" fill=\"#ffffff\" fill-rule=\"evenodd\" fill-opacity=\"1\"/>\n<defs>\n  <clipPath id=\"clip771\">\n    <rect x=\"480\" y=\"0\" width=\"1681\" height=\"1600\"/>\n  </clipPath>\n</defs>\n<path clip-path=\"url(#clip770)\" d=\"\nM193.936 1486.45 L2352.76 1486.45 L2352.76 47.2441 L193.936 47.2441  Z\n  \" fill=\"#ffffff\" fill-rule=\"evenodd\" fill-opacity=\"1\"/>\n<defs>\n  <clipPath id=\"clip772\">\n    <rect x=\"193\" y=\"47\" width=\"2160\" height=\"1440\"/>\n  </clipPath>\n</defs>\n<polyline clip-path=\"url(#clip772)\" style=\"stroke:#000000; stroke-linecap:butt; stroke-linejoin:round; stroke-width:2; stroke-opacity:0.1; fill:none\" points=\"\n  301.546,1486.45 301.546,47.2441 \n  \"/>\n<polyline clip-path=\"url(#clip772)\" style=\"stroke:#000000; stroke-linecap:butt; stroke-linejoin:round; stroke-width:2; stroke-opacity:0.1; fill:none\" points=\"\n  630.034,1486.45 630.034,47.2441 \n  \"/>\n<polyline clip-path=\"url(#clip772)\" style=\"stroke:#000000; stroke-linecap:butt; stroke-linejoin:round; stroke-width:2; stroke-opacity:0.1; fill:none\" points=\"\n  958.521,1486.45 958.521,47.2441 \n  \"/>\n<polyline clip-path=\"url(#clip772)\" style=\"stroke:#000000; stroke-linecap:butt; stroke-linejoin:round; stroke-width:2; stroke-opacity:0.1; fill:none\" points=\"\n  1287.01,1486.45 1287.01,47.2441 \n  \"/>\n<polyline clip-path=\"url(#clip772)\" style=\"stroke:#000000; stroke-linecap:butt; stroke-linejoin:round; stroke-width:2; stroke-opacity:0.1; fill:none\" points=\"\n  1615.5,1486.45 1615.5,47.2441 \n  \"/>\n<polyline clip-path=\"url(#clip772)\" style=\"stroke:#000000; stroke-linecap:butt; stroke-linejoin:round; stroke-width:2; stroke-opacity:0.1; fill:none\" points=\"\n  1943.98,1486.45 1943.98,47.2441 \n  \"/>\n<polyline clip-path=\"url(#clip772)\" style=\"stroke:#000000; stroke-linecap:butt; stroke-linejoin:round; stroke-width:2; stroke-opacity:0.1; fill:none\" points=\"\n  2272.47,1486.45 2272.47,47.2441 \n  \"/>\n<polyline clip-path=\"url(#clip770)\" style=\"stroke:#000000; stroke-linecap:butt; stroke-linejoin:round; stroke-width:4; stroke-opacity:1; fill:none\" points=\"\n  193.936,1486.45 2352.76,1486.45 \n  \"/>\n<polyline clip-path=\"url(#clip770)\" style=\"stroke:#000000; stroke-linecap:butt; stroke-linejoin:round; stroke-width:4; stroke-opacity:1; fill:none\" points=\"\n  301.546,1486.45 301.546,1467.55 \n  \"/>\n<polyline clip-path=\"url(#clip770)\" style=\"stroke:#000000; stroke-linecap:butt; stroke-linejoin:round; stroke-width:4; stroke-opacity:1; fill:none\" points=\"\n  630.034,1486.45 630.034,1467.55 \n  \"/>\n<polyline clip-path=\"url(#clip770)\" style=\"stroke:#000000; stroke-linecap:butt; stroke-linejoin:round; stroke-width:4; stroke-opacity:1; fill:none\" points=\"\n  958.521,1486.45 958.521,1467.55 \n  \"/>\n<polyline clip-path=\"url(#clip770)\" style=\"stroke:#000000; stroke-linecap:butt; stroke-linejoin:round; stroke-width:4; stroke-opacity:1; fill:none\" points=\"\n  1287.01,1486.45 1287.01,1467.55 \n  \"/>\n<polyline clip-path=\"url(#clip770)\" style=\"stroke:#000000; stroke-linecap:butt; stroke-linejoin:round; stroke-width:4; stroke-opacity:1; fill:none\" points=\"\n  1615.5,1486.45 1615.5,1467.55 \n  \"/>\n<polyline clip-path=\"url(#clip770)\" style=\"stroke:#000000; stroke-linecap:butt; stroke-linejoin:round; stroke-width:4; stroke-opacity:1; fill:none\" points=\"\n  1943.98,1486.45 1943.98,1467.55 \n  \"/>\n<polyline clip-path=\"url(#clip770)\" style=\"stroke:#000000; stroke-linecap:butt; stroke-linejoin:round; stroke-width:4; stroke-opacity:1; fill:none\" points=\"\n  2272.47,1486.45 2272.47,1467.55 \n  \"/>\n<path clip-path=\"url(#clip770)\" d=\"M271.014 1530.29 L300.69 1530.29 L300.69 1534.23 L271.014 1534.23 L271.014 1530.29 Z\" fill=\"#000000\" fill-rule=\"evenodd\" fill-opacity=\"1\" /><path clip-path=\"url(#clip770)\" d=\"M324.949 1528.49 Q328.305 1529.2 330.18 1531.47 Q332.078 1533.74 332.078 1537.07 Q332.078 1542.19 328.56 1544.99 Q325.041 1547.79 318.56 1547.79 Q316.384 1547.79 314.069 1547.35 Q311.778 1546.93 309.324 1546.08 L309.324 1541.56 Q311.268 1542.7 313.583 1543.28 Q315.898 1543.86 318.421 1543.86 Q322.819 1543.86 325.111 1542.12 Q327.426 1540.38 327.426 1537.07 Q327.426 1534.02 325.273 1532.31 Q323.143 1530.57 319.324 1530.57 L315.296 1530.57 L315.296 1526.73 L319.509 1526.73 Q322.958 1526.73 324.787 1525.36 Q326.615 1523.97 326.615 1521.38 Q326.615 1518.72 324.717 1517.31 Q322.842 1515.87 319.324 1515.87 Q317.402 1515.87 315.203 1516.29 Q313.004 1516.7 310.365 1517.58 L310.365 1513.42 Q313.028 1512.68 315.342 1512.31 Q317.68 1511.93 319.74 1511.93 Q325.064 1511.93 328.166 1514.37 Q331.268 1516.77 331.268 1520.89 Q331.268 1523.76 329.625 1525.75 Q327.981 1527.72 324.949 1528.49 Z\" fill=\"#000000\" fill-rule=\"evenodd\" fill-opacity=\"1\" /><path clip-path=\"url(#clip770)\" d=\"M599.976 1530.29 L629.652 1530.29 L629.652 1534.23 L599.976 1534.23 L599.976 1530.29 Z\" fill=\"#000000\" fill-rule=\"evenodd\" fill-opacity=\"1\" /><path clip-path=\"url(#clip770)\" d=\"M643.772 1543.18 L660.091 1543.18 L660.091 1547.12 L638.147 1547.12 L638.147 1543.18 Q640.809 1540.43 645.392 1535.8 Q649.999 1531.15 651.179 1529.81 Q653.425 1527.28 654.304 1525.55 Q655.207 1523.79 655.207 1522.1 Q655.207 1519.34 653.263 1517.61 Q651.341 1515.87 648.24 1515.87 Q646.04 1515.87 643.587 1516.63 Q641.156 1517.4 638.378 1518.95 L638.378 1514.23 Q641.203 1513.09 643.656 1512.51 Q646.11 1511.93 648.147 1511.93 Q653.517 1511.93 656.712 1514.62 Q659.906 1517.31 659.906 1521.8 Q659.906 1523.93 659.096 1525.85 Q658.309 1527.74 656.202 1530.34 Q655.624 1531.01 652.522 1534.23 Q649.42 1537.42 643.772 1543.18 Z\" fill=\"#000000\" fill-rule=\"evenodd\" fill-opacity=\"1\" /><path clip-path=\"url(#clip770)\" d=\"M928.278 1530.29 L957.954 1530.29 L957.954 1534.23 L928.278 1534.23 L928.278 1530.29 Z\" fill=\"#000000\" fill-rule=\"evenodd\" fill-opacity=\"1\" /><path clip-path=\"url(#clip770)\" d=\"M968.857 1543.18 L976.496 1543.18 L976.496 1516.82 L968.185 1518.49 L968.185 1514.23 L976.449 1512.56 L981.125 1512.56 L981.125 1543.18 L988.764 1543.18 L988.764 1547.12 L968.857 1547.12 L968.857 1543.18 Z\" fill=\"#000000\" fill-rule=\"evenodd\" fill-opacity=\"1\" /><path clip-path=\"url(#clip770)\" d=\"M1287.01 1515.64 Q1283.4 1515.64 1281.57 1519.2 Q1279.76 1522.75 1279.76 1529.87 Q1279.76 1536.98 1281.57 1540.55 Q1283.4 1544.09 1287.01 1544.09 Q1290.64 1544.09 1292.45 1540.55 Q1294.28 1536.98 1294.28 1529.87 Q1294.28 1522.75 1292.45 1519.2 Q1290.64 1515.64 1287.01 1515.64 M1287.01 1511.93 Q1292.82 1511.93 1295.87 1516.54 Q1298.95 1521.12 1298.95 1529.87 Q1298.95 1538.6 1295.87 1543.21 Q1292.82 1547.79 1287.01 1547.79 Q1281.2 1547.79 1278.12 1543.21 Q1275.06 1538.6 1275.06 1529.87 Q1275.06 1521.12 1278.12 1516.54 Q1281.2 1511.93 1287.01 1511.93 Z\" fill=\"#000000\" fill-rule=\"evenodd\" fill-opacity=\"1\" /><path clip-path=\"url(#clip770)\" d=\"M1605.88 1543.18 L1613.52 1543.18 L1613.52 1516.82 L1605.21 1518.49 L1605.21 1514.23 L1613.47 1512.56 L1618.15 1512.56 L1618.15 1543.18 L1625.79 1543.18 L1625.79 1547.12 L1605.88 1547.12 L1605.88 1543.18 Z\" fill=\"#000000\" fill-rule=\"evenodd\" fill-opacity=\"1\" /><path clip-path=\"url(#clip770)\" d=\"M1938.64 1543.18 L1954.96 1543.18 L1954.96 1547.12 L1933.01 1547.12 L1933.01 1543.18 Q1935.67 1540.43 1940.26 1535.8 Q1944.86 1531.15 1946.04 1529.81 Q1948.29 1527.28 1949.17 1525.55 Q1950.07 1523.79 1950.07 1522.1 Q1950.07 1519.34 1948.13 1517.61 Q1946.21 1515.87 1943.1 1515.87 Q1940.9 1515.87 1938.45 1516.63 Q1936.02 1517.4 1933.24 1518.95 L1933.24 1514.23 Q1936.07 1513.09 1938.52 1512.51 Q1940.97 1511.93 1943.01 1511.93 Q1948.38 1511.93 1951.58 1514.62 Q1954.77 1517.31 1954.77 1521.8 Q1954.77 1523.93 1953.96 1525.85 Q1953.17 1527.74 1951.07 1530.34 Q1950.49 1531.01 1947.39 1534.23 Q1944.28 1537.42 1938.64 1543.18 Z\" fill=\"#000000\" fill-rule=\"evenodd\" fill-opacity=\"1\" /><path clip-path=\"url(#clip770)\" d=\"M2276.72 1528.49 Q2280.08 1529.2 2281.95 1531.47 Q2283.85 1533.74 2283.85 1537.07 Q2283.85 1542.19 2280.33 1544.99 Q2276.81 1547.79 2270.33 1547.79 Q2268.15 1547.79 2265.84 1547.35 Q2263.55 1546.93 2261.09 1546.08 L2261.09 1541.56 Q2263.04 1542.7 2265.35 1543.28 Q2267.67 1543.86 2270.19 1543.86 Q2274.59 1543.86 2276.88 1542.12 Q2279.2 1540.38 2279.2 1537.07 Q2279.2 1534.02 2277.04 1532.31 Q2274.91 1530.57 2271.09 1530.57 L2267.07 1530.57 L2267.07 1526.73 L2271.28 1526.73 Q2274.73 1526.73 2276.56 1525.36 Q2278.39 1523.97 2278.39 1521.38 Q2278.39 1518.72 2276.49 1517.31 Q2274.61 1515.87 2271.09 1515.87 Q2269.17 1515.87 2266.97 1516.29 Q2264.77 1516.7 2262.14 1517.58 L2262.14 1513.42 Q2264.8 1512.68 2267.11 1512.31 Q2269.45 1511.93 2271.51 1511.93 Q2276.83 1511.93 2279.94 1514.37 Q2283.04 1516.77 2283.04 1520.89 Q2283.04 1523.76 2281.39 1525.75 Q2279.75 1527.72 2276.72 1528.49 Z\" fill=\"#000000\" fill-rule=\"evenodd\" fill-opacity=\"1\" /><polyline clip-path=\"url(#clip772)\" style=\"stroke:#000000; stroke-linecap:butt; stroke-linejoin:round; stroke-width:2; stroke-opacity:0.1; fill:none\" points=\"\n  193.936,1445.72 2352.76,1445.72 \n  \"/>\n<polyline clip-path=\"url(#clip772)\" style=\"stroke:#000000; stroke-linecap:butt; stroke-linejoin:round; stroke-width:2; stroke-opacity:0.1; fill:none\" points=\"\n  193.936,1106.27 2352.76,1106.27 \n  \"/>\n<polyline clip-path=\"url(#clip772)\" style=\"stroke:#000000; stroke-linecap:butt; stroke-linejoin:round; stroke-width:2; stroke-opacity:0.1; fill:none\" points=\"\n  193.936,766.82 2352.76,766.82 \n  \"/>\n<polyline clip-path=\"url(#clip772)\" style=\"stroke:#000000; stroke-linecap:butt; stroke-linejoin:round; stroke-width:2; stroke-opacity:0.1; fill:none\" points=\"\n  193.936,427.372 2352.76,427.372 \n  \"/>\n<polyline clip-path=\"url(#clip772)\" style=\"stroke:#000000; stroke-linecap:butt; stroke-linejoin:round; stroke-width:2; stroke-opacity:0.1; fill:none\" points=\"\n  193.936,87.9242 2352.76,87.9242 \n  \"/>\n<polyline clip-path=\"url(#clip770)\" style=\"stroke:#000000; stroke-linecap:butt; stroke-linejoin:round; stroke-width:4; stroke-opacity:1; fill:none\" points=\"\n  193.936,1486.45 193.936,47.2441 \n  \"/>\n<polyline clip-path=\"url(#clip770)\" style=\"stroke:#000000; stroke-linecap:butt; stroke-linejoin:round; stroke-width:4; stroke-opacity:1; fill:none\" points=\"\n  193.936,1445.72 212.834,1445.72 \n  \"/>\n<polyline clip-path=\"url(#clip770)\" style=\"stroke:#000000; stroke-linecap:butt; stroke-linejoin:round; stroke-width:4; stroke-opacity:1; fill:none\" points=\"\n  193.936,1106.27 212.834,1106.27 \n  \"/>\n<polyline clip-path=\"url(#clip770)\" style=\"stroke:#000000; stroke-linecap:butt; stroke-linejoin:round; stroke-width:4; stroke-opacity:1; fill:none\" points=\"\n  193.936,766.82 212.834,766.82 \n  \"/>\n<polyline clip-path=\"url(#clip770)\" style=\"stroke:#000000; stroke-linecap:butt; stroke-linejoin:round; stroke-width:4; stroke-opacity:1; fill:none\" points=\"\n  193.936,427.372 212.834,427.372 \n  \"/>\n<polyline clip-path=\"url(#clip770)\" style=\"stroke:#000000; stroke-linecap:butt; stroke-linejoin:round; stroke-width:4; stroke-opacity:1; fill:none\" points=\"\n  193.936,87.9242 212.834,87.9242 \n  \"/>\n<path clip-path=\"url(#clip770)\" d=\"M50.9921 1446.17 L80.6679 1446.17 L80.6679 1450.1 L50.9921 1450.1 L50.9921 1446.17 Z\" fill=\"#000000\" fill-rule=\"evenodd\" fill-opacity=\"1\" /><path clip-path=\"url(#clip770)\" d=\"M91.5706 1459.06 L99.2095 1459.06 L99.2095 1432.69 L90.8993 1434.36 L90.8993 1430.1 L99.1632 1428.44 L103.839 1428.44 L103.839 1459.06 L111.478 1459.06 L111.478 1463 L91.5706 1463 L91.5706 1459.06 Z\" fill=\"#000000\" fill-rule=\"evenodd\" fill-opacity=\"1\" /><path clip-path=\"url(#clip770)\" d=\"M120.922 1457.12 L125.807 1457.12 L125.807 1463 L120.922 1463 L120.922 1457.12 Z\" fill=\"#000000\" fill-rule=\"evenodd\" fill-opacity=\"1\" /><path clip-path=\"url(#clip770)\" d=\"M145.992 1431.51 Q142.381 1431.51 140.552 1435.08 Q138.746 1438.62 138.746 1445.75 Q138.746 1452.86 140.552 1456.42 Q142.381 1459.96 145.992 1459.96 Q149.626 1459.96 151.431 1456.42 Q153.26 1452.86 153.26 1445.75 Q153.26 1438.62 151.431 1435.08 Q149.626 1431.51 145.992 1431.51 M145.992 1427.81 Q151.802 1427.81 154.857 1432.42 Q157.936 1437 157.936 1445.75 Q157.936 1454.48 154.857 1459.08 Q151.802 1463.67 145.992 1463.67 Q140.181 1463.67 137.103 1459.08 Q134.047 1454.48 134.047 1445.75 Q134.047 1437 137.103 1432.42 Q140.181 1427.81 145.992 1427.81 Z\" fill=\"#000000\" fill-rule=\"evenodd\" fill-opacity=\"1\" /><path clip-path=\"url(#clip770)\" d=\"M51.9875 1106.72 L81.6633 1106.72 L81.6633 1110.65 L51.9875 1110.65 L51.9875 1106.72 Z\" fill=\"#000000\" fill-rule=\"evenodd\" fill-opacity=\"1\" /><path clip-path=\"url(#clip770)\" d=\"M101.756 1092.07 Q98.1447 1092.07 96.316 1095.63 Q94.5104 1099.17 94.5104 1106.3 Q94.5104 1113.41 96.316 1116.97 Q98.1447 1120.52 101.756 1120.52 Q105.39 1120.52 107.196 1116.97 Q109.024 1113.41 109.024 1106.3 Q109.024 1099.17 107.196 1095.63 Q105.39 1092.07 101.756 1092.07 M101.756 1088.36 Q107.566 1088.36 110.621 1092.97 Q113.7 1097.55 113.7 1106.3 Q113.7 1115.03 110.621 1119.64 Q107.566 1124.22 101.756 1124.22 Q95.9456 1124.22 92.8669 1119.64 Q89.8114 1115.03 89.8114 1106.3 Q89.8114 1097.55 92.8669 1092.97 Q95.9456 1088.36 101.756 1088.36 Z\" fill=\"#000000\" fill-rule=\"evenodd\" fill-opacity=\"1\" /><path clip-path=\"url(#clip770)\" d=\"M121.918 1117.67 L126.802 1117.67 L126.802 1123.55 L121.918 1123.55 L121.918 1117.67 Z\" fill=\"#000000\" fill-rule=\"evenodd\" fill-opacity=\"1\" /><path clip-path=\"url(#clip770)\" d=\"M137.033 1088.99 L155.39 1088.99 L155.39 1092.92 L141.316 1092.92 L141.316 1101.4 Q142.334 1101.05 143.353 1100.89 Q144.371 1100.7 145.39 1100.7 Q151.177 1100.7 154.556 1103.87 Q157.936 1107.04 157.936 1112.46 Q157.936 1118.04 154.464 1121.14 Q150.992 1124.22 144.672 1124.22 Q142.496 1124.22 140.228 1123.85 Q137.982 1123.48 135.575 1122.74 L135.575 1118.04 Q137.658 1119.17 139.881 1119.73 Q142.103 1120.28 144.58 1120.28 Q148.584 1120.28 150.922 1118.18 Q153.26 1116.07 153.26 1112.46 Q153.26 1108.85 150.922 1106.74 Q148.584 1104.64 144.58 1104.64 Q142.705 1104.64 140.83 1105.05 Q138.978 1105.47 137.033 1106.35 L137.033 1088.99 Z\" fill=\"#000000\" fill-rule=\"evenodd\" fill-opacity=\"1\" /><path clip-path=\"url(#clip770)\" d=\"M100.76 752.619 Q97.1493 752.619 95.3206 756.183 Q93.515 759.725 93.515 766.855 Q93.515 773.961 95.3206 777.526 Q97.1493 781.068 100.76 781.068 Q104.395 781.068 106.2 777.526 Q108.029 773.961 108.029 766.855 Q108.029 759.725 106.2 756.183 Q104.395 752.619 100.76 752.619 M100.76 748.915 Q106.571 748.915 109.626 753.521 Q112.705 758.105 112.705 766.855 Q112.705 775.581 109.626 780.188 Q106.571 784.771 100.76 784.771 Q94.9502 784.771 91.8715 780.188 Q88.816 775.581 88.816 766.855 Q88.816 758.105 91.8715 753.521 Q94.9502 748.915 100.76 748.915 Z\" fill=\"#000000\" fill-rule=\"evenodd\" fill-opacity=\"1\" /><path clip-path=\"url(#clip770)\" d=\"M120.922 778.22 L125.807 778.22 L125.807 784.1 L120.922 784.1 L120.922 778.22 Z\" fill=\"#000000\" fill-rule=\"evenodd\" fill-opacity=\"1\" /><path clip-path=\"url(#clip770)\" d=\"M145.992 752.619 Q142.381 752.619 140.552 756.183 Q138.746 759.725 138.746 766.855 Q138.746 773.961 140.552 777.526 Q142.381 781.068 145.992 781.068 Q149.626 781.068 151.431 777.526 Q153.26 773.961 153.26 766.855 Q153.26 759.725 151.431 756.183 Q149.626 752.619 145.992 752.619 M145.992 748.915 Q151.802 748.915 154.857 753.521 Q157.936 758.105 157.936 766.855 Q157.936 775.581 154.857 780.188 Q151.802 784.771 145.992 784.771 Q140.181 784.771 137.103 780.188 Q134.047 775.581 134.047 766.855 Q134.047 758.105 137.103 753.521 Q140.181 748.915 145.992 748.915 Z\" fill=\"#000000\" fill-rule=\"evenodd\" fill-opacity=\"1\" /><path clip-path=\"url(#clip770)\" d=\"M101.756 413.171 Q98.1447 413.171 96.316 416.736 Q94.5104 420.277 94.5104 427.407 Q94.5104 434.513 96.316 438.078 Q98.1447 441.62 101.756 441.62 Q105.39 441.62 107.196 438.078 Q109.024 434.513 109.024 427.407 Q109.024 420.277 107.196 416.736 Q105.39 413.171 101.756 413.171 M101.756 409.467 Q107.566 409.467 110.621 414.074 Q113.7 418.657 113.7 427.407 Q113.7 436.134 110.621 440.74 Q107.566 445.323 101.756 445.323 Q95.9456 445.323 92.8669 440.74 Q89.8114 436.134 89.8114 427.407 Q89.8114 418.657 92.8669 414.074 Q95.9456 409.467 101.756 409.467 Z\" fill=\"#000000\" fill-rule=\"evenodd\" fill-opacity=\"1\" /><path clip-path=\"url(#clip770)\" d=\"M121.918 438.772 L126.802 438.772 L126.802 444.652 L121.918 444.652 L121.918 438.772 Z\" fill=\"#000000\" fill-rule=\"evenodd\" fill-opacity=\"1\" /><path clip-path=\"url(#clip770)\" d=\"M137.033 410.092 L155.39 410.092 L155.39 414.027 L141.316 414.027 L141.316 422.499 Q142.334 422.152 143.353 421.99 Q144.371 421.805 145.39 421.805 Q151.177 421.805 154.556 424.976 Q157.936 428.148 157.936 433.564 Q157.936 439.143 154.464 442.245 Q150.992 445.323 144.672 445.323 Q142.496 445.323 140.228 444.953 Q137.982 444.583 135.575 443.842 L135.575 439.143 Q137.658 440.277 139.881 440.833 Q142.103 441.388 144.58 441.388 Q148.584 441.388 150.922 439.282 Q153.26 437.175 153.26 433.564 Q153.26 429.953 150.922 427.847 Q148.584 425.74 144.58 425.74 Q142.705 425.74 140.83 426.157 Q138.978 426.573 137.033 427.453 L137.033 410.092 Z\" fill=\"#000000\" fill-rule=\"evenodd\" fill-opacity=\"1\" /><path clip-path=\"url(#clip770)\" d=\"M91.5706 101.269 L99.2095 101.269 L99.2095 74.9034 L90.8993 76.5701 L90.8993 72.3108 L99.1632 70.6442 L103.839 70.6442 L103.839 101.269 L111.478 101.269 L111.478 105.204 L91.5706 105.204 L91.5706 101.269 Z\" fill=\"#000000\" fill-rule=\"evenodd\" fill-opacity=\"1\" /><path clip-path=\"url(#clip770)\" d=\"M120.922 99.3246 L125.807 99.3246 L125.807 105.204 L120.922 105.204 L120.922 99.3246 Z\" fill=\"#000000\" fill-rule=\"evenodd\" fill-opacity=\"1\" /><path clip-path=\"url(#clip770)\" d=\"M145.992 73.7229 Q142.381 73.7229 140.552 77.2877 Q138.746 80.8293 138.746 87.9589 Q138.746 95.0653 140.552 98.6301 Q142.381 102.172 145.992 102.172 Q149.626 102.172 151.431 98.6301 Q153.26 95.0653 153.26 87.9589 Q153.26 80.8293 151.431 77.2877 Q149.626 73.7229 145.992 73.7229 M145.992 70.0192 Q151.802 70.0192 154.857 74.6256 Q157.936 79.2089 157.936 87.9589 Q157.936 96.6857 154.857 101.292 Q151.802 105.875 145.992 105.875 Q140.181 105.875 137.103 101.292 Q134.047 96.6857 134.047 87.9589 Q134.047 79.2089 137.103 74.6256 Q140.181 70.0192 145.992 70.0192 Z\" fill=\"#000000\" fill-rule=\"evenodd\" fill-opacity=\"1\" /><polyline clip-path=\"url(#clip772)\" style=\"stroke:#ff0000; stroke-linecap:butt; stroke-linejoin:round; stroke-width:22; stroke-opacity:1; fill:none\" points=\"\n  255.035,766.82 287.883,834.596 320.732,901.696 353.581,967.447 386.43,1031.19 419.278,1092.3 452.127,1150.15 484.976,1204.18 517.825,1253.83 550.673,1298.62 \n  583.522,1338.09 616.371,1371.86 649.22,1399.58 682.068,1420.98 714.917,1435.84 747.766,1444.02 780.615,1445.43 813.463,1440.06 846.312,1427.96 879.161,1409.26 \n  912.01,1384.14 944.858,1352.85 977.707,1315.7 1010.56,1273.08 1043.4,1225.39 1076.25,1173.12 1109.1,1116.79 1141.95,1056.97 1174.8,994.242 1207.65,929.245 \n  1240.5,862.626 1273.35,795.049 1306.19,727.19 1339.04,659.727 1371.89,593.334 1404.74,528.675 1437.59,466.395 1470.44,407.116 1503.29,351.432 1536.14,299.898 \n  1568.98,253.03 1601.83,211.295 1634.68,175.111 1667.53,144.839 1700.38,120.781 1733.23,103.179 1766.08,92.2073 1798.93,87.9763 1831.77,90.528 1864.62,99.837 \n  1897.47,115.81 1930.32,138.288 1963.17,167.046 1996.02,201.797 2028.87,242.193 2061.72,287.832 2094.56,338.256 2127.41,392.962 2160.26,451.403 2193.11,512.997 \n  2225.96,577.126 2258.81,643.151 2291.66,710.411 \n  \"/>\n<polyline clip-path=\"url(#clip772)\" style=\"stroke:#0000ff; stroke-linecap:butt; stroke-linejoin:round; stroke-width:22; stroke-opacity:1; fill:none\" points=\"\n  255.035,1445.72 287.883,1442.32 320.732,1432.18 353.581,1415.39 386.43,1392.12 419.278,1362.61 452.127,1327.14 484.976,1286.07 517.825,1239.81 550.673,1188.83 \n  583.522,1133.63 616.371,1074.76 649.22,1012.82 682.068,948.424 714.917,882.21 747.766,814.843 780.615,746.997 813.463,679.348 846.312,612.573 879.161,547.34 \n  912.01,484.3 944.858,424.082 977.707,367.289 1010.56,314.488 1043.4,266.206 1076.25,222.927 1109.1,185.082 1141.95,153.049 1174.8,127.149 1207.65,107.641 \n  1240.5,94.7182 1273.35,88.5113 1306.19,89.0818 1339.04,96.4241 1371.89,110.465 1404.74,131.063 1437.59,158.014 1470.44,191.048 1503.29,229.835 1536.14,273.988 \n  1568.98,323.064 1601.83,376.574 1634.68,433.984 1667.53,494.719 1700.38,558.173 1733.23,623.712 1766.08,690.68 1798.93,758.409 1831.77,826.223 1864.62,893.442 \n  1897.47,959.397 1930.32,1023.43 1963.17,1084.89 1996.02,1143.18 2028.87,1197.71 2061.72,1247.93 2094.56,1293.35 2127.41,1333.5 2160.26,1368 2193.11,1396.48 \n  2225.96,1418.68 2258.81,1434.36 2291.66,1443.37 \n  \"/>\n<path clip-path=\"url(#clip770)\" d=\"\nM1988.5 250.738 L2280.8 250.738 L2280.8 95.2176 L1988.5 95.2176  Z\n  \" fill=\"#ffffff\" fill-rule=\"evenodd\" fill-opacity=\"1\"/>\n<polyline clip-path=\"url(#clip770)\" style=\"stroke:#000000; stroke-linecap:butt; stroke-linejoin:round; stroke-width:4; stroke-opacity:1; fill:none\" points=\"\n  1988.5,250.738 2280.8,250.738 2280.8,95.2176 1988.5,95.2176 1988.5,250.738 \n  \"/>\n<polyline clip-path=\"url(#clip770)\" style=\"stroke:#ff0000; stroke-linecap:butt; stroke-linejoin:round; stroke-width:4; stroke-opacity:1; fill:none\" points=\"\n  2012.48,147.058 2156.4,147.058 \n  \"/>\n<path clip-path=\"url(#clip770)\" d=\"M2194.23 166.745 Q2192.43 171.375 2190.72 172.787 Q2189 174.199 2186.13 174.199 L2182.73 174.199 L2182.73 170.634 L2185.23 170.634 Q2186.99 170.634 2187.96 169.8 Q2188.93 168.967 2190.11 165.865 L2190.88 163.921 L2180.39 138.412 L2184.91 138.412 L2193.01 158.689 L2201.11 138.412 L2205.62 138.412 L2194.23 166.745 Z\" fill=\"#000000\" fill-rule=\"evenodd\" fill-opacity=\"1\" /><path clip-path=\"url(#clip770)\" d=\"M2212.91 160.402 L2220.55 160.402 L2220.55 134.037 L2212.24 135.703 L2212.24 131.444 L2220.51 129.778 L2225.18 129.778 L2225.18 160.402 L2232.82 160.402 L2232.82 164.338 L2212.91 164.338 L2212.91 160.402 Z\" fill=\"#000000\" fill-rule=\"evenodd\" fill-opacity=\"1\" /><polyline clip-path=\"url(#clip770)\" style=\"stroke:#0000ff; stroke-linecap:butt; stroke-linejoin:round; stroke-width:4; stroke-opacity:1; fill:none\" points=\"\n  2012.48,198.898 2156.4,198.898 \n  \"/>\n<path clip-path=\"url(#clip770)\" d=\"M2194.23 218.585 Q2192.43 223.215 2190.72 224.627 Q2189 226.039 2186.13 226.039 L2182.73 226.039 L2182.73 222.474 L2185.23 222.474 Q2186.99 222.474 2187.96 221.64 Q2188.93 220.807 2190.11 217.705 L2190.88 215.761 L2180.39 190.252 L2184.91 190.252 L2193.01 210.529 L2201.11 190.252 L2205.62 190.252 L2194.23 218.585 Z\" fill=\"#000000\" fill-rule=\"evenodd\" fill-opacity=\"1\" /><path clip-path=\"url(#clip770)\" d=\"M2216.13 212.242 L2232.45 212.242 L2232.45 216.178 L2210.51 216.178 L2210.51 212.242 Q2213.17 209.488 2217.75 204.858 Q2222.36 200.205 2223.54 198.863 Q2225.78 196.34 2226.66 194.604 Q2227.57 192.844 2227.57 191.155 Q2227.57 188.4 2225.62 186.664 Q2223.7 184.928 2220.6 184.928 Q2218.4 184.928 2215.95 185.692 Q2213.52 186.455 2210.74 188.006 L2210.74 183.284 Q2213.56 182.15 2216.02 181.571 Q2218.47 180.993 2220.51 180.993 Q2225.88 180.993 2229.07 183.678 Q2232.27 186.363 2232.27 190.854 Q2232.27 192.983 2231.46 194.905 Q2230.67 196.803 2228.56 199.395 Q2227.98 200.067 2224.88 203.284 Q2221.78 206.479 2216.13 212.242 Z\" fill=\"#000000\" fill-rule=\"evenodd\" fill-opacity=\"1\" /></svg>\n"
               },
               "type": "node"
              }
             ],
             "instanceArgs": {
              "namespace": "html",
              "tag": "div"
             },
             "nodeType": "DOM",
             "props": {
              "className": "interact-flex-row interact-widget"
             },
             "type": "node"
            }
           }
          },
          "systemjs_options": null
         },
         "nodeType": "Scope",
         "props": {},
         "type": "node"
        }
       ],
       "instanceArgs": {
        "namespace": "html",
        "tag": "div"
       },
       "nodeType": "DOM",
       "props": {},
       "type": "node"
      }
     },
     "metadata": {},
     "execution_count": 5
    }
   ],
   "metadata": {}
  },
  {
   "cell_type": "code",
   "execution_count": null,
   "source": [
    "width, height = 700, 300\n",
    "colors = [\"black\", \"gray\", \"silver\", \"maroon\", \"red\", \"olive\", \"yellow\", \"green\", \"lime\", \"teal\", \"aqua\", \"navy\", \"blue\", \"purple\", \"fuchsia\"]\n",
    "color(i) = colors[i%length(colors)+1]\n",
    "ui = @manipulate for nsamples in 1:200,\n",
    "        sample_step in slider(0.01:0.01:1.0, value=0.1, label=\"sample step\"),\n",
    "        phase in slider(0:0.1:2pi, value=0.0, label=\"phase\"),\n",
    "        radii in 0.1:0.1:60\n",
    "    cxs_unscaled = [i*sample_step + phase for i in 1:nsamples]\n",
    "    cys = sin.(cxs_unscaled) .* height/3 .+ height/2\n",
    "    cxs = cxs_unscaled .* width/4pi\n",
    "    dom\"svg:svg[width=$width, height=$height]\"(\n",
    "        (dom\"svg:circle[cx=$(cxs[i]), cy=$(cys[i]), r=$radii, fill=$(color(i))]\"()\n",
    "            for i in 1:nsamples)...\n",
    "    )\n",
    "end"
   ],
   "outputs": [],
   "metadata": {}
  },
  {
   "cell_type": "code",
   "execution_count": null,
   "source": [
    "@manipulate for ϕ = 0:π/16:4π, f = [sin, cos], both = false\n",
    "    if both\n",
    "        plot([θ -> sin(θ + ϕ), θ -> cos(θ + ϕ)], 0, 8)\n",
    "    else\n",
    "        plot(θ -> f(θ + ϕ), 0, 8)\n",
    "    end\n",
    "end"
   ],
   "outputs": [],
   "metadata": {}
  },
  {
   "cell_type": "code",
   "execution_count": null,
   "source": [
    "@manipulate for n=1:25, g=[:scatter, :path], col=colorant\"red\"\n",
    "    plot(rand(n), rand(n), linetype=g, color=col)\n",
    "end"
   ],
   "outputs": [],
   "metadata": {}
  }
 ],
 "metadata": {
  "kernelspec": {
   "display_name": "Julia 1.6.2",
   "language": "julia",
   "name": "julia-1.6"
  },
  "language_info": {
   "file_extension": ".jl",
   "mimetype": "application/julia",
   "name": "julia",
   "version": "1.6.2"
  }
 },
 "nbformat": 4,
 "nbformat_minor": 2
}