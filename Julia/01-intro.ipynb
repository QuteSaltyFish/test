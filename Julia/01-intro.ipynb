{
 "cells": [
  {
   "cell_type": "markdown",
   "source": [
    "## 01 Julia Introduction for EECS 551\n",
    "\n",
    "2018-08-11 Jeff Fessler (based on 2017 version by David Hong)  \n",
    "Julia 0.7.0  \n",
    "2019-01-20 Julia 1.0.3 and add note about line breaks  \n",
    "2020-08-05 Julia 1.5.0"
   ],
   "metadata": {}
  },
  {
   "cell_type": "markdown",
   "source": [
    "## Numbers and arithmetic (and thinking about types!)"
   ],
   "metadata": {}
  },
  {
   "cell_type": "markdown",
   "source": [
    "Make a real number!"
   ],
   "metadata": {}
  },
  {
   "cell_type": "code",
   "execution_count": 2,
   "source": [
    "r = 3.0"
   ],
   "outputs": [
    {
     "output_type": "execute_result",
     "data": {
      "text/plain": [
       "3.0"
      ]
     },
     "metadata": {},
     "execution_count": 2
    }
   ],
   "metadata": {}
  },
  {
   "cell_type": "markdown",
   "source": [
    "Variables in Julia have a type."
   ],
   "metadata": {}
  },
  {
   "cell_type": "code",
   "execution_count": 3,
   "source": [
    "typeof(r)"
   ],
   "outputs": [
    {
     "output_type": "execute_result",
     "data": {
      "text/plain": [
       "Float64"
      ]
     },
     "metadata": {},
     "execution_count": 3
    }
   ],
   "metadata": {}
  },
  {
   "cell_type": "code",
   "execution_count": 4,
   "source": [
    "i = 3"
   ],
   "outputs": [
    {
     "output_type": "execute_result",
     "data": {
      "text/plain": [
       "3"
      ]
     },
     "metadata": {},
     "execution_count": 4
    }
   ],
   "metadata": {}
  },
  {
   "cell_type": "code",
   "execution_count": 5,
   "source": [
    "typeof(i)"
   ],
   "outputs": [
    {
     "output_type": "execute_result",
     "data": {
      "text/plain": [
       "Int64"
      ]
     },
     "metadata": {},
     "execution_count": 5
    }
   ],
   "metadata": {}
  },
  {
   "cell_type": "code",
   "execution_count": 6,
   "source": [
    "c = 3. + 2im"
   ],
   "outputs": [
    {
     "output_type": "execute_result",
     "data": {
      "text/plain": [
       "3.0 + 2.0im"
      ]
     },
     "metadata": {},
     "execution_count": 6
    }
   ],
   "metadata": {}
  },
  {
   "cell_type": "code",
   "execution_count": 7,
   "source": [
    "typeof(c)"
   ],
   "outputs": [
    {
     "output_type": "execute_result",
     "data": {
      "text/plain": [
       "ComplexF64 (alias for Complex{Float64})"
      ]
     },
     "metadata": {},
     "execution_count": 7
    }
   ],
   "metadata": {}
  },
  {
   "cell_type": "markdown",
   "source": [
    "We can add, subtract, multiply and divide like usual."
   ],
   "metadata": {}
  },
  {
   "cell_type": "code",
   "execution_count": 8,
   "source": [
    "4. + 5"
   ],
   "outputs": [
    {
     "output_type": "execute_result",
     "data": {
      "text/plain": [
       "9.0"
      ]
     },
     "metadata": {},
     "execution_count": 8
    }
   ],
   "metadata": {}
  },
  {
   "cell_type": "code",
   "execution_count": 9,
   "source": [
    "4. - 5"
   ],
   "outputs": [
    {
     "output_type": "execute_result",
     "data": {
      "text/plain": [
       "-1.0"
      ]
     },
     "metadata": {},
     "execution_count": 9
    }
   ],
   "metadata": {}
  },
  {
   "cell_type": "code",
   "execution_count": 10,
   "source": [
    "4. * 3"
   ],
   "outputs": [
    {
     "output_type": "execute_result",
     "data": {
      "text/plain": [
       "12.0"
      ]
     },
     "metadata": {},
     "execution_count": 10
    }
   ],
   "metadata": {}
  },
  {
   "cell_type": "code",
   "execution_count": 11,
   "source": [
    "2. / 3"
   ],
   "outputs": [
    {
     "output_type": "execute_result",
     "data": {
      "text/plain": [
       "0.6666666666666666"
      ]
     },
     "metadata": {},
     "execution_count": 11
    }
   ],
   "metadata": {}
  },
  {
   "cell_type": "markdown",
   "source": [
    "Dividing `Int`'s produces a `Float`"
   ],
   "metadata": {}
  },
  {
   "cell_type": "code",
   "execution_count": 12,
   "source": [
    "2/3"
   ],
   "outputs": [
    {
     "output_type": "execute_result",
     "data": {
      "text/plain": [
       "0.6666666666666666"
      ]
     },
     "metadata": {},
     "execution_count": 12
    }
   ],
   "metadata": {}
  },
  {
   "cell_type": "code",
   "execution_count": 13,
   "source": [
    "4/2"
   ],
   "outputs": [
    {
     "output_type": "execute_result",
     "data": {
      "text/plain": [
       "2.0"
      ]
     },
     "metadata": {},
     "execution_count": 13
    }
   ],
   "metadata": {}
  },
  {
   "cell_type": "markdown",
   "source": [
    "This is different from Python 2, but similar to Python 3."
   ],
   "metadata": {}
  },
  {
   "cell_type": "markdown",
   "source": [
    "More info about numbers here:\n",
    "+ https://docs.julialang.org/en/latest/manual/integers-and-floating-point-numbers/\n",
    "+ https://docs.julialang.org/en/latest/manual/mathematical-operations/\n",
    "+ https://docs.julialang.org/en/latest/manual/complex-and-rational-numbers/"
   ],
   "metadata": {}
  },
  {
   "cell_type": "markdown",
   "source": [
    "## Vector and matrices (i.e., arrays)"
   ],
   "metadata": {}
  },
  {
   "cell_type": "markdown",
   "source": [
    "Make a vector of real numbers:\n",
    "\n",
    "$x = \\begin{bmatrix} 1.0 \\\\ 3.5 \\\\ 2 \\end{bmatrix}$"
   ],
   "metadata": {}
  },
  {
   "cell_type": "code",
   "execution_count": 14,
   "source": [
    "x = [1, 3.5, 2]"
   ],
   "outputs": [
    {
     "output_type": "execute_result",
     "data": {
      "text/plain": [
       "3-element Vector{Float64}:\n",
       " 1.0\n",
       " 3.5\n",
       " 2.0"
      ]
     },
     "metadata": {},
     "execution_count": 14
    }
   ],
   "metadata": {}
  },
  {
   "cell_type": "markdown",
   "source": [
    "Note the type: `Array{Float64,1}`.  \n",
    "Having just one real number in the array sufficed\n",
    "for the array have all `Float64` elements.\n",
    "\n",
    "This is a true **one**-dimensional array of **`Float64`**'s.  \n",
    "(Matlab does not have 1D arrays; it fakes it using 2D arrays of size N × 1.)"
   ],
   "metadata": {}
  },
  {
   "cell_type": "code",
   "execution_count": 15,
   "source": [
    "size(x) # returns a tuple"
   ],
   "outputs": [
    {
     "output_type": "execute_result",
     "data": {
      "text/plain": [
       "(3,)"
      ]
     },
     "metadata": {},
     "execution_count": 15
    }
   ],
   "metadata": {}
  },
  {
   "cell_type": "code",
   "execution_count": 16,
   "source": [
    "length(x)"
   ],
   "outputs": [
    {
     "output_type": "execute_result",
     "data": {
      "text/plain": [
       "3"
      ]
     },
     "metadata": {},
     "execution_count": 16
    }
   ],
   "metadata": {}
  },
  {
   "cell_type": "code",
   "execution_count": 17,
   "source": [
    "x_ints = [1,3,2]"
   ],
   "outputs": [
    {
     "output_type": "execute_result",
     "data": {
      "text/plain": [
       "3-element Vector{Int64}:\n",
       " 1\n",
       " 3\n",
       " 2"
      ]
     },
     "metadata": {},
     "execution_count": 17
    }
   ],
   "metadata": {}
  },
  {
   "cell_type": "markdown",
   "source": [
    "This is a **one**-dimensional array of **`Int64`**'s.\n",
    "We'll use these less often in 551."
   ],
   "metadata": {}
  },
  {
   "cell_type": "code",
   "execution_count": 18,
   "source": [
    "size(x_ints)"
   ],
   "outputs": [
    {
     "output_type": "execute_result",
     "data": {
      "text/plain": [
       "(3,)"
      ]
     },
     "metadata": {},
     "execution_count": 18
    }
   ],
   "metadata": {}
  },
  {
   "cell_type": "code",
   "execution_count": 19,
   "source": [
    "length(x_ints)"
   ],
   "outputs": [
    {
     "output_type": "execute_result",
     "data": {
      "text/plain": [
       "3"
      ]
     },
     "metadata": {},
     "execution_count": 19
    }
   ],
   "metadata": {}
  },
  {
   "cell_type": "markdown",
   "source": [
    "Make a matrix using a semicolon to separate rows:\n",
    "\n",
    "$ A = \\begin{bmatrix}\n",
    "1.1 & 1.2 & 1.3 \\\\\n",
    "2.1 & 2.2 & 2.3\n",
    "\\end{bmatrix}$"
   ],
   "metadata": {}
  },
  {
   "cell_type": "code",
   "execution_count": 20,
   "source": [
    "A = [1.1 1.2 1.3; 2.1 2.2 2.3]"
   ],
   "outputs": [
    {
     "output_type": "execute_result",
     "data": {
      "text/plain": [
       "2×3 Matrix{Float64}:\n",
       " 1.1  1.2  1.3\n",
       " 2.1  2.2  2.3"
      ]
     },
     "metadata": {},
     "execution_count": 20
    }
   ],
   "metadata": {}
  },
  {
   "cell_type": "markdown",
   "source": [
    "This is a **two**-dimensional array (aka a matrix) of **`Float64`** values."
   ],
   "metadata": {}
  },
  {
   "cell_type": "code",
   "execution_count": 21,
   "source": [
    "size(A)"
   ],
   "outputs": [
    {
     "output_type": "execute_result",
     "data": {
      "text/plain": [
       "(2, 3)"
      ]
     },
     "metadata": {},
     "execution_count": 21
    }
   ],
   "metadata": {}
  },
  {
   "cell_type": "code",
   "execution_count": 22,
   "source": [
    "length(A)"
   ],
   "outputs": [
    {
     "output_type": "execute_result",
     "data": {
      "text/plain": [
       "6"
      ]
     },
     "metadata": {},
     "execution_count": 22
    }
   ],
   "metadata": {}
  },
  {
   "cell_type": "markdown",
   "source": [
    "Different from Matlab! `length` always returns the total number of elements."
   ],
   "metadata": {}
  },
  {
   "cell_type": "markdown",
   "source": [
    "Make vectors and matrices of all zeros."
   ],
   "metadata": {}
  },
  {
   "cell_type": "code",
   "execution_count": 23,
   "source": [
    "zeros(3)"
   ],
   "outputs": [
    {
     "output_type": "execute_result",
     "data": {
      "text/plain": [
       "3-element Vector{Float64}:\n",
       " 0.0\n",
       " 0.0\n",
       " 0.0"
      ]
     },
     "metadata": {},
     "execution_count": 23
    }
   ],
   "metadata": {}
  },
  {
   "cell_type": "markdown",
   "source": [
    "Different from Matlab!\n",
    "Do not write `zeros(3,1)` because Julia has proper 1D arrays.  \n",
    "`zeros(3,1)` and `zeros(3)` are different!"
   ],
   "metadata": {}
  },
  {
   "cell_type": "code",
   "execution_count": 24,
   "source": [
    "zeros(2,3)"
   ],
   "outputs": [
    {
     "output_type": "execute_result",
     "data": {
      "text/plain": [
       "2×3 Matrix{Float64}:\n",
       " 0.0  0.0  0.0\n",
       " 0.0  0.0  0.0"
      ]
     },
     "metadata": {},
     "execution_count": 24
    }
   ],
   "metadata": {}
  },
  {
   "cell_type": "markdown",
   "source": [
    "And ones:"
   ],
   "metadata": {}
  },
  {
   "cell_type": "code",
   "execution_count": 25,
   "source": [
    "ones(3)"
   ],
   "outputs": [
    {
     "output_type": "execute_result",
     "data": {
      "text/plain": [
       "3-element Vector{Float64}:\n",
       " 1.0\n",
       " 1.0\n",
       " 1.0"
      ]
     },
     "metadata": {},
     "execution_count": 25
    }
   ],
   "metadata": {}
  },
  {
   "cell_type": "code",
   "execution_count": 26,
   "source": [
    "ones(2,3)"
   ],
   "outputs": [
    {
     "output_type": "execute_result",
     "data": {
      "text/plain": [
       "2×3 Matrix{Float64}:\n",
       " 1.0  1.0  1.0\n",
       " 1.0  1.0  1.0"
      ]
     },
     "metadata": {},
     "execution_count": 26
    }
   ],
   "metadata": {}
  },
  {
   "cell_type": "markdown",
   "source": [
    "The \"identity matrix\" ``I`` in Julia's `LinearAlgebra` package is sophisticated.  \n",
    "Look at the following examples:"
   ],
   "metadata": {}
  },
  {
   "cell_type": "code",
   "execution_count": 30,
   "source": [
    "using LinearAlgebra\n",
    "ones(3,3) - I"
   ],
   "outputs": [
    {
     "output_type": "execute_result",
     "data": {
      "text/plain": [
       "3×3 Matrix{Float64}:\n",
       " 0.0  1.0  1.0\n",
       " 1.0  0.0  1.0\n",
       " 1.0  1.0  0.0"
      ]
     },
     "metadata": {},
     "execution_count": 30
    }
   ],
   "metadata": {}
  },
  {
   "cell_type": "code",
   "execution_count": 31,
   "source": [
    "ones(2,2) * I"
   ],
   "outputs": [
    {
     "output_type": "execute_result",
     "data": {
      "text/plain": [
       "2×2 Matrix{Float64}:\n",
       " 1.0  1.0\n",
       " 1.0  1.0"
      ]
     },
     "metadata": {},
     "execution_count": 31
    }
   ],
   "metadata": {}
  },
  {
   "cell_type": "code",
   "execution_count": 32,
   "source": [
    "I(3)"
   ],
   "outputs": [
    {
     "output_type": "execute_result",
     "data": {
      "text/plain": [
       "3×3 Diagonal{Bool, Vector{Bool}}:\n",
       " 1  ⋅  ⋅\n",
       " ⋅  1  ⋅\n",
       " ⋅  ⋅  1"
      ]
     },
     "metadata": {},
     "execution_count": 32
    }
   ],
   "metadata": {}
  },
  {
   "cell_type": "markdown",
   "source": [
    "If that ``I`` seems too fancy, then you could make your own \"eye\" command\n",
    "akin to Matlab as follows\n",
    "(but it should not be needed and it uses unnecessary memory):"
   ],
   "metadata": {}
  },
  {
   "cell_type": "code",
   "execution_count": 33,
   "source": [
    "eye = n -> Matrix(1.0*I(n))\n",
    "eye(2)"
   ],
   "outputs": [
    {
     "output_type": "execute_result",
     "data": {
      "text/plain": [
       "2×2 Matrix{Float64}:\n",
       " 1.0  0.0\n",
       " 0.0  1.0"
      ]
     },
     "metadata": {},
     "execution_count": 33
    }
   ],
   "metadata": {}
  },
  {
   "cell_type": "markdown",
   "source": [
    "Make diagonal matrices using the `Diagonal` function in `LinearAlgebra`"
   ],
   "metadata": {}
  },
  {
   "cell_type": "code",
   "execution_count": 34,
   "source": [
    "Diagonal(3:6)"
   ],
   "outputs": [
    {
     "output_type": "execute_result",
     "data": {
      "text/plain": [
       "4×4 Diagonal{Int64, UnitRange{Int64}}:\n",
       " 3  ⋅  ⋅  ⋅\n",
       " ⋅  4  ⋅  ⋅\n",
       " ⋅  ⋅  5  ⋅\n",
       " ⋅  ⋅  ⋅  6"
      ]
     },
     "metadata": {},
     "execution_count": 34
    }
   ],
   "metadata": {}
  },
  {
   "cell_type": "markdown",
   "source": [
    "This is far more memory efficient than Matlab's `diag` command."
   ],
   "metadata": {}
  },
  {
   "cell_type": "markdown",
   "source": [
    "Make random vectors and matrices.\n",
    "\n",
    "$ x = \\begin{bmatrix} \\mathcal{N}(0,1) \\\\ \\mathcal{N}(0,1) \\\\ \\mathcal{N}(0,1) \\end{bmatrix}\n",
    "\\qquad \\text{i.e.,} \\quad x_i \\overset{\\text{iid}}{\\sim} \\mathcal{N}(0,1)$\n",
    "\n",
    "$ A = \\begin{bmatrix}\n",
    "\\mathcal{N}(0,1) & \\mathcal{N}(0,1) & \\mathcal{N}(0,1) \\\\\n",
    "\\mathcal{N}(0,1) & \\mathcal{N}(0,1) & \\mathcal{N}(0,1)\n",
    "\\end{bmatrix}\n",
    "\\qquad \\text{i.e., } \\quad A_{ij} \\overset{\\text{iid}}{\\sim} \\mathcal{N}(0,1)$"
   ],
   "metadata": {}
  },
  {
   "cell_type": "code",
   "execution_count": 35,
   "source": [
    "x = randn(3)"
   ],
   "outputs": [
    {
     "output_type": "execute_result",
     "data": {
      "text/plain": [
       "3-element Vector{Float64}:\n",
       "  2.091427525195778\n",
       "  1.4020347673827016\n",
       " -1.8622984831917864"
      ]
     },
     "metadata": {},
     "execution_count": 35
    }
   ],
   "metadata": {}
  },
  {
   "cell_type": "code",
   "execution_count": 36,
   "source": [
    "A = randn(2,3)"
   ],
   "outputs": [
    {
     "output_type": "execute_result",
     "data": {
      "text/plain": [
       "2×3 Matrix{Float64}:\n",
       " -0.104954  -1.04056   -1.12471\n",
       " -1.33256    0.624177   1.46003"
      ]
     },
     "metadata": {},
     "execution_count": 36
    }
   ],
   "metadata": {}
  },
  {
   "cell_type": "markdown",
   "source": [
    "### Matrix operations"
   ],
   "metadata": {}
  },
  {
   "cell_type": "markdown",
   "source": [
    "Indexing is done with **square** brackets and begins at **1**a\n",
    "(like in Matlab and counting) not **0** (like in C or Python)."
   ],
   "metadata": {}
  },
  {
   "cell_type": "code",
   "execution_count": 37,
   "source": [
    "A = [1.1 1.2 1.3; 2.1 2.2 2.3]"
   ],
   "outputs": [
    {
     "output_type": "execute_result",
     "data": {
      "text/plain": [
       "2×3 Matrix{Float64}:\n",
       " 1.1  1.2  1.3\n",
       " 2.1  2.2  2.3"
      ]
     },
     "metadata": {},
     "execution_count": 37
    }
   ],
   "metadata": {}
  },
  {
   "cell_type": "code",
   "execution_count": 38,
   "source": [
    "A[1,1]"
   ],
   "outputs": [
    {
     "output_type": "execute_result",
     "data": {
      "text/plain": [
       "1.1"
      ]
     },
     "metadata": {},
     "execution_count": 38
    }
   ],
   "metadata": {}
  },
  {
   "cell_type": "code",
   "execution_count": 39,
   "source": [
    "A[1,2:3]"
   ],
   "outputs": [
    {
     "output_type": "execute_result",
     "data": {
      "text/plain": [
       "2-element Vector{Float64}:\n",
       " 1.2\n",
       " 1.3"
      ]
     },
     "metadata": {},
     "execution_count": 39
    }
   ],
   "metadata": {}
  },
  {
   "cell_type": "markdown",
   "source": [
    "This row-slice is a one-dimensional slice! Not a `1×2` matrix."
   ],
   "metadata": {}
  },
  {
   "cell_type": "code",
   "execution_count": 40,
   "source": [
    "A[1:2,1]"
   ],
   "outputs": [
    {
     "output_type": "execute_result",
     "data": {
      "text/plain": [
       "2-element Vector{Float64}:\n",
       " 1.1\n",
       " 2.1"
      ]
     },
     "metadata": {},
     "execution_count": 40
    }
   ],
   "metadata": {}
  },
  {
   "cell_type": "code",
   "execution_count": 41,
   "source": [
    "A[2,:]"
   ],
   "outputs": [
    {
     "output_type": "execute_result",
     "data": {
      "text/plain": [
       "3-element Vector{Float64}:\n",
       " 2.1\n",
       " 2.2\n",
       " 2.3"
      ]
     },
     "metadata": {},
     "execution_count": 41
    }
   ],
   "metadata": {}
  },
  {
   "cell_type": "markdown",
   "source": [
    "Vector dot product"
   ],
   "metadata": {}
  },
  {
   "cell_type": "code",
   "execution_count": 42,
   "source": [
    "x = randn(3)\n",
    "xdx = x'x"
   ],
   "outputs": [
    {
     "output_type": "execute_result",
     "data": {
      "text/plain": [
       "7.2008983373146975"
      ]
     },
     "metadata": {},
     "execution_count": 42
    }
   ],
   "metadata": {}
  },
  {
   "cell_type": "code",
   "execution_count": 43,
   "source": [
    "xdx = dot(x,x)"
   ],
   "outputs": [
    {
     "output_type": "execute_result",
     "data": {
      "text/plain": [
       "7.2008983373146975"
      ]
     },
     "metadata": {},
     "execution_count": 43
    }
   ],
   "metadata": {}
  },
  {
   "cell_type": "code",
   "execution_count": 44,
   "source": [
    "xdx = x'*x"
   ],
   "outputs": [
    {
     "output_type": "execute_result",
     "data": {
      "text/plain": [
       "7.2008983373146975"
      ]
     },
     "metadata": {},
     "execution_count": 44
    }
   ],
   "metadata": {}
  },
  {
   "cell_type": "markdown",
   "source": [
    "Different from Matlab! The output is a scalar, **not** a `1×1` \"matrix.\""
   ],
   "metadata": {}
  },
  {
   "cell_type": "code",
   "execution_count": 45,
   "source": [
    "typeof(xdx)"
   ],
   "outputs": [
    {
     "output_type": "execute_result",
     "data": {
      "text/plain": [
       "Float64"
      ]
     },
     "metadata": {},
     "execution_count": 45
    }
   ],
   "metadata": {}
  },
  {
   "cell_type": "markdown",
   "source": [
    "Matrix times vector"
   ],
   "metadata": {}
  },
  {
   "cell_type": "code",
   "execution_count": 46,
   "source": [
    "A = randn(2,3)\n",
    "x = randn(3)\n",
    "A*x"
   ],
   "outputs": [
    {
     "output_type": "execute_result",
     "data": {
      "text/plain": [
       "2-element Vector{Float64}:\n",
       " 0.8744694844941193\n",
       " 0.30358165928867814"
      ]
     },
     "metadata": {},
     "execution_count": 46
    }
   ],
   "metadata": {}
  },
  {
   "cell_type": "markdown",
   "source": [
    "Matrix times matrix"
   ],
   "metadata": {}
  },
  {
   "cell_type": "code",
   "execution_count": 47,
   "source": [
    "A = randn(2,3)\n",
    "B = randn(3,4)\n",
    "A*B"
   ],
   "outputs": [
    {
     "output_type": "execute_result",
     "data": {
      "text/plain": [
       "2×4 Matrix{Float64}:\n",
       " -1.7615  -3.75378   3.61047  -1.55803\n",
       " -1.012   -0.818723  0.79602  -0.889319"
      ]
     },
     "metadata": {},
     "execution_count": 47
    }
   ],
   "metadata": {}
  },
  {
   "cell_type": "markdown",
   "source": [
    "Matrix transpose (conjugate and non-conjugate)"
   ],
   "metadata": {}
  },
  {
   "cell_type": "code",
   "execution_count": 48,
   "source": [
    "A = 10*reshape(1:6, 2, 3) + im * reshape(1:6, 2, 3)"
   ],
   "outputs": [
    {
     "output_type": "execute_result",
     "data": {
      "text/plain": [
       "2×3 Matrix{Complex{Int64}}:\n",
       " 10+1im  30+3im  50+5im\n",
       " 20+2im  40+4im  60+6im"
      ]
     },
     "metadata": {},
     "execution_count": 48
    }
   ],
   "metadata": {}
  },
  {
   "cell_type": "code",
   "execution_count": 49,
   "source": [
    "A' # conjugate transpose, could also use adjoint(A)"
   ],
   "outputs": [
    {
     "output_type": "execute_result",
     "data": {
      "text/plain": [
       "3×2 adjoint(::Matrix{Complex{Int64}}) with eltype Complex{Int64}:\n",
       " 10-1im  20-2im\n",
       " 30-3im  40-4im\n",
       " 50-5im  60-6im"
      ]
     },
     "metadata": {},
     "execution_count": 49
    }
   ],
   "metadata": {}
  },
  {
   "cell_type": "code",
   "execution_count": 50,
   "source": [
    "# For complex arrays, rarely do we need a non-conjugate transpose.\n",
    "# Usually we need A' instead.  But if we do:"
   ],
   "outputs": [],
   "metadata": {}
  },
  {
   "cell_type": "code",
   "execution_count": 51,
   "source": [
    "transpose(A) # essentially sets a flag about transpose without reordering data"
   ],
   "outputs": [
    {
     "output_type": "execute_result",
     "data": {
      "text/plain": [
       "3×2 transpose(::Matrix{Complex{Int64}}) with eltype Complex{Int64}:\n",
       " 10+1im  20+2im\n",
       " 30+3im  40+4im\n",
       " 50+5im  60+6im"
      ]
     },
     "metadata": {},
     "execution_count": 51
    }
   ],
   "metadata": {}
  },
  {
   "cell_type": "markdown",
   "source": [
    "Matrix determinant"
   ],
   "metadata": {}
  },
  {
   "cell_type": "code",
   "execution_count": 52,
   "source": [
    "A = Diagonal(2:4)\n",
    "det(A)"
   ],
   "outputs": [
    {
     "output_type": "execute_result",
     "data": {
      "text/plain": [
       "24"
      ]
     },
     "metadata": {},
     "execution_count": 52
    }
   ],
   "metadata": {}
  },
  {
   "cell_type": "code",
   "execution_count": 53,
   "source": [
    "B = randn(3,3)\n",
    "[det(A*B) det(A)*det(B)]"
   ],
   "outputs": [
    {
     "output_type": "execute_result",
     "data": {
      "text/plain": [
       "1×2 Matrix{Float64}:\n",
       " 7.37026  7.37026"
      ]
     },
     "metadata": {},
     "execution_count": 53
    }
   ],
   "metadata": {}
  },
  {
   "cell_type": "markdown",
   "source": [
    "Matrix trace"
   ],
   "metadata": {}
  },
  {
   "cell_type": "code",
   "execution_count": 54,
   "source": [
    "A = ones(3,3)\n",
    "tr(A) # in Matlab would be \"trace(A)\""
   ],
   "outputs": [
    {
     "output_type": "execute_result",
     "data": {
      "text/plain": [
       "3.0"
      ]
     },
     "metadata": {},
     "execution_count": 54
    }
   ],
   "metadata": {}
  },
  {
   "cell_type": "markdown",
   "source": [
    "More info here: https://docs.julialang.org/en/latest/manual/arrays/"
   ],
   "metadata": {}
  },
  {
   "cell_type": "markdown",
   "source": [
    "### Important Aside: Getting help!"
   ],
   "metadata": {}
  },
  {
   "cell_type": "markdown",
   "source": [
    "Julia analogue of Matlab's `help` is `?`"
   ],
   "metadata": {}
  },
  {
   "cell_type": "code",
   "execution_count": 55,
   "source": [
    "?pwd"
   ],
   "outputs": [
    {
     "output_type": "stream",
     "name": "stdout",
     "text": [
      "search: \u001b[0m\u001b[1mp\u001b[22m\u001b[0m\u001b[1mw\u001b[22m\u001b[0m\u001b[1md\u001b[22m \u001b[0m\u001b[1mp\u001b[22mo\u001b[0m\u001b[1mw\u001b[22mermo\u001b[0m\u001b[1md\u001b[22m\n",
      "\n"
     ]
    },
    {
     "output_type": "execute_result",
     "data": {
      "text/plain": [
       "\u001b[36m  pwd() -> AbstractString\u001b[39m\n",
       "\n",
       "  Get the current working directory.\n",
       "\n",
       "\u001b[1m  Examples\u001b[22m\n",
       "\u001b[1m  ≡≡≡≡≡≡≡≡≡≡\u001b[22m\n",
       "\n",
       "\u001b[36m  julia> pwd()\u001b[39m\n",
       "\u001b[36m  \"/home/JuliaUser\"\u001b[39m\n",
       "\u001b[36m  \u001b[39m\n",
       "\u001b[36m  julia> cd(\"/home/JuliaUser/Projects/julia\")\u001b[39m\n",
       "\u001b[36m  \u001b[39m\n",
       "\u001b[36m  julia> pwd()\u001b[39m\n",
       "\u001b[36m  \"/home/JuliaUser/Projects/julia\"\u001b[39m"
      ],
      "text/markdown": [
       "```\n",
       "pwd() -> AbstractString\n",
       "```\n",
       "\n",
       "Get the current working directory.\n",
       "\n",
       "# Examples\n",
       "\n",
       "```julia-repl\n",
       "julia> pwd()\n",
       "\"/home/JuliaUser\"\n",
       "\n",
       "julia> cd(\"/home/JuliaUser/Projects/julia\")\n",
       "\n",
       "julia> pwd()\n",
       "\"/home/JuliaUser/Projects/julia\"\n",
       "```\n"
      ],
      "text/latex": [
       "\\begin{verbatim}\n",
       "pwd() -> AbstractString\n",
       "\\end{verbatim}\n",
       "Get the current working directory.\n",
       "\n",
       "\\section{Examples}\n",
       "\\begin{verbatim}\n",
       "julia> pwd()\n",
       "\"/home/JuliaUser\"\n",
       "\n",
       "julia> cd(\"/home/JuliaUser/Projects/julia\")\n",
       "\n",
       "julia> pwd()\n",
       "\"/home/JuliaUser/Projects/julia\"\n",
       "\\end{verbatim}\n"
      ]
     },
     "metadata": {},
     "execution_count": 55
    }
   ],
   "metadata": {}
  },
  {
   "cell_type": "markdown",
   "source": [
    "Full documentation online: https://docs.julialang.org/en/stable/  \n",
    "Searching their Github repo can sometimes also uncover folks with similar issues: https://github.com/JuliaLang/julia\n",
    "\n",
    "Also lots of neat talks on their Youtube Channel: https://www.youtube.com/user/JuliaLanguage  \n",
    "Especially encourage this very interesting one about vector transposes! https://www.youtube.com/watch?v=C2RO34b_oPM"
   ],
   "metadata": {}
  },
  {
   "cell_type": "markdown",
   "source": [
    "### Aside: Creating ranges\n",
    "It's different from (and much more efficient than) Matlab!"
   ],
   "metadata": {}
  },
  {
   "cell_type": "code",
   "execution_count": 56,
   "source": [
    "myrange = -2:3"
   ],
   "outputs": [
    {
     "output_type": "execute_result",
     "data": {
      "text/plain": [
       "-2:3"
      ]
     },
     "metadata": {},
     "execution_count": 56
    }
   ],
   "metadata": {}
  },
  {
   "cell_type": "code",
   "execution_count": 57,
   "source": [
    "typeof(myrange)"
   ],
   "outputs": [
    {
     "output_type": "execute_result",
     "data": {
      "text/plain": [
       "UnitRange{Int64}"
      ]
     },
     "metadata": {},
     "execution_count": 57
    }
   ],
   "metadata": {}
  },
  {
   "cell_type": "markdown",
   "source": [
    "Not an Array! But can be indexed."
   ],
   "metadata": {}
  },
  {
   "cell_type": "code",
   "execution_count": 58,
   "source": [
    "myrange[1]"
   ],
   "outputs": [
    {
     "output_type": "execute_result",
     "data": {
      "text/plain": [
       "-2"
      ]
     },
     "metadata": {},
     "execution_count": 58
    }
   ],
   "metadata": {}
  },
  {
   "cell_type": "markdown",
   "source": [
    "Used often in `for` loops."
   ],
   "metadata": {}
  },
  {
   "cell_type": "code",
   "execution_count": 59,
   "source": [
    "for a in myrange\n",
    "    println(a)\n",
    "end"
   ],
   "outputs": [
    {
     "output_type": "stream",
     "name": "stdout",
     "text": [
      "-2\n",
      "-1\n",
      "0\n",
      "1\n",
      "2\n",
      "3\n"
     ]
    }
   ],
   "metadata": {}
  },
  {
   "cell_type": "markdown",
   "source": [
    "Form an array by using `collect` if needed (use rarely):"
   ],
   "metadata": {}
  },
  {
   "cell_type": "code",
   "execution_count": 60,
   "source": [
    "collect(myrange)"
   ],
   "outputs": [
    {
     "output_type": "execute_result",
     "data": {
      "text/plain": [
       "6-element Vector{Int64}:\n",
       " -2\n",
       " -1\n",
       "  0\n",
       "  1\n",
       "  2\n",
       "  3"
      ]
     },
     "metadata": {},
     "execution_count": 60
    }
   ],
   "metadata": {}
  },
  {
   "cell_type": "markdown",
   "source": [
    "Other ways to make ranges."
   ],
   "metadata": {}
  },
  {
   "cell_type": "code",
   "execution_count": 61,
   "source": [
    "srange =1:-1:-5"
   ],
   "outputs": [
    {
     "output_type": "execute_result",
     "data": {
      "text/plain": [
       "1:-1:-5"
      ]
     },
     "metadata": {},
     "execution_count": 61
    }
   ],
   "metadata": {}
  },
  {
   "cell_type": "code",
   "execution_count": 62,
   "source": [
    "typeof(srange)"
   ],
   "outputs": [
    {
     "output_type": "execute_result",
     "data": {
      "text/plain": [
       "StepRange{Int64, Int64}"
      ]
     },
     "metadata": {},
     "execution_count": 62
    }
   ],
   "metadata": {}
  },
  {
   "cell_type": "code",
   "execution_count": 63,
   "source": [
    "#lrange = linspace(0,10,6) # deprecated in 0.7\n",
    "lrange = range(0, step=2, stop=10)"
   ],
   "outputs": [
    {
     "output_type": "execute_result",
     "data": {
      "text/plain": [
       "0:2:10"
      ]
     },
     "metadata": {},
     "execution_count": 63
    }
   ],
   "metadata": {}
  },
  {
   "cell_type": "code",
   "execution_count": 64,
   "source": [
    "typeof(lrange)"
   ],
   "outputs": [
    {
     "output_type": "execute_result",
     "data": {
      "text/plain": [
       "StepRange{Int64, Int64}"
      ]
     },
     "metadata": {},
     "execution_count": 64
    }
   ],
   "metadata": {}
  },
  {
   "cell_type": "code",
   "execution_count": null,
   "source": [
    "LinRange(0,10,6) # yet another option that looks the most like linspace !"
   ],
   "outputs": [],
   "metadata": {}
  },
  {
   "cell_type": "markdown",
   "source": [
    "### Aside: Comprehensions"
   ],
   "metadata": {}
  },
  {
   "cell_type": "markdown",
   "source": [
    "A convenient way to create arrays!"
   ],
   "metadata": {}
  },
  {
   "cell_type": "code",
   "execution_count": 65,
   "source": [
    "comp = [i+0.1 for i in 1:5]"
   ],
   "outputs": [
    {
     "output_type": "execute_result",
     "data": {
      "text/plain": [
       "5-element Vector{Float64}:\n",
       " 1.1\n",
       " 2.1\n",
       " 3.1\n",
       " 4.1\n",
       " 5.1"
      ]
     },
     "metadata": {},
     "execution_count": 65
    }
   ],
   "metadata": {}
  },
  {
   "cell_type": "code",
   "execution_count": 66,
   "source": [
    "comp = [i+0.1*j for i in 1:5, j in 1:4]"
   ],
   "outputs": [
    {
     "output_type": "execute_result",
     "data": {
      "text/plain": [
       "5×4 Matrix{Float64}:\n",
       " 1.1  1.2  1.3  1.4\n",
       " 2.1  2.2  2.3  2.4\n",
       " 3.1  3.2  3.3  3.4\n",
       " 4.1  4.2  4.3  4.4\n",
       " 5.1  5.2  5.3  5.4"
      ]
     },
     "metadata": {},
     "execution_count": 66
    }
   ],
   "metadata": {}
  },
  {
   "cell_type": "markdown",
   "source": [
    "## Defining functions"
   ],
   "metadata": {}
  },
  {
   "cell_type": "markdown",
   "source": [
    "Way 1"
   ],
   "metadata": {}
  },
  {
   "cell_type": "code",
   "execution_count": 67,
   "source": [
    "function f1(x,y)\n",
    "    z = x+y\n",
    "    return z\n",
    "end"
   ],
   "outputs": [
    {
     "output_type": "execute_result",
     "data": {
      "text/plain": [
       "f1 (generic function with 1 method)"
      ]
     },
     "metadata": {},
     "execution_count": 67
    }
   ],
   "metadata": {}
  },
  {
   "cell_type": "markdown",
   "source": [
    "Way 2"
   ],
   "metadata": {}
  },
  {
   "cell_type": "code",
   "execution_count": 68,
   "source": [
    "f2(x,y) = x+y"
   ],
   "outputs": [
    {
     "output_type": "execute_result",
     "data": {
      "text/plain": [
       "f2 (generic function with 1 method)"
      ]
     },
     "metadata": {},
     "execution_count": 68
    }
   ],
   "metadata": {}
  },
  {
   "cell_type": "markdown",
   "source": [
    "Way 3: Anonymous function"
   ],
   "metadata": {}
  },
  {
   "cell_type": "code",
   "execution_count": 69,
   "source": [
    "f3 = (x,y) -> x+y"
   ],
   "outputs": [
    {
     "output_type": "execute_result",
     "data": {
      "text/plain": [
       "#7 (generic function with 1 method)"
      ]
     },
     "metadata": {},
     "execution_count": 69
    }
   ],
   "metadata": {}
  },
  {
   "cell_type": "markdown",
   "source": [
    "Can return multiple outputs"
   ],
   "metadata": {}
  },
  {
   "cell_type": "code",
   "execution_count": 70,
   "source": [
    "function f_mult(x,y)\n",
    "    add = x+y\n",
    "    sub = x-y\n",
    "    return add,sub\n",
    "end"
   ],
   "outputs": [
    {
     "output_type": "execute_result",
     "data": {
      "text/plain": [
       "f_mult (generic function with 1 method)"
      ]
     },
     "metadata": {},
     "execution_count": 70
    }
   ],
   "metadata": {}
  },
  {
   "cell_type": "code",
   "execution_count": 71,
   "source": [
    "f_mult(2,3)"
   ],
   "outputs": [
    {
     "output_type": "execute_result",
     "data": {
      "text/plain": [
       "(5, -1)"
      ]
     },
     "metadata": {},
     "execution_count": 71
    }
   ],
   "metadata": {}
  },
  {
   "cell_type": "code",
   "execution_count": 72,
   "source": [
    "out_tuple = f_mult(2,3)"
   ],
   "outputs": [
    {
     "output_type": "execute_result",
     "data": {
      "text/plain": [
       "(5, -1)"
      ]
     },
     "metadata": {},
     "execution_count": 72
    }
   ],
   "metadata": {}
  },
  {
   "cell_type": "code",
   "execution_count": 73,
   "source": [
    "typeof(out_tuple)"
   ],
   "outputs": [
    {
     "output_type": "execute_result",
     "data": {
      "text/plain": [
       "Tuple{Int64, Int64}"
      ]
     },
     "metadata": {},
     "execution_count": 73
    }
   ],
   "metadata": {}
  },
  {
   "cell_type": "markdown",
   "source": [
    "Output is a `Tuple` of the outputs."
   ],
   "metadata": {}
  },
  {
   "cell_type": "markdown",
   "source": [
    "Convenient way to split out the outputs."
   ],
   "metadata": {}
  },
  {
   "cell_type": "code",
   "execution_count": 74,
   "source": [
    "out1,out2 = f_mult(2,3)"
   ],
   "outputs": [
    {
     "output_type": "execute_result",
     "data": {
      "text/plain": [
       "(5, -1)"
      ]
     },
     "metadata": {},
     "execution_count": 74
    }
   ],
   "metadata": {}
  },
  {
   "cell_type": "code",
   "execution_count": 75,
   "source": [
    "out1"
   ],
   "outputs": [
    {
     "output_type": "execute_result",
     "data": {
      "text/plain": [
       "5"
      ]
     },
     "metadata": {},
     "execution_count": 75
    }
   ],
   "metadata": {}
  },
  {
   "cell_type": "code",
   "execution_count": 76,
   "source": [
    "out2"
   ],
   "outputs": [
    {
     "output_type": "execute_result",
     "data": {
      "text/plain": [
       "-1"
      ]
     },
     "metadata": {},
     "execution_count": 76
    }
   ],
   "metadata": {}
  },
  {
   "cell_type": "markdown",
   "source": [
    "Any function can be \"vectorized\" using \"broadcast\" capability."
   ],
   "metadata": {}
  },
  {
   "cell_type": "code",
   "execution_count": 77,
   "source": [
    "myquad = x -> (x+1)^2"
   ],
   "outputs": [
    {
     "output_type": "execute_result",
     "data": {
      "text/plain": [
       "#9 (generic function with 1 method)"
      ]
     },
     "metadata": {},
     "execution_count": 77
    }
   ],
   "metadata": {}
  },
  {
   "cell_type": "code",
   "execution_count": 78,
   "source": [
    "myquad(1)"
   ],
   "outputs": [
    {
     "output_type": "execute_result",
     "data": {
      "text/plain": [
       "4"
      ]
     },
     "metadata": {},
     "execution_count": 78
    }
   ],
   "metadata": {}
  },
  {
   "cell_type": "code",
   "execution_count": 79,
   "source": [
    "myquad([1,2,3]) # this does not work!  but see next cell!"
   ],
   "outputs": [
    {
     "output_type": "error",
     "ename": "LoadError",
     "evalue": "MethodError: no method matching +(::Vector{Int64}, ::Int64)\nFor element-wise addition, use broadcasting with dot syntax: array .+ scalar\n\u001b[0mClosest candidates are:\n\u001b[0m  +(::Any, ::Any, \u001b[91m::Any\u001b[39m, \u001b[91m::Any...\u001b[39m) at operators.jl:560\n\u001b[0m  +(\u001b[91m::T\u001b[39m, ::T) where T<:Union{Int128, Int16, Int32, Int64, Int8, UInt128, UInt16, UInt32, UInt64, UInt8} at int.jl:87\n\u001b[0m  +(\u001b[91m::Rational\u001b[39m, ::Integer) at rational.jl:289\n\u001b[0m  ...",
     "traceback": [
      "MethodError: no method matching +(::Vector{Int64}, ::Int64)\nFor element-wise addition, use broadcasting with dot syntax: array .+ scalar\n\u001b[0mClosest candidates are:\n\u001b[0m  +(::Any, ::Any, \u001b[91m::Any\u001b[39m, \u001b[91m::Any...\u001b[39m) at operators.jl:560\n\u001b[0m  +(\u001b[91m::T\u001b[39m, ::T) where T<:Union{Int128, Int16, Int32, Int64, Int8, UInt128, UInt16, UInt32, UInt64, UInt8} at int.jl:87\n\u001b[0m  +(\u001b[91m::Rational\u001b[39m, ::Integer) at rational.jl:289\n\u001b[0m  ...",
      "",
      "Stacktrace:",
      " [1] (::var\"#9#10\")(x::Vector{Int64})",
      "   @ Main ./In[77]:1",
      " [2] top-level scope",
      "   @ In[79]:1",
      " [3] eval",
      "   @ ./boot.jl:360 [inlined]",
      " [4] include_string(mapexpr::typeof(REPL.softscope), mod::Module, code::String, filename::String)",
      "   @ Base ./loading.jl:1116"
     ]
    }
   ],
   "metadata": {}
  },
  {
   "cell_type": "markdown",
   "source": [
    "This particular function was not designed to be applied to vector input arguments!  \n",
    "But it can be used with vectors by adding a \".\" to tell Julia to apply it element-wise.\n",
    "This is called a \"broadcast\""
   ],
   "metadata": {}
  },
  {
   "cell_type": "code",
   "execution_count": 80,
   "source": [
    "myquad.([1,2,3])"
   ],
   "outputs": [
    {
     "output_type": "execute_result",
     "data": {
      "text/plain": [
       "3-element Vector{Int64}:\n",
       "  4\n",
       "  9\n",
       " 16"
      ]
     },
     "metadata": {},
     "execution_count": 80
    }
   ],
   "metadata": {}
  },
  {
   "cell_type": "markdown",
   "source": [
    "More info here: https://docs.julialang.org/en/latest/manual/functions/"
   ],
   "metadata": {
    "lines_to_next_cell": 2
   }
  },
  {
   "cell_type": "markdown",
   "source": [
    "### Conditionals: If, Else, End, For"
   ],
   "metadata": {}
  },
  {
   "cell_type": "markdown",
   "source": [
    "Generally similar to Matlab. Optional use of `in` instead of `=` in the for loop."
   ],
   "metadata": {}
  },
  {
   "cell_type": "code",
   "execution_count": 81,
   "source": [
    "for j in 1:3\n",
    "    if j == 2\n",
    "        println(\"This is a two! ^^\")\n",
    "    else\n",
    "        println(\"This is not a two. :(\")\n",
    "    end\n",
    "end"
   ],
   "outputs": [
    {
     "output_type": "stream",
     "name": "stdout",
     "text": [
      "This is not a two. :(\n",
      "This is a two! ^^\n",
      "This is not a two. :(\n"
     ]
    }
   ],
   "metadata": {}
  },
  {
   "cell_type": "markdown",
   "source": [
    "Julia has the convenient ternary operator."
   ],
   "metadata": {}
  },
  {
   "cell_type": "code",
   "execution_count": 82,
   "source": [
    "mystring = 2 > 3 ? \"2 is greater than 3\" : \"2 is not greater than 3\""
   ],
   "outputs": [
    {
     "output_type": "execute_result",
     "data": {
      "text/plain": [
       "\"2 is not greater than 3\""
      ]
     },
     "metadata": {},
     "execution_count": 82
    }
   ],
   "metadata": {
    "lines_to_next_cell": 2
   }
  },
  {
   "cell_type": "markdown",
   "source": [
    "## Plotting\n",
    "Suggested package: `Plots.jl` with its default `gr` backend.\n",
    "\n",
    "**Note:** Usually slow the first time due to precompiling.  \n",
    "You must `add` the \"Plots\" package first.\n",
    "In a regular Julia REPL you do this by using the `]` key to enter the package manager REPL, and then type `add Plots` then wait.  \n",
    "In a Jupyter notebook, type `using Pkg` then `add Plots` and wait."
   ],
   "metadata": {}
  },
  {
   "cell_type": "code",
   "execution_count": 83,
   "source": [
    "using Plots\n",
    "backend()"
   ],
   "outputs": [
    {
     "output_type": "execute_result",
     "data": {
      "text/plain": [
       "Plots.GRBackend()"
      ]
     },
     "metadata": {},
     "execution_count": 83
    }
   ],
   "metadata": {}
  },
  {
   "cell_type": "markdown",
   "source": [
    "Plot values from a vector.  (The labels are optional arguments.)"
   ],
   "metadata": {}
  },
  {
   "cell_type": "code",
   "execution_count": 84,
   "source": [
    "x = LinRange(-5,5,101)\n",
    "y = x.^2\n",
    "plot(x, y, xlabel=\"x\", ylabel=\"y\", label=\"parabola\")"
   ],
   "outputs": [
    {
     "output_type": "execute_result",
     "data": {
      "image/svg+xml": "<?xml version=\"1.0\" encoding=\"utf-8\"?>\n<svg xmlns=\"http://www.w3.org/2000/svg\" xmlns:xlink=\"http://www.w3.org/1999/xlink\" width=\"600\" height=\"400\" viewBox=\"0 0 2400 1600\">\n<defs>\n  <clipPath id=\"clip230\">\n    <rect x=\"0\" y=\"0\" width=\"2400\" height=\"1600\"/>\n  </clipPath>\n</defs>\n<path clip-path=\"url(#clip230)\" d=\"\nM0 1600 L2400 1600 L2400 0 L0 0  Z\n  \" fill=\"#ffffff\" fill-rule=\"evenodd\" fill-opacity=\"1\"/>\n<defs>\n  <clipPath id=\"clip231\">\n    <rect x=\"480\" y=\"0\" width=\"1681\" height=\"1600\"/>\n  </clipPath>\n</defs>\n<path clip-path=\"url(#clip230)\" d=\"\nM203.964 1423.18 L2352.76 1423.18 L2352.76 47.2441 L203.964 47.2441  Z\n  \" fill=\"#ffffff\" fill-rule=\"evenodd\" fill-opacity=\"1\"/>\n<defs>\n  <clipPath id=\"clip232\">\n    <rect x=\"203\" y=\"47\" width=\"2150\" height=\"1377\"/>\n  </clipPath>\n</defs>\n<polyline clip-path=\"url(#clip232)\" style=\"stroke:#000000; stroke-linecap:butt; stroke-linejoin:round; stroke-width:2; stroke-opacity:0.1; fill:none\" points=\"\n  467.495,1423.18 467.495,47.2441 \n  \"/>\n<polyline clip-path=\"url(#clip232)\" style=\"stroke:#000000; stroke-linecap:butt; stroke-linejoin:round; stroke-width:2; stroke-opacity:0.1; fill:none\" points=\"\n  872.927,1423.18 872.927,47.2441 \n  \"/>\n<polyline clip-path=\"url(#clip232)\" style=\"stroke:#000000; stroke-linecap:butt; stroke-linejoin:round; stroke-width:2; stroke-opacity:0.1; fill:none\" points=\"\n  1278.36,1423.18 1278.36,47.2441 \n  \"/>\n<polyline clip-path=\"url(#clip232)\" style=\"stroke:#000000; stroke-linecap:butt; stroke-linejoin:round; stroke-width:2; stroke-opacity:0.1; fill:none\" points=\"\n  1683.79,1423.18 1683.79,47.2441 \n  \"/>\n<polyline clip-path=\"url(#clip232)\" style=\"stroke:#000000; stroke-linecap:butt; stroke-linejoin:round; stroke-width:2; stroke-opacity:0.1; fill:none\" points=\"\n  2089.22,1423.18 2089.22,47.2441 \n  \"/>\n<polyline clip-path=\"url(#clip230)\" style=\"stroke:#000000; stroke-linecap:butt; stroke-linejoin:round; stroke-width:4; stroke-opacity:1; fill:none\" points=\"\n  203.964,1423.18 2352.76,1423.18 \n  \"/>\n<polyline clip-path=\"url(#clip230)\" style=\"stroke:#000000; stroke-linecap:butt; stroke-linejoin:round; stroke-width:4; stroke-opacity:1; fill:none\" points=\"\n  467.495,1423.18 467.495,1404.28 \n  \"/>\n<polyline clip-path=\"url(#clip230)\" style=\"stroke:#000000; stroke-linecap:butt; stroke-linejoin:round; stroke-width:4; stroke-opacity:1; fill:none\" points=\"\n  872.927,1423.18 872.927,1404.28 \n  \"/>\n<polyline clip-path=\"url(#clip230)\" style=\"stroke:#000000; stroke-linecap:butt; stroke-linejoin:round; stroke-width:4; stroke-opacity:1; fill:none\" points=\"\n  1278.36,1423.18 1278.36,1404.28 \n  \"/>\n<polyline clip-path=\"url(#clip230)\" style=\"stroke:#000000; stroke-linecap:butt; stroke-linejoin:round; stroke-width:4; stroke-opacity:1; fill:none\" points=\"\n  1683.79,1423.18 1683.79,1404.28 \n  \"/>\n<polyline clip-path=\"url(#clip230)\" style=\"stroke:#000000; stroke-linecap:butt; stroke-linejoin:round; stroke-width:4; stroke-opacity:1; fill:none\" points=\"\n  2089.22,1423.18 2089.22,1404.28 \n  \"/>\n<path clip-path=\"url(#clip230)\" d=\"M436.395 1467.02 L466.071 1467.02 L466.071 1470.96 L436.395 1470.96 L436.395 1467.02 Z\" fill=\"#000000\" fill-rule=\"evenodd\" fill-opacity=\"1\" /><path clip-path=\"url(#clip230)\" d=\"M489.011 1453.37 L477.205 1471.81 L489.011 1471.81 L489.011 1453.37 M487.784 1449.29 L493.664 1449.29 L493.664 1471.81 L498.594 1471.81 L498.594 1475.7 L493.664 1475.7 L493.664 1483.85 L489.011 1483.85 L489.011 1475.7 L473.409 1475.7 L473.409 1471.19 L487.784 1449.29 Z\" fill=\"#000000\" fill-rule=\"evenodd\" fill-opacity=\"1\" /><path clip-path=\"url(#clip230)\" d=\"M842.87 1467.02 L872.545 1467.02 L872.545 1470.96 L842.87 1470.96 L842.87 1467.02 Z\" fill=\"#000000\" fill-rule=\"evenodd\" fill-opacity=\"1\" /><path clip-path=\"url(#clip230)\" d=\"M886.666 1479.92 L902.985 1479.92 L902.985 1483.85 L881.041 1483.85 L881.041 1479.92 Q883.703 1477.16 888.286 1472.53 Q892.892 1467.88 894.073 1466.54 Q896.318 1464.01 897.198 1462.28 Q898.101 1460.52 898.101 1458.83 Q898.101 1456.07 896.156 1454.34 Q894.235 1452.6 891.133 1452.6 Q888.934 1452.6 886.48 1453.37 Q884.05 1454.13 881.272 1455.68 L881.272 1450.96 Q884.096 1449.82 886.55 1449.25 Q889.004 1448.67 891.041 1448.67 Q896.411 1448.67 899.605 1451.35 Q902.8 1454.04 902.8 1458.53 Q902.8 1460.66 901.99 1462.58 Q901.203 1464.48 899.096 1467.07 Q898.517 1467.74 895.416 1470.96 Q892.314 1474.15 886.666 1479.92 Z\" fill=\"#000000\" fill-rule=\"evenodd\" fill-opacity=\"1\" /><path clip-path=\"url(#clip230)\" d=\"M1278.36 1452.37 Q1274.75 1452.37 1272.92 1455.94 Q1271.11 1459.48 1271.11 1466.61 Q1271.11 1473.71 1272.92 1477.28 Q1274.75 1480.82 1278.36 1480.82 Q1281.99 1480.82 1283.8 1477.28 Q1285.63 1473.71 1285.63 1466.61 Q1285.63 1459.48 1283.8 1455.94 Q1281.99 1452.37 1278.36 1452.37 M1278.36 1448.67 Q1284.17 1448.67 1287.23 1453.27 Q1290.3 1457.86 1290.3 1466.61 Q1290.3 1475.33 1287.23 1479.94 Q1284.17 1484.52 1278.36 1484.52 Q1272.55 1484.52 1269.47 1479.94 Q1266.42 1475.33 1266.42 1466.61 Q1266.42 1457.86 1269.47 1453.27 Q1272.55 1448.67 1278.36 1448.67 Z\" fill=\"#000000\" fill-rule=\"evenodd\" fill-opacity=\"1\" /><path clip-path=\"url(#clip230)\" d=\"M1678.45 1479.92 L1694.76 1479.92 L1694.76 1483.85 L1672.82 1483.85 L1672.82 1479.92 Q1675.48 1477.16 1680.07 1472.53 Q1684.67 1467.88 1685.85 1466.54 Q1688.1 1464.01 1688.98 1462.28 Q1689.88 1460.52 1689.88 1458.83 Q1689.88 1456.07 1687.94 1454.34 Q1686.01 1452.6 1682.91 1452.6 Q1680.71 1452.6 1678.26 1453.37 Q1675.83 1454.13 1673.05 1455.68 L1673.05 1450.96 Q1675.88 1449.82 1678.33 1449.25 Q1680.78 1448.67 1682.82 1448.67 Q1688.19 1448.67 1691.38 1451.35 Q1694.58 1454.04 1694.58 1458.53 Q1694.58 1460.66 1693.77 1462.58 Q1692.98 1464.48 1690.88 1467.07 Q1690.3 1467.74 1687.2 1470.96 Q1684.09 1474.15 1678.45 1479.92 Z\" fill=\"#000000\" fill-rule=\"evenodd\" fill-opacity=\"1\" /><path clip-path=\"url(#clip230)\" d=\"M2092.23 1453.37 L2080.43 1471.81 L2092.23 1471.81 L2092.23 1453.37 M2091.01 1449.29 L2096.89 1449.29 L2096.89 1471.81 L2101.82 1471.81 L2101.82 1475.7 L2096.89 1475.7 L2096.89 1483.85 L2092.23 1483.85 L2092.23 1475.7 L2076.63 1475.7 L2076.63 1471.19 L2091.01 1449.29 Z\" fill=\"#000000\" fill-rule=\"evenodd\" fill-opacity=\"1\" /><path clip-path=\"url(#clip230)\" d=\"M1294.97 1532.4 L1282.08 1549.74 L1295.64 1568.04 L1288.74 1568.04 L1278.36 1554.04 L1267.98 1568.04 L1261.08 1568.04 L1274.92 1549.39 L1262.25 1532.4 L1269.16 1532.4 L1278.61 1545.1 L1288.07 1532.4 L1294.97 1532.4 Z\" fill=\"#000000\" fill-rule=\"evenodd\" fill-opacity=\"1\" /><polyline clip-path=\"url(#clip232)\" style=\"stroke:#000000; stroke-linecap:butt; stroke-linejoin:round; stroke-width:2; stroke-opacity:0.1; fill:none\" points=\"\n  203.964,1384.24 2352.76,1384.24 \n  \"/>\n<polyline clip-path=\"url(#clip232)\" style=\"stroke:#000000; stroke-linecap:butt; stroke-linejoin:round; stroke-width:2; stroke-opacity:0.1; fill:none\" points=\"\n  203.964,1124.63 2352.76,1124.63 \n  \"/>\n<polyline clip-path=\"url(#clip232)\" style=\"stroke:#000000; stroke-linecap:butt; stroke-linejoin:round; stroke-width:2; stroke-opacity:0.1; fill:none\" points=\"\n  203.964,865.017 2352.76,865.017 \n  \"/>\n<polyline clip-path=\"url(#clip232)\" style=\"stroke:#000000; stroke-linecap:butt; stroke-linejoin:round; stroke-width:2; stroke-opacity:0.1; fill:none\" points=\"\n  203.964,605.407 2352.76,605.407 \n  \"/>\n<polyline clip-path=\"url(#clip232)\" style=\"stroke:#000000; stroke-linecap:butt; stroke-linejoin:round; stroke-width:2; stroke-opacity:0.1; fill:none\" points=\"\n  203.964,345.796 2352.76,345.796 \n  \"/>\n<polyline clip-path=\"url(#clip232)\" style=\"stroke:#000000; stroke-linecap:butt; stroke-linejoin:round; stroke-width:2; stroke-opacity:0.1; fill:none\" points=\"\n  203.964,86.1857 2352.76,86.1857 \n  \"/>\n<polyline clip-path=\"url(#clip230)\" style=\"stroke:#000000; stroke-linecap:butt; stroke-linejoin:round; stroke-width:4; stroke-opacity:1; fill:none\" points=\"\n  203.964,1423.18 203.964,47.2441 \n  \"/>\n<polyline clip-path=\"url(#clip230)\" style=\"stroke:#000000; stroke-linecap:butt; stroke-linejoin:round; stroke-width:4; stroke-opacity:1; fill:none\" points=\"\n  203.964,1384.24 222.861,1384.24 \n  \"/>\n<polyline clip-path=\"url(#clip230)\" style=\"stroke:#000000; stroke-linecap:butt; stroke-linejoin:round; stroke-width:4; stroke-opacity:1; fill:none\" points=\"\n  203.964,1124.63 222.861,1124.63 \n  \"/>\n<polyline clip-path=\"url(#clip230)\" style=\"stroke:#000000; stroke-linecap:butt; stroke-linejoin:round; stroke-width:4; stroke-opacity:1; fill:none\" points=\"\n  203.964,865.017 222.861,865.017 \n  \"/>\n<polyline clip-path=\"url(#clip230)\" style=\"stroke:#000000; stroke-linecap:butt; stroke-linejoin:round; stroke-width:4; stroke-opacity:1; fill:none\" points=\"\n  203.964,605.407 222.861,605.407 \n  \"/>\n<polyline clip-path=\"url(#clip230)\" style=\"stroke:#000000; stroke-linecap:butt; stroke-linejoin:round; stroke-width:4; stroke-opacity:1; fill:none\" points=\"\n  203.964,345.796 222.861,345.796 \n  \"/>\n<polyline clip-path=\"url(#clip230)\" style=\"stroke:#000000; stroke-linecap:butt; stroke-linejoin:round; stroke-width:4; stroke-opacity:1; fill:none\" points=\"\n  203.964,86.1857 222.861,86.1857 \n  \"/>\n<path clip-path=\"url(#clip230)\" d=\"M156.019 1370.04 Q152.408 1370.04 150.579 1373.6 Q148.774 1377.14 148.774 1384.27 Q148.774 1391.38 150.579 1394.94 Q152.408 1398.49 156.019 1398.49 Q159.653 1398.49 161.459 1394.94 Q163.288 1391.38 163.288 1384.27 Q163.288 1377.14 161.459 1373.6 Q159.653 1370.04 156.019 1370.04 M156.019 1366.33 Q161.829 1366.33 164.885 1370.94 Q167.964 1375.52 167.964 1384.27 Q167.964 1393 164.885 1397.61 Q161.829 1402.19 156.019 1402.19 Q150.209 1402.19 147.13 1397.61 Q144.075 1393 144.075 1384.27 Q144.075 1375.52 147.13 1370.94 Q150.209 1366.33 156.019 1366.33 Z\" fill=\"#000000\" fill-rule=\"evenodd\" fill-opacity=\"1\" /><path clip-path=\"url(#clip230)\" d=\"M147.061 1107.35 L165.417 1107.35 L165.417 1111.28 L151.343 1111.28 L151.343 1119.76 Q152.362 1119.41 153.38 1119.25 Q154.399 1119.06 155.417 1119.06 Q161.204 1119.06 164.584 1122.23 Q167.964 1125.4 167.964 1130.82 Q167.964 1136.4 164.491 1139.5 Q161.019 1142.58 154.7 1142.58 Q152.524 1142.58 150.255 1142.21 Q148.01 1141.84 145.603 1141.1 L145.603 1136.4 Q147.686 1137.53 149.908 1138.09 Q152.13 1138.64 154.607 1138.64 Q158.612 1138.64 160.95 1136.54 Q163.288 1134.43 163.288 1130.82 Q163.288 1127.21 160.95 1125.1 Q158.612 1123 154.607 1123 Q152.732 1123 150.857 1123.41 Q149.005 1123.83 147.061 1124.71 L147.061 1107.35 Z\" fill=\"#000000\" fill-rule=\"evenodd\" fill-opacity=\"1\" /><path clip-path=\"url(#clip230)\" d=\"M116.668 878.362 L124.306 878.362 L124.306 851.996 L115.996 853.663 L115.996 849.404 L124.26 847.737 L128.936 847.737 L128.936 878.362 L136.575 878.362 L136.575 882.297 L116.668 882.297 L116.668 878.362 Z\" fill=\"#000000\" fill-rule=\"evenodd\" fill-opacity=\"1\" /><path clip-path=\"url(#clip230)\" d=\"M156.019 850.816 Q152.408 850.816 150.579 854.381 Q148.774 857.922 148.774 865.052 Q148.774 872.158 150.579 875.723 Q152.408 879.265 156.019 879.265 Q159.653 879.265 161.459 875.723 Q163.288 872.158 163.288 865.052 Q163.288 857.922 161.459 854.381 Q159.653 850.816 156.019 850.816 M156.019 847.112 Q161.829 847.112 164.885 851.719 Q167.964 856.302 167.964 865.052 Q167.964 873.779 164.885 878.385 Q161.829 882.969 156.019 882.969 Q150.209 882.969 147.13 878.385 Q144.075 873.779 144.075 865.052 Q144.075 856.302 147.13 851.719 Q150.209 847.112 156.019 847.112 Z\" fill=\"#000000\" fill-rule=\"evenodd\" fill-opacity=\"1\" /><path clip-path=\"url(#clip230)\" d=\"M117.663 618.752 L125.302 618.752 L125.302 592.386 L116.992 594.053 L116.992 589.793 L125.255 588.127 L129.931 588.127 L129.931 618.752 L137.57 618.752 L137.57 622.687 L117.663 622.687 L117.663 618.752 Z\" fill=\"#000000\" fill-rule=\"evenodd\" fill-opacity=\"1\" /><path clip-path=\"url(#clip230)\" d=\"M147.061 588.127 L165.417 588.127 L165.417 592.062 L151.343 592.062 L151.343 600.534 Q152.362 600.187 153.38 600.025 Q154.399 599.84 155.417 599.84 Q161.204 599.84 164.584 603.011 Q167.964 606.182 167.964 611.599 Q167.964 617.177 164.491 620.279 Q161.019 623.358 154.7 623.358 Q152.524 623.358 150.255 622.988 Q148.01 622.617 145.603 621.877 L145.603 617.177 Q147.686 618.312 149.908 618.867 Q152.13 619.423 154.607 619.423 Q158.612 619.423 160.95 617.316 Q163.288 615.21 163.288 611.599 Q163.288 607.988 160.95 605.881 Q158.612 603.775 154.607 603.775 Q152.732 603.775 150.857 604.191 Q149.005 604.608 147.061 605.488 L147.061 588.127 Z\" fill=\"#000000\" fill-rule=\"evenodd\" fill-opacity=\"1\" /><path clip-path=\"url(#clip230)\" d=\"M119.885 359.141 L136.204 359.141 L136.204 363.076 L114.26 363.076 L114.26 359.141 Q116.922 356.386 121.505 351.757 Q126.112 347.104 127.292 345.761 Q129.538 343.238 130.417 341.502 Q131.32 339.743 131.32 338.053 Q131.32 335.299 129.376 333.562 Q127.455 331.826 124.353 331.826 Q122.154 331.826 119.7 332.59 Q117.269 333.354 114.492 334.905 L114.492 330.183 Q117.316 329.049 119.769 328.47 Q122.223 327.891 124.26 327.891 Q129.63 327.891 132.825 330.576 Q136.019 333.262 136.019 337.752 Q136.019 339.882 135.209 341.803 Q134.422 343.701 132.316 346.294 Q131.737 346.965 128.635 350.183 Q125.533 353.377 119.885 359.141 Z\" fill=\"#000000\" fill-rule=\"evenodd\" fill-opacity=\"1\" /><path clip-path=\"url(#clip230)\" d=\"M156.019 331.595 Q152.408 331.595 150.579 335.16 Q148.774 338.701 148.774 345.831 Q148.774 352.937 150.579 356.502 Q152.408 360.044 156.019 360.044 Q159.653 360.044 161.459 356.502 Q163.288 352.937 163.288 345.831 Q163.288 338.701 161.459 335.16 Q159.653 331.595 156.019 331.595 M156.019 327.891 Q161.829 327.891 164.885 332.498 Q167.964 337.081 167.964 345.831 Q167.964 354.558 164.885 359.164 Q161.829 363.747 156.019 363.747 Q150.209 363.747 147.13 359.164 Q144.075 354.558 144.075 345.831 Q144.075 337.081 147.13 332.498 Q150.209 327.891 156.019 327.891 Z\" fill=\"#000000\" fill-rule=\"evenodd\" fill-opacity=\"1\" /><path clip-path=\"url(#clip230)\" d=\"M120.88 99.5305 L137.2 99.5305 L137.2 103.466 L115.256 103.466 L115.256 99.5305 Q117.918 96.7759 122.501 92.1463 Q127.107 87.4935 128.288 86.151 Q130.533 83.6278 131.413 81.8917 Q132.316 80.1325 132.316 78.4427 Q132.316 75.688 130.371 73.9519 Q128.45 72.2158 125.348 72.2158 Q123.149 72.2158 120.695 72.9797 Q118.265 73.7436 115.487 75.2945 L115.487 70.5723 Q118.311 69.4381 120.765 68.8594 Q123.218 68.2807 125.255 68.2807 Q130.626 68.2807 133.82 70.9658 Q137.015 73.651 137.015 78.1417 Q137.015 80.2714 136.204 82.1926 Q135.417 84.0908 133.311 86.6834 Q132.732 87.3546 129.63 90.5722 Q126.529 93.7667 120.88 99.5305 Z\" fill=\"#000000\" fill-rule=\"evenodd\" fill-opacity=\"1\" /><path clip-path=\"url(#clip230)\" d=\"M147.061 68.9057 L165.417 68.9057 L165.417 72.8408 L151.343 72.8408 L151.343 81.313 Q152.362 80.9658 153.38 80.8038 Q154.399 80.6186 155.417 80.6186 Q161.204 80.6186 164.584 83.7899 Q167.964 86.9611 167.964 92.3778 Q167.964 97.9564 164.491 101.058 Q161.019 104.137 154.7 104.137 Q152.524 104.137 150.255 103.767 Q148.01 103.396 145.603 102.655 L145.603 97.9564 Q147.686 99.0907 149.908 99.6462 Q152.13 100.202 154.607 100.202 Q158.612 100.202 160.95 98.0953 Q163.288 95.9889 163.288 92.3778 Q163.288 88.7667 160.95 86.6602 Q158.612 84.5537 154.607 84.5537 Q152.732 84.5537 150.857 84.9704 Q149.005 85.3871 147.061 86.2667 L147.061 68.9057 Z\" fill=\"#000000\" fill-rule=\"evenodd\" fill-opacity=\"1\" /><path clip-path=\"url(#clip230)\" d=\"M67.3143 733.525 Q73.68 736.008 75.6216 738.363 Q77.5631 740.718 77.5631 744.665 L77.5631 749.344 L72.6615 749.344 L72.6615 745.906 Q72.6615 743.487 71.5157 742.151 Q70.3699 740.814 66.1048 739.191 L63.4312 738.14 L28.3562 752.559 L28.3562 746.352 L56.238 735.212 L28.3562 724.072 L28.3562 717.865 L67.3143 733.525 Z\" fill=\"#000000\" fill-rule=\"evenodd\" fill-opacity=\"1\" /><polyline clip-path=\"url(#clip232)\" style=\"stroke:#009af9; stroke-linecap:butt; stroke-linejoin:round; stroke-width:4; stroke-opacity:1; fill:none\" points=\"\n  264.778,86.1857 285.05,137.589 305.322,187.953 325.593,237.279 345.865,285.567 366.137,332.816 386.408,379.026 406.68,424.199 426.951,468.332 447.223,511.428 \n  467.495,553.485 487.766,594.503 508.038,634.483 528.31,673.425 548.581,711.328 568.853,748.192 589.124,784.019 609.396,818.807 629.668,852.556 649.939,885.267 \n  670.211,916.939 690.483,947.573 710.754,977.169 731.026,1005.73 751.297,1033.24 771.569,1059.73 791.841,1085.17 812.112,1109.57 832.384,1132.94 852.656,1155.26 \n  872.927,1176.55 893.199,1196.8 913.47,1216.01 933.742,1234.18 954.014,1251.32 974.285,1267.41 994.557,1282.47 1014.83,1296.49 1035.1,1309.47 1055.37,1321.41 \n  1075.64,1332.32 1095.92,1342.18 1116.19,1351.01 1136.46,1358.8 1156.73,1365.55 1177,1371.26 1197.27,1375.93 1217.54,1379.57 1237.82,1382.16 1258.09,1383.72 \n  1278.36,1384.24 1298.63,1383.72 1318.9,1382.16 1339.17,1379.57 1359.45,1375.93 1379.72,1371.26 1399.99,1365.55 1420.26,1358.8 1440.53,1351.01 1460.8,1342.18 \n  1481.08,1332.32 1501.35,1321.41 1521.62,1309.47 1541.89,1296.49 1562.16,1282.47 1582.43,1267.41 1602.71,1251.32 1622.98,1234.18 1643.25,1216.01 1663.52,1196.8 \n  1683.79,1176.55 1704.06,1155.26 1724.34,1132.94 1744.61,1109.57 1764.88,1085.17 1785.15,1059.73 1805.42,1033.24 1825.69,1005.73 1845.97,977.169 1866.24,947.573 \n  1886.51,916.939 1906.78,885.267 1927.05,852.556 1947.32,818.807 1967.6,784.019 1987.87,748.192 2008.14,711.328 2028.41,673.425 2048.68,634.483 2068.95,594.503 \n  2089.22,553.485 2109.5,511.428 2129.77,468.332 2150.04,424.199 2170.31,379.026 2190.58,332.816 2210.85,285.567 2231.13,237.279 2251.4,187.953 2271.67,137.589 \n  2291.94,86.1857 \n  \"/>\n<path clip-path=\"url(#clip230)\" d=\"\nM1841.98 196.789 L2281.13 196.789 L2281.13 93.1086 L1841.98 93.1086  Z\n  \" fill=\"#ffffff\" fill-rule=\"evenodd\" fill-opacity=\"1\"/>\n<polyline clip-path=\"url(#clip230)\" style=\"stroke:#000000; stroke-linecap:butt; stroke-linejoin:round; stroke-width:4; stroke-opacity:1; fill:none\" points=\"\n  1841.98,196.789 2281.13,196.789 2281.13,93.1086 1841.98,93.1086 1841.98,196.789 \n  \"/>\n<polyline clip-path=\"url(#clip230)\" style=\"stroke:#009af9; stroke-linecap:butt; stroke-linejoin:round; stroke-width:4; stroke-opacity:1; fill:none\" points=\"\n  1865.86,144.949 2009.11,144.949 \n  \"/>\n<path clip-path=\"url(#clip230)\" d=\"M2037.27 158.34 L2037.27 172.09 L2032.99 172.09 L2032.99 136.303 L2037.27 136.303 L2037.27 140.238 Q2038.61 137.923 2040.65 136.812 Q2042.71 135.678 2045.56 135.678 Q2050.28 135.678 2053.22 139.428 Q2056.18 143.178 2056.18 149.289 Q2056.18 155.4 2053.22 159.15 Q2050.28 162.9 2045.56 162.9 Q2042.71 162.9 2040.65 161.789 Q2038.61 160.655 2037.27 158.34 M2051.76 149.289 Q2051.76 144.59 2049.81 141.928 Q2047.89 139.243 2044.51 139.243 Q2041.13 139.243 2039.19 141.928 Q2037.27 144.59 2037.27 149.289 Q2037.27 153.988 2039.19 156.673 Q2041.13 159.335 2044.51 159.335 Q2047.89 159.335 2049.81 156.673 Q2051.76 153.988 2051.76 149.289 Z\" fill=\"#000000\" fill-rule=\"evenodd\" fill-opacity=\"1\" /><path clip-path=\"url(#clip230)\" d=\"M2075.02 149.196 Q2069.86 149.196 2067.87 150.377 Q2065.88 151.557 2065.88 154.405 Q2065.88 156.673 2067.36 158.016 Q2068.87 159.335 2071.43 159.335 Q2074.98 159.335 2077.11 156.835 Q2079.26 154.312 2079.26 150.145 L2079.26 149.196 L2075.02 149.196 M2083.52 147.437 L2083.52 162.229 L2079.26 162.229 L2079.26 158.293 Q2077.8 160.655 2075.62 161.789 Q2073.45 162.9 2070.3 162.9 Q2066.32 162.9 2063.96 160.678 Q2061.62 158.432 2061.62 154.682 Q2061.62 150.307 2064.54 148.085 Q2067.48 145.863 2073.29 145.863 L2079.26 145.863 L2079.26 145.446 Q2079.26 142.507 2077.31 140.909 Q2075.39 139.289 2071.9 139.289 Q2069.68 139.289 2067.57 139.821 Q2065.46 140.354 2063.52 141.419 L2063.52 137.483 Q2065.86 136.581 2068.06 136.141 Q2070.25 135.678 2072.34 135.678 Q2077.96 135.678 2080.74 138.594 Q2083.52 141.511 2083.52 147.437 Z\" fill=\"#000000\" fill-rule=\"evenodd\" fill-opacity=\"1\" /><path clip-path=\"url(#clip230)\" d=\"M2107.31 140.284 Q2106.6 139.868 2105.74 139.682 Q2104.91 139.474 2103.89 139.474 Q2100.28 139.474 2098.33 141.835 Q2096.41 144.173 2096.41 148.571 L2096.41 162.229 L2092.13 162.229 L2092.13 136.303 L2096.41 136.303 L2096.41 140.331 Q2097.75 137.969 2099.91 136.835 Q2102.06 135.678 2105.14 135.678 Q2105.58 135.678 2106.11 135.747 Q2106.64 135.794 2107.29 135.909 L2107.31 140.284 Z\" fill=\"#000000\" fill-rule=\"evenodd\" fill-opacity=\"1\" /><path clip-path=\"url(#clip230)\" d=\"M2123.56 149.196 Q2118.4 149.196 2116.41 150.377 Q2114.42 151.557 2114.42 154.405 Q2114.42 156.673 2115.9 158.016 Q2117.41 159.335 2119.98 159.335 Q2123.52 159.335 2125.65 156.835 Q2127.8 154.312 2127.8 150.145 L2127.8 149.196 L2123.56 149.196 M2132.06 147.437 L2132.06 162.229 L2127.8 162.229 L2127.8 158.293 Q2126.34 160.655 2124.17 161.789 Q2121.99 162.9 2118.84 162.9 Q2114.86 162.9 2112.5 160.678 Q2110.16 158.432 2110.16 154.682 Q2110.16 150.307 2113.08 148.085 Q2116.02 145.863 2121.83 145.863 L2127.8 145.863 L2127.8 145.446 Q2127.8 142.507 2125.86 140.909 Q2123.93 139.289 2120.44 139.289 Q2118.22 139.289 2116.11 139.821 Q2114 140.354 2112.06 141.419 L2112.06 137.483 Q2114.4 136.581 2116.6 136.141 Q2118.8 135.678 2120.88 135.678 Q2126.5 135.678 2129.28 138.594 Q2132.06 141.511 2132.06 147.437 Z\" fill=\"#000000\" fill-rule=\"evenodd\" fill-opacity=\"1\" /><path clip-path=\"url(#clip230)\" d=\"M2159.44 149.289 Q2159.44 144.59 2157.5 141.928 Q2155.58 139.243 2152.2 139.243 Q2148.82 139.243 2146.87 141.928 Q2144.95 144.59 2144.95 149.289 Q2144.95 153.988 2146.87 156.673 Q2148.82 159.335 2152.2 159.335 Q2155.58 159.335 2157.5 156.673 Q2159.44 153.988 2159.44 149.289 M2144.95 140.238 Q2146.3 137.923 2148.33 136.812 Q2150.39 135.678 2153.24 135.678 Q2157.96 135.678 2160.9 139.428 Q2163.87 143.178 2163.87 149.289 Q2163.87 155.4 2160.9 159.15 Q2157.96 162.9 2153.24 162.9 Q2150.39 162.9 2148.33 161.789 Q2146.3 160.655 2144.95 158.34 L2144.95 162.229 L2140.67 162.229 L2140.67 126.21 L2144.95 126.21 L2144.95 140.238 Z\" fill=\"#000000\" fill-rule=\"evenodd\" fill-opacity=\"1\" /><path clip-path=\"url(#clip230)\" d=\"M2180.97 139.289 Q2177.55 139.289 2175.55 141.974 Q2173.56 144.636 2173.56 149.289 Q2173.56 153.942 2175.53 156.627 Q2177.52 159.289 2180.97 159.289 Q2184.37 159.289 2186.36 156.604 Q2188.36 153.918 2188.36 149.289 Q2188.36 144.682 2186.36 141.997 Q2184.37 139.289 2180.97 139.289 M2180.97 135.678 Q2186.53 135.678 2189.7 139.289 Q2192.87 142.9 2192.87 149.289 Q2192.87 155.655 2189.7 159.289 Q2186.53 162.9 2180.97 162.9 Q2175.39 162.9 2172.22 159.289 Q2169.07 155.655 2169.07 149.289 Q2169.07 142.9 2172.22 139.289 Q2175.39 135.678 2180.97 135.678 Z\" fill=\"#000000\" fill-rule=\"evenodd\" fill-opacity=\"1\" /><path clip-path=\"url(#clip230)\" d=\"M2199.93 126.21 L2204.19 126.21 L2204.19 162.229 L2199.93 162.229 L2199.93 126.21 Z\" fill=\"#000000\" fill-rule=\"evenodd\" fill-opacity=\"1\" /><path clip-path=\"url(#clip230)\" d=\"M2224.88 149.196 Q2219.72 149.196 2217.73 150.377 Q2215.74 151.557 2215.74 154.405 Q2215.74 156.673 2217.22 158.016 Q2218.73 159.335 2221.3 159.335 Q2224.84 159.335 2226.97 156.835 Q2229.12 154.312 2229.12 150.145 L2229.12 149.196 L2224.88 149.196 M2233.38 147.437 L2233.38 162.229 L2229.12 162.229 L2229.12 158.293 Q2227.66 160.655 2225.49 161.789 Q2223.31 162.9 2220.16 162.9 Q2216.18 162.9 2213.82 160.678 Q2211.48 158.432 2211.48 154.682 Q2211.48 150.307 2214.4 148.085 Q2217.34 145.863 2223.15 145.863 L2229.12 145.863 L2229.12 145.446 Q2229.12 142.507 2227.17 140.909 Q2225.25 139.289 2221.76 139.289 Q2219.54 139.289 2217.43 139.821 Q2215.32 140.354 2213.38 141.419 L2213.38 137.483 Q2215.72 136.581 2217.92 136.141 Q2220.11 135.678 2222.2 135.678 Q2227.82 135.678 2230.6 138.594 Q2233.38 141.511 2233.38 147.437 Z\" fill=\"#000000\" fill-rule=\"evenodd\" fill-opacity=\"1\" /></svg>\n"
     },
     "metadata": {},
     "execution_count": 84
    }
   ],
   "metadata": {}
  },
  {
   "cell_type": "markdown",
   "source": [
    "### Revisiting the heatmap\n",
    "cf example in `n-01-matrix` notes"
   ],
   "metadata": {}
  },
  {
   "cell_type": "code",
   "execution_count": 85,
   "source": [
    "x = LinRange(-2, 2, 101)\n",
    "y = LinRange(-1.1, 1.1, 103)\n",
    "A = x.^2 .+ 30 * (y.^2)'\n",
    "F = exp.(-A)\n",
    "heatmap(x, y, F, transpose=true, # for F(x,y)\n",
    "    color=:grays, aspect_ratio=:equal, xlabel=\"x\", ylabel=\"y\", title=\"bump\")"
   ],
   "outputs": [
    {
     "output_type": "execute_result",
     "data": {
      "image/svg+xml": "<?xml version=\"1.0\" encoding=\"utf-8\"?>\n<svg xmlns=\"http://www.w3.org/2000/svg\" xmlns:xlink=\"http://www.w3.org/1999/xlink\" width=\"600\" height=\"400\" viewBox=\"0 0 2400 1600\">\n<defs>\n  <clipPath id=\"clip270\">\n    <rect x=\"0\" y=\"0\" width=\"2400\" height=\"1600\"/>\n  </clipPath>\n</defs>\n<path clip-path=\"url(#clip270)\" d=\"\nM0 1600 L2400 1600 L2400 0 L0 0  Z\n  \" fill=\"#ffffff\" fill-rule=\"evenodd\" fill-opacity=\"1\"/>\n<defs>\n  <clipPath id=\"clip271\">\n    <rect x=\"480\" y=\"0\" width=\"1681\" height=\"1600\"/>\n  </clipPath>\n</defs>\n<path clip-path=\"url(#clip270)\" d=\"\nM257.204 1348.75 L2112.76 1348.75 L2112.76 197.899 L257.204 197.899  Z\n  \" fill=\"#ffffff\" fill-rule=\"evenodd\" fill-opacity=\"1\"/>\n<defs>\n  <clipPath id=\"clip272\">\n    <rect x=\"257\" y=\"197\" width=\"1857\" height=\"1152\"/>\n  </clipPath>\n</defs>\n<polyline clip-path=\"url(#clip272)\" style=\"stroke:#000000; stroke-linecap:butt; stroke-linejoin:round; stroke-width:2; stroke-opacity:0.1; fill:none\" points=\"\n  266.39,1348.75 266.39,197.899 \n  \"/>\n<polyline clip-path=\"url(#clip272)\" style=\"stroke:#000000; stroke-linecap:butt; stroke-linejoin:round; stroke-width:2; stroke-opacity:0.1; fill:none\" points=\"\n  725.685,1348.75 725.685,197.899 \n  \"/>\n<polyline clip-path=\"url(#clip272)\" style=\"stroke:#000000; stroke-linecap:butt; stroke-linejoin:round; stroke-width:2; stroke-opacity:0.1; fill:none\" points=\"\n  1184.98,1348.75 1184.98,197.899 \n  \"/>\n<polyline clip-path=\"url(#clip272)\" style=\"stroke:#000000; stroke-linecap:butt; stroke-linejoin:round; stroke-width:2; stroke-opacity:0.1; fill:none\" points=\"\n  1644.27,1348.75 1644.27,197.899 \n  \"/>\n<polyline clip-path=\"url(#clip272)\" style=\"stroke:#000000; stroke-linecap:butt; stroke-linejoin:round; stroke-width:2; stroke-opacity:0.1; fill:none\" points=\"\n  2103.57,1348.75 2103.57,197.899 \n  \"/>\n<polyline clip-path=\"url(#clip270)\" style=\"stroke:#000000; stroke-linecap:butt; stroke-linejoin:round; stroke-width:4; stroke-opacity:1; fill:none\" points=\"\n  257.204,1348.75 2112.76,1348.75 \n  \"/>\n<polyline clip-path=\"url(#clip270)\" style=\"stroke:#000000; stroke-linecap:butt; stroke-linejoin:round; stroke-width:4; stroke-opacity:1; fill:none\" points=\"\n  266.39,1348.75 266.39,1332.02 \n  \"/>\n<polyline clip-path=\"url(#clip270)\" style=\"stroke:#000000; stroke-linecap:butt; stroke-linejoin:round; stroke-width:4; stroke-opacity:1; fill:none\" points=\"\n  725.685,1348.75 725.685,1332.02 \n  \"/>\n<polyline clip-path=\"url(#clip270)\" style=\"stroke:#000000; stroke-linecap:butt; stroke-linejoin:round; stroke-width:4; stroke-opacity:1; fill:none\" points=\"\n  1184.98,1348.75 1184.98,1332.02 \n  \"/>\n<polyline clip-path=\"url(#clip270)\" style=\"stroke:#000000; stroke-linecap:butt; stroke-linejoin:round; stroke-width:4; stroke-opacity:1; fill:none\" points=\"\n  1644.27,1348.75 1644.27,1332.02 \n  \"/>\n<polyline clip-path=\"url(#clip270)\" style=\"stroke:#000000; stroke-linecap:butt; stroke-linejoin:round; stroke-width:4; stroke-opacity:1; fill:none\" points=\"\n  2103.57,1348.75 2103.57,1332.02 \n  \"/>\n<path clip-path=\"url(#clip270)\" d=\"M236.332 1392.6 L266.008 1392.6 L266.008 1396.53 L236.332 1396.53 L236.332 1392.6 Z\" fill=\"#000000\" fill-rule=\"evenodd\" fill-opacity=\"1\" /><path clip-path=\"url(#clip270)\" d=\"M280.128 1405.49 L296.448 1405.49 L296.448 1409.43 L274.503 1409.43 L274.503 1405.49 Q277.165 1402.74 281.749 1398.11 Q286.355 1393.45 287.536 1392.11 Q289.781 1389.59 290.661 1387.85 Q291.563 1386.09 291.563 1384.4 Q291.563 1381.65 289.619 1379.91 Q287.698 1378.18 284.596 1378.18 Q282.397 1378.18 279.943 1378.94 Q277.513 1379.7 274.735 1381.25 L274.735 1376.53 Q277.559 1375.4 280.013 1374.82 Q282.466 1374.24 284.503 1374.24 Q289.874 1374.24 293.068 1376.93 Q296.262 1379.61 296.262 1384.1 Q296.262 1386.23 295.452 1388.15 Q294.665 1390.05 292.559 1392.64 Q291.98 1393.31 288.878 1396.53 Q285.776 1399.73 280.128 1405.49 Z\" fill=\"#000000\" fill-rule=\"evenodd\" fill-opacity=\"1\" /><path clip-path=\"url(#clip270)\" d=\"M695.442 1392.6 L725.118 1392.6 L725.118 1396.53 L695.442 1396.53 L695.442 1392.6 Z\" fill=\"#000000\" fill-rule=\"evenodd\" fill-opacity=\"1\" /><path clip-path=\"url(#clip270)\" d=\"M736.021 1405.49 L743.659 1405.49 L743.659 1379.12 L735.349 1380.79 L735.349 1376.53 L743.613 1374.87 L748.289 1374.87 L748.289 1405.49 L755.928 1405.49 L755.928 1409.43 L736.021 1409.43 L736.021 1405.49 Z\" fill=\"#000000\" fill-rule=\"evenodd\" fill-opacity=\"1\" /><path clip-path=\"url(#clip270)\" d=\"M1184.98 1377.94 Q1181.37 1377.94 1179.54 1381.51 Q1177.73 1385.05 1177.73 1392.18 Q1177.73 1399.29 1179.54 1402.85 Q1181.37 1406.39 1184.98 1406.39 Q1188.61 1406.39 1190.42 1402.85 Q1192.25 1399.29 1192.25 1392.18 Q1192.25 1385.05 1190.42 1381.51 Q1188.61 1377.94 1184.98 1377.94 M1184.98 1374.24 Q1190.79 1374.24 1193.85 1378.85 Q1196.92 1383.43 1196.92 1392.18 Q1196.92 1400.91 1193.85 1405.51 Q1190.79 1410.1 1184.98 1410.1 Q1179.17 1410.1 1176.09 1405.51 Q1173.04 1400.91 1173.04 1392.18 Q1173.04 1383.43 1176.09 1378.85 Q1179.17 1374.24 1184.98 1374.24 Z\" fill=\"#000000\" fill-rule=\"evenodd\" fill-opacity=\"1\" /><path clip-path=\"url(#clip270)\" d=\"M1634.66 1405.49 L1642.3 1405.49 L1642.3 1379.12 L1633.99 1380.79 L1633.99 1376.53 L1642.25 1374.87 L1646.93 1374.87 L1646.93 1405.49 L1654.56 1405.49 L1654.56 1409.43 L1634.66 1409.43 L1634.66 1405.49 Z\" fill=\"#000000\" fill-rule=\"evenodd\" fill-opacity=\"1\" /><path clip-path=\"url(#clip270)\" d=\"M2098.22 1405.49 L2114.54 1405.49 L2114.54 1409.43 L2092.6 1409.43 L2092.6 1405.49 Q2095.26 1402.74 2099.84 1398.11 Q2104.45 1393.45 2105.63 1392.11 Q2107.88 1389.59 2108.76 1387.85 Q2109.66 1386.09 2109.66 1384.4 Q2109.66 1381.65 2107.71 1379.91 Q2105.79 1378.18 2102.69 1378.18 Q2100.49 1378.18 2098.04 1378.94 Q2095.61 1379.7 2092.83 1381.25 L2092.83 1376.53 Q2095.65 1375.4 2098.11 1374.82 Q2100.56 1374.24 2102.6 1374.24 Q2107.97 1374.24 2111.16 1376.93 Q2114.36 1379.61 2114.36 1384.1 Q2114.36 1386.23 2113.55 1388.15 Q2112.76 1390.05 2110.65 1392.64 Q2110.07 1393.31 2106.97 1396.53 Q2103.87 1399.73 2098.22 1405.49 Z\" fill=\"#000000\" fill-rule=\"evenodd\" fill-opacity=\"1\" /><path clip-path=\"url(#clip270)\" d=\"M1201.59 1457.97 L1188.7 1475.32 L1202.26 1493.62 L1195.36 1493.62 L1184.98 1479.61 L1174.6 1493.62 L1167.7 1493.62 L1181.54 1474.97 L1168.87 1457.97 L1175.78 1457.97 L1185.23 1470.67 L1194.69 1457.97 L1201.59 1457.97 Z\" fill=\"#000000\" fill-rule=\"evenodd\" fill-opacity=\"1\" /><polyline clip-path=\"url(#clip272)\" style=\"stroke:#000000; stroke-linecap:butt; stroke-linejoin:round; stroke-width:2; stroke-opacity:0.1; fill:none\" points=\"\n  257.204,1232.62 2112.76,1232.62 \n  \"/>\n<polyline clip-path=\"url(#clip272)\" style=\"stroke:#000000; stroke-linecap:butt; stroke-linejoin:round; stroke-width:2; stroke-opacity:0.1; fill:none\" points=\"\n  257.204,1002.97 2112.76,1002.97 \n  \"/>\n<polyline clip-path=\"url(#clip272)\" style=\"stroke:#000000; stroke-linecap:butt; stroke-linejoin:round; stroke-width:2; stroke-opacity:0.1; fill:none\" points=\"\n  257.204,773.326 2112.76,773.326 \n  \"/>\n<polyline clip-path=\"url(#clip272)\" style=\"stroke:#000000; stroke-linecap:butt; stroke-linejoin:round; stroke-width:2; stroke-opacity:0.1; fill:none\" points=\"\n  257.204,543.678 2112.76,543.678 \n  \"/>\n<polyline clip-path=\"url(#clip272)\" style=\"stroke:#000000; stroke-linecap:butt; stroke-linejoin:round; stroke-width:2; stroke-opacity:0.1; fill:none\" points=\"\n  257.204,314.031 2112.76,314.031 \n  \"/>\n<polyline clip-path=\"url(#clip270)\" style=\"stroke:#000000; stroke-linecap:butt; stroke-linejoin:round; stroke-width:4; stroke-opacity:1; fill:none\" points=\"\n  257.204,1348.75 257.204,197.899 \n  \"/>\n<polyline clip-path=\"url(#clip270)\" style=\"stroke:#000000; stroke-linecap:butt; stroke-linejoin:round; stroke-width:4; stroke-opacity:1; fill:none\" points=\"\n  257.204,1232.62 273.937,1232.62 \n  \"/>\n<polyline clip-path=\"url(#clip270)\" style=\"stroke:#000000; stroke-linecap:butt; stroke-linejoin:round; stroke-width:4; stroke-opacity:1; fill:none\" points=\"\n  257.204,1002.97 273.937,1002.97 \n  \"/>\n<polyline clip-path=\"url(#clip270)\" style=\"stroke:#000000; stroke-linecap:butt; stroke-linejoin:round; stroke-width:4; stroke-opacity:1; fill:none\" points=\"\n  257.204,773.326 273.937,773.326 \n  \"/>\n<polyline clip-path=\"url(#clip270)\" style=\"stroke:#000000; stroke-linecap:butt; stroke-linejoin:round; stroke-width:4; stroke-opacity:1; fill:none\" points=\"\n  257.204,543.678 273.937,543.678 \n  \"/>\n<polyline clip-path=\"url(#clip270)\" style=\"stroke:#000000; stroke-linecap:butt; stroke-linejoin:round; stroke-width:4; stroke-opacity:1; fill:none\" points=\"\n  257.204,314.031 273.937,314.031 \n  \"/>\n<path clip-path=\"url(#clip270)\" d=\"M114.26 1233.07 L143.936 1233.07 L143.936 1237.01 L114.26 1237.01 L114.26 1233.07 Z\" fill=\"#000000\" fill-rule=\"evenodd\" fill-opacity=\"1\" /><path clip-path=\"url(#clip270)\" d=\"M154.839 1245.97 L162.477 1245.97 L162.477 1219.6 L154.167 1221.27 L154.167 1217.01 L162.431 1215.34 L167.107 1215.34 L167.107 1245.97 L174.746 1245.97 L174.746 1249.9 L154.839 1249.9 L154.839 1245.97 Z\" fill=\"#000000\" fill-rule=\"evenodd\" fill-opacity=\"1\" /><path clip-path=\"url(#clip270)\" d=\"M184.19 1244.02 L189.075 1244.02 L189.075 1249.9 L184.19 1249.9 L184.19 1244.02 Z\" fill=\"#000000\" fill-rule=\"evenodd\" fill-opacity=\"1\" /><path clip-path=\"url(#clip270)\" d=\"M209.26 1218.42 Q205.649 1218.42 203.82 1221.98 Q202.014 1225.53 202.014 1232.66 Q202.014 1239.76 203.82 1243.33 Q205.649 1246.87 209.26 1246.87 Q212.894 1246.87 214.699 1243.33 Q216.528 1239.76 216.528 1232.66 Q216.528 1225.53 214.699 1221.98 Q212.894 1218.42 209.26 1218.42 M209.26 1214.72 Q215.07 1214.72 218.125 1219.32 Q221.204 1223.91 221.204 1232.66 Q221.204 1241.38 218.125 1245.99 Q215.07 1250.57 209.26 1250.57 Q203.449 1250.57 200.371 1245.99 Q197.315 1241.38 197.315 1232.66 Q197.315 1223.91 200.371 1219.32 Q203.449 1214.72 209.26 1214.72 Z\" fill=\"#000000\" fill-rule=\"evenodd\" fill-opacity=\"1\" /><path clip-path=\"url(#clip270)\" d=\"M115.256 1003.42 L144.931 1003.42 L144.931 1007.36 L115.256 1007.36 L115.256 1003.42 Z\" fill=\"#000000\" fill-rule=\"evenodd\" fill-opacity=\"1\" /><path clip-path=\"url(#clip270)\" d=\"M165.024 988.772 Q161.413 988.772 159.584 992.337 Q157.778 995.879 157.778 1003.01 Q157.778 1010.11 159.584 1013.68 Q161.413 1017.22 165.024 1017.22 Q168.658 1017.22 170.464 1013.68 Q172.292 1010.11 172.292 1003.01 Q172.292 995.879 170.464 992.337 Q168.658 988.772 165.024 988.772 M165.024 985.068 Q170.834 985.068 173.889 989.675 Q176.968 994.258 176.968 1003.01 Q176.968 1011.74 173.889 1016.34 Q170.834 1020.92 165.024 1020.92 Q159.214 1020.92 156.135 1016.34 Q153.079 1011.74 153.079 1003.01 Q153.079 994.258 156.135 989.675 Q159.214 985.068 165.024 985.068 Z\" fill=\"#000000\" fill-rule=\"evenodd\" fill-opacity=\"1\" /><path clip-path=\"url(#clip270)\" d=\"M185.186 1014.37 L190.07 1014.37 L190.07 1020.25 L185.186 1020.25 L185.186 1014.37 Z\" fill=\"#000000\" fill-rule=\"evenodd\" fill-opacity=\"1\" /><path clip-path=\"url(#clip270)\" d=\"M200.301 985.693 L218.658 985.693 L218.658 989.629 L204.584 989.629 L204.584 998.101 Q205.602 997.754 206.621 997.592 Q207.639 997.406 208.658 997.406 Q214.445 997.406 217.824 1000.58 Q221.204 1003.75 221.204 1009.17 Q221.204 1014.74 217.732 1017.85 Q214.26 1020.92 207.94 1020.92 Q205.764 1020.92 203.496 1020.55 Q201.25 1020.18 198.843 1019.44 L198.843 1014.74 Q200.926 1015.88 203.149 1016.43 Q205.371 1016.99 207.848 1016.99 Q211.852 1016.99 214.19 1014.88 Q216.528 1012.78 216.528 1009.17 Q216.528 1005.55 214.19 1003.45 Q211.852 1001.34 207.848 1001.34 Q205.973 1001.34 204.098 1001.76 Q202.246 1002.17 200.301 1003.05 L200.301 985.693 Z\" fill=\"#000000\" fill-rule=\"evenodd\" fill-opacity=\"1\" /><path clip-path=\"url(#clip270)\" d=\"M164.028 759.125 Q160.417 759.125 158.589 762.689 Q156.783 766.231 156.783 773.361 Q156.783 780.467 158.589 784.032 Q160.417 787.574 164.028 787.574 Q167.663 787.574 169.468 784.032 Q171.297 780.467 171.297 773.361 Q171.297 766.231 169.468 762.689 Q167.663 759.125 164.028 759.125 M164.028 755.421 Q169.839 755.421 172.894 760.027 Q175.973 764.611 175.973 773.361 Q175.973 782.088 172.894 786.694 Q169.839 791.277 164.028 791.277 Q158.218 791.277 155.14 786.694 Q152.084 782.088 152.084 773.361 Q152.084 764.611 155.14 760.027 Q158.218 755.421 164.028 755.421 Z\" fill=\"#000000\" fill-rule=\"evenodd\" fill-opacity=\"1\" /><path clip-path=\"url(#clip270)\" d=\"M184.19 784.726 L189.075 784.726 L189.075 790.606 L184.19 790.606 L184.19 784.726 Z\" fill=\"#000000\" fill-rule=\"evenodd\" fill-opacity=\"1\" /><path clip-path=\"url(#clip270)\" d=\"M209.26 759.125 Q205.649 759.125 203.82 762.689 Q202.014 766.231 202.014 773.361 Q202.014 780.467 203.82 784.032 Q205.649 787.574 209.26 787.574 Q212.894 787.574 214.699 784.032 Q216.528 780.467 216.528 773.361 Q216.528 766.231 214.699 762.689 Q212.894 759.125 209.26 759.125 M209.26 755.421 Q215.07 755.421 218.125 760.027 Q221.204 764.611 221.204 773.361 Q221.204 782.088 218.125 786.694 Q215.07 791.277 209.26 791.277 Q203.449 791.277 200.371 786.694 Q197.315 782.088 197.315 773.361 Q197.315 764.611 200.371 760.027 Q203.449 755.421 209.26 755.421 Z\" fill=\"#000000\" fill-rule=\"evenodd\" fill-opacity=\"1\" /><path clip-path=\"url(#clip270)\" d=\"M165.024 529.477 Q161.413 529.477 159.584 533.042 Q157.778 536.584 157.778 543.713 Q157.778 550.82 159.584 554.384 Q161.413 557.926 165.024 557.926 Q168.658 557.926 170.464 554.384 Q172.292 550.82 172.292 543.713 Q172.292 536.584 170.464 533.042 Q168.658 529.477 165.024 529.477 M165.024 525.773 Q170.834 525.773 173.889 530.38 Q176.968 534.963 176.968 543.713 Q176.968 552.44 173.889 557.046 Q170.834 561.63 165.024 561.63 Q159.214 561.63 156.135 557.046 Q153.079 552.44 153.079 543.713 Q153.079 534.963 156.135 530.38 Q159.214 525.773 165.024 525.773 Z\" fill=\"#000000\" fill-rule=\"evenodd\" fill-opacity=\"1\" /><path clip-path=\"url(#clip270)\" d=\"M185.186 555.079 L190.07 555.079 L190.07 560.958 L185.186 560.958 L185.186 555.079 Z\" fill=\"#000000\" fill-rule=\"evenodd\" fill-opacity=\"1\" /><path clip-path=\"url(#clip270)\" d=\"M200.301 526.398 L218.658 526.398 L218.658 530.334 L204.584 530.334 L204.584 538.806 Q205.602 538.459 206.621 538.297 Q207.639 538.111 208.658 538.111 Q214.445 538.111 217.824 541.283 Q221.204 544.454 221.204 549.871 Q221.204 555.449 217.732 558.551 Q214.26 561.63 207.94 561.63 Q205.764 561.63 203.496 561.259 Q201.25 560.889 198.843 560.148 L198.843 555.449 Q200.926 556.583 203.149 557.139 Q205.371 557.695 207.848 557.695 Q211.852 557.695 214.19 555.588 Q216.528 553.482 216.528 549.871 Q216.528 546.259 214.19 544.153 Q211.852 542.047 207.848 542.047 Q205.973 542.047 204.098 542.463 Q202.246 542.88 200.301 543.759 L200.301 526.398 Z\" fill=\"#000000\" fill-rule=\"evenodd\" fill-opacity=\"1\" /><path clip-path=\"url(#clip270)\" d=\"M154.839 327.376 L162.477 327.376 L162.477 301.01 L154.167 302.677 L154.167 298.418 L162.431 296.751 L167.107 296.751 L167.107 327.376 L174.746 327.376 L174.746 331.311 L154.839 331.311 L154.839 327.376 Z\" fill=\"#000000\" fill-rule=\"evenodd\" fill-opacity=\"1\" /><path clip-path=\"url(#clip270)\" d=\"M184.19 325.431 L189.075 325.431 L189.075 331.311 L184.19 331.311 L184.19 325.431 Z\" fill=\"#000000\" fill-rule=\"evenodd\" fill-opacity=\"1\" /><path clip-path=\"url(#clip270)\" d=\"M209.26 299.83 Q205.649 299.83 203.82 303.394 Q202.014 306.936 202.014 314.066 Q202.014 321.172 203.82 324.737 Q205.649 328.279 209.26 328.279 Q212.894 328.279 214.699 324.737 Q216.528 321.172 216.528 314.066 Q216.528 306.936 214.699 303.394 Q212.894 299.83 209.26 299.83 M209.26 296.126 Q215.07 296.126 218.125 300.732 Q221.204 305.316 221.204 314.066 Q221.204 322.792 218.125 327.399 Q215.07 331.982 209.26 331.982 Q203.449 331.982 200.371 327.399 Q197.315 322.792 197.315 314.066 Q197.315 305.316 200.371 300.732 Q203.449 296.126 209.26 296.126 Z\" fill=\"#000000\" fill-rule=\"evenodd\" fill-opacity=\"1\" /><path clip-path=\"url(#clip270)\" d=\"M67.3143 771.639 Q73.68 774.122 75.6216 776.477 Q77.5631 778.832 77.5631 782.779 L77.5631 787.458 L72.6615 787.458 L72.6615 784.02 Q72.6615 781.601 71.5157 780.265 Q70.3699 778.928 66.1048 777.305 L63.4312 776.254 L28.3562 790.673 L28.3562 784.466 L56.238 773.326 L28.3562 762.186 L28.3562 755.979 L67.3143 771.639 Z\" fill=\"#000000\" fill-rule=\"evenodd\" fill-opacity=\"1\" /><path clip-path=\"url(#clip270)\" d=\"M1104.51 49.9314 Q1104.51 41.7081 1101.11 37.0496 Q1097.74 32.3505 1091.83 32.3505 Q1085.92 32.3505 1082.51 37.0496 Q1079.15 41.7081 1079.15 49.9314 Q1079.15 58.1548 1082.51 62.8538 Q1085.92 67.5124 1091.83 67.5124 Q1097.74 67.5124 1101.11 62.8538 Q1104.51 58.1548 1104.51 49.9314 M1079.15 34.0924 Q1081.5 30.0415 1085.06 28.0971 Q1088.67 26.1121 1093.65 26.1121 Q1101.92 26.1121 1107.06 32.6746 Q1112.25 39.2371 1112.25 49.9314 Q1112.25 60.6258 1107.06 67.1883 Q1101.92 73.7508 1093.65 73.7508 Q1088.67 73.7508 1085.06 71.8063 Q1081.5 69.8214 1079.15 65.7705 L1079.15 72.576 L1071.66 72.576 L1071.66 9.54393 L1079.15 9.54393 L1079.15 34.0924 Z\" fill=\"#000000\" fill-rule=\"evenodd\" fill-opacity=\"1\" /><path clip-path=\"url(#clip270)\" d=\"M1123.83 54.671 L1123.83 27.2059 L1131.29 27.2059 L1131.29 54.3874 Q1131.29 60.8284 1133.8 64.0691 Q1136.31 67.2693 1141.33 67.2693 Q1147.37 67.2693 1150.85 63.421 Q1154.38 59.5726 1154.38 52.9291 L1154.38 27.2059 L1161.83 27.2059 L1161.83 72.576 L1154.38 72.576 L1154.38 65.6084 Q1151.66 69.7404 1148.06 71.7658 Q1144.49 73.7508 1139.75 73.7508 Q1131.93 73.7508 1127.88 68.8897 Q1123.83 64.0286 1123.83 54.671 M1142.59 26.1121 L1142.59 26.1121 Z\" fill=\"#000000\" fill-rule=\"evenodd\" fill-opacity=\"1\" /><path clip-path=\"url(#clip270)\" d=\"M1212.51 35.9153 Q1215.3 30.8922 1219.19 28.5022 Q1223.08 26.1121 1228.34 26.1121 Q1235.43 26.1121 1239.28 31.0947 Q1243.13 36.0368 1243.13 45.1919 L1243.13 72.576 L1235.64 72.576 L1235.64 45.4349 Q1235.64 38.913 1233.33 35.7533 Q1231.02 32.5936 1226.28 32.5936 Q1220.49 32.5936 1217.12 36.4419 Q1213.76 40.2903 1213.76 46.9338 L1213.76 72.576 L1206.27 72.576 L1206.27 45.4349 Q1206.27 38.8725 1203.96 35.7533 Q1201.65 32.5936 1196.83 32.5936 Q1191.12 32.5936 1187.75 36.4824 Q1184.39 40.3308 1184.39 46.9338 L1184.39 72.576 L1176.9 72.576 L1176.9 27.2059 L1184.39 27.2059 L1184.39 34.2544 Q1186.94 30.082 1190.51 28.0971 Q1194.07 26.1121 1198.98 26.1121 Q1203.92 26.1121 1207.36 28.6237 Q1210.84 31.1352 1212.51 35.9153 Z\" fill=\"#000000\" fill-rule=\"evenodd\" fill-opacity=\"1\" /><path clip-path=\"url(#clip270)\" d=\"M1265.21 65.7705 L1265.21 89.8329 L1257.71 89.8329 L1257.71 27.2059 L1265.21 27.2059 L1265.21 34.0924 Q1267.56 30.0415 1271.12 28.0971 Q1274.73 26.1121 1279.71 26.1121 Q1287.97 26.1121 1293.12 32.6746 Q1298.3 39.2371 1298.3 49.9314 Q1298.3 60.6258 1293.12 67.1883 Q1287.97 73.7508 1279.71 73.7508 Q1274.73 73.7508 1271.12 71.8063 Q1267.56 69.8214 1265.21 65.7705 M1290.57 49.9314 Q1290.57 41.7081 1287.16 37.0496 Q1283.8 32.3505 1277.89 32.3505 Q1271.97 32.3505 1268.57 37.0496 Q1265.21 41.7081 1265.21 49.9314 Q1265.21 58.1548 1268.57 62.8538 Q1271.97 67.5124 1277.89 67.5124 Q1283.8 67.5124 1287.16 62.8538 Q1290.57 58.1548 1290.57 49.9314 Z\" fill=\"#000000\" fill-rule=\"evenodd\" fill-opacity=\"1\" /><g clip-path=\"url(#clip272)\">\n<image width=\"1856\" height=\"1020\" xlink:href=\"data:image/png;base64,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\nRK5CYII=\n\" transform=\"translate(257, 263)\"/>\n</g>\n<defs>\n  <clipPath id=\"clip273\">\n    <rect x=\"2160\" y=\"197\" width=\"73\" height=\"1152\"/>\n  </clipPath>\n</defs>\n<g clip-path=\"url(#clip273)\">\n<image width=\"72\" height=\"1151\" xlink:href=\"data:image/png;base64,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\noCBQcKSDBQWBgkDBDQoWFAQKAoUHPDG+CyhdO/4AAAAASUVORK5CYII=\n\" transform=\"translate(2161, 198)\"/>\n</g>\n<path clip-path=\"url(#clip270)\" d=\"M2280.7 1215.84 Q2277.09 1215.84 2275.26 1219.4 Q2273.45 1222.94 2273.45 1230.07 Q2273.45 1237.18 2275.26 1240.74 Q2277.09 1244.29 2280.7 1244.29 Q2284.33 1244.29 2286.14 1240.74 Q2287.97 1237.18 2287.97 1230.07 Q2287.97 1222.94 2286.14 1219.4 Q2284.33 1215.84 2280.7 1215.84 M2280.7 1212.13 Q2286.51 1212.13 2289.57 1216.74 Q2292.64 1221.32 2292.64 1230.07 Q2292.64 1238.8 2289.57 1243.41 Q2286.51 1247.99 2280.7 1247.99 Q2274.89 1247.99 2271.81 1243.41 Q2268.76 1238.8 2268.76 1230.07 Q2268.76 1221.32 2271.81 1216.74 Q2274.89 1212.13 2280.7 1212.13 Z\" fill=\"#000000\" fill-rule=\"evenodd\" fill-opacity=\"1\" /><path clip-path=\"url(#clip270)\" d=\"M2300.86 1241.44 L2305.75 1241.44 L2305.75 1247.32 L2300.86 1247.32 L2300.86 1241.44 Z\" fill=\"#000000\" fill-rule=\"evenodd\" fill-opacity=\"1\" /><path clip-path=\"url(#clip270)\" d=\"M2316.74 1243.38 L2324.38 1243.38 L2324.38 1217.02 L2316.07 1218.68 L2316.07 1214.43 L2324.33 1212.76 L2329.01 1212.76 L2329.01 1243.38 L2336.65 1243.38 L2336.65 1247.32 L2316.74 1247.32 L2316.74 1243.38 Z\" fill=\"#000000\" fill-rule=\"evenodd\" fill-opacity=\"1\" /><path clip-path=\"url(#clip270)\" d=\"M2280.7 1100.75 Q2277.09 1100.75 2275.26 1104.32 Q2273.45 1107.86 2273.45 1114.99 Q2273.45 1122.09 2275.26 1125.66 Q2277.09 1129.2 2280.7 1129.2 Q2284.33 1129.2 2286.14 1125.66 Q2287.97 1122.09 2287.97 1114.99 Q2287.97 1107.86 2286.14 1104.32 Q2284.33 1100.75 2280.7 1100.75 M2280.7 1097.05 Q2286.51 1097.05 2289.57 1101.65 Q2292.64 1106.24 2292.64 1114.99 Q2292.64 1123.72 2289.57 1128.32 Q2286.51 1132.9 2280.7 1132.9 Q2274.89 1132.9 2271.81 1128.32 Q2268.76 1123.72 2268.76 1114.99 Q2268.76 1106.24 2271.81 1101.65 Q2274.89 1097.05 2280.7 1097.05 Z\" fill=\"#000000\" fill-rule=\"evenodd\" fill-opacity=\"1\" /><path clip-path=\"url(#clip270)\" d=\"M2300.86 1126.35 L2305.75 1126.35 L2305.75 1132.23 L2300.86 1132.23 L2300.86 1126.35 Z\" fill=\"#000000\" fill-rule=\"evenodd\" fill-opacity=\"1\" /><path clip-path=\"url(#clip270)\" d=\"M2319.96 1128.3 L2336.28 1128.3 L2336.28 1132.23 L2314.33 1132.23 L2314.33 1128.3 Q2317 1125.54 2321.58 1120.91 Q2326.19 1116.26 2327.37 1114.92 Q2329.61 1112.4 2330.49 1110.66 Q2331.39 1108.9 2331.39 1107.21 Q2331.39 1104.46 2329.45 1102.72 Q2327.53 1100.98 2324.43 1100.98 Q2322.23 1100.98 2319.77 1101.75 Q2317.34 1102.51 2314.57 1104.06 L2314.57 1099.34 Q2317.39 1098.21 2319.84 1097.63 Q2322.3 1097.05 2324.33 1097.05 Q2329.7 1097.05 2332.9 1099.73 Q2336.09 1102.42 2336.09 1106.91 Q2336.09 1109.04 2335.28 1110.96 Q2334.5 1112.86 2332.39 1115.45 Q2331.81 1116.12 2328.71 1119.34 Q2325.61 1122.53 2319.96 1128.3 Z\" fill=\"#000000\" fill-rule=\"evenodd\" fill-opacity=\"1\" /><path clip-path=\"url(#clip270)\" d=\"M2280.7 985.667 Q2277.09 985.667 2275.26 989.232 Q2273.45 992.773 2273.45 999.903 Q2273.45 1007.01 2275.26 1010.57 Q2277.09 1014.12 2280.7 1014.12 Q2284.33 1014.12 2286.14 1010.57 Q2287.97 1007.01 2287.97 999.903 Q2287.97 992.773 2286.14 989.232 Q2284.33 985.667 2280.7 985.667 M2280.7 981.963 Q2286.51 981.963 2289.57 986.57 Q2292.64 991.153 2292.64 999.903 Q2292.64 1008.63 2289.57 1013.24 Q2286.51 1017.82 2280.7 1017.82 Q2274.89 1017.82 2271.81 1013.24 Q2268.76 1008.63 2268.76 999.903 Q2268.76 991.153 2271.81 986.57 Q2274.89 981.963 2280.7 981.963 Z\" fill=\"#000000\" fill-rule=\"evenodd\" fill-opacity=\"1\" /><path clip-path=\"url(#clip270)\" d=\"M2300.86 1011.27 L2305.75 1011.27 L2305.75 1017.15 L2300.86 1017.15 L2300.86 1011.27 Z\" fill=\"#000000\" fill-rule=\"evenodd\" fill-opacity=\"1\" /><path clip-path=\"url(#clip270)\" d=\"M2330.1 998.514 Q2333.45 999.231 2335.33 1001.5 Q2337.23 1003.77 2337.23 1007.1 Q2337.23 1012.22 2333.71 1015.02 Q2330.19 1017.82 2323.71 1017.82 Q2321.53 1017.82 2319.22 1017.38 Q2316.93 1016.96 2314.47 1016.11 L2314.47 1011.59 Q2316.42 1012.73 2318.73 1013.31 Q2321.05 1013.88 2323.57 1013.88 Q2327.97 1013.88 2330.26 1012.15 Q2332.58 1010.41 2332.58 1007.1 Q2332.58 1004.05 2330.42 1002.33 Q2328.29 1000.6 2324.47 1000.6 L2320.45 1000.6 L2320.45 996.755 L2324.66 996.755 Q2328.11 996.755 2329.94 995.389 Q2331.76 994 2331.76 991.407 Q2331.76 988.745 2329.87 987.333 Q2327.99 985.898 2324.47 985.898 Q2322.55 985.898 2320.35 986.315 Q2318.15 986.732 2315.51 987.611 L2315.51 983.445 Q2318.18 982.704 2320.49 982.333 Q2322.83 981.963 2324.89 981.963 Q2330.21 981.963 2333.32 984.394 Q2336.42 986.801 2336.42 990.921 Q2336.42 993.792 2334.77 995.782 Q2333.13 997.75 2330.1 998.514 Z\" fill=\"#000000\" fill-rule=\"evenodd\" fill-opacity=\"1\" /><path clip-path=\"url(#clip270)\" d=\"M2280.7 870.581 Q2277.09 870.581 2275.26 874.146 Q2273.45 877.688 2273.45 884.817 Q2273.45 891.924 2275.26 895.489 Q2277.09 899.03 2280.7 899.03 Q2284.33 899.03 2286.14 895.489 Q2287.97 891.924 2287.97 884.817 Q2287.97 877.688 2286.14 874.146 Q2284.33 870.581 2280.7 870.581 M2280.7 866.878 Q2286.51 866.878 2289.57 871.484 Q2292.64 876.067 2292.64 884.817 Q2292.64 893.544 2289.57 898.151 Q2286.51 902.734 2280.7 902.734 Q2274.89 902.734 2271.81 898.151 Q2268.76 893.544 2268.76 884.817 Q2268.76 876.067 2271.81 871.484 Q2274.89 866.878 2280.7 866.878 Z\" fill=\"#000000\" fill-rule=\"evenodd\" fill-opacity=\"1\" /><path clip-path=\"url(#clip270)\" d=\"M2300.86 896.183 L2305.75 896.183 L2305.75 902.063 L2300.86 902.063 L2300.86 896.183 Z\" fill=\"#000000\" fill-rule=\"evenodd\" fill-opacity=\"1\" /><path clip-path=\"url(#clip270)\" d=\"M2328.78 871.577 L2316.97 890.026 L2328.78 890.026 L2328.78 871.577 M2327.55 867.503 L2333.43 867.503 L2333.43 890.026 L2338.36 890.026 L2338.36 893.915 L2333.43 893.915 L2333.43 902.063 L2328.78 902.063 L2328.78 893.915 L2313.18 893.915 L2313.18 889.401 L2327.55 867.503 Z\" fill=\"#000000\" fill-rule=\"evenodd\" fill-opacity=\"1\" /><path clip-path=\"url(#clip270)\" d=\"M2280.7 755.496 Q2277.09 755.496 2275.26 759.061 Q2273.45 762.602 2273.45 769.732 Q2273.45 776.838 2275.26 780.403 Q2277.09 783.945 2280.7 783.945 Q2284.33 783.945 2286.14 780.403 Q2287.97 776.838 2287.97 769.732 Q2287.97 762.602 2286.14 759.061 Q2284.33 755.496 2280.7 755.496 M2280.7 751.792 Q2286.51 751.792 2289.57 756.399 Q2292.64 760.982 2292.64 769.732 Q2292.64 778.459 2289.57 783.065 Q2286.51 787.648 2280.7 787.648 Q2274.89 787.648 2271.81 783.065 Q2268.76 778.459 2268.76 769.732 Q2268.76 760.982 2271.81 756.399 Q2274.89 751.792 2280.7 751.792 Z\" fill=\"#000000\" fill-rule=\"evenodd\" fill-opacity=\"1\" /><path clip-path=\"url(#clip270)\" d=\"M2300.86 781.098 L2305.75 781.098 L2305.75 786.977 L2300.86 786.977 L2300.86 781.098 Z\" fill=\"#000000\" fill-rule=\"evenodd\" fill-opacity=\"1\" /><path clip-path=\"url(#clip270)\" d=\"M2315.98 752.417 L2334.33 752.417 L2334.33 756.352 L2320.26 756.352 L2320.26 764.825 Q2321.28 764.477 2322.3 764.315 Q2323.32 764.13 2324.33 764.13 Q2330.12 764.13 2333.5 767.301 Q2336.88 770.473 2336.88 775.889 Q2336.88 781.468 2333.41 784.57 Q2329.94 787.648 2323.62 787.648 Q2321.44 787.648 2319.17 787.278 Q2316.93 786.908 2314.52 786.167 L2314.52 781.468 Q2316.6 782.602 2318.83 783.158 Q2321.05 783.713 2323.52 783.713 Q2327.53 783.713 2329.87 781.607 Q2332.2 779.5 2332.2 775.889 Q2332.2 772.278 2329.87 770.172 Q2327.53 768.065 2323.52 768.065 Q2321.65 768.065 2319.77 768.482 Q2317.92 768.899 2315.98 769.778 L2315.98 752.417 Z\" fill=\"#000000\" fill-rule=\"evenodd\" fill-opacity=\"1\" /><path clip-path=\"url(#clip270)\" d=\"M2280.7 640.41 Q2277.09 640.41 2275.26 643.975 Q2273.45 647.517 2273.45 654.646 Q2273.45 661.753 2275.26 665.318 Q2277.09 668.859 2280.7 668.859 Q2284.33 668.859 2286.14 665.318 Q2287.97 661.753 2287.97 654.646 Q2287.97 647.517 2286.14 643.975 Q2284.33 640.41 2280.7 640.41 M2280.7 636.707 Q2286.51 636.707 2289.57 641.313 Q2292.64 645.897 2292.64 654.646 Q2292.64 663.373 2289.57 667.98 Q2286.51 672.563 2280.7 672.563 Q2274.89 672.563 2271.81 667.98 Q2268.76 663.373 2268.76 654.646 Q2268.76 645.897 2271.81 641.313 Q2274.89 636.707 2280.7 636.707 Z\" fill=\"#000000\" fill-rule=\"evenodd\" fill-opacity=\"1\" /><path clip-path=\"url(#clip270)\" d=\"M2300.86 666.012 L2305.75 666.012 L2305.75 671.892 L2300.86 671.892 L2300.86 666.012 Z\" fill=\"#000000\" fill-rule=\"evenodd\" fill-opacity=\"1\" /><path clip-path=\"url(#clip270)\" d=\"M2326.51 652.748 Q2323.36 652.748 2321.51 654.901 Q2319.68 657.054 2319.68 660.804 Q2319.68 664.531 2321.51 666.707 Q2323.36 668.859 2326.51 668.859 Q2329.66 668.859 2331.49 666.707 Q2333.34 664.531 2333.34 660.804 Q2333.34 657.054 2331.49 654.901 Q2329.66 652.748 2326.51 652.748 M2335.79 638.096 L2335.79 642.355 Q2334.03 641.522 2332.23 641.082 Q2330.45 640.642 2328.69 640.642 Q2324.06 640.642 2321.6 643.767 Q2319.17 646.892 2318.83 653.211 Q2320.19 651.197 2322.25 650.133 Q2324.31 649.045 2326.79 649.045 Q2332 649.045 2335.01 652.216 Q2338.04 655.364 2338.04 660.804 Q2338.04 666.128 2334.89 669.345 Q2331.74 672.563 2326.51 672.563 Q2320.51 672.563 2317.34 667.98 Q2314.17 663.373 2314.17 654.646 Q2314.17 646.452 2318.06 641.591 Q2321.95 636.707 2328.5 636.707 Q2330.26 636.707 2332.04 637.054 Q2333.85 637.401 2335.79 638.096 Z\" fill=\"#000000\" fill-rule=\"evenodd\" fill-opacity=\"1\" /><path clip-path=\"url(#clip270)\" d=\"M2280.7 525.325 Q2277.09 525.325 2275.26 528.89 Q2273.45 532.431 2273.45 539.561 Q2273.45 546.667 2275.26 550.232 Q2277.09 553.774 2280.7 553.774 Q2284.33 553.774 2286.14 550.232 Q2287.97 546.667 2287.97 539.561 Q2287.97 532.431 2286.14 528.89 Q2284.33 525.325 2280.7 525.325 M2280.7 521.621 Q2286.51 521.621 2289.57 526.228 Q2292.64 530.811 2292.64 539.561 Q2292.64 548.288 2289.57 552.894 Q2286.51 557.478 2280.7 557.478 Q2274.89 557.478 2271.81 552.894 Q2268.76 548.288 2268.76 539.561 Q2268.76 530.811 2271.81 526.228 Q2274.89 521.621 2280.7 521.621 Z\" fill=\"#000000\" fill-rule=\"evenodd\" fill-opacity=\"1\" /><path clip-path=\"url(#clip270)\" d=\"M2300.86 550.927 L2305.75 550.927 L2305.75 556.806 L2300.86 556.806 L2300.86 550.927 Z\" fill=\"#000000\" fill-rule=\"evenodd\" fill-opacity=\"1\" /><path clip-path=\"url(#clip270)\" d=\"M2314.75 522.246 L2336.97 522.246 L2336.97 524.237 L2324.43 556.806 L2319.54 556.806 L2331.35 526.181 L2314.75 526.181 L2314.75 522.246 Z\" fill=\"#000000\" fill-rule=\"evenodd\" fill-opacity=\"1\" /><path clip-path=\"url(#clip270)\" d=\"M2280.7 410.24 Q2277.09 410.24 2275.26 413.804 Q2273.45 417.346 2273.45 424.476 Q2273.45 431.582 2275.26 435.147 Q2277.09 438.688 2280.7 438.688 Q2284.33 438.688 2286.14 435.147 Q2287.97 431.582 2287.97 424.476 Q2287.97 417.346 2286.14 413.804 Q2284.33 410.24 2280.7 410.24 M2280.7 406.536 Q2286.51 406.536 2289.57 411.142 Q2292.64 415.726 2292.64 424.476 Q2292.64 433.202 2289.57 437.809 Q2286.51 442.392 2280.7 442.392 Q2274.89 442.392 2271.81 437.809 Q2268.76 433.202 2268.76 424.476 Q2268.76 415.726 2271.81 411.142 Q2274.89 406.536 2280.7 406.536 Z\" fill=\"#000000\" fill-rule=\"evenodd\" fill-opacity=\"1\" /><path clip-path=\"url(#clip270)\" d=\"M2300.86 435.841 L2305.75 435.841 L2305.75 441.721 L2300.86 441.721 L2300.86 435.841 Z\" fill=\"#000000\" fill-rule=\"evenodd\" fill-opacity=\"1\" /><path clip-path=\"url(#clip270)\" d=\"M2325.93 425.309 Q2322.6 425.309 2320.68 427.091 Q2318.78 428.874 2318.78 431.999 Q2318.78 435.124 2320.68 436.906 Q2322.6 438.688 2325.93 438.688 Q2329.26 438.688 2331.19 436.906 Q2333.11 435.101 2333.11 431.999 Q2333.11 428.874 2331.19 427.091 Q2329.29 425.309 2325.93 425.309 M2321.26 423.318 Q2318.25 422.577 2316.56 420.517 Q2314.89 418.457 2314.89 415.494 Q2314.89 411.351 2317.83 408.943 Q2320.79 406.536 2325.93 406.536 Q2331.09 406.536 2334.03 408.943 Q2336.97 411.351 2336.97 415.494 Q2336.97 418.457 2335.28 420.517 Q2333.62 422.577 2330.63 423.318 Q2334.01 424.105 2335.89 426.397 Q2337.78 428.689 2337.78 431.999 Q2337.78 437.022 2334.7 439.707 Q2331.65 442.392 2325.93 442.392 Q2320.21 442.392 2317.14 439.707 Q2314.08 437.022 2314.08 431.999 Q2314.08 428.689 2315.98 426.397 Q2317.88 424.105 2321.26 423.318 M2319.54 415.934 Q2319.54 418.619 2321.21 420.124 Q2322.9 421.628 2325.93 421.628 Q2328.94 421.628 2330.63 420.124 Q2332.34 418.619 2332.34 415.934 Q2332.34 413.249 2330.63 411.744 Q2328.94 410.24 2325.93 410.24 Q2322.9 410.24 2321.21 411.744 Q2319.54 413.249 2319.54 415.934 Z\" fill=\"#000000\" fill-rule=\"evenodd\" fill-opacity=\"1\" /><path clip-path=\"url(#clip270)\" d=\"M2280.7 295.154 Q2277.09 295.154 2275.26 298.719 Q2273.45 302.261 2273.45 309.39 Q2273.45 316.497 2275.26 320.061 Q2277.09 323.603 2280.7 323.603 Q2284.33 323.603 2286.14 320.061 Q2287.97 316.497 2287.97 309.39 Q2287.97 302.261 2286.14 298.719 Q2284.33 295.154 2280.7 295.154 M2280.7 291.45 Q2286.51 291.45 2289.57 296.057 Q2292.64 300.64 2292.64 309.39 Q2292.64 318.117 2289.57 322.723 Q2286.51 327.307 2280.7 327.307 Q2274.89 327.307 2271.81 322.723 Q2268.76 318.117 2268.76 309.39 Q2268.76 300.64 2271.81 296.057 Q2274.89 291.45 2280.7 291.45 Z\" fill=\"#000000\" fill-rule=\"evenodd\" fill-opacity=\"1\" /><path clip-path=\"url(#clip270)\" d=\"M2300.86 320.756 L2305.75 320.756 L2305.75 326.635 L2300.86 326.635 L2300.86 320.756 Z\" fill=\"#000000\" fill-rule=\"evenodd\" fill-opacity=\"1\" /><path clip-path=\"url(#clip270)\" d=\"M2316.07 325.918 L2316.07 321.659 Q2317.83 322.492 2319.64 322.932 Q2321.44 323.372 2323.18 323.372 Q2327.81 323.372 2330.24 320.27 Q2332.69 317.145 2333.04 310.802 Q2331.7 312.793 2329.64 313.858 Q2327.58 314.923 2325.08 314.923 Q2319.89 314.923 2316.86 311.798 Q2313.85 308.649 2313.85 303.21 Q2313.85 297.886 2317 294.668 Q2320.14 291.45 2325.38 291.45 Q2331.37 291.45 2334.52 296.057 Q2337.69 300.64 2337.69 309.39 Q2337.69 317.561 2333.8 322.446 Q2329.94 327.307 2323.39 327.307 Q2321.63 327.307 2319.82 326.959 Q2318.01 326.612 2316.07 325.918 M2325.38 311.265 Q2328.52 311.265 2330.35 309.112 Q2332.2 306.96 2332.2 303.21 Q2332.2 299.483 2330.35 297.33 Q2328.52 295.154 2325.38 295.154 Q2322.23 295.154 2320.38 297.33 Q2318.55 299.483 2318.55 303.21 Q2318.55 306.96 2320.38 309.112 Q2322.23 311.265 2325.38 311.265 Z\" fill=\"#000000\" fill-rule=\"evenodd\" fill-opacity=\"1\" /><path clip-path=\"url(#clip270)\" d=\"M2269.43 207.615 L2277.07 207.615 L2277.07 181.249 L2268.76 182.916 L2268.76 178.657 L2277.02 176.99 L2281.7 176.99 L2281.7 207.615 L2289.33 207.615 L2289.33 211.55 L2269.43 211.55 L2269.43 207.615 Z\" fill=\"#000000\" fill-rule=\"evenodd\" fill-opacity=\"1\" /><path clip-path=\"url(#clip270)\" d=\"M2298.78 205.67 L2303.66 205.67 L2303.66 211.55 L2298.78 211.55 L2298.78 205.67 Z\" fill=\"#000000\" fill-rule=\"evenodd\" fill-opacity=\"1\" /><path clip-path=\"url(#clip270)\" d=\"M2323.85 180.069 Q2320.24 180.069 2318.41 183.633 Q2316.6 187.175 2316.6 194.305 Q2316.6 201.411 2318.41 204.976 Q2320.24 208.518 2323.85 208.518 Q2327.48 208.518 2329.29 204.976 Q2331.12 201.411 2331.12 194.305 Q2331.12 187.175 2329.29 183.633 Q2327.48 180.069 2323.85 180.069 M2323.85 176.365 Q2329.66 176.365 2332.71 180.971 Q2335.79 185.555 2335.79 194.305 Q2335.79 203.032 2332.71 207.638 Q2329.66 212.221 2323.85 212.221 Q2318.04 212.221 2314.96 207.638 Q2311.9 203.032 2311.9 194.305 Q2311.9 185.555 2314.96 180.971 Q2318.04 176.365 2323.85 176.365 Z\" fill=\"#000000\" fill-rule=\"evenodd\" fill-opacity=\"1\" /><polyline clip-path=\"url(#clip270)\" style=\"stroke:#000000; stroke-linecap:butt; stroke-linejoin:round; stroke-width:4; stroke-opacity:1; fill:none\" points=\"\n  2232.76,1348.75 2232.76,1233.67 2256.76,1233.67 2232.76,1233.67 2232.76,1118.58 2256.76,1118.58 2232.76,1118.58 2232.76,1003.5 2256.76,1003.5 2232.76,1003.5 \n  2232.76,888.411 2256.76,888.411 2232.76,888.411 2232.76,773.326 2256.76,773.326 2232.76,773.326 2232.76,658.241 2256.76,658.241 2232.76,658.241 2232.76,543.155 \n  2256.76,543.155 2232.76,543.155 2232.76,428.07 2256.76,428.07 2232.76,428.07 2232.76,312.984 2256.76,312.984 2232.76,312.984 2232.76,197.899 2256.76,197.899 \n  2232.76,197.899 \n  \"/>\n</svg>\n"
     },
     "metadata": {},
     "execution_count": 85
    }
   ],
   "metadata": {
    "lines_to_next_cell": 2
   }
  },
  {
   "cell_type": "markdown",
   "source": [
    "### A convenient way to plot functions\n",
    "\n",
    "`Plots.jl` allows you to pass in the domain and a function. It does the rest. :)  \n",
    "This is one many examples of how Julia exploits \"multiple dispatch.\""
   ],
   "metadata": {}
  },
  {
   "cell_type": "code",
   "execution_count": 86,
   "source": [
    "plot(LinRange(0,1,100), x -> x^2, label=\"x^2\")"
   ],
   "outputs": [
    {
     "output_type": "execute_result",
     "data": {
      "image/svg+xml": "<?xml version=\"1.0\" encoding=\"utf-8\"?>\n<svg xmlns=\"http://www.w3.org/2000/svg\" xmlns:xlink=\"http://www.w3.org/1999/xlink\" width=\"600\" height=\"400\" viewBox=\"0 0 2400 1600\">\n<defs>\n  <clipPath id=\"clip310\">\n    <rect x=\"0\" y=\"0\" width=\"2400\" height=\"1600\"/>\n  </clipPath>\n</defs>\n<path clip-path=\"url(#clip310)\" d=\"\nM0 1600 L2400 1600 L2400 0 L0 0  Z\n  \" fill=\"#ffffff\" fill-rule=\"evenodd\" fill-opacity=\"1\"/>\n<defs>\n  <clipPath id=\"clip311\">\n    <rect x=\"480\" y=\"0\" width=\"1681\" height=\"1600\"/>\n  </clipPath>\n</defs>\n<path clip-path=\"url(#clip310)\" d=\"\nM186.274 1486.45 L2352.76 1486.45 L2352.76 47.2441 L186.274 47.2441  Z\n  \" fill=\"#ffffff\" fill-rule=\"evenodd\" fill-opacity=\"1\"/>\n<defs>\n  <clipPath id=\"clip312\">\n    <rect x=\"186\" y=\"47\" width=\"2167\" height=\"1440\"/>\n  </clipPath>\n</defs>\n<polyline clip-path=\"url(#clip312)\" style=\"stroke:#000000; stroke-linecap:butt; stroke-linejoin:round; stroke-width:2; stroke-opacity:0.1; fill:none\" points=\"\n  247.59,1486.45 247.59,47.2441 \n  \"/>\n<polyline clip-path=\"url(#clip312)\" style=\"stroke:#000000; stroke-linecap:butt; stroke-linejoin:round; stroke-width:2; stroke-opacity:0.1; fill:none\" points=\"\n  758.552,1486.45 758.552,47.2441 \n  \"/>\n<polyline clip-path=\"url(#clip312)\" style=\"stroke:#000000; stroke-linecap:butt; stroke-linejoin:round; stroke-width:2; stroke-opacity:0.1; fill:none\" points=\"\n  1269.51,1486.45 1269.51,47.2441 \n  \"/>\n<polyline clip-path=\"url(#clip312)\" style=\"stroke:#000000; stroke-linecap:butt; stroke-linejoin:round; stroke-width:2; stroke-opacity:0.1; fill:none\" points=\"\n  1780.48,1486.45 1780.48,47.2441 \n  \"/>\n<polyline clip-path=\"url(#clip312)\" style=\"stroke:#000000; stroke-linecap:butt; stroke-linejoin:round; stroke-width:2; stroke-opacity:0.1; fill:none\" points=\"\n  2291.44,1486.45 2291.44,47.2441 \n  \"/>\n<polyline clip-path=\"url(#clip310)\" style=\"stroke:#000000; stroke-linecap:butt; stroke-linejoin:round; stroke-width:4; stroke-opacity:1; fill:none\" points=\"\n  186.274,1486.45 2352.76,1486.45 \n  \"/>\n<polyline clip-path=\"url(#clip310)\" style=\"stroke:#000000; stroke-linecap:butt; stroke-linejoin:round; stroke-width:4; stroke-opacity:1; fill:none\" points=\"\n  247.59,1486.45 247.59,1467.55 \n  \"/>\n<polyline clip-path=\"url(#clip310)\" style=\"stroke:#000000; stroke-linecap:butt; stroke-linejoin:round; stroke-width:4; stroke-opacity:1; fill:none\" points=\"\n  758.552,1486.45 758.552,1467.55 \n  \"/>\n<polyline clip-path=\"url(#clip310)\" style=\"stroke:#000000; stroke-linecap:butt; stroke-linejoin:round; stroke-width:4; stroke-opacity:1; fill:none\" points=\"\n  1269.51,1486.45 1269.51,1467.55 \n  \"/>\n<polyline clip-path=\"url(#clip310)\" style=\"stroke:#000000; stroke-linecap:butt; stroke-linejoin:round; stroke-width:4; stroke-opacity:1; fill:none\" points=\"\n  1780.48,1486.45 1780.48,1467.55 \n  \"/>\n<polyline clip-path=\"url(#clip310)\" style=\"stroke:#000000; stroke-linecap:butt; stroke-linejoin:round; stroke-width:4; stroke-opacity:1; fill:none\" points=\"\n  2291.44,1486.45 2291.44,1467.55 \n  \"/>\n<path clip-path=\"url(#clip310)\" d=\"M209.893 1515.64 Q206.282 1515.64 204.453 1519.2 Q202.648 1522.75 202.648 1529.87 Q202.648 1536.98 204.453 1540.55 Q206.282 1544.09 209.893 1544.09 Q213.527 1544.09 215.333 1540.55 Q217.161 1536.98 217.161 1529.87 Q217.161 1522.75 215.333 1519.2 Q213.527 1515.64 209.893 1515.64 M209.893 1511.93 Q215.703 1511.93 218.759 1516.54 Q221.837 1521.12 221.837 1529.87 Q221.837 1538.6 218.759 1543.21 Q215.703 1547.79 209.893 1547.79 Q204.083 1547.79 201.004 1543.21 Q197.949 1538.6 197.949 1529.87 Q197.949 1521.12 201.004 1516.54 Q204.083 1511.93 209.893 1511.93 Z\" fill=\"#000000\" fill-rule=\"evenodd\" fill-opacity=\"1\" /><path clip-path=\"url(#clip310)\" d=\"M230.055 1541.24 L234.939 1541.24 L234.939 1547.12 L230.055 1547.12 L230.055 1541.24 Z\" fill=\"#000000\" fill-rule=\"evenodd\" fill-opacity=\"1\" /><path clip-path=\"url(#clip310)\" d=\"M255.124 1515.64 Q251.513 1515.64 249.684 1519.2 Q247.879 1522.75 247.879 1529.87 Q247.879 1536.98 249.684 1540.55 Q251.513 1544.09 255.124 1544.09 Q258.758 1544.09 260.564 1540.55 Q262.393 1536.98 262.393 1529.87 Q262.393 1522.75 260.564 1519.2 Q258.758 1515.64 255.124 1515.64 M255.124 1511.93 Q260.934 1511.93 263.99 1516.54 Q267.069 1521.12 267.069 1529.87 Q267.069 1538.6 263.99 1543.21 Q260.934 1547.79 255.124 1547.79 Q249.314 1547.79 246.235 1543.21 Q243.18 1538.6 243.18 1529.87 Q243.18 1521.12 246.235 1516.54 Q249.314 1511.93 255.124 1511.93 Z\" fill=\"#000000\" fill-rule=\"evenodd\" fill-opacity=\"1\" /><path clip-path=\"url(#clip310)\" d=\"M285.286 1515.64 Q281.675 1515.64 279.846 1519.2 Q278.041 1522.75 278.041 1529.87 Q278.041 1536.98 279.846 1540.55 Q281.675 1544.09 285.286 1544.09 Q288.92 1544.09 290.726 1540.55 Q292.555 1536.98 292.555 1529.87 Q292.555 1522.75 290.726 1519.2 Q288.92 1515.64 285.286 1515.64 M285.286 1511.93 Q291.096 1511.93 294.152 1516.54 Q297.23 1521.12 297.23 1529.87 Q297.23 1538.6 294.152 1543.21 Q291.096 1547.79 285.286 1547.79 Q279.476 1547.79 276.397 1543.21 Q273.342 1538.6 273.342 1529.87 Q273.342 1521.12 276.397 1516.54 Q279.476 1511.93 285.286 1511.93 Z\" fill=\"#000000\" fill-rule=\"evenodd\" fill-opacity=\"1\" /><path clip-path=\"url(#clip310)\" d=\"M721.353 1515.64 Q717.742 1515.64 715.914 1519.2 Q714.108 1522.75 714.108 1529.87 Q714.108 1536.98 715.914 1540.55 Q717.742 1544.09 721.353 1544.09 Q724.988 1544.09 726.793 1540.55 Q728.622 1536.98 728.622 1529.87 Q728.622 1522.75 726.793 1519.2 Q724.988 1515.64 721.353 1515.64 M721.353 1511.93 Q727.164 1511.93 730.219 1516.54 Q733.298 1521.12 733.298 1529.87 Q733.298 1538.6 730.219 1543.21 Q727.164 1547.79 721.353 1547.79 Q715.543 1547.79 712.465 1543.21 Q709.409 1538.6 709.409 1529.87 Q709.409 1521.12 712.465 1516.54 Q715.543 1511.93 721.353 1511.93 Z\" fill=\"#000000\" fill-rule=\"evenodd\" fill-opacity=\"1\" /><path clip-path=\"url(#clip310)\" d=\"M741.515 1541.24 L746.4 1541.24 L746.4 1547.12 L741.515 1547.12 L741.515 1541.24 Z\" fill=\"#000000\" fill-rule=\"evenodd\" fill-opacity=\"1\" /><path clip-path=\"url(#clip310)\" d=\"M760.612 1543.18 L776.932 1543.18 L776.932 1547.12 L754.987 1547.12 L754.987 1543.18 Q757.649 1540.43 762.233 1535.8 Q766.839 1531.15 768.02 1529.81 Q770.265 1527.28 771.145 1525.55 Q772.048 1523.79 772.048 1522.1 Q772.048 1519.34 770.103 1517.61 Q768.182 1515.87 765.08 1515.87 Q762.881 1515.87 760.427 1516.63 Q757.997 1517.4 755.219 1518.95 L755.219 1514.23 Q758.043 1513.09 760.497 1512.51 Q762.95 1511.93 764.987 1511.93 Q770.358 1511.93 773.552 1514.62 Q776.747 1517.31 776.747 1521.8 Q776.747 1523.93 775.936 1525.85 Q775.149 1527.74 773.043 1530.34 Q772.464 1531.01 769.362 1534.23 Q766.261 1537.42 760.612 1543.18 Z\" fill=\"#000000\" fill-rule=\"evenodd\" fill-opacity=\"1\" /><path clip-path=\"url(#clip310)\" d=\"M786.793 1512.56 L805.149 1512.56 L805.149 1516.5 L791.075 1516.5 L791.075 1524.97 Q792.094 1524.62 793.112 1524.46 Q794.131 1524.27 795.149 1524.27 Q800.936 1524.27 804.316 1527.44 Q807.695 1530.62 807.695 1536.03 Q807.695 1541.61 804.223 1544.71 Q800.751 1547.79 794.432 1547.79 Q792.256 1547.79 789.987 1547.42 Q787.742 1547.05 785.335 1546.31 L785.335 1541.61 Q787.418 1542.74 789.64 1543.3 Q791.862 1543.86 794.339 1543.86 Q798.344 1543.86 800.682 1541.75 Q803.02 1539.64 803.02 1536.03 Q803.02 1532.42 800.682 1530.31 Q798.344 1528.21 794.339 1528.21 Q792.464 1528.21 790.589 1528.62 Q788.737 1529.04 786.793 1529.92 L786.793 1512.56 Z\" fill=\"#000000\" fill-rule=\"evenodd\" fill-opacity=\"1\" /><path clip-path=\"url(#clip310)\" d=\"M1231.82 1515.64 Q1228.21 1515.64 1226.38 1519.2 Q1224.57 1522.75 1224.57 1529.87 Q1224.57 1536.98 1226.38 1540.55 Q1228.21 1544.09 1231.82 1544.09 Q1235.45 1544.09 1237.26 1540.55 Q1239.09 1536.98 1239.09 1529.87 Q1239.09 1522.75 1237.26 1519.2 Q1235.45 1515.64 1231.82 1515.64 M1231.82 1511.93 Q1237.63 1511.93 1240.68 1516.54 Q1243.76 1521.12 1243.76 1529.87 Q1243.76 1538.6 1240.68 1543.21 Q1237.63 1547.79 1231.82 1547.79 Q1226.01 1547.79 1222.93 1543.21 Q1219.87 1538.6 1219.87 1529.87 Q1219.87 1521.12 1222.93 1516.54 Q1226.01 1511.93 1231.82 1511.93 Z\" fill=\"#000000\" fill-rule=\"evenodd\" fill-opacity=\"1\" /><path clip-path=\"url(#clip310)\" d=\"M1251.98 1541.24 L1256.86 1541.24 L1256.86 1547.12 L1251.98 1547.12 L1251.98 1541.24 Z\" fill=\"#000000\" fill-rule=\"evenodd\" fill-opacity=\"1\" /><path clip-path=\"url(#clip310)\" d=\"M1267.1 1512.56 L1285.45 1512.56 L1285.45 1516.5 L1271.38 1516.5 L1271.38 1524.97 Q1272.4 1524.62 1273.42 1524.46 Q1274.43 1524.27 1275.45 1524.27 Q1281.24 1524.27 1284.62 1527.44 Q1288 1530.62 1288 1536.03 Q1288 1541.61 1284.53 1544.71 Q1281.05 1547.79 1274.73 1547.79 Q1272.56 1547.79 1270.29 1547.42 Q1268.05 1547.05 1265.64 1546.31 L1265.64 1541.61 Q1267.72 1542.74 1269.94 1543.3 Q1272.17 1543.86 1274.64 1543.86 Q1278.65 1543.86 1280.98 1541.75 Q1283.32 1539.64 1283.32 1536.03 Q1283.32 1532.42 1280.98 1530.31 Q1278.65 1528.21 1274.64 1528.21 Q1272.77 1528.21 1270.89 1528.62 Q1269.04 1529.04 1267.1 1529.92 L1267.1 1512.56 Z\" fill=\"#000000\" fill-rule=\"evenodd\" fill-opacity=\"1\" /><path clip-path=\"url(#clip310)\" d=\"M1307.21 1515.64 Q1303.6 1515.64 1301.77 1519.2 Q1299.97 1522.75 1299.97 1529.87 Q1299.97 1536.98 1301.77 1540.55 Q1303.6 1544.09 1307.21 1544.09 Q1310.85 1544.09 1312.65 1540.55 Q1314.48 1536.98 1314.48 1529.87 Q1314.48 1522.75 1312.65 1519.2 Q1310.85 1515.64 1307.21 1515.64 M1307.21 1511.93 Q1313.02 1511.93 1316.08 1516.54 Q1319.16 1521.12 1319.16 1529.87 Q1319.16 1538.6 1316.08 1543.21 Q1313.02 1547.79 1307.21 1547.79 Q1301.4 1547.79 1298.32 1543.21 Q1295.27 1538.6 1295.27 1529.87 Q1295.27 1521.12 1298.32 1516.54 Q1301.4 1511.93 1307.21 1511.93 Z\" fill=\"#000000\" fill-rule=\"evenodd\" fill-opacity=\"1\" /><path clip-path=\"url(#clip310)\" d=\"M1743.28 1515.64 Q1739.67 1515.64 1737.84 1519.2 Q1736.03 1522.75 1736.03 1529.87 Q1736.03 1536.98 1737.84 1540.55 Q1739.67 1544.09 1743.28 1544.09 Q1746.91 1544.09 1748.72 1540.55 Q1750.55 1536.98 1750.55 1529.87 Q1750.55 1522.75 1748.72 1519.2 Q1746.91 1515.64 1743.28 1515.64 M1743.28 1511.93 Q1749.09 1511.93 1752.14 1516.54 Q1755.22 1521.12 1755.22 1529.87 Q1755.22 1538.6 1752.14 1543.21 Q1749.09 1547.79 1743.28 1547.79 Q1737.47 1547.79 1734.39 1543.21 Q1731.33 1538.6 1731.33 1529.87 Q1731.33 1521.12 1734.39 1516.54 Q1737.47 1511.93 1743.28 1511.93 Z\" fill=\"#000000\" fill-rule=\"evenodd\" fill-opacity=\"1\" /><path clip-path=\"url(#clip310)\" d=\"M1763.44 1541.24 L1768.32 1541.24 L1768.32 1547.12 L1763.44 1547.12 L1763.44 1541.24 Z\" fill=\"#000000\" fill-rule=\"evenodd\" fill-opacity=\"1\" /><path clip-path=\"url(#clip310)\" d=\"M1777.33 1512.56 L1799.55 1512.56 L1799.55 1514.55 L1787.01 1547.12 L1782.12 1547.12 L1793.93 1516.5 L1777.33 1516.5 L1777.33 1512.56 Z\" fill=\"#000000\" fill-rule=\"evenodd\" fill-opacity=\"1\" /><path clip-path=\"url(#clip310)\" d=\"M1808.72 1512.56 L1827.07 1512.56 L1827.07 1516.5 L1813 1516.5 L1813 1524.97 Q1814.02 1524.62 1815.04 1524.46 Q1816.06 1524.27 1817.07 1524.27 Q1822.86 1524.27 1826.24 1527.44 Q1829.62 1530.62 1829.62 1536.03 Q1829.62 1541.61 1826.15 1544.71 Q1822.68 1547.79 1816.36 1547.79 Q1814.18 1547.79 1811.91 1547.42 Q1809.67 1547.05 1807.26 1546.31 L1807.26 1541.61 Q1809.34 1542.74 1811.57 1543.3 Q1813.79 1543.86 1816.26 1543.86 Q1820.27 1543.86 1822.61 1541.75 Q1824.95 1539.64 1824.95 1536.03 Q1824.95 1532.42 1822.61 1530.31 Q1820.27 1528.21 1816.26 1528.21 Q1814.39 1528.21 1812.51 1528.62 Q1810.66 1529.04 1808.72 1529.92 L1808.72 1512.56 Z\" fill=\"#000000\" fill-rule=\"evenodd\" fill-opacity=\"1\" /><path clip-path=\"url(#clip310)\" d=\"M2243.51 1543.18 L2251.15 1543.18 L2251.15 1516.82 L2242.84 1518.49 L2242.84 1514.23 L2251.1 1512.56 L2255.78 1512.56 L2255.78 1543.18 L2263.42 1543.18 L2263.42 1547.12 L2243.51 1547.12 L2243.51 1543.18 Z\" fill=\"#000000\" fill-rule=\"evenodd\" fill-opacity=\"1\" /><path clip-path=\"url(#clip310)\" d=\"M2272.86 1541.24 L2277.75 1541.24 L2277.75 1547.12 L2272.86 1547.12 L2272.86 1541.24 Z\" fill=\"#000000\" fill-rule=\"evenodd\" fill-opacity=\"1\" /><path clip-path=\"url(#clip310)\" d=\"M2297.93 1515.64 Q2294.32 1515.64 2292.49 1519.2 Q2290.69 1522.75 2290.69 1529.87 Q2290.69 1536.98 2292.49 1540.55 Q2294.32 1544.09 2297.93 1544.09 Q2301.57 1544.09 2303.37 1540.55 Q2305.2 1536.98 2305.2 1529.87 Q2305.2 1522.75 2303.37 1519.2 Q2301.57 1515.64 2297.93 1515.64 M2297.93 1511.93 Q2303.74 1511.93 2306.8 1516.54 Q2309.88 1521.12 2309.88 1529.87 Q2309.88 1538.6 2306.8 1543.21 Q2303.74 1547.79 2297.93 1547.79 Q2292.12 1547.79 2289.04 1543.21 Q2285.99 1538.6 2285.99 1529.87 Q2285.99 1521.12 2289.04 1516.54 Q2292.12 1511.93 2297.93 1511.93 Z\" fill=\"#000000\" fill-rule=\"evenodd\" fill-opacity=\"1\" /><path clip-path=\"url(#clip310)\" d=\"M2328.1 1515.64 Q2324.48 1515.64 2322.66 1519.2 Q2320.85 1522.75 2320.85 1529.87 Q2320.85 1536.98 2322.66 1540.55 Q2324.48 1544.09 2328.1 1544.09 Q2331.73 1544.09 2333.54 1540.55 Q2335.36 1536.98 2335.36 1529.87 Q2335.36 1522.75 2333.54 1519.2 Q2331.73 1515.64 2328.1 1515.64 M2328.1 1511.93 Q2333.91 1511.93 2336.96 1516.54 Q2340.04 1521.12 2340.04 1529.87 Q2340.04 1538.6 2336.96 1543.21 Q2333.91 1547.79 2328.1 1547.79 Q2322.29 1547.79 2319.21 1543.21 Q2316.15 1538.6 2316.15 1529.87 Q2316.15 1521.12 2319.21 1516.54 Q2322.29 1511.93 2328.1 1511.93 Z\" fill=\"#000000\" fill-rule=\"evenodd\" fill-opacity=\"1\" /><polyline clip-path=\"url(#clip312)\" style=\"stroke:#000000; stroke-linecap:butt; stroke-linejoin:round; stroke-width:2; stroke-opacity:0.1; fill:none\" points=\"\n  186.274,1445.72 2352.76,1445.72 \n  \"/>\n<polyline clip-path=\"url(#clip312)\" style=\"stroke:#000000; stroke-linecap:butt; stroke-linejoin:round; stroke-width:2; stroke-opacity:0.1; fill:none\" points=\"\n  186.274,1106.28 2352.76,1106.28 \n  \"/>\n<polyline clip-path=\"url(#clip312)\" style=\"stroke:#000000; stroke-linecap:butt; stroke-linejoin:round; stroke-width:2; stroke-opacity:0.1; fill:none\" points=\"\n  186.274,766.846 2352.76,766.846 \n  \"/>\n<polyline clip-path=\"url(#clip312)\" style=\"stroke:#000000; stroke-linecap:butt; stroke-linejoin:round; stroke-width:2; stroke-opacity:0.1; fill:none\" points=\"\n  186.274,427.411 2352.76,427.411 \n  \"/>\n<polyline clip-path=\"url(#clip312)\" style=\"stroke:#000000; stroke-linecap:butt; stroke-linejoin:round; stroke-width:2; stroke-opacity:0.1; fill:none\" points=\"\n  186.274,87.9763 2352.76,87.9763 \n  \"/>\n<polyline clip-path=\"url(#clip310)\" style=\"stroke:#000000; stroke-linecap:butt; stroke-linejoin:round; stroke-width:4; stroke-opacity:1; fill:none\" points=\"\n  186.274,1486.45 186.274,47.2441 \n  \"/>\n<polyline clip-path=\"url(#clip310)\" style=\"stroke:#000000; stroke-linecap:butt; stroke-linejoin:round; stroke-width:4; stroke-opacity:1; fill:none\" points=\"\n  186.274,1445.72 205.172,1445.72 \n  \"/>\n<polyline clip-path=\"url(#clip310)\" style=\"stroke:#000000; stroke-linecap:butt; stroke-linejoin:round; stroke-width:4; stroke-opacity:1; fill:none\" points=\"\n  186.274,1106.28 205.172,1106.28 \n  \"/>\n<polyline clip-path=\"url(#clip310)\" style=\"stroke:#000000; stroke-linecap:butt; stroke-linejoin:round; stroke-width:4; stroke-opacity:1; fill:none\" points=\"\n  186.274,766.846 205.172,766.846 \n  \"/>\n<polyline clip-path=\"url(#clip310)\" style=\"stroke:#000000; stroke-linecap:butt; stroke-linejoin:round; stroke-width:4; stroke-opacity:1; fill:none\" points=\"\n  186.274,427.411 205.172,427.411 \n  \"/>\n<polyline clip-path=\"url(#clip310)\" style=\"stroke:#000000; stroke-linecap:butt; stroke-linejoin:round; stroke-width:4; stroke-opacity:1; fill:none\" points=\"\n  186.274,87.9763 205.172,87.9763 \n  \"/>\n<path clip-path=\"url(#clip310)\" d=\"M62.9365 1431.51 Q59.3254 1431.51 57.4967 1435.08 Q55.6912 1438.62 55.6912 1445.75 Q55.6912 1452.86 57.4967 1456.42 Q59.3254 1459.96 62.9365 1459.96 Q66.5707 1459.96 68.3763 1456.42 Q70.205 1452.86 70.205 1445.75 Q70.205 1438.62 68.3763 1435.08 Q66.5707 1431.51 62.9365 1431.51 M62.9365 1427.81 Q68.7467 1427.81 71.8022 1432.42 Q74.8809 1437 74.8809 1445.75 Q74.8809 1454.48 71.8022 1459.08 Q68.7467 1463.67 62.9365 1463.67 Q57.1264 1463.67 54.0477 1459.08 Q50.9921 1454.48 50.9921 1445.75 Q50.9921 1437 54.0477 1432.42 Q57.1264 1427.81 62.9365 1427.81 Z\" fill=\"#000000\" fill-rule=\"evenodd\" fill-opacity=\"1\" /><path clip-path=\"url(#clip310)\" d=\"M83.0984 1457.12 L87.9827 1457.12 L87.9827 1463 L83.0984 1463 L83.0984 1457.12 Z\" fill=\"#000000\" fill-rule=\"evenodd\" fill-opacity=\"1\" /><path clip-path=\"url(#clip310)\" d=\"M108.168 1431.51 Q104.557 1431.51 102.728 1435.08 Q100.922 1438.62 100.922 1445.75 Q100.922 1452.86 102.728 1456.42 Q104.557 1459.96 108.168 1459.96 Q111.802 1459.96 113.608 1456.42 Q115.436 1452.86 115.436 1445.75 Q115.436 1438.62 113.608 1435.08 Q111.802 1431.51 108.168 1431.51 M108.168 1427.81 Q113.978 1427.81 117.033 1432.42 Q120.112 1437 120.112 1445.75 Q120.112 1454.48 117.033 1459.08 Q113.978 1463.67 108.168 1463.67 Q102.358 1463.67 99.2789 1459.08 Q96.2234 1454.48 96.2234 1445.75 Q96.2234 1437 99.2789 1432.42 Q102.358 1427.81 108.168 1427.81 Z\" fill=\"#000000\" fill-rule=\"evenodd\" fill-opacity=\"1\" /><path clip-path=\"url(#clip310)\" d=\"M138.33 1431.51 Q134.719 1431.51 132.89 1435.08 Q131.084 1438.62 131.084 1445.75 Q131.084 1452.86 132.89 1456.42 Q134.719 1459.96 138.33 1459.96 Q141.964 1459.96 143.769 1456.42 Q145.598 1452.86 145.598 1445.75 Q145.598 1438.62 143.769 1435.08 Q141.964 1431.51 138.33 1431.51 M138.33 1427.81 Q144.14 1427.81 147.195 1432.42 Q150.274 1437 150.274 1445.75 Q150.274 1454.48 147.195 1459.08 Q144.14 1463.67 138.33 1463.67 Q132.519 1463.67 129.441 1459.08 Q126.385 1454.48 126.385 1445.75 Q126.385 1437 129.441 1432.42 Q132.519 1427.81 138.33 1427.81 Z\" fill=\"#000000\" fill-rule=\"evenodd\" fill-opacity=\"1\" /><path clip-path=\"url(#clip310)\" d=\"M63.9319 1092.08 Q60.3208 1092.08 58.4921 1095.64 Q56.6865 1099.19 56.6865 1106.32 Q56.6865 1113.42 58.4921 1116.99 Q60.3208 1120.53 63.9319 1120.53 Q67.5661 1120.53 69.3717 1116.99 Q71.2004 1113.42 71.2004 1106.32 Q71.2004 1099.19 69.3717 1095.64 Q67.5661 1092.08 63.9319 1092.08 M63.9319 1088.38 Q69.742 1088.38 72.7976 1092.98 Q75.8763 1097.57 75.8763 1106.32 Q75.8763 1115.04 72.7976 1119.65 Q69.742 1124.23 63.9319 1124.23 Q58.1217 1124.23 55.043 1119.65 Q51.9875 1115.04 51.9875 1106.32 Q51.9875 1097.57 55.043 1092.98 Q58.1217 1088.38 63.9319 1088.38 Z\" fill=\"#000000\" fill-rule=\"evenodd\" fill-opacity=\"1\" /><path clip-path=\"url(#clip310)\" d=\"M84.0938 1117.68 L88.978 1117.68 L88.978 1123.56 L84.0938 1123.56 L84.0938 1117.68 Z\" fill=\"#000000\" fill-rule=\"evenodd\" fill-opacity=\"1\" /><path clip-path=\"url(#clip310)\" d=\"M103.191 1119.63 L119.51 1119.63 L119.51 1123.56 L97.566 1123.56 L97.566 1119.63 Q100.228 1116.87 104.811 1112.24 Q109.418 1107.59 110.598 1106.25 Q112.844 1103.72 113.723 1101.99 Q114.626 1100.23 114.626 1098.54 Q114.626 1095.78 112.682 1094.05 Q110.76 1092.31 107.658 1092.31 Q105.459 1092.31 103.006 1093.07 Q100.575 1093.84 97.7974 1095.39 L97.7974 1090.67 Q100.621 1089.53 103.075 1088.95 Q105.529 1088.38 107.566 1088.38 Q112.936 1088.38 116.131 1091.06 Q119.325 1093.75 119.325 1098.24 Q119.325 1100.37 118.515 1102.29 Q117.728 1104.19 115.621 1106.78 Q115.043 1107.45 111.941 1110.67 Q108.839 1113.86 103.191 1119.63 Z\" fill=\"#000000\" fill-rule=\"evenodd\" fill-opacity=\"1\" /><path clip-path=\"url(#clip310)\" d=\"M129.371 1089 L147.728 1089 L147.728 1092.94 L133.654 1092.94 L133.654 1101.41 Q134.672 1101.06 135.691 1100.9 Q136.709 1100.71 137.728 1100.71 Q143.515 1100.71 146.894 1103.89 Q150.274 1107.06 150.274 1112.47 Q150.274 1118.05 146.802 1121.15 Q143.33 1124.23 137.01 1124.23 Q134.834 1124.23 132.566 1123.86 Q130.32 1123.49 127.913 1122.75 L127.913 1118.05 Q129.996 1119.19 132.219 1119.74 Q134.441 1120.3 136.918 1120.3 Q140.922 1120.3 143.26 1118.19 Q145.598 1116.08 145.598 1112.47 Q145.598 1108.86 143.26 1106.76 Q140.922 1104.65 136.918 1104.65 Q135.043 1104.65 133.168 1105.07 Q131.316 1105.48 129.371 1106.36 L129.371 1089 Z\" fill=\"#000000\" fill-rule=\"evenodd\" fill-opacity=\"1\" /><path clip-path=\"url(#clip310)\" d=\"M62.9365 752.645 Q59.3254 752.645 57.4967 756.209 Q55.6912 759.751 55.6912 766.881 Q55.6912 773.987 57.4967 777.552 Q59.3254 781.094 62.9365 781.094 Q66.5707 781.094 68.3763 777.552 Q70.205 773.987 70.205 766.881 Q70.205 759.751 68.3763 756.209 Q66.5707 752.645 62.9365 752.645 M62.9365 748.941 Q68.7467 748.941 71.8022 753.547 Q74.8809 758.131 74.8809 766.881 Q74.8809 775.608 71.8022 780.214 Q68.7467 784.797 62.9365 784.797 Q57.1264 784.797 54.0477 780.214 Q50.9921 775.608 50.9921 766.881 Q50.9921 758.131 54.0477 753.547 Q57.1264 748.941 62.9365 748.941 Z\" fill=\"#000000\" fill-rule=\"evenodd\" fill-opacity=\"1\" /><path clip-path=\"url(#clip310)\" d=\"M83.0984 778.246 L87.9827 778.246 L87.9827 784.126 L83.0984 784.126 L83.0984 778.246 Z\" fill=\"#000000\" fill-rule=\"evenodd\" fill-opacity=\"1\" /><path clip-path=\"url(#clip310)\" d=\"M98.2141 749.566 L116.57 749.566 L116.57 753.501 L102.496 753.501 L102.496 761.973 Q103.515 761.626 104.534 761.464 Q105.552 761.279 106.571 761.279 Q112.358 761.279 115.737 764.45 Q119.117 767.621 119.117 773.038 Q119.117 778.617 115.645 781.719 Q112.172 784.797 105.853 784.797 Q103.677 784.797 101.409 784.427 Q99.1632 784.057 96.7558 783.316 L96.7558 778.617 Q98.8391 779.751 101.061 780.307 Q103.284 780.862 105.76 780.862 Q109.765 780.862 112.103 778.756 Q114.441 776.649 114.441 773.038 Q114.441 769.427 112.103 767.321 Q109.765 765.214 105.76 765.214 Q103.885 765.214 102.01 765.631 Q100.159 766.047 98.2141 766.927 L98.2141 749.566 Z\" fill=\"#000000\" fill-rule=\"evenodd\" fill-opacity=\"1\" /><path clip-path=\"url(#clip310)\" d=\"M138.33 752.645 Q134.719 752.645 132.89 756.209 Q131.084 759.751 131.084 766.881 Q131.084 773.987 132.89 777.552 Q134.719 781.094 138.33 781.094 Q141.964 781.094 143.769 777.552 Q145.598 773.987 145.598 766.881 Q145.598 759.751 143.769 756.209 Q141.964 752.645 138.33 752.645 M138.33 748.941 Q144.14 748.941 147.195 753.547 Q150.274 758.131 150.274 766.881 Q150.274 775.608 147.195 780.214 Q144.14 784.797 138.33 784.797 Q132.519 784.797 129.441 780.214 Q126.385 775.608 126.385 766.881 Q126.385 758.131 129.441 753.547 Q132.519 748.941 138.33 748.941 Z\" fill=\"#000000\" fill-rule=\"evenodd\" fill-opacity=\"1\" /><path clip-path=\"url(#clip310)\" d=\"M63.9319 413.21 Q60.3208 413.21 58.4921 416.775 Q56.6865 420.316 56.6865 427.446 Q56.6865 434.552 58.4921 438.117 Q60.3208 441.659 63.9319 441.659 Q67.5661 441.659 69.3717 438.117 Q71.2004 434.552 71.2004 427.446 Q71.2004 420.316 69.3717 416.775 Q67.5661 413.21 63.9319 413.21 M63.9319 409.506 Q69.742 409.506 72.7976 414.113 Q75.8763 418.696 75.8763 427.446 Q75.8763 436.173 72.7976 440.779 Q69.742 445.362 63.9319 445.362 Q58.1217 445.362 55.043 440.779 Q51.9875 436.173 51.9875 427.446 Q51.9875 418.696 55.043 414.113 Q58.1217 409.506 63.9319 409.506 Z\" fill=\"#000000\" fill-rule=\"evenodd\" fill-opacity=\"1\" /><path clip-path=\"url(#clip310)\" d=\"M84.0938 438.812 L88.978 438.812 L88.978 444.691 L84.0938 444.691 L84.0938 438.812 Z\" fill=\"#000000\" fill-rule=\"evenodd\" fill-opacity=\"1\" /><path clip-path=\"url(#clip310)\" d=\"M97.9826 410.131 L120.205 410.131 L120.205 412.122 L107.658 444.691 L102.774 444.691 L114.58 414.066 L97.9826 414.066 L97.9826 410.131 Z\" fill=\"#000000\" fill-rule=\"evenodd\" fill-opacity=\"1\" /><path clip-path=\"url(#clip310)\" d=\"M129.371 410.131 L147.728 410.131 L147.728 414.066 L133.654 414.066 L133.654 422.538 Q134.672 422.191 135.691 422.029 Q136.709 421.844 137.728 421.844 Q143.515 421.844 146.894 425.015 Q150.274 428.187 150.274 433.603 Q150.274 439.182 146.802 442.284 Q143.33 445.362 137.01 445.362 Q134.834 445.362 132.566 444.992 Q130.32 444.622 127.913 443.881 L127.913 439.182 Q129.996 440.316 132.219 440.872 Q134.441 441.427 136.918 441.427 Q140.922 441.427 143.26 439.321 Q145.598 437.214 145.598 433.603 Q145.598 429.992 143.26 427.886 Q140.922 425.779 136.918 425.779 Q135.043 425.779 133.168 426.196 Q131.316 426.613 129.371 427.492 L129.371 410.131 Z\" fill=\"#000000\" fill-rule=\"evenodd\" fill-opacity=\"1\" /><path clip-path=\"url(#clip310)\" d=\"M53.7467 101.321 L61.3856 101.321 L61.3856 74.9555 L53.0754 76.6222 L53.0754 72.3629 L61.3393 70.6963 L66.0152 70.6963 L66.0152 101.321 L73.654 101.321 L73.654 105.256 L53.7467 105.256 L53.7467 101.321 Z\" fill=\"#000000\" fill-rule=\"evenodd\" fill-opacity=\"1\" /><path clip-path=\"url(#clip310)\" d=\"M83.0984 99.3767 L87.9827 99.3767 L87.9827 105.256 L83.0984 105.256 L83.0984 99.3767 Z\" fill=\"#000000\" fill-rule=\"evenodd\" fill-opacity=\"1\" /><path clip-path=\"url(#clip310)\" d=\"M108.168 73.775 Q104.557 73.775 102.728 77.3398 Q100.922 80.8814 100.922 88.011 Q100.922 95.1174 102.728 98.6822 Q104.557 102.224 108.168 102.224 Q111.802 102.224 113.608 98.6822 Q115.436 95.1174 115.436 88.011 Q115.436 80.8814 113.608 77.3398 Q111.802 73.775 108.168 73.775 M108.168 70.0713 Q113.978 70.0713 117.033 74.6777 Q120.112 79.261 120.112 88.011 Q120.112 96.7378 117.033 101.344 Q113.978 105.928 108.168 105.928 Q102.358 105.928 99.2789 101.344 Q96.2234 96.7378 96.2234 88.011 Q96.2234 79.261 99.2789 74.6777 Q102.358 70.0713 108.168 70.0713 Z\" fill=\"#000000\" fill-rule=\"evenodd\" fill-opacity=\"1\" /><path clip-path=\"url(#clip310)\" d=\"M138.33 73.775 Q134.719 73.775 132.89 77.3398 Q131.084 80.8814 131.084 88.011 Q131.084 95.1174 132.89 98.6822 Q134.719 102.224 138.33 102.224 Q141.964 102.224 143.769 98.6822 Q145.598 95.1174 145.598 88.011 Q145.598 80.8814 143.769 77.3398 Q141.964 73.775 138.33 73.775 M138.33 70.0713 Q144.14 70.0713 147.195 74.6777 Q150.274 79.261 150.274 88.011 Q150.274 96.7378 147.195 101.344 Q144.14 105.928 138.33 105.928 Q132.519 105.928 129.441 101.344 Q126.385 96.7378 126.385 88.011 Q126.385 79.261 129.441 74.6777 Q132.519 70.0713 138.33 70.0713 Z\" fill=\"#000000\" fill-rule=\"evenodd\" fill-opacity=\"1\" /><polyline clip-path=\"url(#clip312)\" style=\"stroke:#009af9; stroke-linecap:butt; stroke-linejoin:round; stroke-width:4; stroke-opacity:1; fill:none\" points=\"\n  247.59,1445.72 268.234,1445.58 288.879,1445.16 309.524,1444.47 330.169,1443.5 350.814,1442.25 371.459,1440.73 392.104,1438.93 412.749,1436.85 433.394,1434.49 \n  454.039,1431.86 474.684,1428.95 495.329,1425.77 515.974,1422.3 536.619,1418.56 557.264,1414.55 577.909,1410.25 598.554,1405.68 619.199,1400.83 639.844,1395.71 \n  660.489,1390.3 681.134,1384.62 701.779,1378.67 722.424,1372.43 743.069,1365.92 763.713,1359.13 784.358,1352.07 805.003,1344.73 825.648,1337.11 846.293,1329.21 \n  866.938,1321.04 887.583,1312.59 908.228,1303.86 928.873,1294.86 949.518,1285.57 970.163,1276.02 990.808,1266.18 1011.45,1256.07 1032.1,1245.68 1052.74,1235.01 \n  1073.39,1224.07 1094.03,1212.85 1114.68,1201.35 1135.32,1189.57 1155.97,1177.52 1176.61,1165.19 1197.26,1152.58 1217.9,1139.7 1238.55,1126.54 1259.19,1113.1 \n  1279.84,1099.39 1300.48,1085.4 1321.13,1071.13 1341.77,1056.58 1362.42,1041.76 1383.06,1026.66 1403.71,1011.28 1424.35,995.629 1445,979.698 1465.64,963.49 \n  1486.29,947.005 1506.93,930.243 1527.58,913.204 1548.22,895.887 1568.87,878.294 1589.51,860.423 1610.16,842.276 1630.8,823.851 1651.45,805.15 1672.09,786.171 \n  1692.74,766.915 1713.38,747.382 1734.03,727.573 1754.67,707.486 1775.32,687.122 1795.96,666.48 1816.61,645.562 1837.25,624.367 1857.9,602.895 1878.54,581.146 \n  1899.19,559.119 1919.83,536.816 1940.48,514.235 1961.12,491.378 1981.77,468.243 2002.41,444.831 2023.06,421.143 2043.7,397.177 2064.35,372.934 2084.99,348.414 \n  2105.64,323.617 2126.28,298.543 2146.93,273.192 2167.57,247.564 2188.22,221.658 2208.86,195.476 2229.51,169.017 2250.15,142.28 2270.8,115.267 2291.44,87.9763 \n  \n  \"/>\n<path clip-path=\"url(#clip310)\" d=\"\nM1947.99 198.898 L2280.54 198.898 L2280.54 95.2176 L1947.99 95.2176  Z\n  \" fill=\"#ffffff\" fill-rule=\"evenodd\" fill-opacity=\"1\"/>\n<polyline clip-path=\"url(#clip310)\" style=\"stroke:#000000; stroke-linecap:butt; stroke-linejoin:round; stroke-width:4; stroke-opacity:1; fill:none\" points=\"\n  1947.99,198.898 2280.54,198.898 2280.54,95.2176 1947.99,95.2176 1947.99,198.898 \n  \"/>\n<polyline clip-path=\"url(#clip310)\" style=\"stroke:#009af9; stroke-linecap:butt; stroke-linejoin:round; stroke-width:4; stroke-opacity:1; fill:none\" points=\"\n  1972.06,147.058 2116.5,147.058 \n  \"/>\n<path clip-path=\"url(#clip310)\" d=\"M2165.22 138.412 L2155.85 151.027 L2165.71 164.338 L2160.68 164.338 L2153.14 154.152 L2145.59 164.338 L2140.57 164.338 L2150.64 150.773 L2141.42 138.412 L2146.45 138.412 L2153.32 147.648 L2160.2 138.412 L2165.22 138.412 Z\" fill=\"#000000\" fill-rule=\"evenodd\" fill-opacity=\"1\" /><path clip-path=\"url(#clip310)\" d=\"M2189.39 129.778 L2201.96 142.671 L2197.3 142.671 L2187.12 133.528 L2176.93 142.671 L2172.28 142.671 L2184.85 129.778 L2189.39 129.778 Z\" fill=\"#000000\" fill-rule=\"evenodd\" fill-opacity=\"1\" /><path clip-path=\"url(#clip310)\" d=\"M2216.08 160.402 L2232.4 160.402 L2232.4 164.338 L2210.45 164.338 L2210.45 160.402 Q2213.11 157.648 2217.7 153.018 Q2222.3 148.365 2223.48 147.023 Q2225.73 144.5 2226.61 142.764 Q2227.51 141.004 2227.51 139.315 Q2227.51 136.56 2225.57 134.824 Q2223.65 133.088 2220.54 133.088 Q2218.34 133.088 2215.89 133.852 Q2213.46 134.615 2210.68 136.166 L2210.68 131.444 Q2213.51 130.31 2215.96 129.731 Q2218.41 129.153 2220.45 129.153 Q2225.82 129.153 2229.02 131.838 Q2232.21 134.523 2232.21 139.014 Q2232.21 141.143 2231.4 143.065 Q2230.61 144.963 2228.51 147.555 Q2227.93 148.227 2224.83 151.444 Q2221.72 154.639 2216.08 160.402 Z\" fill=\"#000000\" fill-rule=\"evenodd\" fill-opacity=\"1\" /></svg>\n"
     },
     "metadata": {},
     "execution_count": 86
    }
   ],
   "metadata": {}
  },
  {
   "cell_type": "code",
   "execution_count": 89,
   "source": [
    "heatmap(LinRange(-2,2,102), LinRange(-1.1,1.1,100),\n",
    "    (x,y) -> exp(-x^2-y^2), aspect_ratio=1)"
   ],
   "outputs": [
    {
     "output_type": "execute_result",
     "data": {
      "image/svg+xml": "<?xml version=\"1.0\" encoding=\"utf-8\"?>\n<svg xmlns=\"http://www.w3.org/2000/svg\" xmlns:xlink=\"http://www.w3.org/1999/xlink\" width=\"600\" height=\"400\" viewBox=\"0 0 2400 1600\">\n<defs>\n  <clipPath id=\"clip430\">\n    <rect x=\"0\" y=\"0\" width=\"2400\" height=\"1600\"/>\n  </clipPath>\n</defs>\n<path clip-path=\"url(#clip430)\" d=\"\nM0 1600 L2400 1600 L2400 0 L0 0  Z\n  \" fill=\"#ffffff\" fill-rule=\"evenodd\" fill-opacity=\"1\"/>\n<defs>\n  <clipPath id=\"clip431\">\n    <rect x=\"480\" y=\"0\" width=\"1681\" height=\"1600\"/>\n  </clipPath>\n</defs>\n<path clip-path=\"url(#clip430)\" d=\"\nM193.936 1406.45 L2112.76 1406.45 L2112.76 127.244 L193.936 127.244  Z\n  \" fill=\"#ffffff\" fill-rule=\"evenodd\" fill-opacity=\"1\"/>\n<defs>\n  <clipPath id=\"clip432\">\n    <rect x=\"193\" y=\"127\" width=\"1920\" height=\"1280\"/>\n  </clipPath>\n</defs>\n<polyline clip-path=\"url(#clip432)\" style=\"stroke:#000000; stroke-linecap:butt; stroke-linejoin:round; stroke-width:2; stroke-opacity:0.1; fill:none\" points=\"\n  203.342,1406.45 203.342,127.244 \n  \"/>\n<polyline clip-path=\"url(#clip432)\" style=\"stroke:#000000; stroke-linecap:butt; stroke-linejoin:round; stroke-width:2; stroke-opacity:0.1; fill:none\" points=\"\n  678.344,1406.45 678.344,127.244 \n  \"/>\n<polyline clip-path=\"url(#clip432)\" style=\"stroke:#000000; stroke-linecap:butt; stroke-linejoin:round; stroke-width:2; stroke-opacity:0.1; fill:none\" points=\"\n  1153.35,1406.45 1153.35,127.244 \n  \"/>\n<polyline clip-path=\"url(#clip432)\" style=\"stroke:#000000; stroke-linecap:butt; stroke-linejoin:round; stroke-width:2; stroke-opacity:0.1; fill:none\" points=\"\n  1628.35,1406.45 1628.35,127.244 \n  \"/>\n<polyline clip-path=\"url(#clip432)\" style=\"stroke:#000000; stroke-linecap:butt; stroke-linejoin:round; stroke-width:2; stroke-opacity:0.1; fill:none\" points=\"\n  2103.35,1406.45 2103.35,127.244 \n  \"/>\n<polyline clip-path=\"url(#clip430)\" style=\"stroke:#000000; stroke-linecap:butt; stroke-linejoin:round; stroke-width:4; stroke-opacity:1; fill:none\" points=\"\n  193.936,1406.45 2112.76,1406.45 \n  \"/>\n<polyline clip-path=\"url(#clip430)\" style=\"stroke:#000000; stroke-linecap:butt; stroke-linejoin:round; stroke-width:4; stroke-opacity:1; fill:none\" points=\"\n  203.342,1406.45 203.342,1389.65 \n  \"/>\n<polyline clip-path=\"url(#clip430)\" style=\"stroke:#000000; stroke-linecap:butt; stroke-linejoin:round; stroke-width:4; stroke-opacity:1; fill:none\" points=\"\n  678.344,1406.45 678.344,1389.65 \n  \"/>\n<polyline clip-path=\"url(#clip430)\" style=\"stroke:#000000; stroke-linecap:butt; stroke-linejoin:round; stroke-width:4; stroke-opacity:1; fill:none\" points=\"\n  1153.35,1406.45 1153.35,1389.65 \n  \"/>\n<polyline clip-path=\"url(#clip430)\" style=\"stroke:#000000; stroke-linecap:butt; stroke-linejoin:round; stroke-width:4; stroke-opacity:1; fill:none\" points=\"\n  1628.35,1406.45 1628.35,1389.65 \n  \"/>\n<polyline clip-path=\"url(#clip430)\" style=\"stroke:#000000; stroke-linecap:butt; stroke-linejoin:round; stroke-width:4; stroke-opacity:1; fill:none\" points=\"\n  2103.35,1406.45 2103.35,1389.65 \n  \"/>\n<path clip-path=\"url(#clip430)\" d=\"M173.284 1450.29 L202.96 1450.29 L202.96 1454.23 L173.284 1454.23 L173.284 1450.29 Z\" fill=\"#000000\" fill-rule=\"evenodd\" fill-opacity=\"1\" /><path clip-path=\"url(#clip430)\" d=\"M217.08 1463.19 L233.4 1463.19 L233.4 1467.12 L211.455 1467.12 L211.455 1463.19 Q214.117 1460.43 218.701 1455.8 Q223.307 1451.15 224.488 1449.81 Q226.733 1447.28 227.613 1445.55 Q228.515 1443.79 228.515 1442.1 Q228.515 1439.34 226.571 1437.61 Q224.65 1435.87 221.548 1435.87 Q219.349 1435.87 216.895 1436.63 Q214.465 1437.4 211.687 1438.95 L211.687 1434.23 Q214.511 1433.09 216.965 1432.51 Q219.418 1431.94 221.455 1431.94 Q226.826 1431.94 230.02 1434.62 Q233.215 1437.31 233.215 1441.8 Q233.215 1443.93 232.404 1445.85 Q231.617 1447.75 229.511 1450.34 Q228.932 1451.01 225.83 1454.23 Q222.728 1457.42 217.08 1463.19 Z\" fill=\"#000000\" fill-rule=\"evenodd\" fill-opacity=\"1\" /><path clip-path=\"url(#clip430)\" d=\"M648.101 1450.29 L677.777 1450.29 L677.777 1454.23 L648.101 1454.23 L648.101 1450.29 Z\" fill=\"#000000\" fill-rule=\"evenodd\" fill-opacity=\"1\" /><path clip-path=\"url(#clip430)\" d=\"M688.68 1463.19 L696.318 1463.19 L696.318 1436.82 L688.008 1438.49 L688.008 1434.23 L696.272 1432.56 L700.948 1432.56 L700.948 1463.19 L708.587 1463.19 L708.587 1467.12 L688.68 1467.12 L688.68 1463.19 Z\" fill=\"#000000\" fill-rule=\"evenodd\" fill-opacity=\"1\" /><path clip-path=\"url(#clip430)\" d=\"M1153.35 1435.64 Q1149.73 1435.64 1147.91 1439.2 Q1146.1 1442.75 1146.1 1449.88 Q1146.1 1456.98 1147.91 1460.55 Q1149.73 1464.09 1153.35 1464.09 Q1156.98 1464.09 1158.79 1460.55 Q1160.61 1456.98 1160.61 1449.88 Q1160.61 1442.75 1158.79 1439.2 Q1156.98 1435.64 1153.35 1435.64 M1153.35 1431.94 Q1159.16 1431.94 1162.21 1436.54 Q1165.29 1441.13 1165.29 1449.88 Q1165.29 1458.6 1162.21 1463.21 Q1159.16 1467.79 1153.35 1467.79 Q1147.54 1467.79 1144.46 1463.21 Q1141.4 1458.6 1141.4 1449.88 Q1141.4 1441.13 1144.46 1436.54 Q1147.54 1431.94 1153.35 1431.94 Z\" fill=\"#000000\" fill-rule=\"evenodd\" fill-opacity=\"1\" /><path clip-path=\"url(#clip430)\" d=\"M1618.73 1463.19 L1626.37 1463.19 L1626.37 1436.82 L1618.06 1438.49 L1618.06 1434.23 L1626.32 1432.56 L1631 1432.56 L1631 1463.19 L1638.64 1463.19 L1638.64 1467.12 L1618.73 1467.12 L1618.73 1463.19 Z\" fill=\"#000000\" fill-rule=\"evenodd\" fill-opacity=\"1\" /><path clip-path=\"url(#clip430)\" d=\"M2098 1463.19 L2114.32 1463.19 L2114.32 1467.12 L2092.38 1467.12 L2092.38 1463.19 Q2095.04 1460.43 2099.62 1455.8 Q2104.23 1451.15 2105.41 1449.81 Q2107.66 1447.28 2108.54 1445.55 Q2109.44 1443.79 2109.44 1442.1 Q2109.44 1439.34 2107.49 1437.61 Q2105.57 1435.87 2102.47 1435.87 Q2100.27 1435.87 2097.82 1436.63 Q2095.39 1437.4 2092.61 1438.95 L2092.61 1434.23 Q2095.43 1433.09 2097.89 1432.51 Q2100.34 1431.94 2102.38 1431.94 Q2107.75 1431.94 2110.94 1434.62 Q2114.14 1437.31 2114.14 1441.8 Q2114.14 1443.93 2113.33 1445.85 Q2112.54 1447.75 2110.43 1450.34 Q2109.85 1451.01 2106.75 1454.23 Q2103.65 1457.42 2098 1463.19 Z\" fill=\"#000000\" fill-rule=\"evenodd\" fill-opacity=\"1\" /><polyline clip-path=\"url(#clip432)\" style=\"stroke:#000000; stroke-linecap:butt; stroke-linejoin:round; stroke-width:2; stroke-opacity:0.1; fill:none\" points=\"\n  193.936,1241.85 2112.76,1241.85 \n  \"/>\n<polyline clip-path=\"url(#clip432)\" style=\"stroke:#000000; stroke-linecap:butt; stroke-linejoin:round; stroke-width:2; stroke-opacity:0.1; fill:none\" points=\"\n  193.936,1004.35 2112.76,1004.35 \n  \"/>\n<polyline clip-path=\"url(#clip432)\" style=\"stroke:#000000; stroke-linecap:butt; stroke-linejoin:round; stroke-width:2; stroke-opacity:0.1; fill:none\" points=\"\n  193.936,766.846 2112.76,766.846 \n  \"/>\n<polyline clip-path=\"url(#clip432)\" style=\"stroke:#000000; stroke-linecap:butt; stroke-linejoin:round; stroke-width:2; stroke-opacity:0.1; fill:none\" points=\"\n  193.936,529.345 2112.76,529.345 \n  \"/>\n<polyline clip-path=\"url(#clip432)\" style=\"stroke:#000000; stroke-linecap:butt; stroke-linejoin:round; stroke-width:2; stroke-opacity:0.1; fill:none\" points=\"\n  193.936,291.844 2112.76,291.844 \n  \"/>\n<polyline clip-path=\"url(#clip430)\" style=\"stroke:#000000; stroke-linecap:butt; stroke-linejoin:round; stroke-width:4; stroke-opacity:1; fill:none\" points=\"\n  193.936,1406.45 193.936,127.244 \n  \"/>\n<polyline clip-path=\"url(#clip430)\" style=\"stroke:#000000; stroke-linecap:butt; stroke-linejoin:round; stroke-width:4; stroke-opacity:1; fill:none\" points=\"\n  193.936,1241.85 210.733,1241.85 \n  \"/>\n<polyline clip-path=\"url(#clip430)\" style=\"stroke:#000000; stroke-linecap:butt; stroke-linejoin:round; stroke-width:4; stroke-opacity:1; fill:none\" points=\"\n  193.936,1004.35 210.733,1004.35 \n  \"/>\n<polyline clip-path=\"url(#clip430)\" style=\"stroke:#000000; stroke-linecap:butt; stroke-linejoin:round; stroke-width:4; stroke-opacity:1; fill:none\" points=\"\n  193.936,766.846 210.733,766.846 \n  \"/>\n<polyline clip-path=\"url(#clip430)\" style=\"stroke:#000000; stroke-linecap:butt; stroke-linejoin:round; stroke-width:4; stroke-opacity:1; fill:none\" points=\"\n  193.936,529.345 210.733,529.345 \n  \"/>\n<polyline clip-path=\"url(#clip430)\" style=\"stroke:#000000; stroke-linecap:butt; stroke-linejoin:round; stroke-width:4; stroke-opacity:1; fill:none\" points=\"\n  193.936,291.844 210.733,291.844 \n  \"/>\n<path clip-path=\"url(#clip430)\" d=\"M50.9921 1242.3 L80.6679 1242.3 L80.6679 1246.23 L50.9921 1246.23 L50.9921 1242.3 Z\" fill=\"#000000\" fill-rule=\"evenodd\" fill-opacity=\"1\" /><path clip-path=\"url(#clip430)\" d=\"M91.5706 1255.19 L99.2095 1255.19 L99.2095 1228.83 L90.8993 1230.49 L90.8993 1226.23 L99.1632 1224.57 L103.839 1224.57 L103.839 1255.19 L111.478 1255.19 L111.478 1259.13 L91.5706 1259.13 L91.5706 1255.19 Z\" fill=\"#000000\" fill-rule=\"evenodd\" fill-opacity=\"1\" /><path clip-path=\"url(#clip430)\" d=\"M120.922 1253.25 L125.807 1253.25 L125.807 1259.13 L120.922 1259.13 L120.922 1253.25 Z\" fill=\"#000000\" fill-rule=\"evenodd\" fill-opacity=\"1\" /><path clip-path=\"url(#clip430)\" d=\"M145.992 1227.65 Q142.381 1227.65 140.552 1231.21 Q138.746 1234.75 138.746 1241.88 Q138.746 1248.99 140.552 1252.55 Q142.381 1256.1 145.992 1256.1 Q149.626 1256.1 151.431 1252.55 Q153.26 1248.99 153.26 1241.88 Q153.26 1234.75 151.431 1231.21 Q149.626 1227.65 145.992 1227.65 M145.992 1223.94 Q151.802 1223.94 154.857 1228.55 Q157.936 1233.13 157.936 1241.88 Q157.936 1250.61 154.857 1255.22 Q151.802 1259.8 145.992 1259.8 Q140.181 1259.8 137.103 1255.22 Q134.047 1250.61 134.047 1241.88 Q134.047 1233.13 137.103 1228.55 Q140.181 1223.94 145.992 1223.94 Z\" fill=\"#000000\" fill-rule=\"evenodd\" fill-opacity=\"1\" /><path clip-path=\"url(#clip430)\" d=\"M51.9875 1004.8 L81.6633 1004.8 L81.6633 1008.73 L51.9875 1008.73 L51.9875 1004.8 Z\" fill=\"#000000\" fill-rule=\"evenodd\" fill-opacity=\"1\" /><path clip-path=\"url(#clip430)\" d=\"M101.756 990.146 Q98.1447 990.146 96.316 993.71 Q94.5104 997.252 94.5104 1004.38 Q94.5104 1011.49 96.316 1015.05 Q98.1447 1018.59 101.756 1018.59 Q105.39 1018.59 107.196 1015.05 Q109.024 1011.49 109.024 1004.38 Q109.024 997.252 107.196 993.71 Q105.39 990.146 101.756 990.146 M101.756 986.442 Q107.566 986.442 110.621 991.048 Q113.7 995.632 113.7 1004.38 Q113.7 1013.11 110.621 1017.71 Q107.566 1022.3 101.756 1022.3 Q95.9456 1022.3 92.8669 1017.71 Q89.8114 1013.11 89.8114 1004.38 Q89.8114 995.632 92.8669 991.048 Q95.9456 986.442 101.756 986.442 Z\" fill=\"#000000\" fill-rule=\"evenodd\" fill-opacity=\"1\" /><path clip-path=\"url(#clip430)\" d=\"M121.918 1015.75 L126.802 1015.75 L126.802 1021.63 L121.918 1021.63 L121.918 1015.75 Z\" fill=\"#000000\" fill-rule=\"evenodd\" fill-opacity=\"1\" /><path clip-path=\"url(#clip430)\" d=\"M137.033 987.067 L155.39 987.067 L155.39 991.002 L141.316 991.002 L141.316 999.474 Q142.334 999.127 143.353 998.965 Q144.371 998.78 145.39 998.78 Q151.177 998.78 154.556 1001.95 Q157.936 1005.12 157.936 1010.54 Q157.936 1016.12 154.464 1019.22 Q150.992 1022.3 144.672 1022.3 Q142.496 1022.3 140.228 1021.93 Q137.982 1021.56 135.575 1020.82 L135.575 1016.12 Q137.658 1017.25 139.881 1017.81 Q142.103 1018.36 144.58 1018.36 Q148.584 1018.36 150.922 1016.26 Q153.26 1014.15 153.26 1010.54 Q153.26 1006.93 150.922 1004.82 Q148.584 1002.72 144.58 1002.72 Q142.705 1002.72 140.83 1003.13 Q138.978 1003.55 137.033 1004.43 L137.033 987.067 Z\" fill=\"#000000\" fill-rule=\"evenodd\" fill-opacity=\"1\" /><path clip-path=\"url(#clip430)\" d=\"M100.76 752.645 Q97.1493 752.645 95.3206 756.209 Q93.515 759.751 93.515 766.881 Q93.515 773.987 95.3206 777.552 Q97.1493 781.094 100.76 781.094 Q104.395 781.094 106.2 777.552 Q108.029 773.987 108.029 766.881 Q108.029 759.751 106.2 756.209 Q104.395 752.645 100.76 752.645 M100.76 748.941 Q106.571 748.941 109.626 753.547 Q112.705 758.131 112.705 766.881 Q112.705 775.608 109.626 780.214 Q106.571 784.797 100.76 784.797 Q94.9502 784.797 91.8715 780.214 Q88.816 775.608 88.816 766.881 Q88.816 758.131 91.8715 753.547 Q94.9502 748.941 100.76 748.941 Z\" fill=\"#000000\" fill-rule=\"evenodd\" fill-opacity=\"1\" /><path clip-path=\"url(#clip430)\" d=\"M120.922 778.246 L125.807 778.246 L125.807 784.126 L120.922 784.126 L120.922 778.246 Z\" fill=\"#000000\" fill-rule=\"evenodd\" fill-opacity=\"1\" /><path clip-path=\"url(#clip430)\" d=\"M145.992 752.645 Q142.381 752.645 140.552 756.209 Q138.746 759.751 138.746 766.881 Q138.746 773.987 140.552 777.552 Q142.381 781.094 145.992 781.094 Q149.626 781.094 151.431 777.552 Q153.26 773.987 153.26 766.881 Q153.26 759.751 151.431 756.209 Q149.626 752.645 145.992 752.645 M145.992 748.941 Q151.802 748.941 154.857 753.547 Q157.936 758.131 157.936 766.881 Q157.936 775.608 154.857 780.214 Q151.802 784.797 145.992 784.797 Q140.181 784.797 137.103 780.214 Q134.047 775.608 134.047 766.881 Q134.047 758.131 137.103 753.547 Q140.181 748.941 145.992 748.941 Z\" fill=\"#000000\" fill-rule=\"evenodd\" fill-opacity=\"1\" /><path clip-path=\"url(#clip430)\" d=\"M101.756 515.144 Q98.1447 515.144 96.316 518.708 Q94.5104 522.25 94.5104 529.38 Q94.5104 536.486 96.316 540.051 Q98.1447 543.593 101.756 543.593 Q105.39 543.593 107.196 540.051 Q109.024 536.486 109.024 529.38 Q109.024 522.25 107.196 518.708 Q105.39 515.144 101.756 515.144 M101.756 511.44 Q107.566 511.44 110.621 516.046 Q113.7 520.63 113.7 529.38 Q113.7 538.107 110.621 542.713 Q107.566 547.296 101.756 547.296 Q95.9456 547.296 92.8669 542.713 Q89.8114 538.107 89.8114 529.38 Q89.8114 520.63 92.8669 516.046 Q95.9456 511.44 101.756 511.44 Z\" fill=\"#000000\" fill-rule=\"evenodd\" fill-opacity=\"1\" /><path clip-path=\"url(#clip430)\" d=\"M121.918 540.745 L126.802 540.745 L126.802 546.625 L121.918 546.625 L121.918 540.745 Z\" fill=\"#000000\" fill-rule=\"evenodd\" fill-opacity=\"1\" /><path clip-path=\"url(#clip430)\" d=\"M137.033 512.065 L155.39 512.065 L155.39 516 L141.316 516 L141.316 524.472 Q142.334 524.125 143.353 523.963 Q144.371 523.778 145.39 523.778 Q151.177 523.778 154.556 526.949 Q157.936 530.12 157.936 535.537 Q157.936 541.116 154.464 544.218 Q150.992 547.296 144.672 547.296 Q142.496 547.296 140.228 546.926 Q137.982 546.556 135.575 545.815 L135.575 541.116 Q137.658 542.25 139.881 542.806 Q142.103 543.361 144.58 543.361 Q148.584 543.361 150.922 541.255 Q153.26 539.148 153.26 535.537 Q153.26 531.926 150.922 529.82 Q148.584 527.713 144.58 527.713 Q142.705 527.713 140.83 528.13 Q138.978 528.546 137.033 529.426 L137.033 512.065 Z\" fill=\"#000000\" fill-rule=\"evenodd\" fill-opacity=\"1\" /><path clip-path=\"url(#clip430)\" d=\"M91.5706 305.189 L99.2095 305.189 L99.2095 278.823 L90.8993 280.49 L90.8993 276.231 L99.1632 274.564 L103.839 274.564 L103.839 305.189 L111.478 305.189 L111.478 309.124 L91.5706 309.124 L91.5706 305.189 Z\" fill=\"#000000\" fill-rule=\"evenodd\" fill-opacity=\"1\" /><path clip-path=\"url(#clip430)\" d=\"M120.922 303.244 L125.807 303.244 L125.807 309.124 L120.922 309.124 L120.922 303.244 Z\" fill=\"#000000\" fill-rule=\"evenodd\" fill-opacity=\"1\" /><path clip-path=\"url(#clip430)\" d=\"M145.992 277.643 Q142.381 277.643 140.552 281.207 Q138.746 284.749 138.746 291.879 Q138.746 298.985 140.552 302.55 Q142.381 306.092 145.992 306.092 Q149.626 306.092 151.431 302.55 Q153.26 298.985 153.26 291.879 Q153.26 284.749 151.431 281.207 Q149.626 277.643 145.992 277.643 M145.992 273.939 Q151.802 273.939 154.857 278.545 Q157.936 283.129 157.936 291.879 Q157.936 300.606 154.857 305.212 Q151.802 309.795 145.992 309.795 Q140.181 309.795 137.103 305.212 Q134.047 300.606 134.047 291.879 Q134.047 283.129 137.103 278.545 Q140.181 273.939 145.992 273.939 Z\" fill=\"#000000\" fill-rule=\"evenodd\" fill-opacity=\"1\" /><g clip-path=\"url(#clip432)\">\n<image width=\"1919\" height=\"1056\" xlink:href=\"data:image/png;base64,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\nB9D8BQAAAAAAADjA/wGe4wD+HnlWDAAAAABJRU5ErkJggg==\n\" transform=\"translate(194, 239)\"/>\n</g>\n<defs>\n  <clipPath id=\"clip433\">\n    <rect x=\"2160\" y=\"127\" width=\"73\" height=\"1280\"/>\n  </clipPath>\n</defs>\n<g clip-path=\"url(#clip433)\">\n<image width=\"72\" height=\"1279\" xlink:href=\"data:image/png;base64,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\n\" transform=\"translate(2161, 127)\"/>\n</g>\n<path clip-path=\"url(#clip430)\" d=\"M2280.7 1266.96 Q2277.09 1266.96 2275.26 1270.52 Q2273.45 1274.06 2273.45 1281.19 Q2273.45 1288.3 2275.26 1291.86 Q2277.09 1295.41 2280.7 1295.41 Q2284.33 1295.41 2286.14 1291.86 Q2287.97 1288.3 2287.97 1281.19 Q2287.97 1274.06 2286.14 1270.52 Q2284.33 1266.96 2280.7 1266.96 M2280.7 1263.25 Q2286.51 1263.25 2289.57 1267.86 Q2292.64 1272.44 2292.64 1281.19 Q2292.64 1289.92 2289.57 1294.53 Q2286.51 1299.11 2280.7 1299.11 Q2274.89 1299.11 2271.81 1294.53 Q2268.76 1289.92 2268.76 1281.19 Q2268.76 1272.44 2271.81 1267.86 Q2274.89 1263.25 2280.7 1263.25 Z\" fill=\"#000000\" fill-rule=\"evenodd\" fill-opacity=\"1\" /><path clip-path=\"url(#clip430)\" d=\"M2300.86 1292.56 L2305.75 1292.56 L2305.75 1298.44 L2300.86 1298.44 L2300.86 1292.56 Z\" fill=\"#000000\" fill-rule=\"evenodd\" fill-opacity=\"1\" /><path clip-path=\"url(#clip430)\" d=\"M2316.74 1294.5 L2324.38 1294.5 L2324.38 1268.14 L2316.07 1269.8 L2316.07 1265.55 L2324.33 1263.88 L2329.01 1263.88 L2329.01 1294.5 L2336.65 1294.5 L2336.65 1298.44 L2316.74 1298.44 L2316.74 1294.5 Z\" fill=\"#000000\" fill-rule=\"evenodd\" fill-opacity=\"1\" /><path clip-path=\"url(#clip430)\" d=\"M2280.7 1138.27 Q2277.09 1138.27 2275.26 1141.83 Q2273.45 1145.37 2273.45 1152.5 Q2273.45 1159.61 2275.26 1163.17 Q2277.09 1166.72 2280.7 1166.72 Q2284.33 1166.72 2286.14 1163.17 Q2287.97 1159.61 2287.97 1152.5 Q2287.97 1145.37 2286.14 1141.83 Q2284.33 1138.27 2280.7 1138.27 M2280.7 1134.56 Q2286.51 1134.56 2289.57 1139.17 Q2292.64 1143.75 2292.64 1152.5 Q2292.64 1161.23 2289.57 1165.84 Q2286.51 1170.42 2280.7 1170.42 Q2274.89 1170.42 2271.81 1165.84 Q2268.76 1161.23 2268.76 1152.5 Q2268.76 1143.75 2271.81 1139.17 Q2274.89 1134.56 2280.7 1134.56 Z\" fill=\"#000000\" fill-rule=\"evenodd\" fill-opacity=\"1\" /><path clip-path=\"url(#clip430)\" d=\"M2300.86 1163.87 L2305.75 1163.87 L2305.75 1169.75 L2300.86 1169.75 L2300.86 1163.87 Z\" fill=\"#000000\" fill-rule=\"evenodd\" fill-opacity=\"1\" /><path clip-path=\"url(#clip430)\" d=\"M2319.96 1165.81 L2336.28 1165.81 L2336.28 1169.75 L2314.33 1169.75 L2314.33 1165.81 Q2317 1163.06 2321.58 1158.43 Q2326.19 1153.78 2327.37 1152.43 Q2329.61 1149.91 2330.49 1148.17 Q2331.39 1146.42 2331.39 1144.73 Q2331.39 1141.97 2329.45 1140.24 Q2327.53 1138.5 2324.43 1138.5 Q2322.23 1138.5 2319.77 1139.26 Q2317.34 1140.03 2314.57 1141.58 L2314.57 1136.86 Q2317.39 1135.72 2319.84 1135.14 Q2322.3 1134.56 2324.33 1134.56 Q2329.7 1134.56 2332.9 1137.25 Q2336.09 1139.93 2336.09 1144.42 Q2336.09 1146.55 2335.28 1148.48 Q2334.5 1150.37 2332.39 1152.97 Q2331.81 1153.64 2328.71 1156.86 Q2325.61 1160.05 2319.96 1165.81 Z\" fill=\"#000000\" fill-rule=\"evenodd\" fill-opacity=\"1\" /><path clip-path=\"url(#clip430)\" d=\"M2280.7 1009.58 Q2277.09 1009.58 2275.26 1013.14 Q2273.45 1016.68 2273.45 1023.81 Q2273.45 1030.92 2275.26 1034.49 Q2277.09 1038.03 2280.7 1038.03 Q2284.33 1038.03 2286.14 1034.49 Q2287.97 1030.92 2287.97 1023.81 Q2287.97 1016.68 2286.14 1013.14 Q2284.33 1009.58 2280.7 1009.58 M2280.7 1005.87 Q2286.51 1005.87 2289.57 1010.48 Q2292.64 1015.06 2292.64 1023.81 Q2292.64 1032.54 2289.57 1037.15 Q2286.51 1041.73 2280.7 1041.73 Q2274.89 1041.73 2271.81 1037.15 Q2268.76 1032.54 2268.76 1023.81 Q2268.76 1015.06 2271.81 1010.48 Q2274.89 1005.87 2280.7 1005.87 Z\" fill=\"#000000\" fill-rule=\"evenodd\" fill-opacity=\"1\" /><path clip-path=\"url(#clip430)\" d=\"M2300.86 1035.18 L2305.75 1035.18 L2305.75 1041.06 L2300.86 1041.06 L2300.86 1035.18 Z\" fill=\"#000000\" fill-rule=\"evenodd\" fill-opacity=\"1\" /><path clip-path=\"url(#clip430)\" d=\"M2330.1 1022.43 Q2333.45 1023.14 2335.33 1025.41 Q2337.23 1027.68 2337.23 1031.01 Q2337.23 1036.13 2333.71 1038.93 Q2330.19 1041.73 2323.71 1041.73 Q2321.53 1041.73 2319.22 1041.29 Q2316.93 1040.87 2314.47 1040.02 L2314.47 1035.5 Q2316.42 1036.64 2318.73 1037.22 Q2321.05 1037.8 2323.57 1037.8 Q2327.97 1037.8 2330.26 1036.06 Q2332.58 1034.32 2332.58 1031.01 Q2332.58 1027.96 2330.42 1026.24 Q2328.29 1024.51 2324.47 1024.51 L2320.45 1024.51 L2320.45 1020.67 L2324.66 1020.67 Q2328.11 1020.67 2329.94 1019.3 Q2331.76 1017.91 2331.76 1015.32 Q2331.76 1012.66 2329.87 1011.24 Q2327.99 1009.81 2324.47 1009.81 Q2322.55 1009.81 2320.35 1010.23 Q2318.15 1010.64 2315.51 1011.52 L2315.51 1007.36 Q2318.18 1006.61 2320.49 1006.24 Q2322.83 1005.87 2324.89 1005.87 Q2330.21 1005.87 2333.32 1008.3 Q2336.42 1010.71 2336.42 1014.83 Q2336.42 1017.7 2334.77 1019.69 Q2333.13 1021.66 2330.1 1022.43 Z\" fill=\"#000000\" fill-rule=\"evenodd\" fill-opacity=\"1\" /><path clip-path=\"url(#clip430)\" d=\"M2280.7 880.888 Q2277.09 880.888 2275.26 884.453 Q2273.45 887.995 2273.45 895.124 Q2273.45 902.231 2275.26 905.795 Q2277.09 909.337 2280.7 909.337 Q2284.33 909.337 2286.14 905.795 Q2287.97 902.231 2287.97 895.124 Q2287.97 887.995 2286.14 884.453 Q2284.33 880.888 2280.7 880.888 M2280.7 877.185 Q2286.51 877.185 2289.57 881.791 Q2292.64 886.374 2292.64 895.124 Q2292.64 903.851 2289.57 908.457 Q2286.51 913.041 2280.7 913.041 Q2274.89 913.041 2271.81 908.457 Q2268.76 903.851 2268.76 895.124 Q2268.76 886.374 2271.81 881.791 Q2274.89 877.185 2280.7 877.185 Z\" fill=\"#000000\" fill-rule=\"evenodd\" fill-opacity=\"1\" /><path clip-path=\"url(#clip430)\" d=\"M2300.86 906.49 L2305.75 906.49 L2305.75 912.37 L2300.86 912.37 L2300.86 906.49 Z\" fill=\"#000000\" fill-rule=\"evenodd\" fill-opacity=\"1\" /><path clip-path=\"url(#clip430)\" d=\"M2328.78 881.884 L2316.97 900.333 L2328.78 900.333 L2328.78 881.884 M2327.55 877.81 L2333.43 877.81 L2333.43 900.333 L2338.36 900.333 L2338.36 904.221 L2333.43 904.221 L2333.43 912.37 L2328.78 912.37 L2328.78 904.221 L2313.18 904.221 L2313.18 899.708 L2327.55 877.81 Z\" fill=\"#000000\" fill-rule=\"evenodd\" fill-opacity=\"1\" /><path clip-path=\"url(#clip430)\" d=\"M2280.7 752.199 Q2277.09 752.199 2275.26 755.763 Q2273.45 759.305 2273.45 766.435 Q2273.45 773.541 2275.26 777.106 Q2277.09 780.647 2280.7 780.647 Q2284.33 780.647 2286.14 777.106 Q2287.97 773.541 2287.97 766.435 Q2287.97 759.305 2286.14 755.763 Q2284.33 752.199 2280.7 752.199 M2280.7 748.495 Q2286.51 748.495 2289.57 753.101 Q2292.64 757.685 2292.64 766.435 Q2292.64 775.161 2289.57 779.768 Q2286.51 784.351 2280.7 784.351 Q2274.89 784.351 2271.81 779.768 Q2268.76 775.161 2268.76 766.435 Q2268.76 757.685 2271.81 753.101 Q2274.89 748.495 2280.7 748.495 Z\" fill=\"#000000\" fill-rule=\"evenodd\" fill-opacity=\"1\" /><path clip-path=\"url(#clip430)\" d=\"M2300.86 777.8 L2305.75 777.8 L2305.75 783.68 L2300.86 783.68 L2300.86 777.8 Z\" fill=\"#000000\" fill-rule=\"evenodd\" fill-opacity=\"1\" /><path clip-path=\"url(#clip430)\" d=\"M2315.98 749.12 L2334.33 749.12 L2334.33 753.055 L2320.26 753.055 L2320.26 761.527 Q2321.28 761.18 2322.3 761.018 Q2323.32 760.833 2324.33 760.833 Q2330.12 760.833 2333.5 764.004 Q2336.88 767.175 2336.88 772.592 Q2336.88 778.171 2333.41 781.272 Q2329.94 784.351 2323.62 784.351 Q2321.44 784.351 2319.17 783.981 Q2316.93 783.61 2314.52 782.87 L2314.52 778.171 Q2316.6 779.305 2318.83 779.86 Q2321.05 780.416 2323.52 780.416 Q2327.53 780.416 2329.87 778.309 Q2332.2 776.203 2332.2 772.592 Q2332.2 768.981 2329.87 766.874 Q2327.53 764.768 2323.52 764.768 Q2321.65 764.768 2319.77 765.185 Q2317.92 765.601 2315.98 766.481 L2315.98 749.12 Z\" fill=\"#000000\" fill-rule=\"evenodd\" fill-opacity=\"1\" /><path clip-path=\"url(#clip430)\" d=\"M2280.7 623.509 Q2277.09 623.509 2275.26 627.074 Q2273.45 630.615 2273.45 637.745 Q2273.45 644.851 2275.26 648.416 Q2277.09 651.958 2280.7 651.958 Q2284.33 651.958 2286.14 648.416 Q2287.97 644.851 2287.97 637.745 Q2287.97 630.615 2286.14 627.074 Q2284.33 623.509 2280.7 623.509 M2280.7 619.805 Q2286.51 619.805 2289.57 624.412 Q2292.64 628.995 2292.64 637.745 Q2292.64 646.472 2289.57 651.078 Q2286.51 655.661 2280.7 655.661 Q2274.89 655.661 2271.81 651.078 Q2268.76 646.472 2268.76 637.745 Q2268.76 628.995 2271.81 624.412 Q2274.89 619.805 2280.7 619.805 Z\" fill=\"#000000\" fill-rule=\"evenodd\" fill-opacity=\"1\" /><path clip-path=\"url(#clip430)\" d=\"M2300.86 649.111 L2305.75 649.111 L2305.75 654.99 L2300.86 654.99 L2300.86 649.111 Z\" fill=\"#000000\" fill-rule=\"evenodd\" fill-opacity=\"1\" /><path clip-path=\"url(#clip430)\" d=\"M2326.51 635.847 Q2323.36 635.847 2321.51 638 Q2319.68 640.152 2319.68 643.902 Q2319.68 647.629 2321.51 649.805 Q2323.36 651.958 2326.51 651.958 Q2329.66 651.958 2331.49 649.805 Q2333.34 647.629 2333.34 643.902 Q2333.34 640.152 2331.49 638 Q2329.66 635.847 2326.51 635.847 M2335.79 621.194 L2335.79 625.453 Q2334.03 624.62 2332.23 624.18 Q2330.45 623.74 2328.69 623.74 Q2324.06 623.74 2321.6 626.865 Q2319.17 629.99 2318.83 636.31 Q2320.19 634.296 2322.25 633.231 Q2324.31 632.143 2326.79 632.143 Q2332 632.143 2335.01 635.314 Q2338.04 638.462 2338.04 643.902 Q2338.04 649.226 2334.89 652.444 Q2331.74 655.661 2326.51 655.661 Q2320.51 655.661 2317.34 651.078 Q2314.17 646.472 2314.17 637.745 Q2314.17 629.55 2318.06 624.689 Q2321.95 619.805 2328.5 619.805 Q2330.26 619.805 2332.04 620.152 Q2333.85 620.5 2335.79 621.194 Z\" fill=\"#000000\" fill-rule=\"evenodd\" fill-opacity=\"1\" /><path clip-path=\"url(#clip430)\" d=\"M2280.7 494.819 Q2277.09 494.819 2275.26 498.384 Q2273.45 501.926 2273.45 509.055 Q2273.45 516.162 2275.26 519.726 Q2277.09 523.268 2280.7 523.268 Q2284.33 523.268 2286.14 519.726 Q2287.97 516.162 2287.97 509.055 Q2287.97 501.926 2286.14 498.384 Q2284.33 494.819 2280.7 494.819 M2280.7 491.115 Q2286.51 491.115 2289.57 495.722 Q2292.64 500.305 2292.64 509.055 Q2292.64 517.782 2289.57 522.388 Q2286.51 526.972 2280.7 526.972 Q2274.89 526.972 2271.81 522.388 Q2268.76 517.782 2268.76 509.055 Q2268.76 500.305 2271.81 495.722 Q2274.89 491.115 2280.7 491.115 Z\" fill=\"#000000\" fill-rule=\"evenodd\" fill-opacity=\"1\" /><path clip-path=\"url(#clip430)\" d=\"M2300.86 520.421 L2305.75 520.421 L2305.75 526.3 L2300.86 526.3 L2300.86 520.421 Z\" fill=\"#000000\" fill-rule=\"evenodd\" fill-opacity=\"1\" /><path clip-path=\"url(#clip430)\" d=\"M2314.75 491.74 L2336.97 491.74 L2336.97 493.731 L2324.43 526.3 L2319.54 526.3 L2331.35 495.676 L2314.75 495.676 L2314.75 491.74 Z\" fill=\"#000000\" fill-rule=\"evenodd\" fill-opacity=\"1\" /><path clip-path=\"url(#clip430)\" d=\"M2280.7 366.129 Q2277.09 366.129 2275.26 369.694 Q2273.45 373.236 2273.45 380.366 Q2273.45 387.472 2275.26 391.037 Q2277.09 394.578 2280.7 394.578 Q2284.33 394.578 2286.14 391.037 Q2287.97 387.472 2287.97 380.366 Q2287.97 373.236 2286.14 369.694 Q2284.33 366.129 2280.7 366.129 M2280.7 362.426 Q2286.51 362.426 2289.57 367.032 Q2292.64 371.616 2292.64 380.366 Q2292.64 389.092 2289.57 393.699 Q2286.51 398.282 2280.7 398.282 Q2274.89 398.282 2271.81 393.699 Q2268.76 389.092 2268.76 380.366 Q2268.76 371.616 2271.81 367.032 Q2274.89 362.426 2280.7 362.426 Z\" fill=\"#000000\" fill-rule=\"evenodd\" fill-opacity=\"1\" /><path clip-path=\"url(#clip430)\" d=\"M2300.86 391.731 L2305.75 391.731 L2305.75 397.611 L2300.86 397.611 L2300.86 391.731 Z\" fill=\"#000000\" fill-rule=\"evenodd\" fill-opacity=\"1\" /><path clip-path=\"url(#clip430)\" d=\"M2325.93 381.199 Q2322.6 381.199 2320.68 382.981 Q2318.78 384.764 2318.78 387.889 Q2318.78 391.014 2320.68 392.796 Q2322.6 394.578 2325.93 394.578 Q2329.26 394.578 2331.19 392.796 Q2333.11 390.99 2333.11 387.889 Q2333.11 384.764 2331.19 382.981 Q2329.29 381.199 2325.93 381.199 M2321.26 379.208 Q2318.25 378.467 2316.56 376.407 Q2314.89 374.347 2314.89 371.384 Q2314.89 367.241 2317.83 364.833 Q2320.79 362.426 2325.93 362.426 Q2331.09 362.426 2334.03 364.833 Q2336.97 367.241 2336.97 371.384 Q2336.97 374.347 2335.28 376.407 Q2333.62 378.467 2330.63 379.208 Q2334.01 379.995 2335.89 382.287 Q2337.78 384.578 2337.78 387.889 Q2337.78 392.912 2334.7 395.597 Q2331.65 398.282 2325.93 398.282 Q2320.21 398.282 2317.14 395.597 Q2314.08 392.912 2314.08 387.889 Q2314.08 384.578 2315.98 382.287 Q2317.88 379.995 2321.26 379.208 M2319.54 371.824 Q2319.54 374.509 2321.21 376.014 Q2322.9 377.518 2325.93 377.518 Q2328.94 377.518 2330.63 376.014 Q2332.34 374.509 2332.34 371.824 Q2332.34 369.139 2330.63 367.634 Q2328.94 366.129 2325.93 366.129 Q2322.9 366.129 2321.21 367.634 Q2319.54 369.139 2319.54 371.824 Z\" fill=\"#000000\" fill-rule=\"evenodd\" fill-opacity=\"1\" /><path clip-path=\"url(#clip430)\" d=\"M2280.7 237.44 Q2277.09 237.44 2275.26 241.005 Q2273.45 244.546 2273.45 251.676 Q2273.45 258.782 2275.26 262.347 Q2277.09 265.889 2280.7 265.889 Q2284.33 265.889 2286.14 262.347 Q2287.97 258.782 2287.97 251.676 Q2287.97 244.546 2286.14 241.005 Q2284.33 237.44 2280.7 237.44 M2280.7 233.736 Q2286.51 233.736 2289.57 238.343 Q2292.64 242.926 2292.64 251.676 Q2292.64 260.403 2289.57 265.009 Q2286.51 269.592 2280.7 269.592 Q2274.89 269.592 2271.81 265.009 Q2268.76 260.403 2268.76 251.676 Q2268.76 242.926 2271.81 238.343 Q2274.89 233.736 2280.7 233.736 Z\" fill=\"#000000\" fill-rule=\"evenodd\" fill-opacity=\"1\" /><path clip-path=\"url(#clip430)\" d=\"M2300.86 263.042 L2305.75 263.042 L2305.75 268.921 L2300.86 268.921 L2300.86 263.042 Z\" fill=\"#000000\" fill-rule=\"evenodd\" fill-opacity=\"1\" /><path clip-path=\"url(#clip430)\" d=\"M2316.07 268.204 L2316.07 263.944 Q2317.83 264.778 2319.64 265.217 Q2321.44 265.657 2323.18 265.657 Q2327.81 265.657 2330.24 262.555 Q2332.69 259.43 2333.04 253.088 Q2331.7 255.079 2329.64 256.143 Q2327.58 257.208 2325.08 257.208 Q2319.89 257.208 2316.86 254.083 Q2313.85 250.935 2313.85 245.495 Q2313.85 240.171 2317 236.954 Q2320.14 233.736 2325.38 233.736 Q2331.37 233.736 2334.52 238.343 Q2337.69 242.926 2337.69 251.676 Q2337.69 259.847 2333.8 264.731 Q2329.94 269.592 2323.39 269.592 Q2321.63 269.592 2319.82 269.245 Q2318.01 268.898 2316.07 268.204 M2325.38 253.551 Q2328.52 253.551 2330.35 251.398 Q2332.2 249.245 2332.2 245.495 Q2332.2 241.768 2330.35 239.616 Q2328.52 237.44 2325.38 237.44 Q2322.23 237.44 2320.38 239.616 Q2318.55 241.768 2318.55 245.495 Q2318.55 249.245 2320.38 251.398 Q2322.23 253.551 2325.38 253.551 Z\" fill=\"#000000\" fill-rule=\"evenodd\" fill-opacity=\"1\" /><polyline clip-path=\"url(#clip430)\" style=\"stroke:#000000; stroke-linecap:butt; stroke-linejoin:round; stroke-width:4; stroke-opacity:1; fill:none\" points=\"\n  2232.76,1406.45 2232.76,1284.79 2256.76,1284.79 2232.76,1284.79 2232.76,1156.1 2256.76,1156.1 2232.76,1156.1 2232.76,1027.41 2256.76,1027.41 2232.76,1027.41 \n  2232.76,898.718 2256.76,898.718 2232.76,898.718 2232.76,770.029 2256.76,770.029 2232.76,770.029 2232.76,641.339 2256.76,641.339 2232.76,641.339 2232.76,512.649 \n  2256.76,512.649 2232.76,512.649 2232.76,383.96 2256.76,383.96 2232.76,383.96 2232.76,255.27 2256.76,255.27 2232.76,255.27 2232.76,127.244 \n  \"/>\n</svg>\n"
     },
     "metadata": {},
     "execution_count": 89
    }
   ],
   "metadata": {}
  },
  {
   "cell_type": "markdown",
   "source": [
    "More info about plotting here: https://juliaplots.github.io/"
   ],
   "metadata": {
    "lines_to_next_cell": 2
   }
  },
  {
   "cell_type": "markdown",
   "source": [
    "### Caution about line breaks (newlines)  \n",
    "If you want an expression to span multiple lines,\n",
    "then be sure to enclose it in parentheses."
   ],
   "metadata": {}
  },
  {
   "cell_type": "code",
   "execution_count": 90,
   "source": [
    "# Compare the following 3 (actually 4) expressions before `@show`\n",
    "x = 9\n",
    "    - 7\n",
    "\n",
    "y = 9 -\n",
    "    7\n",
    "\n",
    "z = (9\n",
    "    - 7)\n",
    "\n",
    "@show (x,y,z);"
   ],
   "outputs": [
    {
     "output_type": "stream",
     "name": "stdout",
     "text": [
      "(x, y, z) = (9, 2, 2)\n"
     ]
    }
   ],
   "metadata": {}
  },
  {
   "cell_type": "markdown",
   "source": [
    "## Submitting homework"
   ],
   "metadata": {}
  },
  {
   "cell_type": "markdown",
   "source": [
    "A quick example to try submitting problems."
   ],
   "metadata": {}
  },
  {
   "cell_type": "markdown",
   "source": [
    "**Task:** Implement a function that takes two inputs and outputs them in reverse order."
   ],
   "metadata": {}
  },
  {
   "cell_type": "code",
   "execution_count": 91,
   "source": [
    "function template1(x,y)\n",
    "    return (y,x)\n",
    "end"
   ],
   "outputs": [
    {
     "output_type": "execute_result",
     "data": {
      "text/plain": [
       "template1 (generic function with 1 method)"
      ]
     },
     "metadata": {},
     "execution_count": 91
    }
   ],
   "metadata": {}
  },
  {
   "cell_type": "code",
   "execution_count": 92,
   "source": [
    "template1(2,3)"
   ],
   "outputs": [
    {
     "output_type": "execute_result",
     "data": {
      "text/plain": [
       "(3, 2)"
      ]
     },
     "metadata": {},
     "execution_count": 92
    }
   ],
   "metadata": {}
  },
  {
   "cell_type": "markdown",
   "source": [
    "Copy the above function code into a file named `template1.jl`\n",
    "and email to `eecs551@autograder.eecs.umich.edu`.\n",
    "\n",
    "Make sure that:\n",
    "+ All reasonable input types can be handled. Internally trying to convert a `Float64` to an `Int64` can produce `InexactError`\n",
    "+ File extension is \".jl\". Watch out for hidden extensions!\n",
    "+ File has just the Julia function.\n",
    "(Your HW solutions can also contain `using` statements.)"
   ],
   "metadata": {}
  },
  {
   "cell_type": "markdown",
   "source": [
    "An undocumented function is bad programming practice.  \n",
    "Julia supports `docstrings` for comments like this:"
   ],
   "metadata": {}
  },
  {
   "cell_type": "code",
   "execution_count": 93,
   "source": [
    "\"\"\"\n",
    "    template2(x,y)\n",
    "This function reverses the order of the two input arguments.\n",
    "\"\"\"\n",
    "function template2(x,y)\n",
    "    return (y,x)\n",
    "end"
   ],
   "outputs": [
    {
     "output_type": "execute_result",
     "data": {
      "text/plain": [
       "template2"
      ]
     },
     "metadata": {},
     "execution_count": 93
    }
   ],
   "metadata": {}
  },
  {
   "cell_type": "markdown",
   "source": [
    "You can see the docstring by using the `?` key:"
   ],
   "metadata": {}
  },
  {
   "cell_type": "code",
   "execution_count": 95,
   "source": [
    "?template2"
   ],
   "outputs": [
    {
     "output_type": "stream",
     "name": "stdout",
     "text": [
      "search: \u001b[0m\u001b[1mt\u001b[22m\u001b[0m\u001b[1me\u001b[22m\u001b[0m\u001b[1mm\u001b[22m\u001b[0m\u001b[1mp\u001b[22m\u001b[0m\u001b[1ml\u001b[22m\u001b[0m\u001b[1ma\u001b[22m\u001b[0m\u001b[1mt\u001b[22m\u001b[0m\u001b[1me\u001b[22m\u001b[0m\u001b[1m2\u001b[22m \u001b[0m\u001b[1mt\u001b[22m\u001b[0m\u001b[1me\u001b[22m\u001b[0m\u001b[1mm\u001b[22m\u001b[0m\u001b[1mp\u001b[22m\u001b[0m\u001b[1ml\u001b[22m\u001b[0m\u001b[1ma\u001b[22m\u001b[0m\u001b[1mt\u001b[22m\u001b[0m\u001b[1me\u001b[22m1\n",
      "\n"
     ]
    },
    {
     "output_type": "execute_result",
     "data": {
      "text/plain": [
       "\u001b[36m  template2(x,y)\u001b[39m\n",
       "\n",
       "  This function reverses the order of the two input arguments."
      ],
      "text/markdown": [
       "```\n",
       "template2(x,y)\n",
       "```\n",
       "\n",
       "This function reverses the order of the two input arguments.\n"
      ],
      "text/latex": [
       "\\begin{verbatim}\n",
       "template2(x,y)\n",
       "\\end{verbatim}\n",
       "This function reverses the order of the two input arguments.\n",
       "\n"
      ]
     },
     "metadata": {},
     "execution_count": 95
    }
   ],
   "metadata": {}
  },
  {
   "cell_type": "code",
   "execution_count": null,
   "source": [],
   "outputs": [],
   "metadata": {}
  },
  {
   "cell_type": "code",
   "execution_count": null,
   "source": [],
   "outputs": [],
   "metadata": {}
  }
 ],
 "metadata": {
  "kernelspec": {
   "name": "julia-1.6",
   "display_name": "Julia 1.6.2",
   "language": "julia"
  },
  "language_info": {
   "file_extension": ".jl",
   "name": "julia",
   "mimetype": "application/julia",
   "version": "1.6.2"
  },
  "interpreter": {
   "hash": "2883b388b3f5862b257d63a666c49c1e14679679b21decb6b47a53a541227a2f"
  }
 },
 "nbformat": 4,
 "nbformat_minor": 2
}